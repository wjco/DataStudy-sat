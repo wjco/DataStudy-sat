{
 "cells": [
  {
   "cell_type": "markdown",
   "id": "0f778d08",
   "metadata": {},
   "source": [
    "# 날씨와 한강 방문객 수의 관계 분석\n",
    "2023.10.28"
   ]
  },
  {
   "cell_type": "markdown",
   "id": "a537161b",
   "metadata": {},
   "source": [
    "## 1. 서울시 공공자전거 이용현황 API\n",
    "\n",
    "https://data.seoul.go.kr/dataList/OA-14994/F/1/datasetView.do"
   ]
  },
  {
   "cell_type": "markdown",
   "id": "3b982d51",
   "metadata": {},
   "source": [
    "### 1-1. 데이터 로딩"
   ]
  },
  {
   "cell_type": "code",
   "execution_count": 90,
   "id": "29a3fdd7",
   "metadata": {
    "ExecuteTime": {
     "end_time": "2023-10-30T11:15:58.795141Z",
     "start_time": "2023-10-30T11:15:58.770715Z"
    }
   },
   "outputs": [
    {
     "name": "stdout",
     "output_type": "stream",
     "text": [
      "181\n"
     ]
    }
   ],
   "source": [
    "# 2023년 1월부터 6월까지의 날짜 생성\n",
    "months = {\n",
    "    '01': 31, '02': 28, '03': 31, '04': 30, '05': 31, '06': 30\n",
    "#     '07': 31, '08': 31, '09': 30, '10': 31, '11': 30, '12': 31\n",
    "}\n",
    "dates = []\n",
    "\n",
    "for month, days in months.items():\n",
    "    for day in range(1, days + 1):\n",
    "        dates.append(f'2023-{month}-0{str(day)}' if day < 10 else f'2023-{month}-{str(day)}')\n",
    "        \n",
    "print(len(dates))"
   ]
  },
  {
   "cell_type": "markdown",
   "id": "8a5e2afe",
   "metadata": {},
   "source": [
    "181일의 날짜 생성 완료"
   ]
  },
  {
   "cell_type": "code",
   "execution_count": 91,
   "id": "9c6a53b0",
   "metadata": {
    "ExecuteTime": {
     "end_time": "2023-10-30T11:16:31.689586Z",
     "start_time": "2023-10-30T11:16:31.680148Z"
    }
   },
   "outputs": [
    {
     "data": {
      "text/plain": [
       "181"
      ]
     },
     "execution_count": 91,
     "metadata": {},
     "output_type": "execute_result"
    }
   ],
   "source": [
    "sum(months.values())"
   ]
  },
  {
   "cell_type": "markdown",
   "id": "0075688a",
   "metadata": {},
   "source": [
    "날짜 개수가 제대로 생성된 게 맞다."
   ]
  },
  {
   "cell_type": "code",
   "execution_count": 60,
   "id": "afb1d4c3",
   "metadata": {
    "ExecuteTime": {
     "end_time": "2023-10-30T11:03:24.618686Z",
     "start_time": "2023-10-30T11:00:58.100437Z"
    }
   },
   "outputs": [
    {
     "name": "stdout",
     "output_type": "stream",
     "text": [
      "2023-01-01 데이터 수신 완료! 현재 데이터 개수 2630개\n",
      "2023-01-02 데이터 수신 완료! 현재 데이터 개수 5286개\n",
      "2023-01-03 데이터 수신 완료! 현재 데이터 개수 7955개\n",
      "2023-01-04 데이터 수신 완료! 현재 데이터 개수 10631개\n",
      "2023-01-05 데이터 수신 완료! 현재 데이터 개수 13306개\n",
      "2023-01-06 데이터 수신 완료! 현재 데이터 개수 15979개\n",
      "2023-01-07 데이터 수신 완료! 현재 데이터 개수 18630개\n",
      "2023-01-08 데이터 수신 완료! 현재 데이터 개수 21300개\n",
      "2023-01-09 데이터 수신 완료! 현재 데이터 개수 23979개\n",
      "2023-01-10 데이터 수신 완료! 현재 데이터 개수 26661개\n",
      "2023-01-11 데이터 수신 완료! 현재 데이터 개수 29343개\n",
      "2023-01-12 데이터 수신 완료! 현재 데이터 개수 32026개\n",
      "2023-01-13 데이터 수신 완료! 현재 데이터 개수 34603개\n",
      "2023-01-14 데이터 수신 완료! 현재 데이터 개수 37222개\n",
      "2023-01-15 데이터 수신 완료! 현재 데이터 개수 39795개\n",
      "2023-01-16 데이터 수신 완료! 현재 데이터 개수 42472개\n",
      "2023-01-17 데이터 수신 완료! 현재 데이터 개수 45156개\n",
      "2023-01-18 데이터 수신 완료! 현재 데이터 개수 47842개\n",
      "2023-01-19 데이터 수신 완료! 현재 데이터 개수 50527개\n",
      "2023-01-20 데이터 수신 완료! 현재 데이터 개수 53191개\n",
      "2023-01-21 데이터 수신 완료! 현재 데이터 개수 55817개\n",
      "2023-01-22 데이터 수신 완료! 현재 데이터 개수 58417개\n",
      "2023-01-23 데이터 수신 완료! 현재 데이터 개수 61049개\n",
      "2023-01-24 데이터 수신 완료! 현재 데이터 개수 63575개\n",
      "2023-01-25 데이터 수신 완료! 현재 데이터 개수 66223개\n",
      "2023-01-26 데이터 수신 완료! 현재 데이터 개수 68825개\n",
      "2023-01-27 데이터 수신 완료! 현재 데이터 개수 71483개\n",
      "2023-01-28 데이터 수신 완료! 현재 데이터 개수 74142개\n",
      "2023-01-29 데이터 수신 완료! 현재 데이터 개수 76798개\n",
      "2023-01-30 데이터 수신 완료! 현재 데이터 개수 79479개\n",
      "2023-01-31 데이터 수신 완료! 현재 데이터 개수 82171개\n",
      "2023-02-01 데이터 수신 완료! 현재 데이터 개수 84859개\n",
      "2023-02-02 데이터 수신 완료! 현재 데이터 개수 87547개\n",
      "2023-02-03 데이터 수신 완료! 현재 데이터 개수 90236개\n",
      "2023-02-04 데이터 수신 완료! 현재 데이터 개수 92920개\n",
      "2023-02-05 데이터 수신 완료! 현재 데이터 개수 95603개\n",
      "2023-02-06 데이터 수신 완료! 현재 데이터 개수 98298개\n",
      "2023-02-07 데이터 수신 완료! 현재 데이터 개수 100986개\n",
      "2023-02-08 데이터 수신 완료! 현재 데이터 개수 103682개\n",
      "2023-02-09 데이터 수신 완료! 현재 데이터 개수 106374개\n",
      "2023-02-10 데이터 수신 완료! 현재 데이터 개수 109058개\n",
      "2023-02-11 데이터 수신 완료! 현재 데이터 개수 111750개\n",
      "2023-02-12 데이터 수신 완료! 현재 데이터 개수 114430개\n",
      "2023-02-13 데이터 수신 완료! 현재 데이터 개수 117122개\n",
      "2023-02-14 데이터 수신 완료! 현재 데이터 개수 119815개\n",
      "2023-02-15 데이터 수신 완료! 현재 데이터 개수 122510개\n",
      "2023-02-16 데이터 수신 완료! 현재 데이터 개수 125207개\n",
      "2023-02-17 데이터 수신 완료! 현재 데이터 개수 127901개\n",
      "2023-02-18 데이터 수신 완료! 현재 데이터 개수 130589개\n",
      "2023-02-19 데이터 수신 완료! 현재 데이터 개수 133265개\n",
      "2023-02-20 데이터 수신 완료! 현재 데이터 개수 135957개\n",
      "2023-02-21 데이터 수신 완료! 현재 데이터 개수 138650개\n",
      "2023-02-22 데이터 수신 완료! 현재 데이터 개수 141348개\n",
      "2023-02-23 데이터 수신 완료! 현재 데이터 개수 144044개\n",
      "2023-02-24 데이터 수신 완료! 현재 데이터 개수 146739개\n",
      "2023-02-25 데이터 수신 완료! 현재 데이터 개수 149417개\n",
      "2023-02-26 데이터 수신 완료! 현재 데이터 개수 152098개\n",
      "2023-02-27 데이터 수신 완료! 현재 데이터 개수 154791개\n",
      "2023-02-28 데이터 수신 완료! 현재 데이터 개수 157489개\n",
      "2023-03-01 데이터 수신 완료! 현재 데이터 개수 160186개\n",
      "2023-03-02 데이터 수신 완료! 현재 데이터 개수 162877개\n",
      "2023-03-03 데이터 수신 완료! 현재 데이터 개수 165576개\n",
      "2023-03-04 데이터 수신 완료! 현재 데이터 개수 168266개\n",
      "2023-03-05 데이터 수신 완료! 현재 데이터 개수 170957개\n",
      "2023-03-06 데이터 수신 완료! 현재 데이터 개수 173659개\n",
      "2023-03-07 데이터 수신 완료! 현재 데이터 개수 176362개\n",
      "2023-03-08 데이터 수신 완료! 현재 데이터 개수 179063개\n",
      "2023-03-09 데이터 수신 완료! 현재 데이터 개수 181757개\n",
      "2023-03-10 데이터 수신 완료! 현재 데이터 개수 184454개\n",
      "2023-03-11 데이터 수신 완료! 현재 데이터 개수 187150개\n",
      "2023-03-12 데이터 수신 완료! 현재 데이터 개수 189806개\n",
      "2023-03-13 데이터 수신 완료! 현재 데이터 개수 192503개\n",
      "2023-03-14 데이터 수신 완료! 현재 데이터 개수 195202개\n",
      "2023-03-15 데이터 수신 완료! 현재 데이터 개수 197899개\n",
      "2023-03-16 데이터 수신 완료! 현재 데이터 개수 200593개\n",
      "2023-03-17 데이터 수신 완료! 현재 데이터 개수 203293개\n",
      "2023-03-18 데이터 수신 완료! 현재 데이터 개수 205988개\n",
      "2023-03-19 데이터 수신 완료! 현재 데이터 개수 208687개\n",
      "2023-03-20 데이터 수신 완료! 현재 데이터 개수 211386개\n",
      "2023-03-21 데이터 수신 완료! 현재 데이터 개수 214081개\n",
      "2023-03-22 데이터 수신 완료! 현재 데이터 개수 216776개\n",
      "2023-03-23 데이터 수신 완료! 현재 데이터 개수 219473개\n",
      "2023-03-24 데이터 수신 완료! 현재 데이터 개수 222175개\n",
      "2023-03-25 데이터 수신 완료! 현재 데이터 개수 224870개\n",
      "2023-03-26 데이터 수신 완료! 현재 데이터 개수 227564개\n",
      "2023-03-27 데이터 수신 완료! 현재 데이터 개수 230263개\n",
      "2023-03-28 데이터 수신 완료! 현재 데이터 개수 232967개\n",
      "2023-03-29 데이터 수신 완료! 현재 데이터 개수 235672개\n",
      "2023-03-30 데이터 수신 완료! 현재 데이터 개수 238379개\n",
      "2023-03-31 데이터 수신 완료! 현재 데이터 개수 241076개\n",
      "2023-04-01 데이터 수신 완료! 현재 데이터 개수 243759개\n",
      "2023-04-02 데이터 수신 완료! 현재 데이터 개수 246444개\n",
      "2023-04-03 데이터 수신 완료! 현재 데이터 개수 249133개\n",
      "2023-04-04 데이터 수신 완료! 현재 데이터 개수 251823개\n",
      "2023-04-05 데이터 수신 완료! 현재 데이터 개수 254419개\n",
      "2023-04-06 데이터 수신 완료! 현재 데이터 개수 257094개\n",
      "2023-04-07 데이터 수신 완료! 현재 데이터 개수 259802개\n",
      "2023-04-08 데이터 수신 완료! 현재 데이터 개수 262501개\n",
      "2023-04-09 데이터 수신 완료! 현재 데이터 개수 265202개\n",
      "2023-04-10 데이터 수신 완료! 현재 데이터 개수 267907개\n",
      "2023-04-11 데이터 수신 완료! 현재 데이터 개수 270609개\n",
      "2023-04-12 데이터 수신 완료! 현재 데이터 개수 273315개\n",
      "2023-04-13 데이터 수신 완료! 현재 데이터 개수 276021개\n",
      "2023-04-14 데이터 수신 완료! 현재 데이터 개수 278727개\n",
      "2023-04-15 데이터 수신 완료! 현재 데이터 개수 281424개\n",
      "2023-04-16 데이터 수신 완료! 현재 데이터 개수 284127개\n",
      "2023-04-17 데이터 수신 완료! 현재 데이터 개수 286838개\n",
      "2023-04-18 데이터 수신 완료! 현재 데이터 개수 289540개\n",
      "2023-04-19 데이터 수신 완료! 현재 데이터 개수 292248개\n",
      "2023-04-20 데이터 수신 완료! 현재 데이터 개수 294952개\n",
      "2023-04-21 데이터 수신 완료! 현재 데이터 개수 297652개\n",
      "2023-04-22 데이터 수신 완료! 현재 데이터 개수 300350개\n",
      "2023-04-23 데이터 수신 완료! 현재 데이터 개수 303047개\n",
      "2023-04-24 데이터 수신 완료! 현재 데이터 개수 305752개\n",
      "2023-04-25 데이터 수신 완료! 현재 데이터 개수 308448개\n",
      "2023-04-26 데이터 수신 완료! 현재 데이터 개수 311153개\n",
      "2023-04-27 데이터 수신 완료! 현재 데이터 개수 313861개\n",
      "2023-04-28 데이터 수신 완료! 현재 데이터 개수 316569개\n",
      "2023-04-29 데이터 수신 완료! 현재 데이터 개수 319239개\n",
      "2023-04-30 데이터 수신 완료! 현재 데이터 개수 321940개\n",
      "2023-05-01 데이터 수신 완료! 현재 데이터 개수 324648개\n",
      "2023-05-02 데이터 수신 완료! 현재 데이터 개수 327359개\n",
      "2023-05-03 데이터 수신 완료! 현재 데이터 개수 330067개\n",
      "2023-05-04 데이터 수신 완료! 현재 데이터 개수 332773개\n",
      "2023-05-05 데이터 수신 완료! 현재 데이터 개수 335313개\n",
      "2023-05-06 데이터 수신 완료! 현재 데이터 개수 337954개\n",
      "2023-05-07 데이터 수신 완료! 현재 데이터 개수 340649개\n",
      "2023-05-08 데이터 수신 완료! 현재 데이터 개수 343356개\n",
      "2023-05-09 데이터 수신 완료! 현재 데이터 개수 346061개\n",
      "2023-05-10 데이터 수신 완료! 현재 데이터 개수 348768개\n",
      "2023-05-11 데이터 수신 완료! 현재 데이터 개수 351472개\n",
      "2023-05-12 데이터 수신 완료! 현재 데이터 개수 354175개\n",
      "2023-05-13 데이터 수신 완료! 현재 데이터 개수 356876개\n",
      "2023-05-14 데이터 수신 완료! 현재 데이터 개수 359576개\n",
      "2023-05-15 데이터 수신 완료! 현재 데이터 개수 362283개\n",
      "2023-05-16 데이터 수신 완료! 현재 데이터 개수 364990개\n",
      "2023-05-17 데이터 수신 완료! 현재 데이터 개수 367696개\n",
      "2023-05-18 데이터 수신 완료! 현재 데이터 개수 370399개\n",
      "2023-05-19 데이터 수신 완료! 현재 데이터 개수 373105개\n",
      "2023-05-20 데이터 수신 완료! 현재 데이터 개수 375810개\n",
      "2023-05-21 데이터 수신 완료! 현재 데이터 개수 378514개\n",
      "2023-05-22 데이터 수신 완료! 현재 데이터 개수 381220개\n",
      "2023-05-23 데이터 수신 완료! 현재 데이터 개수 383933개\n",
      "2023-05-24 데이터 수신 완료! 현재 데이터 개수 386644개\n",
      "2023-05-25 데이터 수신 완료! 현재 데이터 개수 389354개\n",
      "2023-05-26 데이터 수신 완료! 현재 데이터 개수 392061개\n",
      "2023-05-27 데이터 수신 완료! 현재 데이터 개수 394726개\n",
      "2023-05-28 데이터 수신 완료! 현재 데이터 개수 396849개\n",
      "2023-05-29 데이터 수신 완료! 현재 데이터 개수 399552개\n",
      "2023-05-30 데이터 수신 완료! 현재 데이터 개수 402259개\n",
      "2023-05-31 데이터 수신 완료! 현재 데이터 개수 404962개\n",
      "2023-06-01 데이터 수신 완료! 현재 데이터 개수 407667개\n",
      "2023-06-02 데이터 수신 완료! 현재 데이터 개수 410370개\n",
      "2023-06-03 데이터 수신 완료! 현재 데이터 개수 413070개\n",
      "2023-06-04 데이터 수신 완료! 현재 데이터 개수 415769개\n",
      "2023-06-05 데이터 수신 완료! 현재 데이터 개수 418472개\n",
      "2023-06-06 데이터 수신 완료! 현재 데이터 개수 421169개\n",
      "2023-06-07 데이터 수신 완료! 현재 데이터 개수 423873개\n",
      "2023-06-08 데이터 수신 완료! 현재 데이터 개수 426571개\n",
      "2023-06-09 데이터 수신 완료! 현재 데이터 개수 429270개\n",
      "2023-06-10 데이터 수신 완료! 현재 데이터 개수 431967개\n",
      "2023-06-11 데이터 수신 완료! 현재 데이터 개수 434661개\n",
      "2023-06-12 데이터 수신 완료! 현재 데이터 개수 437364개\n",
      "2023-06-13 데이터 수신 완료! 현재 데이터 개수 440064개\n",
      "2023-06-14 데이터 수신 완료! 현재 데이터 개수 442765개\n",
      "2023-06-15 데이터 수신 완료! 현재 데이터 개수 445458개\n",
      "2023-06-16 데이터 수신 완료! 현재 데이터 개수 448158개\n",
      "2023-06-17 데이터 수신 완료! 현재 데이터 개수 450855개\n",
      "2023-06-18 데이터 수신 완료! 현재 데이터 개수 453549개\n",
      "2023-06-19 데이터 수신 완료! 현재 데이터 개수 456247개\n",
      "2023-06-20 데이터 수신 완료! 현재 데이터 개수 458942개\n",
      "2023-06-21 데이터 수신 완료! 현재 데이터 개수 461627개\n",
      "2023-06-22 데이터 수신 완료! 현재 데이터 개수 464326개\n",
      "2023-06-23 데이터 수신 완료! 현재 데이터 개수 467027개\n",
      "2023-06-24 데이터 수신 완료! 현재 데이터 개수 469727개\n",
      "2023-06-25 데이터 수신 완료! 현재 데이터 개수 472419개\n",
      "2023-06-26 데이터 수신 완료! 현재 데이터 개수 472419개\n",
      "2023-06-27 데이터 수신 완료! 현재 데이터 개수 475121개\n",
      "2023-06-28 데이터 수신 완료! 현재 데이터 개수 477818개\n",
      "2023-06-29 데이터 수신 완료! 현재 데이터 개수 480455개\n",
      "2023-06-30 데이터 수신 완료! 현재 데이터 개수 483148개\n"
     ]
    }
   ],
   "source": [
    "results = []\n",
    "\n",
    "# 181일 전체에 대한 데이터 불러오기\n",
    "for date in dates:\n",
    "    n = 0 #한 번에 최대 1000개씩 불러올 수 있어서, 여러 번에 나눠서 불러오기 위한 변수\n",
    "    while True:\n",
    "        # URL 구성\n",
    "        url = f'http://openapi.seoul.go.kr:8088'\n",
    "        params = {\n",
    "            'key': '73495157686c6f7537384768786b71',\n",
    "            'type': 'json',\n",
    "            'service': 'tbCycleUseStatus',\n",
    "            'start_index': str(n * 1000 + 1),\n",
    "            'end_index': str((n + 1) * 1000),\n",
    "            'start_data': date\n",
    "        }\n",
    "        for param in params.values():\n",
    "            url += '/' + param\n",
    "\n",
    "        # 완성된 URL로부터 데이터 수신\n",
    "        response = requests.get(url)\n",
    "\n",
    "        # 받아온 결과를 utf-8 디코딩\n",
    "        response_data = response.content.decode('utf-8')\n",
    "\n",
    "        # JSON 문자열을 딕셔너리로 파싱\n",
    "        response_dict = json.loads(response_data)\n",
    "\n",
    "        # 결과를 리스트에 저장하고 다음 페이지로 이동\n",
    "        # 단, 결과가 없는 경우 해당 날짜를 종료\n",
    "        try:\n",
    "            results += response_dict['useStatus']['row']\n",
    "            n += 1\n",
    "        except:\n",
    "            break\n",
    "    \n",
    "    print(f'{date} 데이터 수신 완료! 현재 데이터 개수 {len(results)}개')"
   ]
  },
  {
   "cell_type": "code",
   "execution_count": 66,
   "id": "91c15664",
   "metadata": {
    "ExecuteTime": {
     "end_time": "2023-10-30T11:05:06.722068Z",
     "start_time": "2023-10-30T11:05:06.317226Z"
    }
   },
   "outputs": [
    {
     "data": {
      "text/html": [
       "<div>\n",
       "<style scoped>\n",
       "    .dataframe tbody tr th:only-of-type {\n",
       "        vertical-align: middle;\n",
       "    }\n",
       "\n",
       "    .dataframe tbody tr th {\n",
       "        vertical-align: top;\n",
       "    }\n",
       "\n",
       "    .dataframe thead th {\n",
       "        text-align: right;\n",
       "    }\n",
       "</style>\n",
       "<table border=\"1\" class=\"dataframe\">\n",
       "  <thead>\n",
       "    <tr style=\"text-align: right;\">\n",
       "      <th></th>\n",
       "      <th>STA_LOC</th>\n",
       "      <th>RENT_NM</th>\n",
       "      <th>STAT_DATA</th>\n",
       "      <th>RENT_CNT</th>\n",
       "      <th>RTN_CNT</th>\n",
       "      <th>START_INDEX</th>\n",
       "      <th>END_INDEX</th>\n",
       "    </tr>\n",
       "  </thead>\n",
       "  <tbody>\n",
       "    <tr>\n",
       "      <th>0</th>\n",
       "      <td>양천구</td>\n",
       "      <td>729. 서부식자재마트 건너편</td>\n",
       "      <td>2023-01-01</td>\n",
       "      <td>26</td>\n",
       "      <td>25</td>\n",
       "      <td>0</td>\n",
       "      <td>0</td>\n",
       "    </tr>\n",
       "    <tr>\n",
       "      <th>1</th>\n",
       "      <td>양천구</td>\n",
       "      <td>731. 서울시 도로환경관리센터</td>\n",
       "      <td>2023-01-01</td>\n",
       "      <td>38</td>\n",
       "      <td>37</td>\n",
       "      <td>0</td>\n",
       "      <td>0</td>\n",
       "    </tr>\n",
       "    <tr>\n",
       "      <th>2</th>\n",
       "      <td>양천구</td>\n",
       "      <td>732. 신월중학교</td>\n",
       "      <td>2023-01-01</td>\n",
       "      <td>22</td>\n",
       "      <td>25</td>\n",
       "      <td>0</td>\n",
       "      <td>0</td>\n",
       "    </tr>\n",
       "    <tr>\n",
       "      <th>3</th>\n",
       "      <td>양천구</td>\n",
       "      <td>733. 신정이펜하우스314동</td>\n",
       "      <td>2023-01-01</td>\n",
       "      <td>8</td>\n",
       "      <td>5</td>\n",
       "      <td>0</td>\n",
       "      <td>0</td>\n",
       "    </tr>\n",
       "    <tr>\n",
       "      <th>4</th>\n",
       "      <td>양천구</td>\n",
       "      <td>734. 신트리공원 입구</td>\n",
       "      <td>2023-01-01</td>\n",
       "      <td>32</td>\n",
       "      <td>28</td>\n",
       "      <td>0</td>\n",
       "      <td>0</td>\n",
       "    </tr>\n",
       "    <tr>\n",
       "      <th>...</th>\n",
       "      <td>...</td>\n",
       "      <td>...</td>\n",
       "      <td>...</td>\n",
       "      <td>...</td>\n",
       "      <td>...</td>\n",
       "      <td>...</td>\n",
       "      <td>...</td>\n",
       "    </tr>\n",
       "    <tr>\n",
       "      <th>483143</th>\n",
       "      <td>마포구</td>\n",
       "      <td>426. 서울신용보증재단</td>\n",
       "      <td>2023-06-30</td>\n",
       "      <td>56</td>\n",
       "      <td>55</td>\n",
       "      <td>0</td>\n",
       "      <td>0</td>\n",
       "    </tr>\n",
       "    <tr>\n",
       "      <th>483144</th>\n",
       "      <td>양천구</td>\n",
       "      <td>722. 경서농협 버스정류장(우리은행신정동지점방향)</td>\n",
       "      <td>2023-06-30</td>\n",
       "      <td>70</td>\n",
       "      <td>71</td>\n",
       "      <td>0</td>\n",
       "      <td>0</td>\n",
       "    </tr>\n",
       "    <tr>\n",
       "      <th>483145</th>\n",
       "      <td>양천구</td>\n",
       "      <td>723. SBS방송국</td>\n",
       "      <td>2023-06-30</td>\n",
       "      <td>109</td>\n",
       "      <td>110</td>\n",
       "      <td>0</td>\n",
       "      <td>0</td>\n",
       "    </tr>\n",
       "    <tr>\n",
       "      <th>483146</th>\n",
       "      <td>양천구</td>\n",
       "      <td>725. 양강중학교앞 교차로</td>\n",
       "      <td>2023-06-30</td>\n",
       "      <td>42</td>\n",
       "      <td>16</td>\n",
       "      <td>0</td>\n",
       "      <td>0</td>\n",
       "    </tr>\n",
       "    <tr>\n",
       "      <th>483147</th>\n",
       "      <td>양천구</td>\n",
       "      <td>726. 목동3단지 시내버스정류장</td>\n",
       "      <td>2023-06-30</td>\n",
       "      <td>175</td>\n",
       "      <td>187</td>\n",
       "      <td>0</td>\n",
       "      <td>0</td>\n",
       "    </tr>\n",
       "  </tbody>\n",
       "</table>\n",
       "<p>483148 rows × 7 columns</p>\n",
       "</div>"
      ],
      "text/plain": [
       "       STA_LOC                       RENT_NM   STAT_DATA RENT_CNT RTN_CNT  \\\n",
       "0          양천구              729. 서부식자재마트 건너편  2023-01-01       26      25   \n",
       "1          양천구             731. 서울시 도로환경관리센터  2023-01-01       38      37   \n",
       "2          양천구                    732. 신월중학교  2023-01-01       22      25   \n",
       "3          양천구              733. 신정이펜하우스314동  2023-01-01        8       5   \n",
       "4          양천구                 734. 신트리공원 입구  2023-01-01       32      28   \n",
       "...        ...                           ...         ...      ...     ...   \n",
       "483143     마포구                 426. 서울신용보증재단  2023-06-30       56      55   \n",
       "483144     양천구  722. 경서농협 버스정류장(우리은행신정동지점방향)  2023-06-30       70      71   \n",
       "483145     양천구                   723. SBS방송국  2023-06-30      109     110   \n",
       "483146     양천구               725. 양강중학교앞 교차로  2023-06-30       42      16   \n",
       "483147     양천구            726. 목동3단지 시내버스정류장  2023-06-30      175     187   \n",
       "\n",
       "        START_INDEX  END_INDEX  \n",
       "0                 0          0  \n",
       "1                 0          0  \n",
       "2                 0          0  \n",
       "3                 0          0  \n",
       "4                 0          0  \n",
       "...             ...        ...  \n",
       "483143            0          0  \n",
       "483144            0          0  \n",
       "483145            0          0  \n",
       "483146            0          0  \n",
       "483147            0          0  \n",
       "\n",
       "[483148 rows x 7 columns]"
      ]
     },
     "execution_count": 66,
     "metadata": {},
     "output_type": "execute_result"
    }
   ],
   "source": [
    "# 데이터프레임 생성\n",
    "cycle_use_df = pd.DataFrame(results)\n",
    "cycle_use_df"
   ]
  },
  {
   "cell_type": "code",
   "execution_count": 92,
   "id": "05580bc1",
   "metadata": {
    "ExecuteTime": {
     "end_time": "2023-10-30T11:19:09.261147Z",
     "start_time": "2023-10-30T11:19:09.051525Z"
    }
   },
   "outputs": [
    {
     "name": "stdout",
     "output_type": "stream",
     "text": [
      "<class 'pandas.core.frame.DataFrame'>\n",
      "Int64Index: 483148 entries, 0 to 483147\n",
      "Data columns (total 7 columns):\n",
      " #   Column       Non-Null Count   Dtype \n",
      "---  ------       --------------   ----- \n",
      " 0   STA_LOC      483148 non-null  object\n",
      " 1   RENT_NM      483148 non-null  object\n",
      " 2   STAT_DATA    483148 non-null  object\n",
      " 3   RENT_CNT     483148 non-null  object\n",
      " 4   RTN_CNT      483148 non-null  object\n",
      " 5   START_INDEX  483148 non-null  int64 \n",
      " 6   END_INDEX    483148 non-null  int64 \n",
      "dtypes: int64(2), object(5)\n",
      "memory usage: 29.5+ MB\n"
     ]
    }
   ],
   "source": [
    "cycle_use_df.info()"
   ]
  },
  {
   "cell_type": "markdown",
   "id": "5b318faa",
   "metadata": {
    "ExecuteTime": {
     "end_time": "2023-10-30T11:19:40.573640Z",
     "start_time": "2023-10-30T11:19:40.530908Z"
    }
   },
   "source": [
    "데이터를 간략하게 확인해 본 결과\n",
    "- 각 컬럼의 이름을 **한글로 변경**해야 할 필요성 느낌\n",
    "- ```START_INDEX```와 ```END_INDEX```는 null값인 것 같으니 삭제해야 함\n",
    "- ```RENT_CNT```와 ```RTN_CNT```는 str로 들어가 있으니 **int로 변경**해야 함"
   ]
  },
  {
   "cell_type": "markdown",
   "id": "cd1877fb",
   "metadata": {},
   "source": [
    "### 1-2. 데이터 확인 및 전처리"
   ]
  },
  {
   "cell_type": "markdown",
   "id": "9cc6dda7",
   "metadata": {},
   "source": [
    "#### 1-2-1. 데이터프레임 전체"
   ]
  },
  {
   "cell_type": "code",
   "execution_count": 78,
   "id": "127e3983",
   "metadata": {
    "ExecuteTime": {
     "end_time": "2023-10-30T11:10:40.742393Z",
     "start_time": "2023-10-30T11:10:40.653814Z"
    },
    "scrolled": false
   },
   "outputs": [
    {
     "data": {
      "text/html": [
       "<div>\n",
       "<style scoped>\n",
       "    .dataframe tbody tr th:only-of-type {\n",
       "        vertical-align: middle;\n",
       "    }\n",
       "\n",
       "    .dataframe tbody tr th {\n",
       "        vertical-align: top;\n",
       "    }\n",
       "\n",
       "    .dataframe thead th {\n",
       "        text-align: right;\n",
       "    }\n",
       "</style>\n",
       "<table border=\"1\" class=\"dataframe\">\n",
       "  <thead>\n",
       "    <tr style=\"text-align: right;\">\n",
       "      <th></th>\n",
       "      <th>그룹명</th>\n",
       "      <th>대여소명</th>\n",
       "      <th>대여년월</th>\n",
       "      <th>대여건수</th>\n",
       "      <th>반납건수</th>\n",
       "    </tr>\n",
       "  </thead>\n",
       "  <tbody>\n",
       "    <tr>\n",
       "      <th>0</th>\n",
       "      <td>양천구</td>\n",
       "      <td>729. 서부식자재마트 건너편</td>\n",
       "      <td>2023-01-01</td>\n",
       "      <td>26</td>\n",
       "      <td>25</td>\n",
       "    </tr>\n",
       "    <tr>\n",
       "      <th>1</th>\n",
       "      <td>양천구</td>\n",
       "      <td>731. 서울시 도로환경관리센터</td>\n",
       "      <td>2023-01-01</td>\n",
       "      <td>38</td>\n",
       "      <td>37</td>\n",
       "    </tr>\n",
       "    <tr>\n",
       "      <th>2</th>\n",
       "      <td>양천구</td>\n",
       "      <td>732. 신월중학교</td>\n",
       "      <td>2023-01-01</td>\n",
       "      <td>22</td>\n",
       "      <td>25</td>\n",
       "    </tr>\n",
       "    <tr>\n",
       "      <th>3</th>\n",
       "      <td>양천구</td>\n",
       "      <td>733. 신정이펜하우스314동</td>\n",
       "      <td>2023-01-01</td>\n",
       "      <td>8</td>\n",
       "      <td>5</td>\n",
       "    </tr>\n",
       "    <tr>\n",
       "      <th>4</th>\n",
       "      <td>양천구</td>\n",
       "      <td>734. 신트리공원 입구</td>\n",
       "      <td>2023-01-01</td>\n",
       "      <td>32</td>\n",
       "      <td>28</td>\n",
       "    </tr>\n",
       "    <tr>\n",
       "      <th>...</th>\n",
       "      <td>...</td>\n",
       "      <td>...</td>\n",
       "      <td>...</td>\n",
       "      <td>...</td>\n",
       "      <td>...</td>\n",
       "    </tr>\n",
       "    <tr>\n",
       "      <th>483143</th>\n",
       "      <td>마포구</td>\n",
       "      <td>426. 서울신용보증재단</td>\n",
       "      <td>2023-06-30</td>\n",
       "      <td>56</td>\n",
       "      <td>55</td>\n",
       "    </tr>\n",
       "    <tr>\n",
       "      <th>483144</th>\n",
       "      <td>양천구</td>\n",
       "      <td>722. 경서농협 버스정류장(우리은행신정동지점방향)</td>\n",
       "      <td>2023-06-30</td>\n",
       "      <td>70</td>\n",
       "      <td>71</td>\n",
       "    </tr>\n",
       "    <tr>\n",
       "      <th>483145</th>\n",
       "      <td>양천구</td>\n",
       "      <td>723. SBS방송국</td>\n",
       "      <td>2023-06-30</td>\n",
       "      <td>109</td>\n",
       "      <td>110</td>\n",
       "    </tr>\n",
       "    <tr>\n",
       "      <th>483146</th>\n",
       "      <td>양천구</td>\n",
       "      <td>725. 양강중학교앞 교차로</td>\n",
       "      <td>2023-06-30</td>\n",
       "      <td>42</td>\n",
       "      <td>16</td>\n",
       "    </tr>\n",
       "    <tr>\n",
       "      <th>483147</th>\n",
       "      <td>양천구</td>\n",
       "      <td>726. 목동3단지 시내버스정류장</td>\n",
       "      <td>2023-06-30</td>\n",
       "      <td>175</td>\n",
       "      <td>187</td>\n",
       "    </tr>\n",
       "  </tbody>\n",
       "</table>\n",
       "<p>483148 rows × 5 columns</p>\n",
       "</div>"
      ],
      "text/plain": [
       "        그룹명                          대여소명        대여년월 대여건수 반납건수\n",
       "0       양천구              729. 서부식자재마트 건너편  2023-01-01   26   25\n",
       "1       양천구             731. 서울시 도로환경관리센터  2023-01-01   38   37\n",
       "2       양천구                    732. 신월중학교  2023-01-01   22   25\n",
       "3       양천구              733. 신정이펜하우스314동  2023-01-01    8    5\n",
       "4       양천구                 734. 신트리공원 입구  2023-01-01   32   28\n",
       "...     ...                           ...         ...  ...  ...\n",
       "483143  마포구                 426. 서울신용보증재단  2023-06-30   56   55\n",
       "483144  양천구  722. 경서농협 버스정류장(우리은행신정동지점방향)  2023-06-30   70   71\n",
       "483145  양천구                   723. SBS방송국  2023-06-30  109  110\n",
       "483146  양천구               725. 양강중학교앞 교차로  2023-06-30   42   16\n",
       "483147  양천구            726. 목동3단지 시내버스정류장  2023-06-30  175  187\n",
       "\n",
       "[483148 rows x 5 columns]"
      ]
     },
     "execution_count": 78,
     "metadata": {},
     "output_type": "execute_result"
    }
   ],
   "source": [
    "# 쓸데없는 컬럼 삭제 및 컬럼 이름 한글화\n",
    "new_cycle_use_df = cycle_use_df.rename(columns={\n",
    "    'STA_LOC': '그룹명',\n",
    "    'RENT_NM': '대여소명',\n",
    "    'STAT_DATA': '대여년월',\n",
    "    'RENT_CNT': '대여건수',\n",
    "    'RTN_CNT': '반납건수'\n",
    "}).drop(['START_INDEX', 'END_INDEX'], axis=1)\n",
    "\n",
    "new_cycle_use_df"
   ]
  },
  {
   "cell_type": "code",
   "execution_count": 105,
   "id": "7bcf66af",
   "metadata": {
    "ExecuteTime": {
     "end_time": "2023-10-30T11:23:50.543670Z",
     "start_time": "2023-10-30T11:23:50.420571Z"
    }
   },
   "outputs": [
    {
     "name": "stdout",
     "output_type": "stream",
     "text": [
      "<class 'pandas.core.frame.DataFrame'>\n",
      "Int64Index: 483148 entries, 0 to 483147\n",
      "Data columns (total 5 columns):\n",
      " #   Column  Non-Null Count   Dtype \n",
      "---  ------  --------------   ----- \n",
      " 0   그룹명     483148 non-null  object\n",
      " 1   대여소명    483148 non-null  object\n",
      " 2   대여년월    483148 non-null  object\n",
      " 3   대여건수    483148 non-null  int32 \n",
      " 4   반납건수    483148 non-null  int32 \n",
      "dtypes: int32(2), object(3)\n",
      "memory usage: 18.4+ MB\n"
     ]
    }
   ],
   "source": [
    "# 대여건수와 반납건수 컬럼을 int로 변경\n",
    "new_cycle_use_df['대여건수'] = new_cycle_use_df['대여건수'].astype(int)\n",
    "new_cycle_use_df['반납건수'] = new_cycle_use_df['반납건수'].astype(int)\n",
    "\n",
    "new_cycle_use_df.info()"
   ]
  },
  {
   "cell_type": "markdown",
   "id": "355a01de",
   "metadata": {},
   "source": [
    "#### 1-2-2. 그룹명"
   ]
  },
  {
   "cell_type": "code",
   "execution_count": 112,
   "id": "a9df3c94",
   "metadata": {
    "ExecuteTime": {
     "end_time": "2023-10-30T11:25:26.814256Z",
     "start_time": "2023-10-30T11:25:26.772222Z"
    }
   },
   "outputs": [
    {
     "data": {
      "text/plain": [
       "25"
      ]
     },
     "execution_count": 112,
     "metadata": {},
     "output_type": "execute_result"
    }
   ],
   "source": [
    "new_cycle_use_df['그룹명'].nunique()"
   ]
  },
  {
   "cell_type": "code",
   "execution_count": 110,
   "id": "3ce02e25",
   "metadata": {
    "ExecuteTime": {
     "end_time": "2023-10-30T11:25:11.211419Z",
     "start_time": "2023-10-30T11:25:11.159369Z"
    }
   },
   "outputs": [
    {
     "data": {
      "text/plain": [
       "array(['양천구', '광진구', '은평구', '성동구', '강동구', '강서구', '송파구', '중랑구', '마포구',\n",
       "       '강북구', '노원구', '도봉구', '금천구', '동작구', '관악구', '서초구', '중구', '종로구',\n",
       "       '강남구', '서대문구', '성북구', '구로구', '동대문구', '영등포구', '용산구'], dtype=object)"
      ]
     },
     "execution_count": 110,
     "metadata": {},
     "output_type": "execute_result"
    }
   ],
   "source": [
    "new_cycle_use_df['그룹명'].unique()"
   ]
  },
  {
   "cell_type": "markdown",
   "id": "10e269fe",
   "metadata": {},
   "source": [
    "25개 행정구에 대한 데이터임을 확인"
   ]
  },
  {
   "cell_type": "code",
   "execution_count": 156,
   "id": "e9086384",
   "metadata": {
    "ExecuteTime": {
     "end_time": "2023-10-30T11:37:07.512452Z",
     "start_time": "2023-10-30T11:37:07.474747Z"
    }
   },
   "outputs": [
    {
     "data": {
      "text/html": [
       "<div>\n",
       "<style scoped>\n",
       "    .dataframe tbody tr th:only-of-type {\n",
       "        vertical-align: middle;\n",
       "    }\n",
       "\n",
       "    .dataframe tbody tr th {\n",
       "        vertical-align: top;\n",
       "    }\n",
       "\n",
       "    .dataframe thead th {\n",
       "        text-align: right;\n",
       "    }\n",
       "</style>\n",
       "<table border=\"1\" class=\"dataframe\">\n",
       "  <thead>\n",
       "    <tr style=\"text-align: right;\">\n",
       "      <th></th>\n",
       "      <th>그룹명</th>\n",
       "    </tr>\n",
       "  </thead>\n",
       "  <tbody>\n",
       "    <tr>\n",
       "      <th>송파구</th>\n",
       "      <td>38460</td>\n",
       "    </tr>\n",
       "    <tr>\n",
       "      <th>강서구</th>\n",
       "      <td>33103</td>\n",
       "    </tr>\n",
       "    <tr>\n",
       "      <th>강남구</th>\n",
       "      <td>29223</td>\n",
       "    </tr>\n",
       "    <tr>\n",
       "      <th>영등포구</th>\n",
       "      <td>26757</td>\n",
       "    </tr>\n",
       "    <tr>\n",
       "      <th>서초구</th>\n",
       "      <td>25043</td>\n",
       "    </tr>\n",
       "    <tr>\n",
       "      <th>노원구</th>\n",
       "      <td>24329</td>\n",
       "    </tr>\n",
       "    <tr>\n",
       "      <th>마포구</th>\n",
       "      <td>21482</td>\n",
       "    </tr>\n",
       "    <tr>\n",
       "      <th>강동구</th>\n",
       "      <td>21441</td>\n",
       "    </tr>\n",
       "    <tr>\n",
       "      <th>구로구</th>\n",
       "      <td>19955</td>\n",
       "    </tr>\n",
       "    <tr>\n",
       "      <th>양천구</th>\n",
       "      <td>19533</td>\n",
       "    </tr>\n",
       "    <tr>\n",
       "      <th>종로구</th>\n",
       "      <td>18489</td>\n",
       "    </tr>\n",
       "    <tr>\n",
       "      <th>은평구</th>\n",
       "      <td>17424</td>\n",
       "    </tr>\n",
       "    <tr>\n",
       "      <th>중랑구</th>\n",
       "      <td>16727</td>\n",
       "    </tr>\n",
       "    <tr>\n",
       "      <th>성동구</th>\n",
       "      <td>16184</td>\n",
       "    </tr>\n",
       "    <tr>\n",
       "      <th>용산구</th>\n",
       "      <td>16017</td>\n",
       "    </tr>\n",
       "    <tr>\n",
       "      <th>중구</th>\n",
       "      <td>15650</td>\n",
       "    </tr>\n",
       "    <tr>\n",
       "      <th>광진구</th>\n",
       "      <td>15545</td>\n",
       "    </tr>\n",
       "    <tr>\n",
       "      <th>동대문구</th>\n",
       "      <td>14761</td>\n",
       "    </tr>\n",
       "    <tr>\n",
       "      <th>서대문구</th>\n",
       "      <td>14669</td>\n",
       "    </tr>\n",
       "    <tr>\n",
       "      <th>성북구</th>\n",
       "      <td>14610</td>\n",
       "    </tr>\n",
       "    <tr>\n",
       "      <th>도봉구</th>\n",
       "      <td>13785</td>\n",
       "    </tr>\n",
       "    <tr>\n",
       "      <th>금천구</th>\n",
       "      <td>13306</td>\n",
       "    </tr>\n",
       "    <tr>\n",
       "      <th>관악구</th>\n",
       "      <td>13287</td>\n",
       "    </tr>\n",
       "    <tr>\n",
       "      <th>동작구</th>\n",
       "      <td>12691</td>\n",
       "    </tr>\n",
       "    <tr>\n",
       "      <th>강북구</th>\n",
       "      <td>10677</td>\n",
       "    </tr>\n",
       "  </tbody>\n",
       "</table>\n",
       "</div>"
      ],
      "text/plain": [
       "        그룹명\n",
       "송파구   38460\n",
       "강서구   33103\n",
       "강남구   29223\n",
       "영등포구  26757\n",
       "서초구   25043\n",
       "노원구   24329\n",
       "마포구   21482\n",
       "강동구   21441\n",
       "구로구   19955\n",
       "양천구   19533\n",
       "종로구   18489\n",
       "은평구   17424\n",
       "중랑구   16727\n",
       "성동구   16184\n",
       "용산구   16017\n",
       "중구    15650\n",
       "광진구   15545\n",
       "동대문구  14761\n",
       "서대문구  14669\n",
       "성북구   14610\n",
       "도봉구   13785\n",
       "금천구   13306\n",
       "관악구   13287\n",
       "동작구   12691\n",
       "강북구   10677"
      ]
     },
     "execution_count": 156,
     "metadata": {},
     "output_type": "execute_result"
    }
   ],
   "source": [
    "# 행정구별 행 개수 확인\n",
    "rows_by_group = new_cycle_use_df['그룹명'].value_counts().sort_values(ascending=False).to_frame()\n",
    "\n",
    "rows_by_group"
   ]
  },
  {
   "cell_type": "code",
   "execution_count": 157,
   "id": "12dc3f60",
   "metadata": {
    "ExecuteTime": {
     "end_time": "2023-10-30T11:37:13.568137Z",
     "start_time": "2023-10-30T11:37:13.398994Z"
    },
    "scrolled": false
   },
   "outputs": [
    {
     "data": {
      "image/png": "[encoded data removed]",
      "text/plain": [
       "<Figure size 1000x500 with 1 Axes>"
      ]
     },
     "metadata": {},
     "output_type": "display_data"
    }
   ],
   "source": [
    "# 시각화\n",
    "rows_by_group.plot(kind='bar', figsize=(10, 5))\n",
    "plt.title('행정구별로 데이터 구성하는 행의 개수')\n",
    "plt.xlabel('행정구')\n",
    "plt.ylabel('행 개수(개)')\n",
    "plt.axhline(rows_by_group.mean().values[0], color='red', linestyle='--', linewidth='3')\n",
    "plt.show()"
   ]
  },
  {
   "cell_type": "markdown",
   "id": "edf97c02",
   "metadata": {},
   "source": [
    "데이터 개수가 평균보다 많은 곳은 **송파구, 강서구, 강남구, 영등포구, 서초구, 노원구, 마포구, 강동구, 구로구, 양천구**"
   ]
  },
  {
   "cell_type": "code",
   "execution_count": 158,
   "id": "dc2c72cb",
   "metadata": {
    "ExecuteTime": {
     "end_time": "2023-10-30T11:37:17.185052Z",
     "start_time": "2023-10-30T11:37:17.161134Z"
    }
   },
   "outputs": [
    {
     "data": {
      "text/plain": [
       "True"
      ]
     },
     "execution_count": 158,
     "metadata": {},
     "output_type": "execute_result"
    }
   ],
   "source": [
    "rows_by_group.loc['양천구'].values[0] > rows_by_group.mean().values[0]"
   ]
  },
  {
   "cell_type": "markdown",
   "id": "6b922dfe",
   "metadata": {},
   "source": [
    "사실 양천구는 아리까리해서 직접 확인해봤다"
   ]
  },
  {
   "cell_type": "code",
   "execution_count": 163,
   "id": "b13b0020",
   "metadata": {
    "ExecuteTime": {
     "end_time": "2023-10-30T11:39:26.308202Z",
     "start_time": "2023-10-30T11:39:26.263015Z"
    }
   },
   "outputs": [
    {
     "data": {
      "text/html": [
       "<div>\n",
       "<style scoped>\n",
       "    .dataframe tbody tr th:only-of-type {\n",
       "        vertical-align: middle;\n",
       "    }\n",
       "\n",
       "    .dataframe tbody tr th {\n",
       "        vertical-align: top;\n",
       "    }\n",
       "\n",
       "    .dataframe thead th {\n",
       "        text-align: right;\n",
       "    }\n",
       "</style>\n",
       "<table border=\"1\" class=\"dataframe\">\n",
       "  <thead>\n",
       "    <tr style=\"text-align: right;\">\n",
       "      <th></th>\n",
       "      <th>대여건수</th>\n",
       "      <th>반납건수</th>\n",
       "      <th>합계</th>\n",
       "    </tr>\n",
       "    <tr>\n",
       "      <th>그룹명</th>\n",
       "      <th></th>\n",
       "      <th></th>\n",
       "      <th></th>\n",
       "    </tr>\n",
       "  </thead>\n",
       "  <tbody>\n",
       "    <tr>\n",
       "      <th>강서구</th>\n",
       "      <td>2425742</td>\n",
       "      <td>2408730</td>\n",
       "      <td>4834472</td>\n",
       "    </tr>\n",
       "    <tr>\n",
       "      <th>송파구</th>\n",
       "      <td>2019359</td>\n",
       "      <td>2001083</td>\n",
       "      <td>4020442</td>\n",
       "    </tr>\n",
       "    <tr>\n",
       "      <th>영등포구</th>\n",
       "      <td>1756829</td>\n",
       "      <td>1717698</td>\n",
       "      <td>3474527</td>\n",
       "    </tr>\n",
       "    <tr>\n",
       "      <th>노원구</th>\n",
       "      <td>1306650</td>\n",
       "      <td>1294840</td>\n",
       "      <td>2601490</td>\n",
       "    </tr>\n",
       "    <tr>\n",
       "      <th>양천구</th>\n",
       "      <td>1221741</td>\n",
       "      <td>1220666</td>\n",
       "      <td>2442407</td>\n",
       "    </tr>\n",
       "    <tr>\n",
       "      <th>마포구</th>\n",
       "      <td>1066569</td>\n",
       "      <td>1066762</td>\n",
       "      <td>2133331</td>\n",
       "    </tr>\n",
       "    <tr>\n",
       "      <th>광진구</th>\n",
       "      <td>1053185</td>\n",
       "      <td>1032267</td>\n",
       "      <td>2085452</td>\n",
       "    </tr>\n",
       "    <tr>\n",
       "      <th>강동구</th>\n",
       "      <td>933894</td>\n",
       "      <td>939209</td>\n",
       "      <td>1873103</td>\n",
       "    </tr>\n",
       "    <tr>\n",
       "      <th>성동구</th>\n",
       "      <td>864134</td>\n",
       "      <td>855186</td>\n",
       "      <td>1719320</td>\n",
       "    </tr>\n",
       "    <tr>\n",
       "      <th>구로구</th>\n",
       "      <td>860924</td>\n",
       "      <td>854159</td>\n",
       "      <td>1715083</td>\n",
       "    </tr>\n",
       "    <tr>\n",
       "      <th>동대문구</th>\n",
       "      <td>771309</td>\n",
       "      <td>783989</td>\n",
       "      <td>1555298</td>\n",
       "    </tr>\n",
       "    <tr>\n",
       "      <th>종로구</th>\n",
       "      <td>745979</td>\n",
       "      <td>707293</td>\n",
       "      <td>1453272</td>\n",
       "    </tr>\n",
       "    <tr>\n",
       "      <th>강남구</th>\n",
       "      <td>673634</td>\n",
       "      <td>633867</td>\n",
       "      <td>1307501</td>\n",
       "    </tr>\n",
       "    <tr>\n",
       "      <th>서초구</th>\n",
       "      <td>646206</td>\n",
       "      <td>634898</td>\n",
       "      <td>1281104</td>\n",
       "    </tr>\n",
       "    <tr>\n",
       "      <th>중랑구</th>\n",
       "      <td>624881</td>\n",
       "      <td>631987</td>\n",
       "      <td>1256868</td>\n",
       "    </tr>\n",
       "    <tr>\n",
       "      <th>은평구</th>\n",
       "      <td>540462</td>\n",
       "      <td>546061</td>\n",
       "      <td>1086523</td>\n",
       "    </tr>\n",
       "    <tr>\n",
       "      <th>관악구</th>\n",
       "      <td>540994</td>\n",
       "      <td>529883</td>\n",
       "      <td>1070877</td>\n",
       "    </tr>\n",
       "    <tr>\n",
       "      <th>성북구</th>\n",
       "      <td>529545</td>\n",
       "      <td>528594</td>\n",
       "      <td>1058139</td>\n",
       "    </tr>\n",
       "    <tr>\n",
       "      <th>중구</th>\n",
       "      <td>515286</td>\n",
       "      <td>485318</td>\n",
       "      <td>1000604</td>\n",
       "    </tr>\n",
       "    <tr>\n",
       "      <th>도봉구</th>\n",
       "      <td>465080</td>\n",
       "      <td>464795</td>\n",
       "      <td>929875</td>\n",
       "    </tr>\n",
       "    <tr>\n",
       "      <th>동작구</th>\n",
       "      <td>446626</td>\n",
       "      <td>446828</td>\n",
       "      <td>893454</td>\n",
       "    </tr>\n",
       "    <tr>\n",
       "      <th>용산구</th>\n",
       "      <td>445542</td>\n",
       "      <td>438256</td>\n",
       "      <td>883798</td>\n",
       "    </tr>\n",
       "    <tr>\n",
       "      <th>서대문구</th>\n",
       "      <td>435048</td>\n",
       "      <td>412412</td>\n",
       "      <td>847460</td>\n",
       "    </tr>\n",
       "    <tr>\n",
       "      <th>금천구</th>\n",
       "      <td>375621</td>\n",
       "      <td>370767</td>\n",
       "      <td>746388</td>\n",
       "    </tr>\n",
       "    <tr>\n",
       "      <th>강북구</th>\n",
       "      <td>321137</td>\n",
       "      <td>315747</td>\n",
       "      <td>636884</td>\n",
       "    </tr>\n",
       "  </tbody>\n",
       "</table>\n",
       "</div>"
      ],
      "text/plain": [
       "         대여건수     반납건수       합계\n",
       "그룹명                            \n",
       "강서구   2425742  2408730  4834472\n",
       "송파구   2019359  2001083  4020442\n",
       "영등포구  1756829  1717698  3474527\n",
       "노원구   1306650  1294840  2601490\n",
       "양천구   1221741  1220666  2442407\n",
       "마포구   1066569  1066762  2133331\n",
       "광진구   1053185  1032267  2085452\n",
       "강동구    933894   939209  1873103\n",
       "성동구    864134   855186  1719320\n",
       "구로구    860924   854159  1715083\n",
       "동대문구   771309   783989  1555298\n",
       "종로구    745979   707293  1453272\n",
       "강남구    673634   633867  1307501\n",
       "서초구    646206   634898  1281104\n",
       "중랑구    624881   631987  1256868\n",
       "은평구    540462   546061  1086523\n",
       "관악구    540994   529883  1070877\n",
       "성북구    529545   528594  1058139\n",
       "중구     515286   485318  1000604\n",
       "도봉구    465080   464795   929875\n",
       "동작구    446626   446828   893454\n",
       "용산구    445542   438256   883798\n",
       "서대문구   435048   412412   847460\n",
       "금천구    375621   370767   746388\n",
       "강북구    321137   315747   636884"
      ]
     },
     "execution_count": 163,
     "metadata": {},
     "output_type": "execute_result"
    }
   ],
   "source": [
    "# 행정구별 총 대여건수와 총 반납건수 확인\n",
    "sum_by_group = new_cycle_use_df.groupby('그룹명').agg({'대여건수': 'sum', '반납건수': 'sum'})\n",
    "['합계'] = sum_by_group['대여건수'] + sum_by_group['반납건수']\n",
    "sum_by_group = sum_by_group.sort_values('합계', ascending=False)\n",
    "sum_by_group"
   ]
  },
  {
   "cell_type": "code",
   "execution_count": 172,
   "id": "1d8bdbc7",
   "metadata": {
    "ExecuteTime": {
     "end_time": "2023-10-30T11:43:53.719081Z",
     "start_time": "2023-10-30T11:43:53.546923Z"
    }
   },
   "outputs": [
    {
     "data": {
      "image/png": "[encoded data removed]",
      "text/plain": [
       "<Figure size 1000x500 with 1 Axes>"
      ]
     },
     "metadata": {},
     "output_type": "display_data"
    }
   ],
   "source": [
    "# 시각화\n",
    "sum_by_group[['대여건수', '반납건수']].plot(kind='bar', figsize=(10, 5), stacked=True)\n",
    "plt.title('행정구별 총 대여 및 반납건수')\n",
    "plt.xlabel('행정구')\n",
    "plt.ylabel('대여 및 반납(건)')\n",
    "plt.ticklabel_format(axis='y',useOffset=False, style='plain')\n",
    "plt.axhline(sum_by_group['합계'].mean(), color='red', linestyle='--', linewidth='3')\n",
    "plt.show()"
   ]
  },
  {
   "cell_type": "code",
   "execution_count": 175,
   "id": "1559aed1",
   "metadata": {
    "ExecuteTime": {
     "end_time": "2023-10-30T11:44:47.659624Z",
     "start_time": "2023-10-30T11:44:47.635897Z"
    }
   },
   "outputs": [
    {
     "data": {
      "text/plain": [
       "True"
      ]
     },
     "execution_count": 175,
     "metadata": {},
     "output_type": "execute_result"
    }
   ],
   "source": [
    "sum_by_group.loc['성동구', '합계'] > sum_by_group['합계'].mean()"
   ]
  },
  {
   "cell_type": "code",
   "execution_count": 176,
   "id": "57144f69",
   "metadata": {
    "ExecuteTime": {
     "end_time": "2023-10-30T11:45:00.294854Z",
     "start_time": "2023-10-30T11:45:00.276247Z"
    }
   },
   "outputs": [
    {
     "data": {
      "text/plain": [
       "False"
      ]
     },
     "execution_count": 176,
     "metadata": {},
     "output_type": "execute_result"
    }
   ],
   "source": [
    "sum_by_group.loc['구로구', '합계'] > sum_by_group['합계'].mean()"
   ]
  },
  {
   "cell_type": "markdown",
   "id": "0eb8c53d",
   "metadata": {},
   "source": [
    "총 대여 및 반납건수가 평균 이상인 곳은 **강서구, 송파구, 영등포구, 노원구, 양천구, 마포구, 광진구, 강동구, 성동구**"
   ]
  },
  {
   "cell_type": "markdown",
   "id": "7fc29f60",
   "metadata": {},
   "source": [
    "#### 1-2-3. 대여소명"
   ]
  },
  {
   "cell_type": "code",
   "execution_count": 177,
   "id": "68607299",
   "metadata": {
    "ExecuteTime": {
     "end_time": "2023-10-30T11:47:44.915294Z",
     "start_time": "2023-10-30T11:47:44.826275Z"
    }
   },
   "outputs": [
    {
     "data": {
      "text/plain": [
       "2739"
      ]
     },
     "execution_count": 177,
     "metadata": {},
     "output_type": "execute_result"
    }
   ],
   "source": [
    "# 대여소 개수\n",
    "new_cycle_use_df['대여소명'].nunique()"
   ]
  },
  {
   "cell_type": "markdown",
   "id": "a6822378",
   "metadata": {},
   "source": [
    "대여소 종류가 2739개나 된다."
   ]
  },
  {
   "cell_type": "code",
   "execution_count": 182,
   "id": "60bea585",
   "metadata": {
    "ExecuteTime": {
     "end_time": "2023-10-30T11:49:49.526335Z",
     "start_time": "2023-10-30T11:49:49.392247Z"
    }
   },
   "outputs": [
    {
     "data": {
      "text/html": [
       "<div>\n",
       "<style scoped>\n",
       "    .dataframe tbody tr th:only-of-type {\n",
       "        vertical-align: middle;\n",
       "    }\n",
       "\n",
       "    .dataframe tbody tr th {\n",
       "        vertical-align: top;\n",
       "    }\n",
       "\n",
       "    .dataframe thead th {\n",
       "        text-align: right;\n",
       "    }\n",
       "</style>\n",
       "<table border=\"1\" class=\"dataframe\">\n",
       "  <thead>\n",
       "    <tr style=\"text-align: right;\">\n",
       "      <th></th>\n",
       "      <th>대여소명</th>\n",
       "    </tr>\n",
       "    <tr>\n",
       "      <th>그룹명</th>\n",
       "      <th></th>\n",
       "    </tr>\n",
       "  </thead>\n",
       "  <tbody>\n",
       "    <tr>\n",
       "      <th>송파구</th>\n",
       "      <td>218</td>\n",
       "    </tr>\n",
       "    <tr>\n",
       "      <th>강서구</th>\n",
       "      <td>187</td>\n",
       "    </tr>\n",
       "    <tr>\n",
       "      <th>강남구</th>\n",
       "      <td>166</td>\n",
       "    </tr>\n",
       "    <tr>\n",
       "      <th>영등포구</th>\n",
       "      <td>151</td>\n",
       "    </tr>\n",
       "    <tr>\n",
       "      <th>서초구</th>\n",
       "      <td>147</td>\n",
       "    </tr>\n",
       "    <tr>\n",
       "      <th>노원구</th>\n",
       "      <td>137</td>\n",
       "    </tr>\n",
       "    <tr>\n",
       "      <th>강동구</th>\n",
       "      <td>122</td>\n",
       "    </tr>\n",
       "    <tr>\n",
       "      <th>마포구</th>\n",
       "      <td>122</td>\n",
       "    </tr>\n",
       "    <tr>\n",
       "      <th>구로구</th>\n",
       "      <td>114</td>\n",
       "    </tr>\n",
       "    <tr>\n",
       "      <th>양천구</th>\n",
       "      <td>111</td>\n",
       "    </tr>\n",
       "    <tr>\n",
       "      <th>종로구</th>\n",
       "      <td>104</td>\n",
       "    </tr>\n",
       "    <tr>\n",
       "      <th>은평구</th>\n",
       "      <td>98</td>\n",
       "    </tr>\n",
       "    <tr>\n",
       "      <th>중랑구</th>\n",
       "      <td>95</td>\n",
       "    </tr>\n",
       "    <tr>\n",
       "      <th>성동구</th>\n",
       "      <td>92</td>\n",
       "    </tr>\n",
       "    <tr>\n",
       "      <th>용산구</th>\n",
       "      <td>91</td>\n",
       "    </tr>\n",
       "    <tr>\n",
       "      <th>중구</th>\n",
       "      <td>88</td>\n",
       "    </tr>\n",
       "    <tr>\n",
       "      <th>광진구</th>\n",
       "      <td>87</td>\n",
       "    </tr>\n",
       "    <tr>\n",
       "      <th>동대문구</th>\n",
       "      <td>83</td>\n",
       "    </tr>\n",
       "    <tr>\n",
       "      <th>성북구</th>\n",
       "      <td>82</td>\n",
       "    </tr>\n",
       "    <tr>\n",
       "      <th>서대문구</th>\n",
       "      <td>82</td>\n",
       "    </tr>\n",
       "    <tr>\n",
       "      <th>도봉구</th>\n",
       "      <td>78</td>\n",
       "    </tr>\n",
       "    <tr>\n",
       "      <th>금천구</th>\n",
       "      <td>76</td>\n",
       "    </tr>\n",
       "    <tr>\n",
       "      <th>관악구</th>\n",
       "      <td>75</td>\n",
       "    </tr>\n",
       "    <tr>\n",
       "      <th>동작구</th>\n",
       "      <td>72</td>\n",
       "    </tr>\n",
       "    <tr>\n",
       "      <th>강북구</th>\n",
       "      <td>61</td>\n",
       "    </tr>\n",
       "  </tbody>\n",
       "</table>\n",
       "</div>"
      ],
      "text/plain": [
       "      대여소명\n",
       "그룹명       \n",
       "송파구    218\n",
       "강서구    187\n",
       "강남구    166\n",
       "영등포구   151\n",
       "서초구    147\n",
       "노원구    137\n",
       "강동구    122\n",
       "마포구    122\n",
       "구로구    114\n",
       "양천구    111\n",
       "종로구    104\n",
       "은평구     98\n",
       "중랑구     95\n",
       "성동구     92\n",
       "용산구     91\n",
       "중구      88\n",
       "광진구     87\n",
       "동대문구    83\n",
       "성북구     82\n",
       "서대문구    82\n",
       "도봉구     78\n",
       "금천구     76\n",
       "관악구     75\n",
       "동작구     72\n",
       "강북구     61"
      ]
     },
     "execution_count": 182,
     "metadata": {},
     "output_type": "execute_result"
    }
   ],
   "source": [
    "# 행정구별 대여소 개수 \n",
    "station_in_group = new_cycle_use_df.groupby('그룹명').agg({'대여소명': 'nunique'}).sort_values('대여소명', ascending=False)\n",
    "station_in_group"
   ]
  },
  {
   "cell_type": "code",
   "execution_count": 212,
   "id": "a48e3ab0",
   "metadata": {
    "ExecuteTime": {
     "end_time": "2023-10-30T12:05:03.501314Z",
     "start_time": "2023-10-30T12:05:03.345236Z"
    }
   },
   "outputs": [
    {
     "data": {
      "image/png": "[encoded data removed]",
      "text/plain": [
       "<Figure size 1000x500 with 1 Axes>"
      ]
     },
     "metadata": {},
     "output_type": "display_data"
    }
   ],
   "source": [
    "# 시각화\n",
    "station_in_group.plot(kind='bar', figsize=(10, 5))\n",
    "plt.title('행정구별 대여소 개수')\n",
    "plt.xlabel('행정구')\n",
    "plt.ylabel('대여소(개)')\n",
    "plt.axhline(station_in_group.mean().values[0], color='red', linestyle='--', linewidth='3')\n",
    "plt.show()"
   ]
  },
  {
   "cell_type": "markdown",
   "id": "9a9710c7",
   "metadata": {},
   "source": [
    "어디서 본 그래프 같네...? 사실 날짜별로 대여소마다의 데이터가 구성되어 있을 테니 행의 개수가 곧 대여소 개수였을 것이다...!"
   ]
  },
  {
   "cell_type": "code",
   "execution_count": 213,
   "id": "f490c5b4",
   "metadata": {
    "ExecuteTime": {
     "end_time": "2023-10-30T12:05:43.669982Z",
     "start_time": "2023-10-30T12:05:43.538890Z"
    }
   },
   "outputs": [
    {
     "data": {
      "text/plain": [
       "array(['4217. 한강공원 망원나들목'], dtype=object)"
      ]
     },
     "execution_count": 213,
     "metadata": {},
     "output_type": "execute_result"
    }
   ],
   "source": [
    "# 한강공원이 들어가는 대여소 개수 확인\n",
    "new_cycle_use_df[new_cycle_use_df['대여소명'].str.contains('한강공원')]['대여소명'].unique()"
   ]
  },
  {
   "cell_type": "code",
   "execution_count": 207,
   "id": "9d3976b5",
   "metadata": {
    "ExecuteTime": {
     "end_time": "2023-10-30T12:03:54.256267Z",
     "start_time": "2023-10-30T12:03:54.137212Z"
    }
   },
   "outputs": [
    {
     "data": {
      "text/plain": [
       "array(['588. 뚝섬 유원지역', '502. 뚝섬유원지역 1번출구 앞'], dtype=object)"
      ]
     },
     "execution_count": 207,
     "metadata": {},
     "output_type": "execute_result"
    }
   ],
   "source": [
    "new_cycle_use_df[new_cycle_use_df['대여소명'].str.contains('유원지')]['대여소명'].unique()"
   ]
  },
  {
   "cell_type": "code",
   "execution_count": 211,
   "id": "3a74413f",
   "metadata": {
    "ExecuteTime": {
     "end_time": "2023-10-30T12:04:40.577094Z",
     "start_time": "2023-10-30T12:04:40.454873Z"
    }
   },
   "outputs": [
    {
     "data": {
      "text/plain": [
       "array(['260. 여의도 마리나선착장 앞'], dtype=object)"
      ]
     },
     "execution_count": 211,
     "metadata": {},
     "output_type": "execute_result"
    }
   ],
   "source": [
    "new_cycle_use_df[new_cycle_use_df['대여소명'].str.contains('선착장')]['대여소명'].unique()"
   ]
  },
  {
   "cell_type": "code",
   "execution_count": 214,
   "id": "a92d2b7b",
   "metadata": {
    "ExecuteTime": {
     "end_time": "2023-10-30T12:06:11.376508Z",
     "start_time": "2023-10-30T12:06:11.247230Z"
    }
   },
   "outputs": [
    {
     "data": {
      "text/plain": [
       "array(['1296. 석촌호수교차로 (송파나루근린공원 앞)',\n",
       "       '1191. 마곡역 버스정류장(마곡나루역1번출구, 웰튼병원 방면)', '2701. 마곡나루역 5번출구 뒤편',\n",
       "       '2620. 송파나루역 4번 출구옆', '2715.마곡나루역 2번 출구 ', '2728.마곡나루역 3번 출구',\n",
       "       '119. 서강나루 공원', '3564.나루마당', '3573.광나루안전체험관', '4484. 잠실나루역4번출구뒤',\n",
       "       '4485. 잠실나루역 고가하부', '4859. 잠실나루 나들목', '576. 광나루역 3번 출구',\n",
       "       '1004. 삼성광나루아파트 버스정류장', '1209. 잠실나루역 (2번 출구 쪽)',\n",
       "       '207. 여의나루역 1번출구 앞'], dtype=object)"
      ]
     },
     "execution_count": 214,
     "metadata": {},
     "output_type": "execute_result"
    }
   ],
   "source": [
    "new_cycle_use_df[new_cycle_use_df['대여소명'].str.contains('나루')]['대여소명'].unique()"
   ]
  },
  {
   "cell_type": "markdown",
   "id": "5d745315",
   "metadata": {},
   "source": [
    "대여소 이름으로부터 **한강공원과 관련 있는 데이터**를 뽑아낼 방법은 더 생각해 봐야 할 듯"
   ]
  },
  {
   "cell_type": "markdown",
   "id": "8329819e",
   "metadata": {},
   "source": [
    "#### 1-2-4. 대여년월"
   ]
  },
  {
   "cell_type": "code",
   "execution_count": 188,
   "id": "50f64c6a",
   "metadata": {
    "ExecuteTime": {
     "end_time": "2023-10-30T11:52:50.693727Z",
     "start_time": "2023-10-30T11:52:50.683493Z"
    }
   },
   "outputs": [
    {
     "data": {
      "text/plain": [
       "181"
      ]
     },
     "execution_count": 188,
     "metadata": {},
     "output_type": "execute_result"
    }
   ],
   "source": [
    "len(dates)"
   ]
  },
  {
   "cell_type": "markdown",
   "id": "ca1b072a",
   "metadata": {},
   "source": [
    "181일 모두 제대로 불러와졌는지 확인하기"
   ]
  },
  {
   "cell_type": "code",
   "execution_count": 189,
   "id": "740af447",
   "metadata": {
    "ExecuteTime": {
     "end_time": "2023-10-30T11:53:03.853591Z",
     "start_time": "2023-10-30T11:53:03.793502Z"
    }
   },
   "outputs": [
    {
     "data": {
      "text/plain": [
       "180"
      ]
     },
     "execution_count": 189,
     "metadata": {},
     "output_type": "execute_result"
    }
   ],
   "source": [
    "new_cycle_use_df['대여년월'].nunique()"
   ]
  },
  {
   "cell_type": "code",
   "execution_count": 108,
   "id": "9ef4f04f",
   "metadata": {
    "ExecuteTime": {
     "end_time": "2023-10-30T11:24:41.338956Z",
     "start_time": "2023-10-30T11:24:41.282727Z"
    }
   },
   "outputs": [
    {
     "data": {
      "text/plain": [
       "False"
      ]
     },
     "execution_count": 108,
     "metadata": {},
     "output_type": "execute_result"
    }
   ],
   "source": [
    "new_cycle_use_df['대여년월'].nunique() == len(dates)"
   ]
  },
  {
   "cell_type": "markdown",
   "id": "8da7bf59",
   "metadata": {},
   "source": [
    "뭔가 문제가 있는 것 같으니 직접 확인해보자"
   ]
  },
  {
   "cell_type": "code",
   "execution_count": 109,
   "id": "95d38aea",
   "metadata": {
    "ExecuteTime": {
     "end_time": "2023-10-30T11:24:49.053396Z",
     "start_time": "2023-10-30T11:24:42.912985Z"
    }
   },
   "outputs": [
    {
     "name": "stdout",
     "output_type": "stream",
     "text": [
      "2023-06-26\n"
     ]
    }
   ],
   "source": [
    "for date in dates:\n",
    "    if date not in new_cycle_use_df['대여년월'].unique():\n",
    "        print(date)"
   ]
  },
  {
   "cell_type": "markdown",
   "id": "3eeb4534",
   "metadata": {
    "ExecuteTime": {
     "end_time": "2023-10-30T11:12:37.706098Z",
     "start_time": "2023-10-30T11:12:37.687594Z"
    }
   },
   "source": [
    "**2023년 6월 26일이 누락**되어 있다"
   ]
  },
  {
   "cell_type": "markdown",
   "id": "61cb0866",
   "metadata": {},
   "source": [
    "#### 1-2-5. 대여건수, 반납건수"
   ]
  },
  {
   "cell_type": "markdown",
   "id": "b1a54af6",
   "metadata": {},
   "source": [
    "정수형 데이터들이니까 분포를 보자."
   ]
  },
  {
   "cell_type": "code",
   "execution_count": 193,
   "id": "432f52d7",
   "metadata": {
    "ExecuteTime": {
     "end_time": "2023-10-30T11:54:15.192976Z",
     "start_time": "2023-10-30T11:54:15.151663Z"
    },
    "scrolled": true
   },
   "outputs": [
    {
     "data": {
      "text/html": [
       "<div>\n",
       "<style scoped>\n",
       "    .dataframe tbody tr th:only-of-type {\n",
       "        vertical-align: middle;\n",
       "    }\n",
       "\n",
       "    .dataframe tbody tr th {\n",
       "        vertical-align: top;\n",
       "    }\n",
       "\n",
       "    .dataframe thead th {\n",
       "        text-align: right;\n",
       "    }\n",
       "</style>\n",
       "<table border=\"1\" class=\"dataframe\">\n",
       "  <thead>\n",
       "    <tr style=\"text-align: right;\">\n",
       "      <th></th>\n",
       "      <th>대여건수</th>\n",
       "      <th>반납건수</th>\n",
       "    </tr>\n",
       "  </thead>\n",
       "  <tbody>\n",
       "    <tr>\n",
       "      <th>count</th>\n",
       "      <td>483148.000000</td>\n",
       "      <td>483148.000000</td>\n",
       "    </tr>\n",
       "    <tr>\n",
       "      <th>mean</th>\n",
       "      <td>44.678602</td>\n",
       "      <td>44.129946</td>\n",
       "    </tr>\n",
       "    <tr>\n",
       "      <th>std</th>\n",
       "      <td>49.864576</td>\n",
       "      <td>51.623134</td>\n",
       "    </tr>\n",
       "    <tr>\n",
       "      <th>min</th>\n",
       "      <td>0.000000</td>\n",
       "      <td>0.000000</td>\n",
       "    </tr>\n",
       "    <tr>\n",
       "      <th>25%</th>\n",
       "      <td>13.000000</td>\n",
       "      <td>11.750000</td>\n",
       "    </tr>\n",
       "    <tr>\n",
       "      <th>50%</th>\n",
       "      <td>30.000000</td>\n",
       "      <td>28.000000</td>\n",
       "    </tr>\n",
       "    <tr>\n",
       "      <th>75%</th>\n",
       "      <td>59.000000</td>\n",
       "      <td>59.000000</td>\n",
       "    </tr>\n",
       "    <tr>\n",
       "      <th>max</th>\n",
       "      <td>1384.000000</td>\n",
       "      <td>1573.000000</td>\n",
       "    </tr>\n",
       "  </tbody>\n",
       "</table>\n",
       "</div>"
      ],
      "text/plain": [
       "                대여건수           반납건수\n",
       "count  483148.000000  483148.000000\n",
       "mean       44.678602      44.129946\n",
       "std        49.864576      51.623134\n",
       "min         0.000000       0.000000\n",
       "25%        13.000000      11.750000\n",
       "50%        30.000000      28.000000\n",
       "75%        59.000000      59.000000\n",
       "max      1384.000000    1573.000000"
      ]
     },
     "execution_count": 193,
     "metadata": {},
     "output_type": "execute_result"
    }
   ],
   "source": [
    "new_cycle_use_df[['대여건수', '반납건수']].describe()"
   ]
  },
  {
   "cell_type": "code",
   "execution_count": 194,
   "id": "ec14e22c",
   "metadata": {
    "ExecuteTime": {
     "end_time": "2023-10-30T11:55:19.930355Z",
     "start_time": "2023-10-30T11:55:19.603855Z"
    }
   },
   "outputs": [
    {
     "data": {
      "image/png": "[encoded data removed]",
      "text/plain": [
       "<Figure size 1000x500 with 1 Axes>"
      ]
     },
     "metadata": {},
     "output_type": "display_data"
    }
   ],
   "source": [
    "new_cycle_use_df[['대여건수', '반납건수']].plot(kind='box', figsize=(10, 5))\n",
    "plt.title('대여건수와 반납건수의 분포')\n",
    "plt.show()"
   ]
  },
  {
   "cell_type": "markdown",
   "id": "45fcba54",
   "metadata": {},
   "source": [
    "대략 30~40건 내외가 일반적인 것 같다.\n",
    "\n",
    "그런데 하루 동안 대여소에서 1384건의 대여와 1573건의 반납이 발생하는 경우가 있다고...?"
   ]
  },
  {
   "cell_type": "code",
   "execution_count": 195,
   "id": "a08c8820",
   "metadata": {
    "ExecuteTime": {
     "end_time": "2023-10-30T11:56:44.436832Z",
     "start_time": "2023-10-30T11:56:44.413508Z"
    }
   },
   "outputs": [
    {
     "data": {
      "text/html": [
       "<div>\n",
       "<style scoped>\n",
       "    .dataframe tbody tr th:only-of-type {\n",
       "        vertical-align: middle;\n",
       "    }\n",
       "\n",
       "    .dataframe tbody tr th {\n",
       "        vertical-align: top;\n",
       "    }\n",
       "\n",
       "    .dataframe thead th {\n",
       "        text-align: right;\n",
       "    }\n",
       "</style>\n",
       "<table border=\"1\" class=\"dataframe\">\n",
       "  <thead>\n",
       "    <tr style=\"text-align: right;\">\n",
       "      <th></th>\n",
       "      <th>그룹명</th>\n",
       "      <th>대여소명</th>\n",
       "      <th>대여년월</th>\n",
       "      <th>대여건수</th>\n",
       "      <th>반납건수</th>\n",
       "    </tr>\n",
       "  </thead>\n",
       "  <tbody>\n",
       "    <tr>\n",
       "      <th>245492</th>\n",
       "      <td>마포구</td>\n",
       "      <td>4217. 한강공원 망원나들목</td>\n",
       "      <td>2023-04-02</td>\n",
       "      <td>1384</td>\n",
       "      <td>1573</td>\n",
       "    </tr>\n",
       "  </tbody>\n",
       "</table>\n",
       "</div>"
      ],
      "text/plain": [
       "        그룹명              대여소명        대여년월  대여건수  반납건수\n",
       "245492  마포구  4217. 한강공원 망원나들목  2023-04-02  1384  1573"
      ]
     },
     "execution_count": 195,
     "metadata": {},
     "output_type": "execute_result"
    }
   ],
   "source": [
    "new_cycle_use_df[new_cycle_use_df['대여건수'] == 1384]"
   ]
  },
  {
   "cell_type": "markdown",
   "id": "cf003529",
   "metadata": {},
   "source": [
    "4월 2일 한강공원 망원나들목이라고 한다. 날이 좋을수록 한강공원을 많이 이용하지 않을까 하는 문제 정의에 완벽히 부합하는 예시가 나왔다!"
   ]
  },
  {
   "cell_type": "markdown",
   "id": "bda708c8",
   "metadata": {},
   "source": [
    "---"
   ]
  },
  {
   "cell_type": "markdown",
   "id": "1764c267",
   "metadata": {},
   "source": [
    "## 2. 한강공원 주차장 일별 이용 현황 API\n",
    "\n",
    "https://data.seoul.go.kr/dataList/OA-21084/S/1/datasetView.do"
   ]
  },
  {
   "cell_type": "markdown",
   "id": "74df158f",
   "metadata": {},
   "source": [
    "### 2-1. 데이터 로딩"
   ]
  },
  {
   "cell_type": "code",
   "execution_count": 246,
   "id": "d29440bf",
   "metadata": {
    "ExecuteTime": {
     "end_time": "2023-10-30T12:35:52.845959Z",
     "start_time": "2023-10-30T12:35:38.664393Z"
    }
   },
   "outputs": [
    {
     "name": "stdout",
     "output_type": "stream",
     "text": [
      "데이터 불러오는 중... 현재 2023/09/23 데이터까지 완료 (데이터 개수: 0개)\n",
      "데이터 불러오는 중... 현재 2023/08/19 데이터까지 완료 (데이터 개수: 0개)\n",
      "데이터 불러오는 중... 현재 2023/07/11 데이터까지 완료 (데이터 개수: 0개)\n",
      "데이터 불러오는 중... 현재 2023/06/05 데이터까지 완료 (데이터 개수: 714개)\n",
      "데이터 불러오는 중... 현재 2023/04/29 데이터까지 완료 (데이터 개수: 1714개)\n",
      "데이터 불러오는 중... 현재 2023/03/24 데이터까지 완료 (데이터 개수: 2714개)\n",
      "데이터 불러오는 중... 현재 2023/02/15 데이터까지 완료 (데이터 개수: 3714개)\n",
      "데이터 불러오는 중... 현재 2023/01/09 데이터까지 완료 (데이터 개수: 4714개)\n",
      "2022/12/31 데이터 이전까지 총 4948개의 데이터 불러오기 완료!\n"
     ]
    }
   ],
   "source": [
    "# 초기 세팅\n",
    "park_results = []\n",
    "n = 0\n",
    "is_finished = False\n",
    "\n",
    "while True:\n",
    "    # URL 구성\n",
    "    url = f'http://openapi.seoul.go.kr:8088'\n",
    "    params = {\n",
    "        'key': '73495157686c6f7537384768786b71',\n",
    "        'type': 'json',\n",
    "        'service': 'TbUseDaystatusView',\n",
    "        'start_index': str(n * 1000 + 1),\n",
    "        'end_index': str((n + 1) * 1000),\n",
    "    }\n",
    "    for param in params.values():\n",
    "        url += '/' + param\n",
    "\n",
    "    # 완성된 URL로부터 데이터 수신\n",
    "    response = requests.get(url)\n",
    "\n",
    "    # 받아온 결과를 utf-8 디코딩\n",
    "    response_data = response.content.decode('utf-8')\n",
    "\n",
    "    # JSON 문자열을 딕셔너리로 파싱\n",
    "    response_dict = json.loads(response_data)\n",
    "\n",
    "    # 2023년 1월부터 6월까지의 결과를 리스트에 저장\n",
    "    # 단, 2022년 데이터로 넘어가는 경우 종료\n",
    "    result = response_dict[params['service']]['row']\n",
    "    for r in result:\n",
    "        if r['DT'][:4] == '2022':\n",
    "            is_finished = True\n",
    "            break\n",
    "        elif r['DT'][5:7] in months.keys():\n",
    "            park_results.append(r)\n",
    "        else:\n",
    "            continue\n",
    "    \n",
    "    # 종료 상황이 아니면 다음 페이지로 넘어가서 계속 불러오도록 구현\n",
    "    if is_finished:\n",
    "        print(f'''{r['DT']} 데이터 이전까지 총 {len(park_results)}개의 데이터 불러오기 완료!''')\n",
    "        break\n",
    "    else:\n",
    "        n += 1\n",
    "        print(f'''데이터 불러오는 중... 현재 {r['DT']} 데이터까지 완료 (데이터 개수: {len(park_results)}개)''')"
   ]
  },
  {
   "cell_type": "code",
   "execution_count": 247,
   "id": "27414073",
   "metadata": {
    "ExecuteTime": {
     "end_time": "2023-10-30T12:36:00.437473Z",
     "start_time": "2023-10-30T12:36:00.401670Z"
    }
   },
   "outputs": [
    {
     "data": {
      "text/html": [
       "<div>\n",
       "<style scoped>\n",
       "    .dataframe tbody tr th:only-of-type {\n",
       "        vertical-align: middle;\n",
       "    }\n",
       "\n",
       "    .dataframe tbody tr th {\n",
       "        vertical-align: top;\n",
       "    }\n",
       "\n",
       "    .dataframe thead th {\n",
       "        text-align: right;\n",
       "    }\n",
       "</style>\n",
       "<table border=\"1\" class=\"dataframe\">\n",
       "  <thead>\n",
       "    <tr style=\"text-align: right;\">\n",
       "      <th></th>\n",
       "      <th>PARKING_DIV_CD</th>\n",
       "      <th>PARKING_NM</th>\n",
       "      <th>USE_CNT</th>\n",
       "      <th>USE_MIN</th>\n",
       "      <th>DT</th>\n",
       "    </tr>\n",
       "  </thead>\n",
       "  <tbody>\n",
       "    <tr>\n",
       "      <th>0</th>\n",
       "      <td>PLT-009</td>\n",
       "      <td>반포1주차장</td>\n",
       "      <td>921.0</td>\n",
       "      <td>36406.0</td>\n",
       "      <td>2023/06/30</td>\n",
       "    </tr>\n",
       "    <tr>\n",
       "      <th>1</th>\n",
       "      <td>PLT-008</td>\n",
       "      <td>여의도5주차장</td>\n",
       "      <td>320.0</td>\n",
       "      <td>91954.0</td>\n",
       "      <td>2023/06/30</td>\n",
       "    </tr>\n",
       "    <tr>\n",
       "      <th>2</th>\n",
       "      <td>PLT-008</td>\n",
       "      <td>여의도1주차장</td>\n",
       "      <td>2338.0</td>\n",
       "      <td>353012.0</td>\n",
       "      <td>2023/06/30</td>\n",
       "    </tr>\n",
       "    <tr>\n",
       "      <th>3</th>\n",
       "      <td>PLT-004</td>\n",
       "      <td>이촌2주차장</td>\n",
       "      <td>270.0</td>\n",
       "      <td>17168.0</td>\n",
       "      <td>2023/06/30</td>\n",
       "    </tr>\n",
       "    <tr>\n",
       "      <th>4</th>\n",
       "      <td>PLT-002</td>\n",
       "      <td>난지1,2,3주차장</td>\n",
       "      <td>1731.0</td>\n",
       "      <td>94452.0</td>\n",
       "      <td>2023/06/30</td>\n",
       "    </tr>\n",
       "    <tr>\n",
       "      <th>...</th>\n",
       "      <td>...</td>\n",
       "      <td>...</td>\n",
       "      <td>...</td>\n",
       "      <td>...</td>\n",
       "      <td>...</td>\n",
       "    </tr>\n",
       "    <tr>\n",
       "      <th>4943</th>\n",
       "      <td>PLT-011</td>\n",
       "      <td>잠실4주차장</td>\n",
       "      <td>1062.0</td>\n",
       "      <td>57831.0</td>\n",
       "      <td>2023/01/01</td>\n",
       "    </tr>\n",
       "    <tr>\n",
       "      <th>4944</th>\n",
       "      <td>PLT-007</td>\n",
       "      <td>양화2주차장</td>\n",
       "      <td>86.0</td>\n",
       "      <td>6180.0</td>\n",
       "      <td>2023/01/01</td>\n",
       "    </tr>\n",
       "    <tr>\n",
       "      <th>4945</th>\n",
       "      <td>PLT-001</td>\n",
       "      <td>강서1주차장</td>\n",
       "      <td>195.0</td>\n",
       "      <td>8590.0</td>\n",
       "      <td>2023/01/01</td>\n",
       "    </tr>\n",
       "    <tr>\n",
       "      <th>4946</th>\n",
       "      <td>PLT-003</td>\n",
       "      <td>망원2,3주차장</td>\n",
       "      <td>1208.0</td>\n",
       "      <td>87599.0</td>\n",
       "      <td>2023/01/01</td>\n",
       "    </tr>\n",
       "    <tr>\n",
       "      <th>4947</th>\n",
       "      <td>PLT-008</td>\n",
       "      <td>여의도4주차장</td>\n",
       "      <td>34.0</td>\n",
       "      <td>866.0</td>\n",
       "      <td>2023/01/01</td>\n",
       "    </tr>\n",
       "  </tbody>\n",
       "</table>\n",
       "<p>4948 rows × 5 columns</p>\n",
       "</div>"
      ],
      "text/plain": [
       "     PARKING_DIV_CD  PARKING_NM  USE_CNT   USE_MIN          DT\n",
       "0           PLT-009      반포1주차장    921.0   36406.0  2023/06/30\n",
       "1           PLT-008     여의도5주차장    320.0   91954.0  2023/06/30\n",
       "2           PLT-008     여의도1주차장   2338.0  353012.0  2023/06/30\n",
       "3           PLT-004      이촌2주차장    270.0   17168.0  2023/06/30\n",
       "4           PLT-002  난지1,2,3주차장   1731.0   94452.0  2023/06/30\n",
       "...             ...         ...      ...       ...         ...\n",
       "4943        PLT-011      잠실4주차장   1062.0   57831.0  2023/01/01\n",
       "4944        PLT-007      양화2주차장     86.0    6180.0  2023/01/01\n",
       "4945        PLT-001      강서1주차장    195.0    8590.0  2023/01/01\n",
       "4946        PLT-003    망원2,3주차장   1208.0   87599.0  2023/01/01\n",
       "4947        PLT-008     여의도4주차장     34.0     866.0  2023/01/01\n",
       "\n",
       "[4948 rows x 5 columns]"
      ]
     },
     "execution_count": 247,
     "metadata": {},
     "output_type": "execute_result"
    }
   ],
   "source": [
    "# 데이터프레임 생성\n",
    "park_df = pd.DataFrame(park_results)\n",
    "park_df"
   ]
  },
  {
   "cell_type": "code",
   "execution_count": 248,
   "id": "da5924c6",
   "metadata": {
    "ExecuteTime": {
     "end_time": "2023-10-30T12:36:04.505865Z",
     "start_time": "2023-10-30T12:36:04.480027Z"
    }
   },
   "outputs": [
    {
     "name": "stdout",
     "output_type": "stream",
     "text": [
      "<class 'pandas.core.frame.DataFrame'>\n",
      "RangeIndex: 4948 entries, 0 to 4947\n",
      "Data columns (total 5 columns):\n",
      " #   Column          Non-Null Count  Dtype  \n",
      "---  ------          --------------  -----  \n",
      " 0   PARKING_DIV_CD  4948 non-null   object \n",
      " 1   PARKING_NM      4948 non-null   object \n",
      " 2   USE_CNT         4948 non-null   float64\n",
      " 3   USE_MIN         4948 non-null   float64\n",
      " 4   DT              4948 non-null   object \n",
      "dtypes: float64(2), object(3)\n",
      "memory usage: 193.4+ KB\n"
     ]
    }
   ],
   "source": [
    "park_df.info()"
   ]
  },
  {
   "cell_type": "markdown",
   "id": "a75c5829",
   "metadata": {},
   "source": [
    "살펴본 결과\n",
    "- 마찬가지로 컬럼명 **한글화 필요**\n",
    "- 날짜 데이터가 아까는 yyyy-mm-dd였는데 이번에는 yyyy/mm/dd"
   ]
  },
  {
   "cell_type": "markdown",
   "id": "fde92ca3",
   "metadata": {},
   "source": [
    "### 2-2. 데이터 확인 및 전처리"
   ]
  },
  {
   "cell_type": "markdown",
   "id": "e90c6b28",
   "metadata": {},
   "source": [
    "#### 2-2-1. 데이터프레임 전체"
   ]
  },
  {
   "cell_type": "code",
   "execution_count": 249,
   "id": "a45b4d4a",
   "metadata": {
    "ExecuteTime": {
     "end_time": "2023-10-30T12:36:13.361695Z",
     "start_time": "2023-10-30T12:36:13.341189Z"
    }
   },
   "outputs": [
    {
     "data": {
      "text/html": [
       "<div>\n",
       "<style scoped>\n",
       "    .dataframe tbody tr th:only-of-type {\n",
       "        vertical-align: middle;\n",
       "    }\n",
       "\n",
       "    .dataframe tbody tr th {\n",
       "        vertical-align: top;\n",
       "    }\n",
       "\n",
       "    .dataframe thead th {\n",
       "        text-align: right;\n",
       "    }\n",
       "</style>\n",
       "<table border=\"1\" class=\"dataframe\">\n",
       "  <thead>\n",
       "    <tr style=\"text-align: right;\">\n",
       "      <th></th>\n",
       "      <th>지구별</th>\n",
       "      <th>주차장명</th>\n",
       "      <th>주차대수</th>\n",
       "      <th>이용시간</th>\n",
       "      <th>날짜</th>\n",
       "    </tr>\n",
       "  </thead>\n",
       "  <tbody>\n",
       "    <tr>\n",
       "      <th>0</th>\n",
       "      <td>PLT-009</td>\n",
       "      <td>반포1주차장</td>\n",
       "      <td>921.0</td>\n",
       "      <td>36406.0</td>\n",
       "      <td>2023/06/30</td>\n",
       "    </tr>\n",
       "    <tr>\n",
       "      <th>1</th>\n",
       "      <td>PLT-008</td>\n",
       "      <td>여의도5주차장</td>\n",
       "      <td>320.0</td>\n",
       "      <td>91954.0</td>\n",
       "      <td>2023/06/30</td>\n",
       "    </tr>\n",
       "    <tr>\n",
       "      <th>2</th>\n",
       "      <td>PLT-008</td>\n",
       "      <td>여의도1주차장</td>\n",
       "      <td>2338.0</td>\n",
       "      <td>353012.0</td>\n",
       "      <td>2023/06/30</td>\n",
       "    </tr>\n",
       "    <tr>\n",
       "      <th>3</th>\n",
       "      <td>PLT-004</td>\n",
       "      <td>이촌2주차장</td>\n",
       "      <td>270.0</td>\n",
       "      <td>17168.0</td>\n",
       "      <td>2023/06/30</td>\n",
       "    </tr>\n",
       "    <tr>\n",
       "      <th>4</th>\n",
       "      <td>PLT-002</td>\n",
       "      <td>난지1,2,3주차장</td>\n",
       "      <td>1731.0</td>\n",
       "      <td>94452.0</td>\n",
       "      <td>2023/06/30</td>\n",
       "    </tr>\n",
       "    <tr>\n",
       "      <th>...</th>\n",
       "      <td>...</td>\n",
       "      <td>...</td>\n",
       "      <td>...</td>\n",
       "      <td>...</td>\n",
       "      <td>...</td>\n",
       "    </tr>\n",
       "    <tr>\n",
       "      <th>4943</th>\n",
       "      <td>PLT-011</td>\n",
       "      <td>잠실4주차장</td>\n",
       "      <td>1062.0</td>\n",
       "      <td>57831.0</td>\n",
       "      <td>2023/01/01</td>\n",
       "    </tr>\n",
       "    <tr>\n",
       "      <th>4944</th>\n",
       "      <td>PLT-007</td>\n",
       "      <td>양화2주차장</td>\n",
       "      <td>86.0</td>\n",
       "      <td>6180.0</td>\n",
       "      <td>2023/01/01</td>\n",
       "    </tr>\n",
       "    <tr>\n",
       "      <th>4945</th>\n",
       "      <td>PLT-001</td>\n",
       "      <td>강서1주차장</td>\n",
       "      <td>195.0</td>\n",
       "      <td>8590.0</td>\n",
       "      <td>2023/01/01</td>\n",
       "    </tr>\n",
       "    <tr>\n",
       "      <th>4946</th>\n",
       "      <td>PLT-003</td>\n",
       "      <td>망원2,3주차장</td>\n",
       "      <td>1208.0</td>\n",
       "      <td>87599.0</td>\n",
       "      <td>2023/01/01</td>\n",
       "    </tr>\n",
       "    <tr>\n",
       "      <th>4947</th>\n",
       "      <td>PLT-008</td>\n",
       "      <td>여의도4주차장</td>\n",
       "      <td>34.0</td>\n",
       "      <td>866.0</td>\n",
       "      <td>2023/01/01</td>\n",
       "    </tr>\n",
       "  </tbody>\n",
       "</table>\n",
       "<p>4948 rows × 5 columns</p>\n",
       "</div>"
      ],
      "text/plain": [
       "          지구별        주차장명    주차대수      이용시간          날짜\n",
       "0     PLT-009      반포1주차장   921.0   36406.0  2023/06/30\n",
       "1     PLT-008     여의도5주차장   320.0   91954.0  2023/06/30\n",
       "2     PLT-008     여의도1주차장  2338.0  353012.0  2023/06/30\n",
       "3     PLT-004      이촌2주차장   270.0   17168.0  2023/06/30\n",
       "4     PLT-002  난지1,2,3주차장  1731.0   94452.0  2023/06/30\n",
       "...       ...         ...     ...       ...         ...\n",
       "4943  PLT-011      잠실4주차장  1062.0   57831.0  2023/01/01\n",
       "4944  PLT-007      양화2주차장    86.0    6180.0  2023/01/01\n",
       "4945  PLT-001      강서1주차장   195.0    8590.0  2023/01/01\n",
       "4946  PLT-003    망원2,3주차장  1208.0   87599.0  2023/01/01\n",
       "4947  PLT-008     여의도4주차장    34.0     866.0  2023/01/01\n",
       "\n",
       "[4948 rows x 5 columns]"
      ]
     },
     "execution_count": 249,
     "metadata": {},
     "output_type": "execute_result"
    }
   ],
   "source": [
    "new_park_df = park_df.rename(columns={\n",
    "    'PARKING_DIV_CD': '지구별',\n",
    "    'PARKING_NM': '주차장명',\n",
    "    'USE_CNT': '주차대수',\n",
    "    'USE_MIN': '이용시간',\n",
    "    'DT': '날짜'\n",
    "})\n",
    "\n",
    "new_park_df"
   ]
  },
  {
   "cell_type": "markdown",
   "id": "4cdda9c5",
   "metadata": {},
   "source": [
    "#### 2-2-2. 지구별"
   ]
  },
  {
   "cell_type": "code",
   "execution_count": 258,
   "id": "44e6f6bf",
   "metadata": {
    "ExecuteTime": {
     "end_time": "2023-10-30T12:39:50.563511Z",
     "start_time": "2023-10-30T12:39:50.534476Z"
    }
   },
   "outputs": [
    {
     "data": {
      "text/plain": [
       "11"
      ]
     },
     "execution_count": 258,
     "metadata": {},
     "output_type": "execute_result"
    }
   ],
   "source": [
    "new_park_df['지구별'].nunique()"
   ]
  },
  {
   "cell_type": "code",
   "execution_count": 259,
   "id": "116ea7c0",
   "metadata": {
    "ExecuteTime": {
     "end_time": "2023-10-30T12:39:52.631671Z",
     "start_time": "2023-10-30T12:39:52.604227Z"
    }
   },
   "outputs": [
    {
     "data": {
      "text/plain": [
       "array(['PLT-009', 'PLT-008', 'PLT-004', 'PLT-002', 'PLT-005', 'PLT-003',\n",
       "       'PLT-007', 'PLT-011', 'PLT-010', 'PLT-006', 'PLT-001'],\n",
       "      dtype=object)"
      ]
     },
     "execution_count": 259,
     "metadata": {},
     "output_type": "execute_result"
    }
   ],
   "source": [
    "new_park_df['지구별'].unique()"
   ]
  },
  {
   "cell_type": "markdown",
   "id": "12934389",
   "metadata": {},
   "source": [
    "총 11개라는데 솔직히 별로 직관적이지도 않고 뭔지 잘 모르겠다. 각 지구별로 주차장 이름을 찍어봐야 알 수 있을 것 같다."
   ]
  },
  {
   "cell_type": "code",
   "execution_count": 306,
   "id": "303163ba",
   "metadata": {
    "ExecuteTime": {
     "end_time": "2023-10-30T14:17:19.983257Z",
     "start_time": "2023-10-30T14:17:19.945906Z"
    }
   },
   "outputs": [
    {
     "name": "stdout",
     "output_type": "stream",
     "text": [
      "------------------------------\n",
      "PLT-001\n",
      "강서1주차장    180\n",
      "Name: 주차장명, dtype: int64\n",
      "------------------------------\n",
      "PLT-002\n",
      "난지1,2,3주차장    179\n",
      "Name: 주차장명, dtype: int64\n",
      "------------------------------\n",
      "PLT-003\n",
      "망원1주차장      180\n",
      "망원2,3주차장    180\n",
      "Name: 주차장명, dtype: int64\n",
      "------------------------------\n",
      "PLT-004\n",
      "이촌2주차장      180\n",
      "이촌1주차장      180\n",
      "이촌3,4주차장    180\n",
      "Name: 주차장명, dtype: int64\n",
      "------------------------------\n",
      "PLT-005\n",
      "뚝섬4주차장    180\n",
      "뚝섬1주차장    180\n",
      "뚝섬3주차장    180\n",
      "뚝섬2주차장    180\n",
      "Name: 주차장명, dtype: int64\n",
      "------------------------------\n",
      "PLT-006\n",
      "광나루1,2주차장    180\n",
      "광나루3주차장      180\n",
      "광나루4주차장      101\n",
      "Name: 주차장명, dtype: int64\n",
      "------------------------------\n",
      "PLT-007\n",
      "양화1주차장        180\n",
      "양화3,4,5주차장    180\n",
      "양화2주차장        179\n",
      "Name: 주차장명, dtype: int64\n",
      "------------------------------\n",
      "PLT-008\n",
      "여의도5주차장    180\n",
      "여의도3주차장    180\n",
      "여의도2주차장    180\n",
      "여의도4주차장    179\n",
      "여의도1주차장    177\n",
      "Name: 주차장명, dtype: int64\n",
      "------------------------------\n",
      "PLT-009\n",
      "반포2,3주차장    179\n",
      "반포1주차장      174\n",
      "Name: 주차장명, dtype: int64\n",
      "------------------------------\n",
      "PLT-010\n",
      "잠원2-6주차장    180\n",
      "잠원1주차장      180\n",
      "Name: 주차장명, dtype: int64\n",
      "------------------------------\n",
      "PLT-011\n",
      "잠실1주차장    180\n",
      "잠실4주차장    180\n",
      "Name: 주차장명, dtype: int64\n"
     ]
    }
   ],
   "source": [
    "# groupby 객체를 generator로 생성\n",
    "area_iter = iter(new_park_df.groupby('지구별'))\n",
    "\n",
    "# generator를 돌려서 각 지구별 주차장명 개수 출력\n",
    "for idx, df in area_iter:\n",
    "    print('-' * 30)\n",
    "    print(idx, df['주차장명'].value_counts(), sep='\\n')"
   ]
  },
  {
   "cell_type": "markdown",
   "id": "94fd2d80",
   "metadata": {},
   "source": [
    "지구별이라는 게 공원별을 뜻하는 모양이다."
   ]
  },
  {
   "cell_type": "code",
   "execution_count": 318,
   "id": "98188638",
   "metadata": {
    "ExecuteTime": {
     "end_time": "2023-10-30T14:27:33.748486Z",
     "start_time": "2023-10-30T14:27:33.707846Z"
    }
   },
   "outputs": [
    {
     "data": {
      "text/html": [
       "<div>\n",
       "<style scoped>\n",
       "    .dataframe tbody tr th:only-of-type {\n",
       "        vertical-align: middle;\n",
       "    }\n",
       "\n",
       "    .dataframe tbody tr th {\n",
       "        vertical-align: top;\n",
       "    }\n",
       "\n",
       "    .dataframe thead th {\n",
       "        text-align: right;\n",
       "    }\n",
       "</style>\n",
       "<table border=\"1\" class=\"dataframe\">\n",
       "  <thead>\n",
       "    <tr style=\"text-align: right;\">\n",
       "      <th></th>\n",
       "      <th>지구별</th>\n",
       "      <th>주차장명</th>\n",
       "      <th>주차대수</th>\n",
       "      <th>이용시간</th>\n",
       "      <th>날짜</th>\n",
       "      <th>공원명</th>\n",
       "    </tr>\n",
       "  </thead>\n",
       "  <tbody>\n",
       "    <tr>\n",
       "      <th>0</th>\n",
       "      <td>PLT-009</td>\n",
       "      <td>반포1주차장</td>\n",
       "      <td>921.0</td>\n",
       "      <td>36406.0</td>\n",
       "      <td>2023-06-30</td>\n",
       "      <td>반포</td>\n",
       "    </tr>\n",
       "    <tr>\n",
       "      <th>1</th>\n",
       "      <td>PLT-008</td>\n",
       "      <td>여의도5주차장</td>\n",
       "      <td>320.0</td>\n",
       "      <td>91954.0</td>\n",
       "      <td>2023-06-30</td>\n",
       "      <td>여의도</td>\n",
       "    </tr>\n",
       "    <tr>\n",
       "      <th>2</th>\n",
       "      <td>PLT-008</td>\n",
       "      <td>여의도1주차장</td>\n",
       "      <td>2338.0</td>\n",
       "      <td>353012.0</td>\n",
       "      <td>2023-06-30</td>\n",
       "      <td>여의도</td>\n",
       "    </tr>\n",
       "    <tr>\n",
       "      <th>3</th>\n",
       "      <td>PLT-004</td>\n",
       "      <td>이촌2주차장</td>\n",
       "      <td>270.0</td>\n",
       "      <td>17168.0</td>\n",
       "      <td>2023-06-30</td>\n",
       "      <td>이촌</td>\n",
       "    </tr>\n",
       "    <tr>\n",
       "      <th>4</th>\n",
       "      <td>PLT-002</td>\n",
       "      <td>난지1,2,3주차장</td>\n",
       "      <td>1731.0</td>\n",
       "      <td>94452.0</td>\n",
       "      <td>2023-06-30</td>\n",
       "      <td>난지</td>\n",
       "    </tr>\n",
       "    <tr>\n",
       "      <th>...</th>\n",
       "      <td>...</td>\n",
       "      <td>...</td>\n",
       "      <td>...</td>\n",
       "      <td>...</td>\n",
       "      <td>...</td>\n",
       "      <td>...</td>\n",
       "    </tr>\n",
       "    <tr>\n",
       "      <th>4943</th>\n",
       "      <td>PLT-011</td>\n",
       "      <td>잠실4주차장</td>\n",
       "      <td>1062.0</td>\n",
       "      <td>57831.0</td>\n",
       "      <td>2023-01-01</td>\n",
       "      <td>잠실</td>\n",
       "    </tr>\n",
       "    <tr>\n",
       "      <th>4944</th>\n",
       "      <td>PLT-007</td>\n",
       "      <td>양화2주차장</td>\n",
       "      <td>86.0</td>\n",
       "      <td>6180.0</td>\n",
       "      <td>2023-01-01</td>\n",
       "      <td>양화</td>\n",
       "    </tr>\n",
       "    <tr>\n",
       "      <th>4945</th>\n",
       "      <td>PLT-001</td>\n",
       "      <td>강서1주차장</td>\n",
       "      <td>195.0</td>\n",
       "      <td>8590.0</td>\n",
       "      <td>2023-01-01</td>\n",
       "      <td>강서</td>\n",
       "    </tr>\n",
       "    <tr>\n",
       "      <th>4946</th>\n",
       "      <td>PLT-003</td>\n",
       "      <td>망원2,3주차장</td>\n",
       "      <td>1208.0</td>\n",
       "      <td>87599.0</td>\n",
       "      <td>2023-01-01</td>\n",
       "      <td>망원</td>\n",
       "    </tr>\n",
       "    <tr>\n",
       "      <th>4947</th>\n",
       "      <td>PLT-008</td>\n",
       "      <td>여의도4주차장</td>\n",
       "      <td>34.0</td>\n",
       "      <td>866.0</td>\n",
       "      <td>2023-01-01</td>\n",
       "      <td>여의도</td>\n",
       "    </tr>\n",
       "  </tbody>\n",
       "</table>\n",
       "<p>4948 rows × 6 columns</p>\n",
       "</div>"
      ],
      "text/plain": [
       "          지구별        주차장명    주차대수      이용시간          날짜  공원명\n",
       "0     PLT-009      반포1주차장   921.0   36406.0  2023-06-30   반포\n",
       "1     PLT-008     여의도5주차장   320.0   91954.0  2023-06-30  여의도\n",
       "2     PLT-008     여의도1주차장  2338.0  353012.0  2023-06-30  여의도\n",
       "3     PLT-004      이촌2주차장   270.0   17168.0  2023-06-30   이촌\n",
       "4     PLT-002  난지1,2,3주차장  1731.0   94452.0  2023-06-30   난지\n",
       "...       ...         ...     ...       ...         ...  ...\n",
       "4943  PLT-011      잠실4주차장  1062.0   57831.0  2023-01-01   잠실\n",
       "4944  PLT-007      양화2주차장    86.0    6180.0  2023-01-01   양화\n",
       "4945  PLT-001      강서1주차장   195.0    8590.0  2023-01-01   강서\n",
       "4946  PLT-003    망원2,3주차장  1208.0   87599.0  2023-01-01   망원\n",
       "4947  PLT-008     여의도4주차장    34.0     866.0  2023-01-01  여의도\n",
       "\n",
       "[4948 rows x 6 columns]"
      ]
     },
     "execution_count": 318,
     "metadata": {},
     "output_type": "execute_result"
    }
   ],
   "source": [
    "def set_park_name(name):\n",
    "    '''\n",
    "    주차장명으로부터 두 자리 또는 세 자리의 공원명을 반환\n",
    "    '''\n",
    "    try:\n",
    "        # 3번째 자리가 숫자면 공원 이름은 두 자리\n",
    "        int(name[2])\n",
    "        return name[:2]\n",
    "    except:\n",
    "        # 3번째 자리가 숫자가 아니면 공원 이름은 세 자리\n",
    "        return name[:3]\n",
    "\n",
    "new_park_df['공원명'] = new_park_df['주차장명'].apply(set_park_name)\n",
    "new_park_df"
   ]
  },
  {
   "cell_type": "code",
   "execution_count": 319,
   "id": "9a769ff5",
   "metadata": {
    "ExecuteTime": {
     "end_time": "2023-10-30T14:27:48.399198Z",
     "start_time": "2023-10-30T14:27:48.370327Z"
    }
   },
   "outputs": [
    {
     "data": {
      "text/html": [
       "<div>\n",
       "<style scoped>\n",
       "    .dataframe tbody tr th:only-of-type {\n",
       "        vertical-align: middle;\n",
       "    }\n",
       "\n",
       "    .dataframe tbody tr th {\n",
       "        vertical-align: top;\n",
       "    }\n",
       "\n",
       "    .dataframe thead th {\n",
       "        text-align: right;\n",
       "    }\n",
       "</style>\n",
       "<table border=\"1\" class=\"dataframe\">\n",
       "  <thead>\n",
       "    <tr style=\"text-align: right;\">\n",
       "      <th></th>\n",
       "      <th>주차대수</th>\n",
       "      <th>이용시간</th>\n",
       "    </tr>\n",
       "    <tr>\n",
       "      <th>공원명</th>\n",
       "      <th></th>\n",
       "      <th></th>\n",
       "    </tr>\n",
       "  </thead>\n",
       "  <tbody>\n",
       "    <tr>\n",
       "      <th>강서</th>\n",
       "      <td>194.266667</td>\n",
       "      <td>13733.622222</td>\n",
       "    </tr>\n",
       "    <tr>\n",
       "      <th>광나루</th>\n",
       "      <td>493.082430</td>\n",
       "      <td>35159.242950</td>\n",
       "    </tr>\n",
       "    <tr>\n",
       "      <th>난지</th>\n",
       "      <td>1798.067039</td>\n",
       "      <td>119790.871508</td>\n",
       "    </tr>\n",
       "    <tr>\n",
       "      <th>뚝섬</th>\n",
       "      <td>537.352778</td>\n",
       "      <td>53295.886111</td>\n",
       "    </tr>\n",
       "    <tr>\n",
       "      <th>망원</th>\n",
       "      <td>674.997222</td>\n",
       "      <td>60438.825000</td>\n",
       "    </tr>\n",
       "    <tr>\n",
       "      <th>반포</th>\n",
       "      <td>1733.878187</td>\n",
       "      <td>126071.878187</td>\n",
       "    </tr>\n",
       "    <tr>\n",
       "      <th>양화</th>\n",
       "      <td>382.424861</td>\n",
       "      <td>33880.710575</td>\n",
       "    </tr>\n",
       "    <tr>\n",
       "      <th>여의도</th>\n",
       "      <td>1032.789062</td>\n",
       "      <td>184320.101562</td>\n",
       "    </tr>\n",
       "    <tr>\n",
       "      <th>이촌</th>\n",
       "      <td>437.048148</td>\n",
       "      <td>37770.844444</td>\n",
       "    </tr>\n",
       "    <tr>\n",
       "      <th>잠실</th>\n",
       "      <td>1935.033333</td>\n",
       "      <td>88838.472222</td>\n",
       "    </tr>\n",
       "    <tr>\n",
       "      <th>잠원</th>\n",
       "      <td>1333.252778</td>\n",
       "      <td>121373.577778</td>\n",
       "    </tr>\n",
       "  </tbody>\n",
       "</table>\n",
       "</div>"
      ],
      "text/plain": [
       "            주차대수           이용시간\n",
       "공원명                            \n",
       "강서    194.266667   13733.622222\n",
       "광나루   493.082430   35159.242950\n",
       "난지   1798.067039  119790.871508\n",
       "뚝섬    537.352778   53295.886111\n",
       "망원    674.997222   60438.825000\n",
       "반포   1733.878187  126071.878187\n",
       "양화    382.424861   33880.710575\n",
       "여의도  1032.789062  184320.101562\n",
       "이촌    437.048148   37770.844444\n",
       "잠실   1935.033333   88838.472222\n",
       "잠원   1333.252778  121373.577778"
      ]
     },
     "execution_count": 319,
     "metadata": {},
     "output_type": "execute_result"
    }
   ],
   "source": [
    "# 지구별 주차대수 및 이용시간 평균\n",
    "mean_by_area = new_park_df.groupby('공원명').agg({'주차대수': 'mean', '이용시간': 'mean'})\n",
    "mean_by_area"
   ]
  },
  {
   "cell_type": "code",
   "execution_count": 320,
   "id": "8446fa84",
   "metadata": {
    "ExecuteTime": {
     "end_time": "2023-10-30T14:28:36.428975Z",
     "start_time": "2023-10-30T14:28:36.099985Z"
    }
   },
   "outputs": [
    {
     "data": {
      "image/png": "[encoded data removed]",
      "text/plain": [
       "<Figure size 1000x1000 with 2 Axes>"
      ]
     },
     "metadata": {},
     "output_type": "display_data"
    }
   ],
   "source": [
    "fig, axes = plt.subplots(nrows=2, ncols=1, figsize=(10, 10), constrained_layout=True)\n",
    "\n",
    "# 주차대수 평균 시각화\n",
    "mean_by_area['주차대수'].sort_values(ascending=False).plot(kind='bar', ax=axes[0])\n",
    "axes[0].set_title('공원별 일일 주차대수 평균')\n",
    "axes[0].set_xlabel('공원')\n",
    "axes[0].set_ylabel('주차대수')\n",
    "axes[0].axhline(mean_by_area['주차대수'].mean(), color='red', linestyle='--', linewidth='3')\n",
    "\n",
    "# 이용시간 평균 시각화\n",
    "mean_by_area['이용시간'].sort_values(ascending=False).plot(kind='bar', ax=axes[1])\n",
    "axes[1].set_title('공원별 일일 이용시간 평균')\n",
    "axes[1].set_xlabel('공원')\n",
    "axes[1].set_ylabel('이용시간')\n",
    "axes[1].axhline(mean_by_area['이용시간'].mean(), color='red', linestyle='--', linewidth='3')\n",
    "\n",
    "plt.show()"
   ]
  },
  {
   "cell_type": "markdown",
   "id": "3183954e",
   "metadata": {},
   "source": [
    "순서는 조금씩 다르지만 **잠실, 난지, 반포, 잠원, 여의도**가 TOP5를 구성하고 있으며, 일일 주차대수 평균과 일일 이용시간 평균 모두 평균치를 웃돌고 있다. 나머지 6개의 공원은 두 지표 모두에서 평균치를 밑돌고 있다."
   ]
  },
  {
   "cell_type": "markdown",
   "id": "784059f5",
   "metadata": {},
   "source": [
    "#### 2-2-3. 주차장명"
   ]
  },
  {
   "cell_type": "code",
   "execution_count": 321,
   "id": "0d4d63bb",
   "metadata": {
    "ExecuteTime": {
     "end_time": "2023-10-30T14:30:25.169167Z",
     "start_time": "2023-10-30T14:30:25.146253Z"
    }
   },
   "outputs": [
    {
     "data": {
      "text/plain": [
       "28"
      ]
     },
     "execution_count": 321,
     "metadata": {},
     "output_type": "execute_result"
    }
   ],
   "source": [
    "new_park_df['주차장명'].nunique()"
   ]
  },
  {
   "cell_type": "code",
   "execution_count": 322,
   "id": "62b25a7f",
   "metadata": {
    "ExecuteTime": {
     "end_time": "2023-10-30T14:30:25.588715Z",
     "start_time": "2023-10-30T14:30:25.561647Z"
    }
   },
   "outputs": [
    {
     "data": {
      "text/plain": [
       "array(['반포1주차장', '여의도5주차장', '여의도1주차장', '이촌2주차장', '난지1,2,3주차장', '반포2,3주차장',\n",
       "       '뚝섬4주차장', '망원1주차장', '양화1주차장', '여의도4주차장', '잠실1주차장', '여의도3주차장',\n",
       "       '뚝섬1주차장', '잠원2-6주차장', '잠원1주차장', '광나루4주차장', '이촌1주차장', '잠실4주차장',\n",
       "       '뚝섬3주차장', '양화2주차장', '광나루1,2주차장', '뚝섬2주차장', '망원2,3주차장',\n",
       "       '양화3,4,5주차장', '여의도2주차장', '이촌3,4주차장', '강서1주차장', '광나루3주차장'],\n",
       "      dtype=object)"
      ]
     },
     "execution_count": 322,
     "metadata": {},
     "output_type": "execute_result"
    }
   ],
   "source": [
    "new_park_df['주차장명'].unique()"
   ]
  },
  {
   "cell_type": "markdown",
   "id": "fc65f74e",
   "metadata": {},
   "source": [
    "총 28개 주차장이다."
   ]
  },
  {
   "cell_type": "code",
   "execution_count": 353,
   "id": "d39021fd",
   "metadata": {
    "ExecuteTime": {
     "end_time": "2023-10-30T14:44:39.998325Z",
     "start_time": "2023-10-30T14:44:39.965363Z"
    }
   },
   "outputs": [
    {
     "data": {
      "text/html": [
       "<div>\n",
       "<style scoped>\n",
       "    .dataframe tbody tr th:only-of-type {\n",
       "        vertical-align: middle;\n",
       "    }\n",
       "\n",
       "    .dataframe tbody tr th {\n",
       "        vertical-align: top;\n",
       "    }\n",
       "\n",
       "    .dataframe thead th {\n",
       "        text-align: right;\n",
       "    }\n",
       "</style>\n",
       "<table border=\"1\" class=\"dataframe\">\n",
       "  <thead>\n",
       "    <tr style=\"text-align: right;\">\n",
       "      <th></th>\n",
       "      <th>주차대수</th>\n",
       "      <th>이용시간</th>\n",
       "    </tr>\n",
       "    <tr>\n",
       "      <th>주차장명</th>\n",
       "      <th></th>\n",
       "      <th></th>\n",
       "    </tr>\n",
       "  </thead>\n",
       "  <tbody>\n",
       "    <tr>\n",
       "      <th>강서1주차장</th>\n",
       "      <td>194.266667</td>\n",
       "      <td>13733.622222</td>\n",
       "    </tr>\n",
       "    <tr>\n",
       "      <th>광나루1,2주차장</th>\n",
       "      <td>688.861111</td>\n",
       "      <td>50977.505556</td>\n",
       "    </tr>\n",
       "    <tr>\n",
       "      <th>광나루3주차장</th>\n",
       "      <td>506.922222</td>\n",
       "      <td>37326.488889</td>\n",
       "    </tr>\n",
       "    <tr>\n",
       "      <th>광나루4주차장</th>\n",
       "      <td>119.504950</td>\n",
       "      <td>3105.861386</td>\n",
       "    </tr>\n",
       "    <tr>\n",
       "      <th>난지1,2,3주차장</th>\n",
       "      <td>1798.067039</td>\n",
       "      <td>119790.871508</td>\n",
       "    </tr>\n",
       "    <tr>\n",
       "      <th>뚝섬1주차장</th>\n",
       "      <td>266.138889</td>\n",
       "      <td>18836.477778</td>\n",
       "    </tr>\n",
       "    <tr>\n",
       "      <th>뚝섬2주차장</th>\n",
       "      <td>757.222222</td>\n",
       "      <td>91486.344444</td>\n",
       "    </tr>\n",
       "    <tr>\n",
       "      <th>뚝섬3주차장</th>\n",
       "      <td>427.594444</td>\n",
       "      <td>42978.511111</td>\n",
       "    </tr>\n",
       "    <tr>\n",
       "      <th>뚝섬4주차장</th>\n",
       "      <td>698.455556</td>\n",
       "      <td>59882.211111</td>\n",
       "    </tr>\n",
       "    <tr>\n",
       "      <th>망원1주차장</th>\n",
       "      <td>349.483333</td>\n",
       "      <td>29375.250000</td>\n",
       "    </tr>\n",
       "    <tr>\n",
       "      <th>망원2,3주차장</th>\n",
       "      <td>1000.511111</td>\n",
       "      <td>91502.400000</td>\n",
       "    </tr>\n",
       "    <tr>\n",
       "      <th>반포1주차장</th>\n",
       "      <td>907.925287</td>\n",
       "      <td>45333.477011</td>\n",
       "    </tr>\n",
       "    <tr>\n",
       "      <th>반포2,3주차장</th>\n",
       "      <td>2536.759777</td>\n",
       "      <td>204555.016760</td>\n",
       "    </tr>\n",
       "    <tr>\n",
       "      <th>양화1주차장</th>\n",
       "      <td>271.311111</td>\n",
       "      <td>26616.783333</td>\n",
       "    </tr>\n",
       "    <tr>\n",
       "      <th>양화2주차장</th>\n",
       "      <td>57.480447</td>\n",
       "      <td>5050.726257</td>\n",
       "    </tr>\n",
       "    <tr>\n",
       "      <th>양화3,4,5주차장</th>\n",
       "      <td>816.677778</td>\n",
       "      <td>69814.455556</td>\n",
       "    </tr>\n",
       "    <tr>\n",
       "      <th>여의도1주차장</th>\n",
       "      <td>2231.740113</td>\n",
       "      <td>288323.672316</td>\n",
       "    </tr>\n",
       "    <tr>\n",
       "      <th>여의도2주차장</th>\n",
       "      <td>1118.816667</td>\n",
       "      <td>174344.927778</td>\n",
       "    </tr>\n",
       "    <tr>\n",
       "      <th>여의도3주차장</th>\n",
       "      <td>1349.550000</td>\n",
       "      <td>335947.927778</td>\n",
       "    </tr>\n",
       "    <tr>\n",
       "      <th>여의도4주차장</th>\n",
       "      <td>195.826816</td>\n",
       "      <td>48167.608939</td>\n",
       "    </tr>\n",
       "    <tr>\n",
       "      <th>여의도5주차장</th>\n",
       "      <td>283.344444</td>\n",
       "      <td>75793.361111</td>\n",
       "    </tr>\n",
       "    <tr>\n",
       "      <th>이촌1주차장</th>\n",
       "      <td>89.100000</td>\n",
       "      <td>9536.772222</td>\n",
       "    </tr>\n",
       "    <tr>\n",
       "      <th>이촌2주차장</th>\n",
       "      <td>319.588889</td>\n",
       "      <td>23894.022222</td>\n",
       "    </tr>\n",
       "    <tr>\n",
       "      <th>이촌3,4주차장</th>\n",
       "      <td>902.455556</td>\n",
       "      <td>79881.738889</td>\n",
       "    </tr>\n",
       "    <tr>\n",
       "      <th>잠실1주차장</th>\n",
       "      <td>1861.450000</td>\n",
       "      <td>59665.733333</td>\n",
       "    </tr>\n",
       "    <tr>\n",
       "      <th>잠실4주차장</th>\n",
       "      <td>2008.616667</td>\n",
       "      <td>118011.211111</td>\n",
       "    </tr>\n",
       "    <tr>\n",
       "      <th>잠원1주차장</th>\n",
       "      <td>794.566667</td>\n",
       "      <td>44458.844444</td>\n",
       "    </tr>\n",
       "    <tr>\n",
       "      <th>잠원2-6주차장</th>\n",
       "      <td>1871.938889</td>\n",
       "      <td>198288.311111</td>\n",
       "    </tr>\n",
       "  </tbody>\n",
       "</table>\n",
       "</div>"
      ],
      "text/plain": [
       "                   주차대수           이용시간\n",
       "주차장명                                  \n",
       "강서1주차장       194.266667   13733.622222\n",
       "광나루1,2주차장    688.861111   50977.505556\n",
       "광나루3주차장      506.922222   37326.488889\n",
       "광나루4주차장      119.504950    3105.861386\n",
       "난지1,2,3주차장  1798.067039  119790.871508\n",
       "뚝섬1주차장       266.138889   18836.477778\n",
       "뚝섬2주차장       757.222222   91486.344444\n",
       "뚝섬3주차장       427.594444   42978.511111\n",
       "뚝섬4주차장       698.455556   59882.211111\n",
       "망원1주차장       349.483333   29375.250000\n",
       "망원2,3주차장    1000.511111   91502.400000\n",
       "반포1주차장       907.925287   45333.477011\n",
       "반포2,3주차장    2536.759777  204555.016760\n",
       "양화1주차장       271.311111   26616.783333\n",
       "양화2주차장        57.480447    5050.726257\n",
       "양화3,4,5주차장   816.677778   69814.455556\n",
       "여의도1주차장     2231.740113  288323.672316\n",
       "여의도2주차장     1118.816667  174344.927778\n",
       "여의도3주차장     1349.550000  335947.927778\n",
       "여의도4주차장      195.826816   48167.608939\n",
       "여의도5주차장      283.344444   75793.361111\n",
       "이촌1주차장        89.100000    9536.772222\n",
       "이촌2주차장       319.588889   23894.022222\n",
       "이촌3,4주차장     902.455556   79881.738889\n",
       "잠실1주차장      1861.450000   59665.733333\n",
       "잠실4주차장      2008.616667  118011.211111\n",
       "잠원1주차장       794.566667   44458.844444\n",
       "잠원2-6주차장    1871.938889  198288.311111"
      ]
     },
     "execution_count": 353,
     "metadata": {},
     "output_type": "execute_result"
    }
   ],
   "source": [
    "# 주차장별 주차대수 및 이용시간 평균\n",
    "mean_by_park = new_park_df.groupby('주차장명').agg({'주차대수': 'mean', '이용시간': 'mean'})\n",
    "mean_by_park"
   ]
  },
  {
   "cell_type": "code",
   "execution_count": 354,
   "id": "8b213b6e",
   "metadata": {
    "ExecuteTime": {
     "end_time": "2023-10-30T14:44:42.538577Z",
     "start_time": "2023-10-30T14:44:42.171403Z"
    }
   },
   "outputs": [
    {
     "data": {
      "image/png": "[encoded data removed]",
      "text/plain": [
       "<Figure size 1000x1000 with 2 Axes>"
      ]
     },
     "metadata": {},
     "output_type": "display_data"
    }
   ],
   "source": [
    "fig, axes = plt.subplots(nrows=2, ncols=1, figsize=(10, 10), constrained_layout=True)\n",
    "\n",
    "# 주차대수 평균 시각화\n",
    "mean_by_park['주차대수'].sort_values(ascending=False).plot(kind='bar', ax=axes[0])\n",
    "axes[0].set_title('주차장별 일일 주차대수 평균')\n",
    "axes[0].set_xlabel('주차장')\n",
    "axes[0].set_ylabel('주차대수')\n",
    "axes[0].axhline(mean_by_park['주차대수'].mean(), color='red', linestyle='--', linewidth='3')\n",
    "\n",
    "# 이용시간 평균 시각화\n",
    "mean_by_park['이용시간'].sort_values(ascending=False).plot(kind='bar', ax=axes[1])\n",
    "axes[1].set_title('주차장별 일일 이용시간 평균')\n",
    "axes[1].set_xlabel('주차장')\n",
    "axes[1].set_ylabel('이용시간')\n",
    "axes[1].axhline(mean_by_park['이용시간'].mean(), color='red', linestyle='--', linewidth='3')\n",
    "\n",
    "plt.show()"
   ]
  },
  {
   "cell_type": "markdown",
   "id": "dec1f275",
   "metadata": {},
   "source": [
    "근데 사실 이렇게만 봐서는 잘 모르겠다."
   ]
  },
  {
   "cell_type": "markdown",
   "id": "d5876067",
   "metadata": {},
   "source": [
    "#### 2-2-4. 주차대수, 이용시간"
   ]
  },
  {
   "cell_type": "markdown",
   "id": "eb686310",
   "metadata": {},
   "source": [
    "#### 2-2-5. 날짜"
   ]
  },
  {
   "cell_type": "code",
   "execution_count": 254,
   "id": "77b95148",
   "metadata": {
    "ExecuteTime": {
     "end_time": "2023-10-30T12:39:00.211480Z",
     "start_time": "2023-10-30T12:39:00.181062Z"
    }
   },
   "outputs": [
    {
     "data": {
      "text/html": [
       "<div>\n",
       "<style scoped>\n",
       "    .dataframe tbody tr th:only-of-type {\n",
       "        vertical-align: middle;\n",
       "    }\n",
       "\n",
       "    .dataframe tbody tr th {\n",
       "        vertical-align: top;\n",
       "    }\n",
       "\n",
       "    .dataframe thead th {\n",
       "        text-align: right;\n",
       "    }\n",
       "</style>\n",
       "<table border=\"1\" class=\"dataframe\">\n",
       "  <thead>\n",
       "    <tr style=\"text-align: right;\">\n",
       "      <th></th>\n",
       "      <th>지구별</th>\n",
       "      <th>주차장명</th>\n",
       "      <th>주차대수</th>\n",
       "      <th>이용시간</th>\n",
       "      <th>날짜</th>\n",
       "    </tr>\n",
       "  </thead>\n",
       "  <tbody>\n",
       "    <tr>\n",
       "      <th>0</th>\n",
       "      <td>PLT-009</td>\n",
       "      <td>반포1주차장</td>\n",
       "      <td>921.0</td>\n",
       "      <td>36406.0</td>\n",
       "      <td>2023-06-30</td>\n",
       "    </tr>\n",
       "    <tr>\n",
       "      <th>1</th>\n",
       "      <td>PLT-008</td>\n",
       "      <td>여의도5주차장</td>\n",
       "      <td>320.0</td>\n",
       "      <td>91954.0</td>\n",
       "      <td>2023-06-30</td>\n",
       "    </tr>\n",
       "    <tr>\n",
       "      <th>2</th>\n",
       "      <td>PLT-008</td>\n",
       "      <td>여의도1주차장</td>\n",
       "      <td>2338.0</td>\n",
       "      <td>353012.0</td>\n",
       "      <td>2023-06-30</td>\n",
       "    </tr>\n",
       "    <tr>\n",
       "      <th>3</th>\n",
       "      <td>PLT-004</td>\n",
       "      <td>이촌2주차장</td>\n",
       "      <td>270.0</td>\n",
       "      <td>17168.0</td>\n",
       "      <td>2023-06-30</td>\n",
       "    </tr>\n",
       "    <tr>\n",
       "      <th>4</th>\n",
       "      <td>PLT-002</td>\n",
       "      <td>난지1,2,3주차장</td>\n",
       "      <td>1731.0</td>\n",
       "      <td>94452.0</td>\n",
       "      <td>2023-06-30</td>\n",
       "    </tr>\n",
       "    <tr>\n",
       "      <th>...</th>\n",
       "      <td>...</td>\n",
       "      <td>...</td>\n",
       "      <td>...</td>\n",
       "      <td>...</td>\n",
       "      <td>...</td>\n",
       "    </tr>\n",
       "    <tr>\n",
       "      <th>4943</th>\n",
       "      <td>PLT-011</td>\n",
       "      <td>잠실4주차장</td>\n",
       "      <td>1062.0</td>\n",
       "      <td>57831.0</td>\n",
       "      <td>2023-01-01</td>\n",
       "    </tr>\n",
       "    <tr>\n",
       "      <th>4944</th>\n",
       "      <td>PLT-007</td>\n",
       "      <td>양화2주차장</td>\n",
       "      <td>86.0</td>\n",
       "      <td>6180.0</td>\n",
       "      <td>2023-01-01</td>\n",
       "    </tr>\n",
       "    <tr>\n",
       "      <th>4945</th>\n",
       "      <td>PLT-001</td>\n",
       "      <td>강서1주차장</td>\n",
       "      <td>195.0</td>\n",
       "      <td>8590.0</td>\n",
       "      <td>2023-01-01</td>\n",
       "    </tr>\n",
       "    <tr>\n",
       "      <th>4946</th>\n",
       "      <td>PLT-003</td>\n",
       "      <td>망원2,3주차장</td>\n",
       "      <td>1208.0</td>\n",
       "      <td>87599.0</td>\n",
       "      <td>2023-01-01</td>\n",
       "    </tr>\n",
       "    <tr>\n",
       "      <th>4947</th>\n",
       "      <td>PLT-008</td>\n",
       "      <td>여의도4주차장</td>\n",
       "      <td>34.0</td>\n",
       "      <td>866.0</td>\n",
       "      <td>2023-01-01</td>\n",
       "    </tr>\n",
       "  </tbody>\n",
       "</table>\n",
       "<p>4948 rows × 5 columns</p>\n",
       "</div>"
      ],
      "text/plain": [
       "          지구별        주차장명    주차대수      이용시간          날짜\n",
       "0     PLT-009      반포1주차장   921.0   36406.0  2023-06-30\n",
       "1     PLT-008     여의도5주차장   320.0   91954.0  2023-06-30\n",
       "2     PLT-008     여의도1주차장  2338.0  353012.0  2023-06-30\n",
       "3     PLT-004      이촌2주차장   270.0   17168.0  2023-06-30\n",
       "4     PLT-002  난지1,2,3주차장  1731.0   94452.0  2023-06-30\n",
       "...       ...         ...     ...       ...         ...\n",
       "4943  PLT-011      잠실4주차장  1062.0   57831.0  2023-01-01\n",
       "4944  PLT-007      양화2주차장    86.0    6180.0  2023-01-01\n",
       "4945  PLT-001      강서1주차장   195.0    8590.0  2023-01-01\n",
       "4946  PLT-003    망원2,3주차장  1208.0   87599.0  2023-01-01\n",
       "4947  PLT-008     여의도4주차장    34.0     866.0  2023-01-01\n",
       "\n",
       "[4948 rows x 5 columns]"
      ]
     },
     "execution_count": 254,
     "metadata": {},
     "output_type": "execute_result"
    }
   ],
   "source": [
    "# yyyy-mm-dd 형식으로 맞춰주기\n",
    "new_park_df['날짜'] = new_park_df['날짜'].apply(lambda x:x.replace('/', '-'))\n",
    "new_park_df"
   ]
  },
  {
   "cell_type": "code",
   "execution_count": 255,
   "id": "021fda11",
   "metadata": {
    "ExecuteTime": {
     "end_time": "2023-10-30T12:39:14.972005Z",
     "start_time": "2023-10-30T12:39:14.951954Z"
    }
   },
   "outputs": [
    {
     "data": {
      "text/plain": [
       "180"
      ]
     },
     "execution_count": 255,
     "metadata": {},
     "output_type": "execute_result"
    }
   ],
   "source": [
    "new_park_df['날짜'].nunique()"
   ]
  },
  {
   "cell_type": "markdown",
   "id": "4be18e43",
   "metadata": {},
   "source": [
    "이번에도 하루가 없네?"
   ]
  },
  {
   "cell_type": "code",
   "execution_count": 256,
   "id": "c439aa67",
   "metadata": {
    "ExecuteTime": {
     "end_time": "2023-10-30T12:39:17.691990Z",
     "start_time": "2023-10-30T12:39:17.637694Z"
    }
   },
   "outputs": [
    {
     "name": "stdout",
     "output_type": "stream",
     "text": [
      "2023-06-04\n"
     ]
    }
   ],
   "source": [
    "for date in dates:\n",
    "    if date not in new_park_df['날짜'].unique():\n",
    "        print(date)"
   ]
  },
  {
   "cell_type": "markdown",
   "id": "1967d91f",
   "metadata": {},
   "source": [
    "이번엔 6월 4일의 데이터가 비어있다."
   ]
  },
  {
   "cell_type": "markdown",
   "id": "e6dd2344",
   "metadata": {},
   "source": [
    "## 3. 기상청_지상(종관, ASOS) 일자료 조회서비스 API\n",
    "\n",
    "https://www.data.go.kr/data/15059093/openapi.do"
   ]
  },
  {
   "cell_type": "markdown",
   "id": "afa6616a",
   "metadata": {},
   "source": [
    "(추후 진행할 내용)\n",
    "- 기상청 API를 통해 2023년 1월 1일부터 6월 30일까지의 데이터 불러오기\n",
    "    - 11개 한강공원에 해당하는 지역의 데이터\n",
    "    - 평균 상대습도(avgRhm), 평균 기온(avgTa), 합계 일사(sumGsr) 또는 합계 일조 시간(sumSsHr), 평균 전운량(avgTca), 일강수량(sumRn) 등\n",
    "- 각 컬럼별 분포 확인\n",
    "- '날씨가 좋을 때'의 기준 설정"
   ]
  },
  {
   "cell_type": "markdown",
   "id": "26ae8eb7",
   "metadata": {},
   "source": [
    "## 4. 가설 검정"
   ]
  },
  {
   "cell_type": "markdown",
   "id": "40cec652",
   "metadata": {},
   "source": [
    "(추후 진행할 내용)\n",
    "\n",
    "**날씨 좋은 날에는 한강공원 차량 방문이 더 많나?**\n",
    "- H0: 날씨가 좋은 날의 '일일 주차대수 평균'과 날씨가 나쁜 날의 '일일 주차대수 평균' 사이에는 차이가 없다.\n",
    "- H1: 날씨가 좋은 날의 '일일 주차대수 평균'은 날씨가 나쁜 날의 '일일 주차대수 평균'보다 많다.\n",
    "\n",
    "\n",
    "- H0: 날씨가 좋은 날의 '일일 이용시간 평균'과 날씨가 나쁜 날의 '일일 이용시간 평균' 사이에는 차이가 없다.\n",
    "- H1: 날씨가 좋은 날의 '일일 이용시간 평균'은 날씨가 나쁜 날의 '일일 이용시간 평균'보다 많다.\n",
    "\n",
    "\n",
    "**날씨 좋은 날에는 공공자전거 더 많이 타나?**\n",
    "- H0: 날씨가 좋은 날의 '한강공원 대여+반납건수'와 날씨가 나쁜 날의 '한강공원 대여+반납건수' 사이에는 차이가 없다.\n",
    "- H1: 날씨가 좋은 날의 '한강공원 대여+반납건수'는 날씨가 나쁜 날의 '한강공원 대여+반납건수'보다 많다.\n",
    "\n",
    "\n",
    "- H0: 날씨가 좋은 날의 '전체 대여+반납건수'와 날씨가 나쁜 날의 '전체 대여+반납건수' 사이에는 차이가 없다.\n",
    "- H1: 날씨가 좋은 날의 '전체 대여+반납건수'는 날씨가 나쁜 날의 '전체 대여+반납건수'보다 많다.\n",
    "\n",
    "**다른 지역보다 한강공원에서 자전거를 더 많이 타나?**\n",
    "- H0: 한강공원의 '대여+반납건수'와 전체 지역의 '대여+반납건수' 사이에는 차이가 없다.\n",
    "- H1: 한강공원의 '대여+반납건수'는 전체 지역의 '대여+반납건수'보다 많다."
   ]
  }
 ],
 "metadata": {
  "kernelspec": {
   "display_name": "Python 3 (ipykernel)",
   "language": "python",
   "name": "python3"
  },
  "language_info": {
   "codemirror_mode": {
    "name": "ipython",
    "version": 3
   },
   "file_extension": ".py",
   "mimetype": "text/x-python",
   "name": "python",
   "nbconvert_exporter": "python",
   "pygments_lexer": "ipython3",
   "version": "3.9.16"
  }
 },
 "nbformat": 4,
 "nbformat_minor": 5
}
