{
 "cells": [
  {
   "cell_type": "markdown",
   "id": "0f778d08",
   "metadata": {},
   "source": [
    "# 날씨에 따른 서울 시민의 공공자전거 이용 분석\n",
    "2023.10.28 ~ 2023.11.18"
   ]
  },
  {
   "cell_type": "markdown",
   "id": "edbfe4a1",
   "metadata": {},
   "source": [
    "## 1. 프로젝트 개요\n",
    "\n",
    "- **주제: 날씨에 따른 서울 시민의 공공자전거 이용 분석**\n",
    "- 설명: 야외 활동이 어려운 날씨일 때 자전거 이용이 유의미하게 감소하는지 확인\n",
    "- 사용 데이터셋\n",
    "    - [서울시 공공자전거 이용현황](https://data.seoul.go.kr/dataList/OA-14994/F/1/datasetView.do) : 서울시에서 운영하는 공공자전거(따릉이)에 대한 기간별, 대여소별 이용(대여, 반납)현황 데이터\n",
    "    - [방재기상관측(AWS)](https://data.kma.go.kr/data/grnd/selectAwsRltmList.do?pgmNo=56) : 지진 · 태풍 · 홍수 · 가뭄 등 기상현상에 따른 자연재해를 막기 위해 실시하는 지상관측 바람, 습도, 기압 데이터\n",
    "    - [관측지점정보](https://data.kma.go.kr/tmeta/stn/selectStnList.do) : 기상관측 지점에 대한 지점번호, 관측 시작일과 종료일, 위 · 경도 등 이력정보와 주변 환경 등에 대한 정보"
   ]
  },
  {
   "cell_type": "markdown",
   "id": "0fdf1c67",
   "metadata": {},
   "source": [
    "## 2. 데이터 로딩 및 EDA"
   ]
  },
  {
   "cell_type": "markdown",
   "id": "a537161b",
   "metadata": {},
   "source": [
    "### 2-1. 서울시 공공자전거 이용현황 API"
   ]
  },
  {
   "cell_type": "markdown",
   "id": "3b982d51",
   "metadata": {},
   "source": [
    "#### 2-1-1. 데이터 로딩"
   ]
  },
  {
   "cell_type": "code",
   "execution_count": 1,
   "id": "88f77f98",
   "metadata": {
    "ExecuteTime": {
     "end_time": "2023-11-18T03:46:02.499895Z",
     "start_time": "2023-11-18T03:45:59.835937Z"
    }
   },
   "outputs": [],
   "source": [
    "import pandas as pd\n",
    "import numpy as np\n",
    "import matplotlib.pyplot as plt\n",
    "import koreanize_matplotlib\n",
    "import seaborn as sns\n",
    "from scipy import stats\n",
    "import pickle\n",
    "import requests\n",
    "import json\n",
    "import math"
   ]
  },
  {
   "cell_type": "code",
   "execution_count": 140,
   "id": "29a3fdd7",
   "metadata": {
    "ExecuteTime": {
     "end_time": "2023-11-17T18:44:30.018551Z",
     "start_time": "2023-11-17T18:44:29.951250Z"
    }
   },
   "outputs": [
    {
     "name": "stdout",
     "output_type": "stream",
     "text": [
      "181\n"
     ]
    }
   ],
   "source": [
    "# 2023년 1월부터 6월까지의 날짜 생성\n",
    "months = {\n",
    "    '01': 31, '02': 28, '03': 31, '04': 30, '05': 31, '06': 30\n",
    "#     '07': 31, '08': 31, '09': 30, '10': 31, '11': 30, '12': 31\n",
    "}\n",
    "dates = []\n",
    "\n",
    "for month, days in months.items():\n",
    "    for day in range(1, days + 1):\n",
    "        dates.append(f'2023-{month}-0{str(day)}' if day < 10 else f'2023-{month}-{str(day)}')\n",
    "        \n",
    "print(len(dates))"
   ]
  },
  {
   "cell_type": "markdown",
   "id": "8a5e2afe",
   "metadata": {},
   "source": [
    "181일의 날짜 생성 완료"
   ]
  },
  {
   "cell_type": "code",
   "execution_count": 3,
   "id": "9c6a53b0",
   "metadata": {
    "ExecuteTime": {
     "end_time": "2023-11-06T06:06:19.329906Z",
     "start_time": "2023-11-06T06:06:19.306757Z"
    }
   },
   "outputs": [
    {
     "data": {
      "text/plain": [
       "181"
      ]
     },
     "execution_count": 3,
     "metadata": {},
     "output_type": "execute_result"
    }
   ],
   "source": [
    "sum(months.values())"
   ]
  },
  {
   "cell_type": "markdown",
   "id": "0075688a",
   "metadata": {},
   "source": [
    "날짜 개수가 제대로 생성된 게 맞다."
   ]
  },
  {
   "cell_type": "code",
   "execution_count": 141,
   "id": "afb1d4c3",
   "metadata": {
    "ExecuteTime": {
     "end_time": "2023-11-17T18:46:25.431832Z",
     "start_time": "2023-11-17T18:44:35.354930Z"
    }
   },
   "outputs": [
    {
     "name": "stdout",
     "output_type": "stream",
     "text": [
      "2023-01-01 데이터 수신 완료! 현재 데이터 개수 2630개\n",
      "2023-01-02 데이터 수신 완료! 현재 데이터 개수 5286개\n",
      "2023-01-03 데이터 수신 완료! 현재 데이터 개수 7955개\n",
      "2023-01-04 데이터 수신 완료! 현재 데이터 개수 10631개\n",
      "2023-01-05 데이터 수신 완료! 현재 데이터 개수 13306개\n",
      "2023-01-06 데이터 수신 완료! 현재 데이터 개수 15979개\n",
      "2023-01-07 데이터 수신 완료! 현재 데이터 개수 18630개\n",
      "2023-01-08 데이터 수신 완료! 현재 데이터 개수 21300개\n",
      "2023-01-09 데이터 수신 완료! 현재 데이터 개수 23979개\n",
      "2023-01-10 데이터 수신 완료! 현재 데이터 개수 26661개\n",
      "2023-01-11 데이터 수신 완료! 현재 데이터 개수 29343개\n",
      "2023-01-12 데이터 수신 완료! 현재 데이터 개수 32026개\n",
      "2023-01-13 데이터 수신 완료! 현재 데이터 개수 34603개\n",
      "2023-01-14 데이터 수신 완료! 현재 데이터 개수 37222개\n",
      "2023-01-15 데이터 수신 완료! 현재 데이터 개수 39795개\n",
      "2023-01-16 데이터 수신 완료! 현재 데이터 개수 42472개\n",
      "2023-01-17 데이터 수신 완료! 현재 데이터 개수 45156개\n",
      "2023-01-18 데이터 수신 완료! 현재 데이터 개수 47842개\n",
      "2023-01-19 데이터 수신 완료! 현재 데이터 개수 50527개\n",
      "2023-01-20 데이터 수신 완료! 현재 데이터 개수 53191개\n",
      "2023-01-21 데이터 수신 완료! 현재 데이터 개수 55817개\n",
      "2023-01-22 데이터 수신 완료! 현재 데이터 개수 58417개\n",
      "2023-01-23 데이터 수신 완료! 현재 데이터 개수 61049개\n",
      "2023-01-24 데이터 수신 완료! 현재 데이터 개수 63575개\n",
      "2023-01-25 데이터 수신 완료! 현재 데이터 개수 66223개\n",
      "2023-01-26 데이터 수신 완료! 현재 데이터 개수 68825개\n",
      "2023-01-27 데이터 수신 완료! 현재 데이터 개수 71483개\n",
      "2023-01-28 데이터 수신 완료! 현재 데이터 개수 74142개\n",
      "2023-01-29 데이터 수신 완료! 현재 데이터 개수 76798개\n",
      "2023-01-30 데이터 수신 완료! 현재 데이터 개수 79479개\n",
      "2023-01-31 데이터 수신 완료! 현재 데이터 개수 82171개\n",
      "2023-02-01 데이터 수신 완료! 현재 데이터 개수 84859개\n",
      "2023-02-02 데이터 수신 완료! 현재 데이터 개수 87547개\n",
      "2023-02-03 데이터 수신 완료! 현재 데이터 개수 90236개\n",
      "2023-02-04 데이터 수신 완료! 현재 데이터 개수 92920개\n",
      "2023-02-05 데이터 수신 완료! 현재 데이터 개수 95603개\n",
      "2023-02-06 데이터 수신 완료! 현재 데이터 개수 98298개\n",
      "2023-02-07 데이터 수신 완료! 현재 데이터 개수 100986개\n",
      "2023-02-08 데이터 수신 완료! 현재 데이터 개수 103682개\n",
      "2023-02-09 데이터 수신 완료! 현재 데이터 개수 106374개\n",
      "2023-02-10 데이터 수신 완료! 현재 데이터 개수 109058개\n",
      "2023-02-11 데이터 수신 완료! 현재 데이터 개수 111750개\n",
      "2023-02-12 데이터 수신 완료! 현재 데이터 개수 114430개\n",
      "2023-02-13 데이터 수신 완료! 현재 데이터 개수 117122개\n",
      "2023-02-14 데이터 수신 완료! 현재 데이터 개수 119815개\n",
      "2023-02-15 데이터 수신 완료! 현재 데이터 개수 122510개\n",
      "2023-02-16 데이터 수신 완료! 현재 데이터 개수 125207개\n",
      "2023-02-17 데이터 수신 완료! 현재 데이터 개수 127901개\n",
      "2023-02-18 데이터 수신 완료! 현재 데이터 개수 130589개\n",
      "2023-02-19 데이터 수신 완료! 현재 데이터 개수 133265개\n",
      "2023-02-20 데이터 수신 완료! 현재 데이터 개수 135957개\n",
      "2023-02-21 데이터 수신 완료! 현재 데이터 개수 138650개\n",
      "2023-02-22 데이터 수신 완료! 현재 데이터 개수 141348개\n",
      "2023-02-23 데이터 수신 완료! 현재 데이터 개수 144044개\n",
      "2023-02-24 데이터 수신 완료! 현재 데이터 개수 146739개\n",
      "2023-02-25 데이터 수신 완료! 현재 데이터 개수 149417개\n",
      "2023-02-26 데이터 수신 완료! 현재 데이터 개수 152098개\n",
      "2023-02-27 데이터 수신 완료! 현재 데이터 개수 154791개\n",
      "2023-02-28 데이터 수신 완료! 현재 데이터 개수 157489개\n",
      "2023-03-01 데이터 수신 완료! 현재 데이터 개수 160186개\n",
      "2023-03-02 데이터 수신 완료! 현재 데이터 개수 162877개\n",
      "2023-03-03 데이터 수신 완료! 현재 데이터 개수 165576개\n",
      "2023-03-04 데이터 수신 완료! 현재 데이터 개수 168266개\n",
      "2023-03-05 데이터 수신 완료! 현재 데이터 개수 170957개\n",
      "2023-03-06 데이터 수신 완료! 현재 데이터 개수 173659개\n",
      "2023-03-07 데이터 수신 완료! 현재 데이터 개수 176362개\n",
      "2023-03-08 데이터 수신 완료! 현재 데이터 개수 179063개\n",
      "2023-03-09 데이터 수신 완료! 현재 데이터 개수 181757개\n",
      "2023-03-10 데이터 수신 완료! 현재 데이터 개수 184454개\n",
      "2023-03-11 데이터 수신 완료! 현재 데이터 개수 187150개\n",
      "2023-03-12 데이터 수신 완료! 현재 데이터 개수 189806개\n",
      "2023-03-13 데이터 수신 완료! 현재 데이터 개수 192503개\n",
      "2023-03-14 데이터 수신 완료! 현재 데이터 개수 195202개\n",
      "2023-03-15 데이터 수신 완료! 현재 데이터 개수 197899개\n",
      "2023-03-16 데이터 수신 완료! 현재 데이터 개수 200593개\n",
      "2023-03-17 데이터 수신 완료! 현재 데이터 개수 203293개\n",
      "2023-03-18 데이터 수신 완료! 현재 데이터 개수 205988개\n",
      "2023-03-19 데이터 수신 완료! 현재 데이터 개수 208687개\n",
      "2023-03-20 데이터 수신 완료! 현재 데이터 개수 211386개\n",
      "2023-03-21 데이터 수신 완료! 현재 데이터 개수 214081개\n",
      "2023-03-22 데이터 수신 완료! 현재 데이터 개수 216776개\n",
      "2023-03-23 데이터 수신 완료! 현재 데이터 개수 219473개\n",
      "2023-03-24 데이터 수신 완료! 현재 데이터 개수 222175개\n",
      "2023-03-25 데이터 수신 완료! 현재 데이터 개수 224870개\n",
      "2023-03-26 데이터 수신 완료! 현재 데이터 개수 227564개\n",
      "2023-03-27 데이터 수신 완료! 현재 데이터 개수 230263개\n",
      "2023-03-28 데이터 수신 완료! 현재 데이터 개수 232967개\n",
      "2023-03-29 데이터 수신 완료! 현재 데이터 개수 235672개\n",
      "2023-03-30 데이터 수신 완료! 현재 데이터 개수 238379개\n",
      "2023-03-31 데이터 수신 완료! 현재 데이터 개수 241076개\n",
      "2023-04-01 데이터 수신 완료! 현재 데이터 개수 243759개\n",
      "2023-04-02 데이터 수신 완료! 현재 데이터 개수 246444개\n",
      "2023-04-03 데이터 수신 완료! 현재 데이터 개수 249133개\n",
      "2023-04-04 데이터 수신 완료! 현재 데이터 개수 251823개\n",
      "2023-04-05 데이터 수신 완료! 현재 데이터 개수 254419개\n",
      "2023-04-06 데이터 수신 완료! 현재 데이터 개수 257094개\n",
      "2023-04-07 데이터 수신 완료! 현재 데이터 개수 259802개\n",
      "2023-04-08 데이터 수신 완료! 현재 데이터 개수 262501개\n",
      "2023-04-09 데이터 수신 완료! 현재 데이터 개수 265202개\n",
      "2023-04-10 데이터 수신 완료! 현재 데이터 개수 267907개\n",
      "2023-04-11 데이터 수신 완료! 현재 데이터 개수 270609개\n",
      "2023-04-12 데이터 수신 완료! 현재 데이터 개수 273315개\n",
      "2023-04-13 데이터 수신 완료! 현재 데이터 개수 276021개\n",
      "2023-04-14 데이터 수신 완료! 현재 데이터 개수 278727개\n",
      "2023-04-15 데이터 수신 완료! 현재 데이터 개수 281424개\n",
      "2023-04-16 데이터 수신 완료! 현재 데이터 개수 284127개\n",
      "2023-04-17 데이터 수신 완료! 현재 데이터 개수 286838개\n",
      "2023-04-18 데이터 수신 완료! 현재 데이터 개수 289540개\n",
      "2023-04-19 데이터 수신 완료! 현재 데이터 개수 292248개\n",
      "2023-04-20 데이터 수신 완료! 현재 데이터 개수 294952개\n",
      "2023-04-21 데이터 수신 완료! 현재 데이터 개수 297652개\n",
      "2023-04-22 데이터 수신 완료! 현재 데이터 개수 300350개\n",
      "2023-04-23 데이터 수신 완료! 현재 데이터 개수 303047개\n",
      "2023-04-24 데이터 수신 완료! 현재 데이터 개수 305752개\n",
      "2023-04-25 데이터 수신 완료! 현재 데이터 개수 308448개\n",
      "2023-04-26 데이터 수신 완료! 현재 데이터 개수 311153개\n",
      "2023-04-27 데이터 수신 완료! 현재 데이터 개수 313861개\n",
      "2023-04-28 데이터 수신 완료! 현재 데이터 개수 316569개\n",
      "2023-04-29 데이터 수신 완료! 현재 데이터 개수 319239개\n",
      "2023-04-30 데이터 수신 완료! 현재 데이터 개수 321940개\n",
      "2023-05-01 데이터 수신 완료! 현재 데이터 개수 324648개\n",
      "2023-05-02 데이터 수신 완료! 현재 데이터 개수 327359개\n",
      "2023-05-03 데이터 수신 완료! 현재 데이터 개수 330067개\n",
      "2023-05-04 데이터 수신 완료! 현재 데이터 개수 332773개\n",
      "2023-05-05 데이터 수신 완료! 현재 데이터 개수 335313개\n",
      "2023-05-06 데이터 수신 완료! 현재 데이터 개수 337954개\n",
      "2023-05-07 데이터 수신 완료! 현재 데이터 개수 340649개\n",
      "2023-05-08 데이터 수신 완료! 현재 데이터 개수 343356개\n",
      "2023-05-09 데이터 수신 완료! 현재 데이터 개수 346061개\n",
      "2023-05-10 데이터 수신 완료! 현재 데이터 개수 348768개\n",
      "2023-05-11 데이터 수신 완료! 현재 데이터 개수 351472개\n",
      "2023-05-12 데이터 수신 완료! 현재 데이터 개수 354175개\n",
      "2023-05-13 데이터 수신 완료! 현재 데이터 개수 356876개\n",
      "2023-05-14 데이터 수신 완료! 현재 데이터 개수 359576개\n",
      "2023-05-15 데이터 수신 완료! 현재 데이터 개수 362283개\n",
      "2023-05-16 데이터 수신 완료! 현재 데이터 개수 364990개\n",
      "2023-05-17 데이터 수신 완료! 현재 데이터 개수 367696개\n",
      "2023-05-18 데이터 수신 완료! 현재 데이터 개수 370399개\n",
      "2023-05-19 데이터 수신 완료! 현재 데이터 개수 373105개\n",
      "2023-05-20 데이터 수신 완료! 현재 데이터 개수 375810개\n",
      "2023-05-21 데이터 수신 완료! 현재 데이터 개수 378514개\n",
      "2023-05-22 데이터 수신 완료! 현재 데이터 개수 381220개\n",
      "2023-05-23 데이터 수신 완료! 현재 데이터 개수 383933개\n",
      "2023-05-24 데이터 수신 완료! 현재 데이터 개수 386644개\n",
      "2023-05-25 데이터 수신 완료! 현재 데이터 개수 389354개\n",
      "2023-05-26 데이터 수신 완료! 현재 데이터 개수 392061개\n",
      "2023-05-27 데이터 수신 완료! 현재 데이터 개수 394726개\n",
      "2023-05-28 데이터 수신 완료! 현재 데이터 개수 396849개\n",
      "2023-05-29 데이터 수신 완료! 현재 데이터 개수 399552개\n",
      "2023-05-30 데이터 수신 완료! 현재 데이터 개수 402259개\n",
      "2023-05-31 데이터 수신 완료! 현재 데이터 개수 404962개\n",
      "2023-06-01 데이터 수신 완료! 현재 데이터 개수 407667개\n",
      "2023-06-02 데이터 수신 완료! 현재 데이터 개수 410370개\n",
      "2023-06-03 데이터 수신 완료! 현재 데이터 개수 413070개\n",
      "2023-06-04 데이터 수신 완료! 현재 데이터 개수 415769개\n",
      "2023-06-05 데이터 수신 완료! 현재 데이터 개수 418472개\n",
      "2023-06-06 데이터 수신 완료! 현재 데이터 개수 421169개\n",
      "2023-06-07 데이터 수신 완료! 현재 데이터 개수 423873개\n",
      "2023-06-08 데이터 수신 완료! 현재 데이터 개수 426571개\n",
      "2023-06-09 데이터 수신 완료! 현재 데이터 개수 429270개\n",
      "2023-06-10 데이터 수신 완료! 현재 데이터 개수 431967개\n",
      "2023-06-11 데이터 수신 완료! 현재 데이터 개수 434661개\n",
      "2023-06-12 데이터 수신 완료! 현재 데이터 개수 437364개\n",
      "2023-06-13 데이터 수신 완료! 현재 데이터 개수 440064개\n",
      "2023-06-14 데이터 수신 완료! 현재 데이터 개수 442765개\n",
      "2023-06-15 데이터 수신 완료! 현재 데이터 개수 445458개\n",
      "2023-06-16 데이터 수신 완료! 현재 데이터 개수 448158개\n",
      "2023-06-17 데이터 수신 완료! 현재 데이터 개수 450855개\n",
      "2023-06-18 데이터 수신 완료! 현재 데이터 개수 453549개\n",
      "2023-06-19 데이터 수신 완료! 현재 데이터 개수 456247개\n",
      "2023-06-20 데이터 수신 완료! 현재 데이터 개수 458942개\n",
      "2023-06-21 데이터 수신 완료! 현재 데이터 개수 461627개\n",
      "2023-06-22 데이터 수신 완료! 현재 데이터 개수 464326개\n",
      "2023-06-23 데이터 수신 완료! 현재 데이터 개수 467027개\n",
      "2023-06-24 데이터 수신 완료! 현재 데이터 개수 469727개\n",
      "2023-06-25 데이터 수신 완료! 현재 데이터 개수 472419개\n",
      "2023-06-26 데이터 수신 완료! 현재 데이터 개수 472419개\n",
      "2023-06-27 데이터 수신 완료! 현재 데이터 개수 475121개\n",
      "2023-06-28 데이터 수신 완료! 현재 데이터 개수 477818개\n",
      "2023-06-29 데이터 수신 완료! 현재 데이터 개수 480455개\n",
      "2023-06-30 데이터 수신 완료! 현재 데이터 개수 483148개\n"
     ]
    }
   ],
   "source": [
    "results = []\n",
    "\n",
    "# 181일 전체에 대한 데이터 불러오기\n",
    "for date in dates:\n",
    "    n = 0 #한 번에 최대 1000개씩 불러올 수 있어서, 여러 번에 나눠서 불러오기 위한 변수\n",
    "    while True:\n",
    "        # URL 구성\n",
    "        url = f'http://openapi.seoul.go.kr:8088'\n",
    "        params = {\n",
    "            'key': '73495157686c6f7537384768786b71',\n",
    "            'type': 'json',\n",
    "            'service': 'tbCycleUseStatus',\n",
    "            'start_index': str(n * 1000 + 1),\n",
    "            'end_index': str((n + 1) * 1000),\n",
    "            'start_data': date\n",
    "        }\n",
    "        for param in params.values():\n",
    "            url += '/' + param\n",
    "\n",
    "        # 완성된 URL로부터 데이터 수신\n",
    "        response = requests.get(url)\n",
    "\n",
    "        # 받아온 결과를 utf-8 디코딩\n",
    "        response_data = response.content.decode('utf-8')\n",
    "\n",
    "        # JSON 문자열을 딕셔너리로 파싱\n",
    "        response_dict = json.loads(response_data)\n",
    "\n",
    "        # 결과를 리스트에 저장하고 다음 페이지로 이동\n",
    "        # 단, 결과가 없는 경우 해당 날짜를 종료\n",
    "        try:\n",
    "            results += response_dict['useStatus']['row']\n",
    "            n += 1\n",
    "        except:\n",
    "            break\n",
    "    \n",
    "    print(f'{date} 데이터 수신 완료! 현재 데이터 개수 {len(results)}개')"
   ]
  },
  {
   "cell_type": "code",
   "execution_count": 142,
   "id": "91c15664",
   "metadata": {
    "ExecuteTime": {
     "end_time": "2023-11-17T18:47:20.599538Z",
     "start_time": "2023-11-17T18:47:19.994944Z"
    }
   },
   "outputs": [
    {
     "data": {
      "text/html": [
       "<div>\n",
       "<style scoped>\n",
       "    .dataframe tbody tr th:only-of-type {\n",
       "        vertical-align: middle;\n",
       "    }\n",
       "\n",
       "    .dataframe tbody tr th {\n",
       "        vertical-align: top;\n",
       "    }\n",
       "\n",
       "    .dataframe thead th {\n",
       "        text-align: right;\n",
       "    }\n",
       "</style>\n",
       "<table border=\"1\" class=\"dataframe\">\n",
       "  <thead>\n",
       "    <tr style=\"text-align: right;\">\n",
       "      <th></th>\n",
       "      <th>STA_LOC</th>\n",
       "      <th>RENT_NM</th>\n",
       "      <th>STAT_DATA</th>\n",
       "      <th>RENT_CNT</th>\n",
       "      <th>RTN_CNT</th>\n",
       "      <th>START_INDEX</th>\n",
       "      <th>END_INDEX</th>\n",
       "    </tr>\n",
       "  </thead>\n",
       "  <tbody>\n",
       "    <tr>\n",
       "      <th>0</th>\n",
       "      <td>양천구</td>\n",
       "      <td>729. 서부식자재마트 건너편</td>\n",
       "      <td>2023-01-01</td>\n",
       "      <td>26</td>\n",
       "      <td>25</td>\n",
       "      <td>0</td>\n",
       "      <td>0</td>\n",
       "    </tr>\n",
       "    <tr>\n",
       "      <th>1</th>\n",
       "      <td>양천구</td>\n",
       "      <td>731. 서울시 도로환경관리센터</td>\n",
       "      <td>2023-01-01</td>\n",
       "      <td>38</td>\n",
       "      <td>37</td>\n",
       "      <td>0</td>\n",
       "      <td>0</td>\n",
       "    </tr>\n",
       "    <tr>\n",
       "      <th>2</th>\n",
       "      <td>양천구</td>\n",
       "      <td>732. 신월중학교</td>\n",
       "      <td>2023-01-01</td>\n",
       "      <td>22</td>\n",
       "      <td>25</td>\n",
       "      <td>0</td>\n",
       "      <td>0</td>\n",
       "    </tr>\n",
       "    <tr>\n",
       "      <th>3</th>\n",
       "      <td>양천구</td>\n",
       "      <td>733. 신정이펜하우스314동</td>\n",
       "      <td>2023-01-01</td>\n",
       "      <td>8</td>\n",
       "      <td>5</td>\n",
       "      <td>0</td>\n",
       "      <td>0</td>\n",
       "    </tr>\n",
       "    <tr>\n",
       "      <th>4</th>\n",
       "      <td>양천구</td>\n",
       "      <td>734. 신트리공원 입구</td>\n",
       "      <td>2023-01-01</td>\n",
       "      <td>32</td>\n",
       "      <td>28</td>\n",
       "      <td>0</td>\n",
       "      <td>0</td>\n",
       "    </tr>\n",
       "    <tr>\n",
       "      <th>...</th>\n",
       "      <td>...</td>\n",
       "      <td>...</td>\n",
       "      <td>...</td>\n",
       "      <td>...</td>\n",
       "      <td>...</td>\n",
       "      <td>...</td>\n",
       "      <td>...</td>\n",
       "    </tr>\n",
       "    <tr>\n",
       "      <th>483143</th>\n",
       "      <td>마포구</td>\n",
       "      <td>426. 서울신용보증재단</td>\n",
       "      <td>2023-06-30</td>\n",
       "      <td>56</td>\n",
       "      <td>55</td>\n",
       "      <td>0</td>\n",
       "      <td>0</td>\n",
       "    </tr>\n",
       "    <tr>\n",
       "      <th>483144</th>\n",
       "      <td>양천구</td>\n",
       "      <td>722. 경서농협 버스정류장(우리은행신정동지점방향)</td>\n",
       "      <td>2023-06-30</td>\n",
       "      <td>70</td>\n",
       "      <td>71</td>\n",
       "      <td>0</td>\n",
       "      <td>0</td>\n",
       "    </tr>\n",
       "    <tr>\n",
       "      <th>483145</th>\n",
       "      <td>양천구</td>\n",
       "      <td>723. SBS방송국</td>\n",
       "      <td>2023-06-30</td>\n",
       "      <td>109</td>\n",
       "      <td>110</td>\n",
       "      <td>0</td>\n",
       "      <td>0</td>\n",
       "    </tr>\n",
       "    <tr>\n",
       "      <th>483146</th>\n",
       "      <td>양천구</td>\n",
       "      <td>725. 양강중학교앞 교차로</td>\n",
       "      <td>2023-06-30</td>\n",
       "      <td>42</td>\n",
       "      <td>16</td>\n",
       "      <td>0</td>\n",
       "      <td>0</td>\n",
       "    </tr>\n",
       "    <tr>\n",
       "      <th>483147</th>\n",
       "      <td>양천구</td>\n",
       "      <td>726. 목동3단지 시내버스정류장</td>\n",
       "      <td>2023-06-30</td>\n",
       "      <td>175</td>\n",
       "      <td>187</td>\n",
       "      <td>0</td>\n",
       "      <td>0</td>\n",
       "    </tr>\n",
       "  </tbody>\n",
       "</table>\n",
       "<p>483148 rows × 7 columns</p>\n",
       "</div>"
      ],
      "text/plain": [
       "       STA_LOC                       RENT_NM   STAT_DATA RENT_CNT RTN_CNT  \\\n",
       "0          양천구              729. 서부식자재마트 건너편  2023-01-01       26      25   \n",
       "1          양천구             731. 서울시 도로환경관리센터  2023-01-01       38      37   \n",
       "2          양천구                    732. 신월중학교  2023-01-01       22      25   \n",
       "3          양천구              733. 신정이펜하우스314동  2023-01-01        8       5   \n",
       "4          양천구                 734. 신트리공원 입구  2023-01-01       32      28   \n",
       "...        ...                           ...         ...      ...     ...   \n",
       "483143     마포구                 426. 서울신용보증재단  2023-06-30       56      55   \n",
       "483144     양천구  722. 경서농협 버스정류장(우리은행신정동지점방향)  2023-06-30       70      71   \n",
       "483145     양천구                   723. SBS방송국  2023-06-30      109     110   \n",
       "483146     양천구               725. 양강중학교앞 교차로  2023-06-30       42      16   \n",
       "483147     양천구            726. 목동3단지 시내버스정류장  2023-06-30      175     187   \n",
       "\n",
       "        START_INDEX  END_INDEX  \n",
       "0                 0          0  \n",
       "1                 0          0  \n",
       "2                 0          0  \n",
       "3                 0          0  \n",
       "4                 0          0  \n",
       "...             ...        ...  \n",
       "483143            0          0  \n",
       "483144            0          0  \n",
       "483145            0          0  \n",
       "483146            0          0  \n",
       "483147            0          0  \n",
       "\n",
       "[483148 rows x 7 columns]"
      ]
     },
     "execution_count": 142,
     "metadata": {},
     "output_type": "execute_result"
    }
   ],
   "source": [
    "# 데이터프레임 생성\n",
    "cycle_use_df = pd.DataFrame(results)\n",
    "cycle_use_df"
   ]
  },
  {
   "cell_type": "code",
   "execution_count": 143,
   "id": "05580bc1",
   "metadata": {
    "ExecuteTime": {
     "end_time": "2023-11-17T18:47:22.654705Z",
     "start_time": "2023-11-17T18:47:22.307871Z"
    }
   },
   "outputs": [
    {
     "name": "stdout",
     "output_type": "stream",
     "text": [
      "<class 'pandas.core.frame.DataFrame'>\n",
      "RangeIndex: 483148 entries, 0 to 483147\n",
      "Data columns (total 7 columns):\n",
      " #   Column       Non-Null Count   Dtype \n",
      "---  ------       --------------   ----- \n",
      " 0   STA_LOC      483148 non-null  object\n",
      " 1   RENT_NM      483148 non-null  object\n",
      " 2   STAT_DATA    483148 non-null  object\n",
      " 3   RENT_CNT     483148 non-null  object\n",
      " 4   RTN_CNT      483148 non-null  object\n",
      " 5   START_INDEX  483148 non-null  int64 \n",
      " 6   END_INDEX    483148 non-null  int64 \n",
      "dtypes: int64(2), object(5)\n",
      "memory usage: 25.8+ MB\n"
     ]
    }
   ],
   "source": [
    "cycle_use_df.info()"
   ]
  },
  {
   "cell_type": "markdown",
   "id": "5b318faa",
   "metadata": {
    "ExecuteTime": {
     "end_time": "2023-10-30T11:19:40.573640Z",
     "start_time": "2023-10-30T11:19:40.530908Z"
    }
   },
   "source": [
    "데이터를 간략하게 확인해 본 결과\n",
    "- 각 컬럼의 이름을 **한글로 변경**해야 할 필요성 느낌\n",
    "- ```START_INDEX```와 ```END_INDEX```는 null값인 것 같으니 삭제해야 함\n",
    "- ```RENT_CNT```와 ```RTN_CNT```는 str로 들어가 있으니 **int로 변경**해야 함"
   ]
  },
  {
   "cell_type": "markdown",
   "id": "cd1877fb",
   "metadata": {},
   "source": [
    "#### 2-1-2. 데이터 확인 및 전처리 (전체)"
   ]
  },
  {
   "cell_type": "code",
   "execution_count": 144,
   "id": "127e3983",
   "metadata": {
    "ExecuteTime": {
     "end_time": "2023-11-17T18:47:24.910018Z",
     "start_time": "2023-11-17T18:47:24.730874Z"
    },
    "scrolled": false
   },
   "outputs": [
    {
     "data": {
      "text/html": [
       "<div>\n",
       "<style scoped>\n",
       "    .dataframe tbody tr th:only-of-type {\n",
       "        vertical-align: middle;\n",
       "    }\n",
       "\n",
       "    .dataframe tbody tr th {\n",
       "        vertical-align: top;\n",
       "    }\n",
       "\n",
       "    .dataframe thead th {\n",
       "        text-align: right;\n",
       "    }\n",
       "</style>\n",
       "<table border=\"1\" class=\"dataframe\">\n",
       "  <thead>\n",
       "    <tr style=\"text-align: right;\">\n",
       "      <th></th>\n",
       "      <th>그룹명</th>\n",
       "      <th>대여소명</th>\n",
       "      <th>대여년월</th>\n",
       "      <th>대여건수</th>\n",
       "      <th>반납건수</th>\n",
       "    </tr>\n",
       "  </thead>\n",
       "  <tbody>\n",
       "    <tr>\n",
       "      <th>0</th>\n",
       "      <td>양천구</td>\n",
       "      <td>729. 서부식자재마트 건너편</td>\n",
       "      <td>2023-01-01</td>\n",
       "      <td>26</td>\n",
       "      <td>25</td>\n",
       "    </tr>\n",
       "    <tr>\n",
       "      <th>1</th>\n",
       "      <td>양천구</td>\n",
       "      <td>731. 서울시 도로환경관리센터</td>\n",
       "      <td>2023-01-01</td>\n",
       "      <td>38</td>\n",
       "      <td>37</td>\n",
       "    </tr>\n",
       "    <tr>\n",
       "      <th>2</th>\n",
       "      <td>양천구</td>\n",
       "      <td>732. 신월중학교</td>\n",
       "      <td>2023-01-01</td>\n",
       "      <td>22</td>\n",
       "      <td>25</td>\n",
       "    </tr>\n",
       "    <tr>\n",
       "      <th>3</th>\n",
       "      <td>양천구</td>\n",
       "      <td>733. 신정이펜하우스314동</td>\n",
       "      <td>2023-01-01</td>\n",
       "      <td>8</td>\n",
       "      <td>5</td>\n",
       "    </tr>\n",
       "    <tr>\n",
       "      <th>4</th>\n",
       "      <td>양천구</td>\n",
       "      <td>734. 신트리공원 입구</td>\n",
       "      <td>2023-01-01</td>\n",
       "      <td>32</td>\n",
       "      <td>28</td>\n",
       "    </tr>\n",
       "    <tr>\n",
       "      <th>...</th>\n",
       "      <td>...</td>\n",
       "      <td>...</td>\n",
       "      <td>...</td>\n",
       "      <td>...</td>\n",
       "      <td>...</td>\n",
       "    </tr>\n",
       "    <tr>\n",
       "      <th>483143</th>\n",
       "      <td>마포구</td>\n",
       "      <td>426. 서울신용보증재단</td>\n",
       "      <td>2023-06-30</td>\n",
       "      <td>56</td>\n",
       "      <td>55</td>\n",
       "    </tr>\n",
       "    <tr>\n",
       "      <th>483144</th>\n",
       "      <td>양천구</td>\n",
       "      <td>722. 경서농협 버스정류장(우리은행신정동지점방향)</td>\n",
       "      <td>2023-06-30</td>\n",
       "      <td>70</td>\n",
       "      <td>71</td>\n",
       "    </tr>\n",
       "    <tr>\n",
       "      <th>483145</th>\n",
       "      <td>양천구</td>\n",
       "      <td>723. SBS방송국</td>\n",
       "      <td>2023-06-30</td>\n",
       "      <td>109</td>\n",
       "      <td>110</td>\n",
       "    </tr>\n",
       "    <tr>\n",
       "      <th>483146</th>\n",
       "      <td>양천구</td>\n",
       "      <td>725. 양강중학교앞 교차로</td>\n",
       "      <td>2023-06-30</td>\n",
       "      <td>42</td>\n",
       "      <td>16</td>\n",
       "    </tr>\n",
       "    <tr>\n",
       "      <th>483147</th>\n",
       "      <td>양천구</td>\n",
       "      <td>726. 목동3단지 시내버스정류장</td>\n",
       "      <td>2023-06-30</td>\n",
       "      <td>175</td>\n",
       "      <td>187</td>\n",
       "    </tr>\n",
       "  </tbody>\n",
       "</table>\n",
       "<p>483148 rows × 5 columns</p>\n",
       "</div>"
      ],
      "text/plain": [
       "        그룹명                          대여소명        대여년월 대여건수 반납건수\n",
       "0       양천구              729. 서부식자재마트 건너편  2023-01-01   26   25\n",
       "1       양천구             731. 서울시 도로환경관리센터  2023-01-01   38   37\n",
       "2       양천구                    732. 신월중학교  2023-01-01   22   25\n",
       "3       양천구              733. 신정이펜하우스314동  2023-01-01    8    5\n",
       "4       양천구                 734. 신트리공원 입구  2023-01-01   32   28\n",
       "...     ...                           ...         ...  ...  ...\n",
       "483143  마포구                 426. 서울신용보증재단  2023-06-30   56   55\n",
       "483144  양천구  722. 경서농협 버스정류장(우리은행신정동지점방향)  2023-06-30   70   71\n",
       "483145  양천구                   723. SBS방송국  2023-06-30  109  110\n",
       "483146  양천구               725. 양강중학교앞 교차로  2023-06-30   42   16\n",
       "483147  양천구            726. 목동3단지 시내버스정류장  2023-06-30  175  187\n",
       "\n",
       "[483148 rows x 5 columns]"
      ]
     },
     "execution_count": 144,
     "metadata": {},
     "output_type": "execute_result"
    }
   ],
   "source": [
    "# 쓸데없는 컬럼 삭제 및 컬럼 이름 한글화\n",
    "new_cycle_use_df = cycle_use_df.rename(columns={\n",
    "    'STA_LOC': '그룹명',\n",
    "    'RENT_NM': '대여소명',\n",
    "    'STAT_DATA': '대여년월',\n",
    "    'RENT_CNT': '대여건수',\n",
    "    'RTN_CNT': '반납건수'\n",
    "}).drop(['START_INDEX', 'END_INDEX'], axis=1)\n",
    "\n",
    "new_cycle_use_df"
   ]
  },
  {
   "cell_type": "code",
   "execution_count": 145,
   "id": "7bcf66af",
   "metadata": {
    "ExecuteTime": {
     "end_time": "2023-11-17T18:47:26.964641Z",
     "start_time": "2023-11-17T18:47:26.545539Z"
    }
   },
   "outputs": [
    {
     "name": "stdout",
     "output_type": "stream",
     "text": [
      "<class 'pandas.core.frame.DataFrame'>\n",
      "RangeIndex: 483148 entries, 0 to 483147\n",
      "Data columns (total 5 columns):\n",
      " #   Column  Non-Null Count   Dtype \n",
      "---  ------  --------------   ----- \n",
      " 0   그룹명     483148 non-null  object\n",
      " 1   대여소명    483148 non-null  object\n",
      " 2   대여년월    483148 non-null  object\n",
      " 3   대여건수    483148 non-null  int32 \n",
      " 4   반납건수    483148 non-null  int32 \n",
      "dtypes: int32(2), object(3)\n",
      "memory usage: 14.7+ MB\n"
     ]
    }
   ],
   "source": [
    "# 대여건수와 반납건수 컬럼을 int로 변경\n",
    "new_cycle_use_df['대여건수'] = new_cycle_use_df['대여건수'].astype(int)\n",
    "new_cycle_use_df['반납건수'] = new_cycle_use_df['반납건수'].astype(int)\n",
    "\n",
    "new_cycle_use_df.info()"
   ]
  },
  {
   "cell_type": "markdown",
   "id": "355a01de",
   "metadata": {},
   "source": [
    "#### 2-1-3. 데이터 확인 및 전처리 (그룹명)"
   ]
  },
  {
   "cell_type": "code",
   "execution_count": 15,
   "id": "a9df3c94",
   "metadata": {
    "ExecuteTime": {
     "end_time": "2023-11-06T06:13:49.840671Z",
     "start_time": "2023-11-06T06:13:49.781544Z"
    }
   },
   "outputs": [
    {
     "data": {
      "text/plain": [
       "25"
      ]
     },
     "execution_count": 15,
     "metadata": {},
     "output_type": "execute_result"
    }
   ],
   "source": [
    "new_cycle_use_df['그룹명'].nunique()"
   ]
  },
  {
   "cell_type": "code",
   "execution_count": 16,
   "id": "3ce02e25",
   "metadata": {
    "ExecuteTime": {
     "end_time": "2023-11-06T06:13:51.204769Z",
     "start_time": "2023-11-06T06:13:51.160368Z"
    }
   },
   "outputs": [
    {
     "data": {
      "text/plain": [
       "array(['양천구', '광진구', '은평구', '성동구', '강동구', '강서구', '송파구', '중랑구', '마포구',\n",
       "       '강북구', '노원구', '도봉구', '금천구', '동작구', '관악구', '서초구', '중구', '종로구',\n",
       "       '강남구', '서대문구', '성북구', '구로구', '동대문구', '영등포구', '용산구'], dtype=object)"
      ]
     },
     "execution_count": 16,
     "metadata": {},
     "output_type": "execute_result"
    }
   ],
   "source": [
    "new_cycle_use_df['그룹명'].unique()"
   ]
  },
  {
   "cell_type": "markdown",
   "id": "10e269fe",
   "metadata": {},
   "source": [
    "25개 행정구에 대한 데이터임을 확인"
   ]
  },
  {
   "cell_type": "code",
   "execution_count": 17,
   "id": "e9086384",
   "metadata": {
    "ExecuteTime": {
     "end_time": "2023-11-06T06:13:52.790665Z",
     "start_time": "2023-11-06T06:13:52.737319Z"
    }
   },
   "outputs": [
    {
     "data": {
      "text/html": [
       "<div>\n",
       "<style scoped>\n",
       "    .dataframe tbody tr th:only-of-type {\n",
       "        vertical-align: middle;\n",
       "    }\n",
       "\n",
       "    .dataframe tbody tr th {\n",
       "        vertical-align: top;\n",
       "    }\n",
       "\n",
       "    .dataframe thead th {\n",
       "        text-align: right;\n",
       "    }\n",
       "</style>\n",
       "<table border=\"1\" class=\"dataframe\">\n",
       "  <thead>\n",
       "    <tr style=\"text-align: right;\">\n",
       "      <th></th>\n",
       "      <th>그룹명</th>\n",
       "    </tr>\n",
       "  </thead>\n",
       "  <tbody>\n",
       "    <tr>\n",
       "      <th>송파구</th>\n",
       "      <td>38460</td>\n",
       "    </tr>\n",
       "    <tr>\n",
       "      <th>강서구</th>\n",
       "      <td>33103</td>\n",
       "    </tr>\n",
       "    <tr>\n",
       "      <th>강남구</th>\n",
       "      <td>29223</td>\n",
       "    </tr>\n",
       "    <tr>\n",
       "      <th>영등포구</th>\n",
       "      <td>26757</td>\n",
       "    </tr>\n",
       "    <tr>\n",
       "      <th>서초구</th>\n",
       "      <td>25043</td>\n",
       "    </tr>\n",
       "    <tr>\n",
       "      <th>노원구</th>\n",
       "      <td>24329</td>\n",
       "    </tr>\n",
       "    <tr>\n",
       "      <th>마포구</th>\n",
       "      <td>21482</td>\n",
       "    </tr>\n",
       "    <tr>\n",
       "      <th>강동구</th>\n",
       "      <td>21441</td>\n",
       "    </tr>\n",
       "    <tr>\n",
       "      <th>구로구</th>\n",
       "      <td>19955</td>\n",
       "    </tr>\n",
       "    <tr>\n",
       "      <th>양천구</th>\n",
       "      <td>19533</td>\n",
       "    </tr>\n",
       "    <tr>\n",
       "      <th>종로구</th>\n",
       "      <td>18489</td>\n",
       "    </tr>\n",
       "    <tr>\n",
       "      <th>은평구</th>\n",
       "      <td>17424</td>\n",
       "    </tr>\n",
       "    <tr>\n",
       "      <th>중랑구</th>\n",
       "      <td>16727</td>\n",
       "    </tr>\n",
       "    <tr>\n",
       "      <th>성동구</th>\n",
       "      <td>16184</td>\n",
       "    </tr>\n",
       "    <tr>\n",
       "      <th>용산구</th>\n",
       "      <td>16017</td>\n",
       "    </tr>\n",
       "    <tr>\n",
       "      <th>중구</th>\n",
       "      <td>15650</td>\n",
       "    </tr>\n",
       "    <tr>\n",
       "      <th>광진구</th>\n",
       "      <td>15545</td>\n",
       "    </tr>\n",
       "    <tr>\n",
       "      <th>동대문구</th>\n",
       "      <td>14761</td>\n",
       "    </tr>\n",
       "    <tr>\n",
       "      <th>서대문구</th>\n",
       "      <td>14669</td>\n",
       "    </tr>\n",
       "    <tr>\n",
       "      <th>성북구</th>\n",
       "      <td>14610</td>\n",
       "    </tr>\n",
       "    <tr>\n",
       "      <th>도봉구</th>\n",
       "      <td>13785</td>\n",
       "    </tr>\n",
       "    <tr>\n",
       "      <th>금천구</th>\n",
       "      <td>13306</td>\n",
       "    </tr>\n",
       "    <tr>\n",
       "      <th>관악구</th>\n",
       "      <td>13287</td>\n",
       "    </tr>\n",
       "    <tr>\n",
       "      <th>동작구</th>\n",
       "      <td>12691</td>\n",
       "    </tr>\n",
       "    <tr>\n",
       "      <th>강북구</th>\n",
       "      <td>10677</td>\n",
       "    </tr>\n",
       "  </tbody>\n",
       "</table>\n",
       "</div>"
      ],
      "text/plain": [
       "        그룹명\n",
       "송파구   38460\n",
       "강서구   33103\n",
       "강남구   29223\n",
       "영등포구  26757\n",
       "서초구   25043\n",
       "노원구   24329\n",
       "마포구   21482\n",
       "강동구   21441\n",
       "구로구   19955\n",
       "양천구   19533\n",
       "종로구   18489\n",
       "은평구   17424\n",
       "중랑구   16727\n",
       "성동구   16184\n",
       "용산구   16017\n",
       "중구    15650\n",
       "광진구   15545\n",
       "동대문구  14761\n",
       "서대문구  14669\n",
       "성북구   14610\n",
       "도봉구   13785\n",
       "금천구   13306\n",
       "관악구   13287\n",
       "동작구   12691\n",
       "강북구   10677"
      ]
     },
     "execution_count": 17,
     "metadata": {},
     "output_type": "execute_result"
    }
   ],
   "source": [
    "# 행정구별 행 개수 확인\n",
    "rows_by_group = new_cycle_use_df['그룹명'].value_counts().sort_values(ascending=False).to_frame()\n",
    "\n",
    "rows_by_group"
   ]
  },
  {
   "cell_type": "code",
   "execution_count": 18,
   "id": "12dc3f60",
   "metadata": {
    "ExecuteTime": {
     "end_time": "2023-11-06T06:13:55.168788Z",
     "start_time": "2023-11-06T06:13:54.833949Z"
    },
    "scrolled": false
   },
   "outputs": [
    {
     "data": {
      "image/png": "[encoded data removed]",
      "text/plain": [
       "<Figure size 1000x500 with 1 Axes>"
      ]
     },
     "metadata": {},
     "output_type": "display_data"
    }
   ],
   "source": [
    "# 시각화\n",
    "rows_by_group.plot(kind='bar', figsize=(10, 5))\n",
    "plt.title('행정구별로 데이터 구성하는 행의 개수')\n",
    "plt.xlabel('행정구')\n",
    "plt.ylabel('행 개수(개)')\n",
    "plt.axhline(rows_by_group.mean().values[0], color='red', linestyle='--', linewidth='3')\n",
    "plt.show()"
   ]
  },
  {
   "cell_type": "markdown",
   "id": "edf97c02",
   "metadata": {},
   "source": [
    "데이터 개수가 평균보다 많은 곳은 **송파구, 강서구, 강남구, 영등포구, 서초구, 노원구, 마포구, 강동구, 구로구, 양천구**"
   ]
  },
  {
   "cell_type": "code",
   "execution_count": 19,
   "id": "dc2c72cb",
   "metadata": {
    "ExecuteTime": {
     "end_time": "2023-11-06T06:13:58.162239Z",
     "start_time": "2023-11-06T06:13:58.147818Z"
    }
   },
   "outputs": [
    {
     "data": {
      "text/plain": [
       "True"
      ]
     },
     "execution_count": 19,
     "metadata": {},
     "output_type": "execute_result"
    }
   ],
   "source": [
    "rows_by_group.loc['양천구'].values[0] > rows_by_group.mean().values[0]"
   ]
  },
  {
   "cell_type": "markdown",
   "id": "6b922dfe",
   "metadata": {},
   "source": [
    "사실 양천구는 아리까리해서 직접 확인해봤다"
   ]
  },
  {
   "cell_type": "code",
   "execution_count": 21,
   "id": "b13b0020",
   "metadata": {
    "ExecuteTime": {
     "end_time": "2023-11-06T06:14:08.263081Z",
     "start_time": "2023-11-06T06:14:08.195439Z"
    }
   },
   "outputs": [
    {
     "data": {
      "text/html": [
       "<div>\n",
       "<style scoped>\n",
       "    .dataframe tbody tr th:only-of-type {\n",
       "        vertical-align: middle;\n",
       "    }\n",
       "\n",
       "    .dataframe tbody tr th {\n",
       "        vertical-align: top;\n",
       "    }\n",
       "\n",
       "    .dataframe thead th {\n",
       "        text-align: right;\n",
       "    }\n",
       "</style>\n",
       "<table border=\"1\" class=\"dataframe\">\n",
       "  <thead>\n",
       "    <tr style=\"text-align: right;\">\n",
       "      <th></th>\n",
       "      <th>대여건수</th>\n",
       "      <th>반납건수</th>\n",
       "      <th>합계</th>\n",
       "    </tr>\n",
       "    <tr>\n",
       "      <th>그룹명</th>\n",
       "      <th></th>\n",
       "      <th></th>\n",
       "      <th></th>\n",
       "    </tr>\n",
       "  </thead>\n",
       "  <tbody>\n",
       "    <tr>\n",
       "      <th>강서구</th>\n",
       "      <td>2425742</td>\n",
       "      <td>2408730</td>\n",
       "      <td>4834472</td>\n",
       "    </tr>\n",
       "    <tr>\n",
       "      <th>송파구</th>\n",
       "      <td>2019359</td>\n",
       "      <td>2001083</td>\n",
       "      <td>4020442</td>\n",
       "    </tr>\n",
       "    <tr>\n",
       "      <th>영등포구</th>\n",
       "      <td>1756829</td>\n",
       "      <td>1717698</td>\n",
       "      <td>3474527</td>\n",
       "    </tr>\n",
       "    <tr>\n",
       "      <th>노원구</th>\n",
       "      <td>1306650</td>\n",
       "      <td>1294840</td>\n",
       "      <td>2601490</td>\n",
       "    </tr>\n",
       "    <tr>\n",
       "      <th>양천구</th>\n",
       "      <td>1221741</td>\n",
       "      <td>1220666</td>\n",
       "      <td>2442407</td>\n",
       "    </tr>\n",
       "    <tr>\n",
       "      <th>마포구</th>\n",
       "      <td>1066569</td>\n",
       "      <td>1066762</td>\n",
       "      <td>2133331</td>\n",
       "    </tr>\n",
       "    <tr>\n",
       "      <th>광진구</th>\n",
       "      <td>1053185</td>\n",
       "      <td>1032267</td>\n",
       "      <td>2085452</td>\n",
       "    </tr>\n",
       "    <tr>\n",
       "      <th>강동구</th>\n",
       "      <td>933894</td>\n",
       "      <td>939209</td>\n",
       "      <td>1873103</td>\n",
       "    </tr>\n",
       "    <tr>\n",
       "      <th>성동구</th>\n",
       "      <td>864134</td>\n",
       "      <td>855186</td>\n",
       "      <td>1719320</td>\n",
       "    </tr>\n",
       "    <tr>\n",
       "      <th>구로구</th>\n",
       "      <td>860924</td>\n",
       "      <td>854159</td>\n",
       "      <td>1715083</td>\n",
       "    </tr>\n",
       "    <tr>\n",
       "      <th>동대문구</th>\n",
       "      <td>771309</td>\n",
       "      <td>783989</td>\n",
       "      <td>1555298</td>\n",
       "    </tr>\n",
       "    <tr>\n",
       "      <th>종로구</th>\n",
       "      <td>745979</td>\n",
       "      <td>707293</td>\n",
       "      <td>1453272</td>\n",
       "    </tr>\n",
       "    <tr>\n",
       "      <th>강남구</th>\n",
       "      <td>673634</td>\n",
       "      <td>633867</td>\n",
       "      <td>1307501</td>\n",
       "    </tr>\n",
       "    <tr>\n",
       "      <th>서초구</th>\n",
       "      <td>646206</td>\n",
       "      <td>634898</td>\n",
       "      <td>1281104</td>\n",
       "    </tr>\n",
       "    <tr>\n",
       "      <th>중랑구</th>\n",
       "      <td>624881</td>\n",
       "      <td>631987</td>\n",
       "      <td>1256868</td>\n",
       "    </tr>\n",
       "    <tr>\n",
       "      <th>은평구</th>\n",
       "      <td>540462</td>\n",
       "      <td>546061</td>\n",
       "      <td>1086523</td>\n",
       "    </tr>\n",
       "    <tr>\n",
       "      <th>관악구</th>\n",
       "      <td>540994</td>\n",
       "      <td>529883</td>\n",
       "      <td>1070877</td>\n",
       "    </tr>\n",
       "    <tr>\n",
       "      <th>성북구</th>\n",
       "      <td>529545</td>\n",
       "      <td>528594</td>\n",
       "      <td>1058139</td>\n",
       "    </tr>\n",
       "    <tr>\n",
       "      <th>중구</th>\n",
       "      <td>515286</td>\n",
       "      <td>485318</td>\n",
       "      <td>1000604</td>\n",
       "    </tr>\n",
       "    <tr>\n",
       "      <th>도봉구</th>\n",
       "      <td>465080</td>\n",
       "      <td>464795</td>\n",
       "      <td>929875</td>\n",
       "    </tr>\n",
       "    <tr>\n",
       "      <th>동작구</th>\n",
       "      <td>446626</td>\n",
       "      <td>446828</td>\n",
       "      <td>893454</td>\n",
       "    </tr>\n",
       "    <tr>\n",
       "      <th>용산구</th>\n",
       "      <td>445542</td>\n",
       "      <td>438256</td>\n",
       "      <td>883798</td>\n",
       "    </tr>\n",
       "    <tr>\n",
       "      <th>서대문구</th>\n",
       "      <td>435048</td>\n",
       "      <td>412412</td>\n",
       "      <td>847460</td>\n",
       "    </tr>\n",
       "    <tr>\n",
       "      <th>금천구</th>\n",
       "      <td>375621</td>\n",
       "      <td>370767</td>\n",
       "      <td>746388</td>\n",
       "    </tr>\n",
       "    <tr>\n",
       "      <th>강북구</th>\n",
       "      <td>321137</td>\n",
       "      <td>315747</td>\n",
       "      <td>636884</td>\n",
       "    </tr>\n",
       "  </tbody>\n",
       "</table>\n",
       "</div>"
      ],
      "text/plain": [
       "         대여건수     반납건수       합계\n",
       "그룹명                            \n",
       "강서구   2425742  2408730  4834472\n",
       "송파구   2019359  2001083  4020442\n",
       "영등포구  1756829  1717698  3474527\n",
       "노원구   1306650  1294840  2601490\n",
       "양천구   1221741  1220666  2442407\n",
       "마포구   1066569  1066762  2133331\n",
       "광진구   1053185  1032267  2085452\n",
       "강동구    933894   939209  1873103\n",
       "성동구    864134   855186  1719320\n",
       "구로구    860924   854159  1715083\n",
       "동대문구   771309   783989  1555298\n",
       "종로구    745979   707293  1453272\n",
       "강남구    673634   633867  1307501\n",
       "서초구    646206   634898  1281104\n",
       "중랑구    624881   631987  1256868\n",
       "은평구    540462   546061  1086523\n",
       "관악구    540994   529883  1070877\n",
       "성북구    529545   528594  1058139\n",
       "중구     515286   485318  1000604\n",
       "도봉구    465080   464795   929875\n",
       "동작구    446626   446828   893454\n",
       "용산구    445542   438256   883798\n",
       "서대문구   435048   412412   847460\n",
       "금천구    375621   370767   746388\n",
       "강북구    321137   315747   636884"
      ]
     },
     "execution_count": 21,
     "metadata": {},
     "output_type": "execute_result"
    }
   ],
   "source": [
    "# 행정구별 총 대여건수와 총 반납건수 확인\n",
    "sum_by_group = new_cycle_use_df.groupby('그룹명').agg({'대여건수': 'sum', '반납건수': 'sum'})\n",
    "sum_by_group['합계'] = sum_by_group['대여건수'] + sum_by_group['반납건수']\n",
    "sum_by_group = sum_by_group.sort_values('합계', ascending=False)\n",
    "sum_by_group"
   ]
  },
  {
   "cell_type": "code",
   "execution_count": 22,
   "id": "1d8bdbc7",
   "metadata": {
    "ExecuteTime": {
     "end_time": "2023-11-06T06:14:11.807842Z",
     "start_time": "2023-11-06T06:14:11.610759Z"
    }
   },
   "outputs": [
    {
     "data": {
      "image/png": "[encoded data removed]",
      "text/plain": [
       "<Figure size 1000x500 with 1 Axes>"
      ]
     },
     "metadata": {},
     "output_type": "display_data"
    }
   ],
   "source": [
    "# 시각화\n",
    "sum_by_group[['대여건수', '반납건수']].plot(kind='bar', figsize=(10, 5), stacked=True)\n",
    "plt.title('행정구별 총 대여 및 반납건수')\n",
    "plt.xlabel('행정구')\n",
    "plt.ylabel('대여 및 반납(건)')\n",
    "plt.ticklabel_format(axis='y',useOffset=False, style='plain')\n",
    "plt.axhline(sum_by_group['합계'].mean(), color='red', linestyle='--', linewidth='3')\n",
    "plt.show()"
   ]
  },
  {
   "cell_type": "code",
   "execution_count": 23,
   "id": "1559aed1",
   "metadata": {
    "ExecuteTime": {
     "end_time": "2023-11-06T06:14:15.791770Z",
     "start_time": "2023-11-06T06:14:15.777332Z"
    }
   },
   "outputs": [
    {
     "data": {
      "text/plain": [
       "True"
      ]
     },
     "execution_count": 23,
     "metadata": {},
     "output_type": "execute_result"
    }
   ],
   "source": [
    "sum_by_group.loc['성동구', '합계'] > sum_by_group['합계'].mean()"
   ]
  },
  {
   "cell_type": "code",
   "execution_count": 24,
   "id": "57144f69",
   "metadata": {
    "ExecuteTime": {
     "end_time": "2023-11-06T06:14:16.558810Z",
     "start_time": "2023-11-06T06:14:16.539257Z"
    }
   },
   "outputs": [
    {
     "data": {
      "text/plain": [
       "False"
      ]
     },
     "execution_count": 24,
     "metadata": {},
     "output_type": "execute_result"
    }
   ],
   "source": [
    "sum_by_group.loc['구로구', '합계'] > sum_by_group['합계'].mean()"
   ]
  },
  {
   "cell_type": "markdown",
   "id": "0eb8c53d",
   "metadata": {},
   "source": [
    "총 대여 및 반납건수가 평균 이상인 곳은 **강서구, 송파구, 영등포구, 노원구, 양천구, 마포구, 광진구, 강동구, 성동구**"
   ]
  },
  {
   "cell_type": "markdown",
   "id": "7fc29f60",
   "metadata": {},
   "source": [
    "#### 2-1-4. 데이터 확인 및 전처리 (대여소명)"
   ]
  },
  {
   "cell_type": "code",
   "execution_count": 25,
   "id": "68607299",
   "metadata": {
    "ExecuteTime": {
     "end_time": "2023-11-06T06:14:33.183870Z",
     "start_time": "2023-11-06T06:14:33.064372Z"
    }
   },
   "outputs": [
    {
     "data": {
      "text/plain": [
       "2739"
      ]
     },
     "execution_count": 25,
     "metadata": {},
     "output_type": "execute_result"
    }
   ],
   "source": [
    "# 대여소 개수\n",
    "new_cycle_use_df['대여소명'].nunique()"
   ]
  },
  {
   "cell_type": "markdown",
   "id": "a6822378",
   "metadata": {},
   "source": [
    "대여소 종류가 2739개나 된다."
   ]
  },
  {
   "cell_type": "code",
   "execution_count": 26,
   "id": "60bea585",
   "metadata": {
    "ExecuteTime": {
     "end_time": "2023-11-06T06:14:35.381309Z",
     "start_time": "2023-11-06T06:14:35.252664Z"
    }
   },
   "outputs": [
    {
     "data": {
      "text/html": [
       "<div>\n",
       "<style scoped>\n",
       "    .dataframe tbody tr th:only-of-type {\n",
       "        vertical-align: middle;\n",
       "    }\n",
       "\n",
       "    .dataframe tbody tr th {\n",
       "        vertical-align: top;\n",
       "    }\n",
       "\n",
       "    .dataframe thead th {\n",
       "        text-align: right;\n",
       "    }\n",
       "</style>\n",
       "<table border=\"1\" class=\"dataframe\">\n",
       "  <thead>\n",
       "    <tr style=\"text-align: right;\">\n",
       "      <th></th>\n",
       "      <th>대여소명</th>\n",
       "    </tr>\n",
       "    <tr>\n",
       "      <th>그룹명</th>\n",
       "      <th></th>\n",
       "    </tr>\n",
       "  </thead>\n",
       "  <tbody>\n",
       "    <tr>\n",
       "      <th>송파구</th>\n",
       "      <td>218</td>\n",
       "    </tr>\n",
       "    <tr>\n",
       "      <th>강서구</th>\n",
       "      <td>187</td>\n",
       "    </tr>\n",
       "    <tr>\n",
       "      <th>강남구</th>\n",
       "      <td>166</td>\n",
       "    </tr>\n",
       "    <tr>\n",
       "      <th>영등포구</th>\n",
       "      <td>151</td>\n",
       "    </tr>\n",
       "    <tr>\n",
       "      <th>서초구</th>\n",
       "      <td>147</td>\n",
       "    </tr>\n",
       "    <tr>\n",
       "      <th>노원구</th>\n",
       "      <td>137</td>\n",
       "    </tr>\n",
       "    <tr>\n",
       "      <th>강동구</th>\n",
       "      <td>122</td>\n",
       "    </tr>\n",
       "    <tr>\n",
       "      <th>마포구</th>\n",
       "      <td>122</td>\n",
       "    </tr>\n",
       "    <tr>\n",
       "      <th>구로구</th>\n",
       "      <td>114</td>\n",
       "    </tr>\n",
       "    <tr>\n",
       "      <th>양천구</th>\n",
       "      <td>111</td>\n",
       "    </tr>\n",
       "    <tr>\n",
       "      <th>종로구</th>\n",
       "      <td>104</td>\n",
       "    </tr>\n",
       "    <tr>\n",
       "      <th>은평구</th>\n",
       "      <td>98</td>\n",
       "    </tr>\n",
       "    <tr>\n",
       "      <th>중랑구</th>\n",
       "      <td>95</td>\n",
       "    </tr>\n",
       "    <tr>\n",
       "      <th>성동구</th>\n",
       "      <td>92</td>\n",
       "    </tr>\n",
       "    <tr>\n",
       "      <th>용산구</th>\n",
       "      <td>91</td>\n",
       "    </tr>\n",
       "    <tr>\n",
       "      <th>중구</th>\n",
       "      <td>88</td>\n",
       "    </tr>\n",
       "    <tr>\n",
       "      <th>광진구</th>\n",
       "      <td>87</td>\n",
       "    </tr>\n",
       "    <tr>\n",
       "      <th>동대문구</th>\n",
       "      <td>83</td>\n",
       "    </tr>\n",
       "    <tr>\n",
       "      <th>성북구</th>\n",
       "      <td>82</td>\n",
       "    </tr>\n",
       "    <tr>\n",
       "      <th>서대문구</th>\n",
       "      <td>82</td>\n",
       "    </tr>\n",
       "    <tr>\n",
       "      <th>도봉구</th>\n",
       "      <td>78</td>\n",
       "    </tr>\n",
       "    <tr>\n",
       "      <th>금천구</th>\n",
       "      <td>76</td>\n",
       "    </tr>\n",
       "    <tr>\n",
       "      <th>관악구</th>\n",
       "      <td>75</td>\n",
       "    </tr>\n",
       "    <tr>\n",
       "      <th>동작구</th>\n",
       "      <td>72</td>\n",
       "    </tr>\n",
       "    <tr>\n",
       "      <th>강북구</th>\n",
       "      <td>61</td>\n",
       "    </tr>\n",
       "  </tbody>\n",
       "</table>\n",
       "</div>"
      ],
      "text/plain": [
       "      대여소명\n",
       "그룹명       \n",
       "송파구    218\n",
       "강서구    187\n",
       "강남구    166\n",
       "영등포구   151\n",
       "서초구    147\n",
       "노원구    137\n",
       "강동구    122\n",
       "마포구    122\n",
       "구로구    114\n",
       "양천구    111\n",
       "종로구    104\n",
       "은평구     98\n",
       "중랑구     95\n",
       "성동구     92\n",
       "용산구     91\n",
       "중구      88\n",
       "광진구     87\n",
       "동대문구    83\n",
       "성북구     82\n",
       "서대문구    82\n",
       "도봉구     78\n",
       "금천구     76\n",
       "관악구     75\n",
       "동작구     72\n",
       "강북구     61"
      ]
     },
     "execution_count": 26,
     "metadata": {},
     "output_type": "execute_result"
    }
   ],
   "source": [
    "# 행정구별 대여소 개수 \n",
    "station_in_group = new_cycle_use_df.groupby('그룹명').agg({'대여소명': 'nunique'}).sort_values('대여소명', ascending=False)\n",
    "station_in_group"
   ]
  },
  {
   "cell_type": "code",
   "execution_count": 27,
   "id": "a48e3ab0",
   "metadata": {
    "ExecuteTime": {
     "end_time": "2023-11-06T06:14:37.584754Z",
     "start_time": "2023-11-06T06:14:37.369594Z"
    }
   },
   "outputs": [
    {
     "data": {
      "image/png": "[encoded data removed]",
      "text/plain": [
       "<Figure size 1000x500 with 1 Axes>"
      ]
     },
     "metadata": {},
     "output_type": "display_data"
    }
   ],
   "source": [
    "# 시각화\n",
    "station_in_group.plot(kind='bar', figsize=(10, 5))\n",
    "plt.title('행정구별 대여소 개수')\n",
    "plt.xlabel('행정구')\n",
    "plt.ylabel('대여소(개)')\n",
    "plt.axhline(station_in_group.mean().values[0], color='red', linestyle='--', linewidth='3')\n",
    "plt.show()"
   ]
  },
  {
   "cell_type": "markdown",
   "id": "9a9710c7",
   "metadata": {},
   "source": [
    "어디서 본 그래프 같네...? 사실 날짜별로 대여소마다의 데이터가 구성되어 있을 테니 행의 개수가 곧 대여소 개수였을 것이다...!"
   ]
  },
  {
   "cell_type": "code",
   "execution_count": 28,
   "id": "f490c5b4",
   "metadata": {
    "ExecuteTime": {
     "end_time": "2023-11-06T06:14:41.515535Z",
     "start_time": "2023-11-06T06:14:41.336031Z"
    }
   },
   "outputs": [
    {
     "data": {
      "text/plain": [
       "array(['4217. 한강공원 망원나들목'], dtype=object)"
      ]
     },
     "execution_count": 28,
     "metadata": {},
     "output_type": "execute_result"
    }
   ],
   "source": [
    "# 한강공원이 들어가는 대여소 개수 확인\n",
    "new_cycle_use_df[new_cycle_use_df['대여소명'].str.contains('한강공원')]['대여소명'].unique()"
   ]
  },
  {
   "cell_type": "code",
   "execution_count": 29,
   "id": "9d3976b5",
   "metadata": {
    "ExecuteTime": {
     "end_time": "2023-11-06T06:14:42.044705Z",
     "start_time": "2023-11-06T06:14:41.851463Z"
    }
   },
   "outputs": [
    {
     "data": {
      "text/plain": [
       "array(['588. 뚝섬 유원지역', '502. 뚝섬유원지역 1번출구 앞'], dtype=object)"
      ]
     },
     "execution_count": 29,
     "metadata": {},
     "output_type": "execute_result"
    }
   ],
   "source": [
    "new_cycle_use_df[new_cycle_use_df['대여소명'].str.contains('유원지')]['대여소명'].unique()"
   ]
  },
  {
   "cell_type": "code",
   "execution_count": 30,
   "id": "3a74413f",
   "metadata": {
    "ExecuteTime": {
     "end_time": "2023-11-06T06:14:42.514009Z",
     "start_time": "2023-11-06T06:14:42.322206Z"
    }
   },
   "outputs": [
    {
     "data": {
      "text/plain": [
       "array(['260. 여의도 마리나선착장 앞'], dtype=object)"
      ]
     },
     "execution_count": 30,
     "metadata": {},
     "output_type": "execute_result"
    }
   ],
   "source": [
    "new_cycle_use_df[new_cycle_use_df['대여소명'].str.contains('선착장')]['대여소명'].unique()"
   ]
  },
  {
   "cell_type": "code",
   "execution_count": 31,
   "id": "a92d2b7b",
   "metadata": {
    "ExecuteTime": {
     "end_time": "2023-11-06T06:14:42.920362Z",
     "start_time": "2023-11-06T06:14:42.718416Z"
    }
   },
   "outputs": [
    {
     "data": {
      "text/plain": [
       "array(['1296. 석촌호수교차로 (송파나루근린공원 앞)',\n",
       "       '1191. 마곡역 버스정류장(마곡나루역1번출구, 웰튼병원 방면)', '2701. 마곡나루역 5번출구 뒤편',\n",
       "       '2620. 송파나루역 4번 출구옆', '2715.마곡나루역 2번 출구 ', '2728.마곡나루역 3번 출구',\n",
       "       '119. 서강나루 공원', '3564.나루마당', '3573.광나루안전체험관', '4484. 잠실나루역4번출구뒤',\n",
       "       '4485. 잠실나루역 고가하부', '4859. 잠실나루 나들목', '576. 광나루역 3번 출구',\n",
       "       '1004. 삼성광나루아파트 버스정류장', '1209. 잠실나루역 (2번 출구 쪽)',\n",
       "       '207. 여의나루역 1번출구 앞'], dtype=object)"
      ]
     },
     "execution_count": 31,
     "metadata": {},
     "output_type": "execute_result"
    }
   ],
   "source": [
    "new_cycle_use_df[new_cycle_use_df['대여소명'].str.contains('나루')]['대여소명'].unique()"
   ]
  },
  {
   "cell_type": "code",
   "execution_count": 95,
   "id": "f170941c",
   "metadata": {
    "ExecuteTime": {
     "end_time": "2023-11-06T08:01:25.607745Z",
     "start_time": "2023-11-06T08:01:25.407859Z"
    }
   },
   "outputs": [
    {
     "data": {
      "text/plain": [
       "array(['1153. 발산역 1번, 9번 인근 대여소', '2612. 문정·가락 대여소 앞', '4594. 양평교 영등포대여소',\n",
       "       '1634. 당고개공원 대여소', '1635. 상계3.4동 주민센터 대여소'], dtype=object)"
      ]
     },
     "execution_count": 95,
     "metadata": {},
     "output_type": "execute_result"
    }
   ],
   "source": [
    "new_cycle_use_df[new_cycle_use_df['대여소명'].str.contains('대여소')]['대여소명'].unique()"
   ]
  },
  {
   "cell_type": "markdown",
   "id": "5d745315",
   "metadata": {},
   "source": [
    "대여소 이름으로부터 **한강공원과 관련 있는 데이터**를 뽑아낼 방법은 더 생각해 봐야 할 듯"
   ]
  },
  {
   "cell_type": "markdown",
   "id": "8329819e",
   "metadata": {},
   "source": [
    "#### 2-1-5. 데이터 확인 및 전처리 (대여년월)"
   ]
  },
  {
   "cell_type": "code",
   "execution_count": 146,
   "id": "50f64c6a",
   "metadata": {
    "ExecuteTime": {
     "end_time": "2023-11-17T18:47:58.567924Z",
     "start_time": "2023-11-17T18:47:58.489248Z"
    }
   },
   "outputs": [
    {
     "data": {
      "text/plain": [
       "181"
      ]
     },
     "execution_count": 146,
     "metadata": {},
     "output_type": "execute_result"
    }
   ],
   "source": [
    "len(dates)"
   ]
  },
  {
   "cell_type": "markdown",
   "id": "ca1b072a",
   "metadata": {},
   "source": [
    "181일 모두 제대로 불러와졌는지 확인하기"
   ]
  },
  {
   "cell_type": "code",
   "execution_count": 147,
   "id": "740af447",
   "metadata": {
    "ExecuteTime": {
     "end_time": "2023-11-17T18:48:00.363551Z",
     "start_time": "2023-11-17T18:48:00.259331Z"
    }
   },
   "outputs": [
    {
     "data": {
      "text/plain": [
       "180"
      ]
     },
     "execution_count": 147,
     "metadata": {},
     "output_type": "execute_result"
    }
   ],
   "source": [
    "new_cycle_use_df['대여년월'].nunique()"
   ]
  },
  {
   "cell_type": "code",
   "execution_count": 34,
   "id": "9ef4f04f",
   "metadata": {
    "ExecuteTime": {
     "end_time": "2023-11-06T06:14:46.789098Z",
     "start_time": "2023-11-06T06:14:46.724291Z"
    }
   },
   "outputs": [
    {
     "data": {
      "text/plain": [
       "False"
      ]
     },
     "execution_count": 34,
     "metadata": {},
     "output_type": "execute_result"
    }
   ],
   "source": [
    "new_cycle_use_df['대여년월'].nunique() == len(dates)"
   ]
  },
  {
   "cell_type": "markdown",
   "id": "8da7bf59",
   "metadata": {},
   "source": [
    "뭔가 문제가 있는 것 같으니 직접 확인해보자"
   ]
  },
  {
   "cell_type": "code",
   "execution_count": 148,
   "id": "95d38aea",
   "metadata": {
    "ExecuteTime": {
     "end_time": "2023-11-17T18:48:11.670639Z",
     "start_time": "2023-11-17T18:48:04.209774Z"
    }
   },
   "outputs": [
    {
     "name": "stdout",
     "output_type": "stream",
     "text": [
      "2023-06-26\n"
     ]
    }
   ],
   "source": [
    "for date in dates:\n",
    "    if date not in new_cycle_use_df['대여년월'].unique():\n",
    "        print(date)"
   ]
  },
  {
   "cell_type": "markdown",
   "id": "3eeb4534",
   "metadata": {
    "ExecuteTime": {
     "end_time": "2023-10-30T11:12:37.706098Z",
     "start_time": "2023-10-30T11:12:37.687594Z"
    }
   },
   "source": [
    "**2023년 6월 26일이 누락**되어 있다"
   ]
  },
  {
   "cell_type": "markdown",
   "id": "61cb0866",
   "metadata": {},
   "source": [
    "#### 2-1-6. 데이터 확인 및 전처리 (대여건수, 반납건수)"
   ]
  },
  {
   "cell_type": "markdown",
   "id": "b1a54af6",
   "metadata": {},
   "source": [
    "정수형 데이터들이니까 분포를 보자."
   ]
  },
  {
   "cell_type": "code",
   "execution_count": 36,
   "id": "432f52d7",
   "metadata": {
    "ExecuteTime": {
     "end_time": "2023-11-06T06:15:14.678454Z",
     "start_time": "2023-11-06T06:15:14.620002Z"
    },
    "scrolled": true
   },
   "outputs": [
    {
     "data": {
      "text/html": [
       "<div>\n",
       "<style scoped>\n",
       "    .dataframe tbody tr th:only-of-type {\n",
       "        vertical-align: middle;\n",
       "    }\n",
       "\n",
       "    .dataframe tbody tr th {\n",
       "        vertical-align: top;\n",
       "    }\n",
       "\n",
       "    .dataframe thead th {\n",
       "        text-align: right;\n",
       "    }\n",
       "</style>\n",
       "<table border=\"1\" class=\"dataframe\">\n",
       "  <thead>\n",
       "    <tr style=\"text-align: right;\">\n",
       "      <th></th>\n",
       "      <th>대여건수</th>\n",
       "      <th>반납건수</th>\n",
       "    </tr>\n",
       "  </thead>\n",
       "  <tbody>\n",
       "    <tr>\n",
       "      <th>count</th>\n",
       "      <td>483148.000000</td>\n",
       "      <td>483148.000000</td>\n",
       "    </tr>\n",
       "    <tr>\n",
       "      <th>mean</th>\n",
       "      <td>44.678602</td>\n",
       "      <td>44.129946</td>\n",
       "    </tr>\n",
       "    <tr>\n",
       "      <th>std</th>\n",
       "      <td>49.864576</td>\n",
       "      <td>51.623134</td>\n",
       "    </tr>\n",
       "    <tr>\n",
       "      <th>min</th>\n",
       "      <td>0.000000</td>\n",
       "      <td>0.000000</td>\n",
       "    </tr>\n",
       "    <tr>\n",
       "      <th>25%</th>\n",
       "      <td>13.000000</td>\n",
       "      <td>11.750000</td>\n",
       "    </tr>\n",
       "    <tr>\n",
       "      <th>50%</th>\n",
       "      <td>30.000000</td>\n",
       "      <td>28.000000</td>\n",
       "    </tr>\n",
       "    <tr>\n",
       "      <th>75%</th>\n",
       "      <td>59.000000</td>\n",
       "      <td>59.000000</td>\n",
       "    </tr>\n",
       "    <tr>\n",
       "      <th>max</th>\n",
       "      <td>1384.000000</td>\n",
       "      <td>1573.000000</td>\n",
       "    </tr>\n",
       "  </tbody>\n",
       "</table>\n",
       "</div>"
      ],
      "text/plain": [
       "                대여건수           반납건수\n",
       "count  483148.000000  483148.000000\n",
       "mean       44.678602      44.129946\n",
       "std        49.864576      51.623134\n",
       "min         0.000000       0.000000\n",
       "25%        13.000000      11.750000\n",
       "50%        30.000000      28.000000\n",
       "75%        59.000000      59.000000\n",
       "max      1384.000000    1573.000000"
      ]
     },
     "execution_count": 36,
     "metadata": {},
     "output_type": "execute_result"
    }
   ],
   "source": [
    "new_cycle_use_df[['대여건수', '반납건수']].describe()"
   ]
  },
  {
   "cell_type": "code",
   "execution_count": 37,
   "id": "ec14e22c",
   "metadata": {
    "ExecuteTime": {
     "end_time": "2023-11-06T06:15:35.763507Z",
     "start_time": "2023-11-06T06:15:35.524035Z"
    }
   },
   "outputs": [
    {
     "data": {
      "image/png": "[encoded data removed]",
      "text/plain": [
       "<Figure size 1000x500 with 1 Axes>"
      ]
     },
     "metadata": {},
     "output_type": "display_data"
    }
   ],
   "source": [
    "new_cycle_use_df[['대여건수', '반납건수']].plot(kind='box', figsize=(10, 5))\n",
    "plt.title('대여건수와 반납건수의 분포')\n",
    "plt.show()"
   ]
  },
  {
   "cell_type": "markdown",
   "id": "45fcba54",
   "metadata": {},
   "source": [
    "대략 30~40건 내외가 일반적인 것 같다.\n",
    "\n",
    "그런데 하루 동안 대여소에서 1384건의 대여와 1573건의 반납이 발생하는 경우가 있다고...?"
   ]
  },
  {
   "cell_type": "code",
   "execution_count": 38,
   "id": "a08c8820",
   "metadata": {
    "ExecuteTime": {
     "end_time": "2023-11-06T06:15:38.838997Z",
     "start_time": "2023-11-06T06:15:38.818514Z"
    }
   },
   "outputs": [
    {
     "data": {
      "text/html": [
       "<div>\n",
       "<style scoped>\n",
       "    .dataframe tbody tr th:only-of-type {\n",
       "        vertical-align: middle;\n",
       "    }\n",
       "\n",
       "    .dataframe tbody tr th {\n",
       "        vertical-align: top;\n",
       "    }\n",
       "\n",
       "    .dataframe thead th {\n",
       "        text-align: right;\n",
       "    }\n",
       "</style>\n",
       "<table border=\"1\" class=\"dataframe\">\n",
       "  <thead>\n",
       "    <tr style=\"text-align: right;\">\n",
       "      <th></th>\n",
       "      <th>그룹명</th>\n",
       "      <th>대여소명</th>\n",
       "      <th>대여년월</th>\n",
       "      <th>대여건수</th>\n",
       "      <th>반납건수</th>\n",
       "    </tr>\n",
       "  </thead>\n",
       "  <tbody>\n",
       "    <tr>\n",
       "      <th>245492</th>\n",
       "      <td>마포구</td>\n",
       "      <td>4217. 한강공원 망원나들목</td>\n",
       "      <td>2023-04-02</td>\n",
       "      <td>1384</td>\n",
       "      <td>1573</td>\n",
       "    </tr>\n",
       "  </tbody>\n",
       "</table>\n",
       "</div>"
      ],
      "text/plain": [
       "        그룹명              대여소명        대여년월  대여건수  반납건수\n",
       "245492  마포구  4217. 한강공원 망원나들목  2023-04-02  1384  1573"
      ]
     },
     "execution_count": 38,
     "metadata": {},
     "output_type": "execute_result"
    }
   ],
   "source": [
    "new_cycle_use_df[new_cycle_use_df['대여건수'] == 1384]"
   ]
  },
  {
   "cell_type": "markdown",
   "id": "cf003529",
   "metadata": {},
   "source": [
    "4월 2일 한강공원 망원나들목이라고 한다. 날이 좋을수록 한강공원을 많이 이용하지 않을까 하는 문제 정의에 완벽히 부합하는 예시가 나왔다!"
   ]
  },
  {
   "cell_type": "markdown",
   "id": "687d56ea",
   "metadata": {},
   "source": [
    "#### 2-1-7. 데이터프레임 저장"
   ]
  },
  {
   "cell_type": "code",
   "execution_count": 149,
   "id": "e6793399",
   "metadata": {
    "ExecuteTime": {
     "end_time": "2023-11-17T18:48:19.278991Z",
     "start_time": "2023-11-17T18:48:19.210694Z"
    }
   },
   "outputs": [
    {
     "data": {
      "text/html": [
       "<div>\n",
       "<style scoped>\n",
       "    .dataframe tbody tr th:only-of-type {\n",
       "        vertical-align: middle;\n",
       "    }\n",
       "\n",
       "    .dataframe tbody tr th {\n",
       "        vertical-align: top;\n",
       "    }\n",
       "\n",
       "    .dataframe thead th {\n",
       "        text-align: right;\n",
       "    }\n",
       "</style>\n",
       "<table border=\"1\" class=\"dataframe\">\n",
       "  <thead>\n",
       "    <tr style=\"text-align: right;\">\n",
       "      <th></th>\n",
       "      <th>그룹명</th>\n",
       "      <th>대여소명</th>\n",
       "      <th>대여년월</th>\n",
       "      <th>대여건수</th>\n",
       "      <th>반납건수</th>\n",
       "    </tr>\n",
       "  </thead>\n",
       "  <tbody>\n",
       "    <tr>\n",
       "      <th>0</th>\n",
       "      <td>양천구</td>\n",
       "      <td>729. 서부식자재마트 건너편</td>\n",
       "      <td>2023-01-01</td>\n",
       "      <td>26</td>\n",
       "      <td>25</td>\n",
       "    </tr>\n",
       "    <tr>\n",
       "      <th>1</th>\n",
       "      <td>양천구</td>\n",
       "      <td>731. 서울시 도로환경관리센터</td>\n",
       "      <td>2023-01-01</td>\n",
       "      <td>38</td>\n",
       "      <td>37</td>\n",
       "    </tr>\n",
       "    <tr>\n",
       "      <th>2</th>\n",
       "      <td>양천구</td>\n",
       "      <td>732. 신월중학교</td>\n",
       "      <td>2023-01-01</td>\n",
       "      <td>22</td>\n",
       "      <td>25</td>\n",
       "    </tr>\n",
       "    <tr>\n",
       "      <th>3</th>\n",
       "      <td>양천구</td>\n",
       "      <td>733. 신정이펜하우스314동</td>\n",
       "      <td>2023-01-01</td>\n",
       "      <td>8</td>\n",
       "      <td>5</td>\n",
       "    </tr>\n",
       "    <tr>\n",
       "      <th>4</th>\n",
       "      <td>양천구</td>\n",
       "      <td>734. 신트리공원 입구</td>\n",
       "      <td>2023-01-01</td>\n",
       "      <td>32</td>\n",
       "      <td>28</td>\n",
       "    </tr>\n",
       "    <tr>\n",
       "      <th>...</th>\n",
       "      <td>...</td>\n",
       "      <td>...</td>\n",
       "      <td>...</td>\n",
       "      <td>...</td>\n",
       "      <td>...</td>\n",
       "    </tr>\n",
       "    <tr>\n",
       "      <th>483143</th>\n",
       "      <td>마포구</td>\n",
       "      <td>426. 서울신용보증재단</td>\n",
       "      <td>2023-06-30</td>\n",
       "      <td>56</td>\n",
       "      <td>55</td>\n",
       "    </tr>\n",
       "    <tr>\n",
       "      <th>483144</th>\n",
       "      <td>양천구</td>\n",
       "      <td>722. 경서농협 버스정류장(우리은행신정동지점방향)</td>\n",
       "      <td>2023-06-30</td>\n",
       "      <td>70</td>\n",
       "      <td>71</td>\n",
       "    </tr>\n",
       "    <tr>\n",
       "      <th>483145</th>\n",
       "      <td>양천구</td>\n",
       "      <td>723. SBS방송국</td>\n",
       "      <td>2023-06-30</td>\n",
       "      <td>109</td>\n",
       "      <td>110</td>\n",
       "    </tr>\n",
       "    <tr>\n",
       "      <th>483146</th>\n",
       "      <td>양천구</td>\n",
       "      <td>725. 양강중학교앞 교차로</td>\n",
       "      <td>2023-06-30</td>\n",
       "      <td>42</td>\n",
       "      <td>16</td>\n",
       "    </tr>\n",
       "    <tr>\n",
       "      <th>483147</th>\n",
       "      <td>양천구</td>\n",
       "      <td>726. 목동3단지 시내버스정류장</td>\n",
       "      <td>2023-06-30</td>\n",
       "      <td>175</td>\n",
       "      <td>187</td>\n",
       "    </tr>\n",
       "  </tbody>\n",
       "</table>\n",
       "<p>483148 rows × 5 columns</p>\n",
       "</div>"
      ],
      "text/plain": [
       "        그룹명                          대여소명        대여년월  대여건수  반납건수\n",
       "0       양천구              729. 서부식자재마트 건너편  2023-01-01    26    25\n",
       "1       양천구             731. 서울시 도로환경관리센터  2023-01-01    38    37\n",
       "2       양천구                    732. 신월중학교  2023-01-01    22    25\n",
       "3       양천구              733. 신정이펜하우스314동  2023-01-01     8     5\n",
       "4       양천구                 734. 신트리공원 입구  2023-01-01    32    28\n",
       "...     ...                           ...         ...   ...   ...\n",
       "483143  마포구                 426. 서울신용보증재단  2023-06-30    56    55\n",
       "483144  양천구  722. 경서농협 버스정류장(우리은행신정동지점방향)  2023-06-30    70    71\n",
       "483145  양천구                   723. SBS방송국  2023-06-30   109   110\n",
       "483146  양천구               725. 양강중학교앞 교차로  2023-06-30    42    16\n",
       "483147  양천구            726. 목동3단지 시내버스정류장  2023-06-30   175   187\n",
       "\n",
       "[483148 rows x 5 columns]"
      ]
     },
     "execution_count": 149,
     "metadata": {},
     "output_type": "execute_result"
    }
   ],
   "source": [
    "new_cycle_use_df"
   ]
  },
  {
   "cell_type": "code",
   "execution_count": 150,
   "id": "fde578b7",
   "metadata": {
    "ExecuteTime": {
     "end_time": "2023-11-17T18:48:22.117656Z",
     "start_time": "2023-11-17T18:48:21.481747Z"
    }
   },
   "outputs": [
    {
     "name": "stdout",
     "output_type": "stream",
     "text": [
      "저장 완료\n"
     ]
    }
   ],
   "source": [
    "with open('new_cycle_use_df.pkl', 'wb') as file:\n",
    "    pickle.dump(new_cycle_use_df, file)\n",
    "    print(\"저장 완료\")"
   ]
  },
  {
   "cell_type": "markdown",
   "id": "e6dd2344",
   "metadata": {},
   "source": [
    "### 2-2. 방재기상관측(AWS) 데이터"
   ]
  },
  {
   "cell_type": "markdown",
   "id": "c005b6e3",
   "metadata": {},
   "source": [
    "#### 2-3-1. 데이터 로딩"
   ]
  },
  {
   "cell_type": "code",
   "execution_count": 2,
   "id": "fcffb2d3",
   "metadata": {
    "ExecuteTime": {
     "end_time": "2023-11-18T03:46:30.591893Z",
     "start_time": "2023-11-18T03:46:30.424438Z"
    }
   },
   "outputs": [
    {
     "data": {
      "text/html": [
       "<div>\n",
       "<style scoped>\n",
       "    .dataframe tbody tr th:only-of-type {\n",
       "        vertical-align: middle;\n",
       "    }\n",
       "\n",
       "    .dataframe tbody tr th {\n",
       "        vertical-align: top;\n",
       "    }\n",
       "\n",
       "    .dataframe thead th {\n",
       "        text-align: right;\n",
       "    }\n",
       "</style>\n",
       "<table border=\"1\" class=\"dataframe\">\n",
       "  <thead>\n",
       "    <tr style=\"text-align: right;\">\n",
       "      <th></th>\n",
       "      <th>지점</th>\n",
       "      <th>지점명</th>\n",
       "      <th>일시</th>\n",
       "      <th>기온(°C)</th>\n",
       "      <th>풍향(deg)</th>\n",
       "      <th>풍속(m/s)</th>\n",
       "      <th>강수량(mm)</th>\n",
       "      <th>현지기압(hPa)</th>\n",
       "      <th>해면기압(hPa)</th>\n",
       "      <th>습도(%)</th>\n",
       "    </tr>\n",
       "  </thead>\n",
       "  <tbody>\n",
       "    <tr>\n",
       "      <th>0</th>\n",
       "      <td>116</td>\n",
       "      <td>관악(레)</td>\n",
       "      <td>2023-01-01 00:00</td>\n",
       "      <td>-1.7</td>\n",
       "      <td>248.1</td>\n",
       "      <td>4.4</td>\n",
       "      <td>0.0</td>\n",
       "      <td>NaN</td>\n",
       "      <td>NaN</td>\n",
       "      <td>76.0</td>\n",
       "    </tr>\n",
       "    <tr>\n",
       "      <th>1</th>\n",
       "      <td>116</td>\n",
       "      <td>관악(레)</td>\n",
       "      <td>2023-01-01 01:00</td>\n",
       "      <td>-1.6</td>\n",
       "      <td>248.6</td>\n",
       "      <td>4.3</td>\n",
       "      <td>0.0</td>\n",
       "      <td>NaN</td>\n",
       "      <td>NaN</td>\n",
       "      <td>76.0</td>\n",
       "    </tr>\n",
       "    <tr>\n",
       "      <th>2</th>\n",
       "      <td>116</td>\n",
       "      <td>관악(레)</td>\n",
       "      <td>2023-01-01 02:00</td>\n",
       "      <td>-1.5</td>\n",
       "      <td>255.2</td>\n",
       "      <td>4.8</td>\n",
       "      <td>0.0</td>\n",
       "      <td>NaN</td>\n",
       "      <td>NaN</td>\n",
       "      <td>82.0</td>\n",
       "    </tr>\n",
       "    <tr>\n",
       "      <th>3</th>\n",
       "      <td>116</td>\n",
       "      <td>관악(레)</td>\n",
       "      <td>2023-01-01 03:00</td>\n",
       "      <td>-1.6</td>\n",
       "      <td>275.4</td>\n",
       "      <td>3.6</td>\n",
       "      <td>0.0</td>\n",
       "      <td>NaN</td>\n",
       "      <td>NaN</td>\n",
       "      <td>87.0</td>\n",
       "    </tr>\n",
       "    <tr>\n",
       "      <th>4</th>\n",
       "      <td>116</td>\n",
       "      <td>관악(레)</td>\n",
       "      <td>2023-01-01 04:00</td>\n",
       "      <td>-2.5</td>\n",
       "      <td>331.7</td>\n",
       "      <td>3.8</td>\n",
       "      <td>0.0</td>\n",
       "      <td>NaN</td>\n",
       "      <td>NaN</td>\n",
       "      <td>91.0</td>\n",
       "    </tr>\n",
       "    <tr>\n",
       "      <th>...</th>\n",
       "      <td>...</td>\n",
       "      <td>...</td>\n",
       "      <td>...</td>\n",
       "      <td>...</td>\n",
       "      <td>...</td>\n",
       "      <td>...</td>\n",
       "      <td>...</td>\n",
       "      <td>...</td>\n",
       "      <td>...</td>\n",
       "      <td>...</td>\n",
       "    </tr>\n",
       "    <tr>\n",
       "      <th>121614</th>\n",
       "      <td>889</td>\n",
       "      <td>현충원</td>\n",
       "      <td>2023-06-30 19:00</td>\n",
       "      <td>28.2</td>\n",
       "      <td>209.4</td>\n",
       "      <td>0.7</td>\n",
       "      <td>0.0</td>\n",
       "      <td>998.7</td>\n",
       "      <td>1000.5</td>\n",
       "      <td>89.0</td>\n",
       "    </tr>\n",
       "    <tr>\n",
       "      <th>121615</th>\n",
       "      <td>889</td>\n",
       "      <td>현충원</td>\n",
       "      <td>2023-06-30 20:00</td>\n",
       "      <td>25.8</td>\n",
       "      <td>0.0</td>\n",
       "      <td>0.4</td>\n",
       "      <td>0.0</td>\n",
       "      <td>999.4</td>\n",
       "      <td>1001.2</td>\n",
       "      <td>98.0</td>\n",
       "    </tr>\n",
       "    <tr>\n",
       "      <th>121616</th>\n",
       "      <td>889</td>\n",
       "      <td>현충원</td>\n",
       "      <td>2023-06-30 21:00</td>\n",
       "      <td>24.8</td>\n",
       "      <td>0.0</td>\n",
       "      <td>0.3</td>\n",
       "      <td>0.0</td>\n",
       "      <td>1000.0</td>\n",
       "      <td>1001.8</td>\n",
       "      <td>100.0</td>\n",
       "    </tr>\n",
       "    <tr>\n",
       "      <th>121617</th>\n",
       "      <td>889</td>\n",
       "      <td>현충원</td>\n",
       "      <td>2023-06-30 22:00</td>\n",
       "      <td>24.2</td>\n",
       "      <td>0.0</td>\n",
       "      <td>0.2</td>\n",
       "      <td>0.0</td>\n",
       "      <td>1000.7</td>\n",
       "      <td>1002.5</td>\n",
       "      <td>100.0</td>\n",
       "    </tr>\n",
       "    <tr>\n",
       "      <th>121618</th>\n",
       "      <td>889</td>\n",
       "      <td>현충원</td>\n",
       "      <td>2023-06-30 23:00</td>\n",
       "      <td>23.7</td>\n",
       "      <td>0.0</td>\n",
       "      <td>0.2</td>\n",
       "      <td>0.0</td>\n",
       "      <td>1001.2</td>\n",
       "      <td>1003.0</td>\n",
       "      <td>100.0</td>\n",
       "    </tr>\n",
       "  </tbody>\n",
       "</table>\n",
       "<p>121619 rows × 10 columns</p>\n",
       "</div>"
      ],
      "text/plain": [
       "         지점    지점명                일시  기온(°C)  풍향(deg)  풍속(m/s)  강수량(mm)  \\\n",
       "0       116  관악(레)  2023-01-01 00:00    -1.7    248.1      4.4      0.0   \n",
       "1       116  관악(레)  2023-01-01 01:00    -1.6    248.6      4.3      0.0   \n",
       "2       116  관악(레)  2023-01-01 02:00    -1.5    255.2      4.8      0.0   \n",
       "3       116  관악(레)  2023-01-01 03:00    -1.6    275.4      3.6      0.0   \n",
       "4       116  관악(레)  2023-01-01 04:00    -2.5    331.7      3.8      0.0   \n",
       "...     ...    ...               ...     ...      ...      ...      ...   \n",
       "121614  889    현충원  2023-06-30 19:00    28.2    209.4      0.7      0.0   \n",
       "121615  889    현충원  2023-06-30 20:00    25.8      0.0      0.4      0.0   \n",
       "121616  889    현충원  2023-06-30 21:00    24.8      0.0      0.3      0.0   \n",
       "121617  889    현충원  2023-06-30 22:00    24.2      0.0      0.2      0.0   \n",
       "121618  889    현충원  2023-06-30 23:00    23.7      0.0      0.2      0.0   \n",
       "\n",
       "        현지기압(hPa)  해면기압(hPa)  습도(%)  \n",
       "0             NaN        NaN   76.0  \n",
       "1             NaN        NaN   76.0  \n",
       "2             NaN        NaN   82.0  \n",
       "3             NaN        NaN   87.0  \n",
       "4             NaN        NaN   91.0  \n",
       "...           ...        ...    ...  \n",
       "121614      998.7     1000.5   89.0  \n",
       "121615      999.4     1001.2   98.0  \n",
       "121616     1000.0     1001.8  100.0  \n",
       "121617     1000.7     1002.5  100.0  \n",
       "121618     1001.2     1003.0  100.0  \n",
       "\n",
       "[121619 rows x 10 columns]"
      ]
     },
     "execution_count": 2,
     "metadata": {},
     "output_type": "execute_result"
    }
   ],
   "source": [
    "weather_df = pd.read_csv('OBS_AWS_TIM_20231106144425.csv', encoding='cp949')\n",
    "weather_df"
   ]
  },
  {
   "cell_type": "code",
   "execution_count": 50,
   "id": "7e70e746",
   "metadata": {
    "ExecuteTime": {
     "end_time": "2023-11-17T17:51:23.204570Z",
     "start_time": "2023-11-17T17:51:23.115530Z"
    }
   },
   "outputs": [
    {
     "name": "stdout",
     "output_type": "stream",
     "text": [
      "<class 'pandas.core.frame.DataFrame'>\n",
      "RangeIndex: 121619 entries, 0 to 121618\n",
      "Data columns (total 10 columns):\n",
      " #   Column     Non-Null Count   Dtype  \n",
      "---  ------     --------------   -----  \n",
      " 0   지점         121619 non-null  int64  \n",
      " 1   지점명        121619 non-null  object \n",
      " 2   일시         121619 non-null  object \n",
      " 3   기온(°C)     121411 non-null  float64\n",
      " 4   풍향(deg)    121507 non-null  float64\n",
      " 5   풍속(m/s)    121543 non-null  float64\n",
      " 6   강수량(mm)    121126 non-null  float64\n",
      " 7   현지기압(hPa)  73829 non-null   float64\n",
      " 8   해면기압(hPa)  73823 non-null   float64\n",
      " 9   습도(%)      112821 non-null  float64\n",
      "dtypes: float64(7), int64(1), object(2)\n",
      "memory usage: 9.3+ MB\n"
     ]
    }
   ],
   "source": [
    "weather_df.info()"
   ]
  },
  {
   "cell_type": "markdown",
   "id": "b1e6e828",
   "metadata": {},
   "source": [
    "데이터 모양을 살펴본 결과\n",
    "- 관측 지점과 대여소 간의 매핑 필요\n",
    "- 일시는 날짜(yyyy-mm-dd)에 더해 **시간(hh:mm) 단위로 들어가 있음** → 추후 일 단위로 집계 필요할 수 있음\n",
    "- 풍향(deg), 현지기압(hPa), 해면기압(hPa) 컬럼은 안 쓰일 듯"
   ]
  },
  {
   "cell_type": "code",
   "execution_count": 3,
   "id": "d3811178",
   "metadata": {
    "ExecuteTime": {
     "end_time": "2023-11-18T03:46:34.154157Z",
     "start_time": "2023-11-18T03:46:34.116758Z"
    }
   },
   "outputs": [
    {
     "data": {
      "text/html": [
       "<div>\n",
       "<style scoped>\n",
       "    .dataframe tbody tr th:only-of-type {\n",
       "        vertical-align: middle;\n",
       "    }\n",
       "\n",
       "    .dataframe tbody tr th {\n",
       "        vertical-align: top;\n",
       "    }\n",
       "\n",
       "    .dataframe thead th {\n",
       "        text-align: right;\n",
       "    }\n",
       "</style>\n",
       "<table border=\"1\" class=\"dataframe\">\n",
       "  <thead>\n",
       "    <tr style=\"text-align: right;\">\n",
       "      <th></th>\n",
       "      <th>지점</th>\n",
       "      <th>지점명</th>\n",
       "      <th>일시</th>\n",
       "      <th>기온(°C)</th>\n",
       "      <th>풍속(m/s)</th>\n",
       "      <th>강수량(mm)</th>\n",
       "      <th>습도(%)</th>\n",
       "    </tr>\n",
       "  </thead>\n",
       "  <tbody>\n",
       "    <tr>\n",
       "      <th>0</th>\n",
       "      <td>116</td>\n",
       "      <td>관악(레)</td>\n",
       "      <td>2023-01-01 00:00</td>\n",
       "      <td>-1.7</td>\n",
       "      <td>4.4</td>\n",
       "      <td>0.0</td>\n",
       "      <td>76.0</td>\n",
       "    </tr>\n",
       "    <tr>\n",
       "      <th>1</th>\n",
       "      <td>116</td>\n",
       "      <td>관악(레)</td>\n",
       "      <td>2023-01-01 01:00</td>\n",
       "      <td>-1.6</td>\n",
       "      <td>4.3</td>\n",
       "      <td>0.0</td>\n",
       "      <td>76.0</td>\n",
       "    </tr>\n",
       "    <tr>\n",
       "      <th>2</th>\n",
       "      <td>116</td>\n",
       "      <td>관악(레)</td>\n",
       "      <td>2023-01-01 02:00</td>\n",
       "      <td>-1.5</td>\n",
       "      <td>4.8</td>\n",
       "      <td>0.0</td>\n",
       "      <td>82.0</td>\n",
       "    </tr>\n",
       "    <tr>\n",
       "      <th>3</th>\n",
       "      <td>116</td>\n",
       "      <td>관악(레)</td>\n",
       "      <td>2023-01-01 03:00</td>\n",
       "      <td>-1.6</td>\n",
       "      <td>3.6</td>\n",
       "      <td>0.0</td>\n",
       "      <td>87.0</td>\n",
       "    </tr>\n",
       "    <tr>\n",
       "      <th>4</th>\n",
       "      <td>116</td>\n",
       "      <td>관악(레)</td>\n",
       "      <td>2023-01-01 04:00</td>\n",
       "      <td>-2.5</td>\n",
       "      <td>3.8</td>\n",
       "      <td>0.0</td>\n",
       "      <td>91.0</td>\n",
       "    </tr>\n",
       "    <tr>\n",
       "      <th>...</th>\n",
       "      <td>...</td>\n",
       "      <td>...</td>\n",
       "      <td>...</td>\n",
       "      <td>...</td>\n",
       "      <td>...</td>\n",
       "      <td>...</td>\n",
       "      <td>...</td>\n",
       "    </tr>\n",
       "    <tr>\n",
       "      <th>121614</th>\n",
       "      <td>889</td>\n",
       "      <td>현충원</td>\n",
       "      <td>2023-06-30 19:00</td>\n",
       "      <td>28.2</td>\n",
       "      <td>0.7</td>\n",
       "      <td>0.0</td>\n",
       "      <td>89.0</td>\n",
       "    </tr>\n",
       "    <tr>\n",
       "      <th>121615</th>\n",
       "      <td>889</td>\n",
       "      <td>현충원</td>\n",
       "      <td>2023-06-30 20:00</td>\n",
       "      <td>25.8</td>\n",
       "      <td>0.4</td>\n",
       "      <td>0.0</td>\n",
       "      <td>98.0</td>\n",
       "    </tr>\n",
       "    <tr>\n",
       "      <th>121616</th>\n",
       "      <td>889</td>\n",
       "      <td>현충원</td>\n",
       "      <td>2023-06-30 21:00</td>\n",
       "      <td>24.8</td>\n",
       "      <td>0.3</td>\n",
       "      <td>0.0</td>\n",
       "      <td>100.0</td>\n",
       "    </tr>\n",
       "    <tr>\n",
       "      <th>121617</th>\n",
       "      <td>889</td>\n",
       "      <td>현충원</td>\n",
       "      <td>2023-06-30 22:00</td>\n",
       "      <td>24.2</td>\n",
       "      <td>0.2</td>\n",
       "      <td>0.0</td>\n",
       "      <td>100.0</td>\n",
       "    </tr>\n",
       "    <tr>\n",
       "      <th>121618</th>\n",
       "      <td>889</td>\n",
       "      <td>현충원</td>\n",
       "      <td>2023-06-30 23:00</td>\n",
       "      <td>23.7</td>\n",
       "      <td>0.2</td>\n",
       "      <td>0.0</td>\n",
       "      <td>100.0</td>\n",
       "    </tr>\n",
       "  </tbody>\n",
       "</table>\n",
       "<p>121619 rows × 7 columns</p>\n",
       "</div>"
      ],
      "text/plain": [
       "         지점    지점명                일시  기온(°C)  풍속(m/s)  강수량(mm)  습도(%)\n",
       "0       116  관악(레)  2023-01-01 00:00    -1.7      4.4      0.0   76.0\n",
       "1       116  관악(레)  2023-01-01 01:00    -1.6      4.3      0.0   76.0\n",
       "2       116  관악(레)  2023-01-01 02:00    -1.5      4.8      0.0   82.0\n",
       "3       116  관악(레)  2023-01-01 03:00    -1.6      3.6      0.0   87.0\n",
       "4       116  관악(레)  2023-01-01 04:00    -2.5      3.8      0.0   91.0\n",
       "...     ...    ...               ...     ...      ...      ...    ...\n",
       "121614  889    현충원  2023-06-30 19:00    28.2      0.7      0.0   89.0\n",
       "121615  889    현충원  2023-06-30 20:00    25.8      0.4      0.0   98.0\n",
       "121616  889    현충원  2023-06-30 21:00    24.8      0.3      0.0  100.0\n",
       "121617  889    현충원  2023-06-30 22:00    24.2      0.2      0.0  100.0\n",
       "121618  889    현충원  2023-06-30 23:00    23.7      0.2      0.0  100.0\n",
       "\n",
       "[121619 rows x 7 columns]"
      ]
     },
     "execution_count": 3,
     "metadata": {},
     "output_type": "execute_result"
    }
   ],
   "source": [
    "dropped_weather_df = weather_df.drop([\n",
    "    '풍향(deg)', '현지기압(hPa)', '해면기압(hPa)' \n",
    "], axis=1)\n",
    "\n",
    "dropped_weather_df"
   ]
  },
  {
   "cell_type": "code",
   "execution_count": 55,
   "id": "6c87d503",
   "metadata": {
    "ExecuteTime": {
     "end_time": "2023-11-17T17:55:51.007447Z",
     "start_time": "2023-11-17T17:55:50.924267Z"
    }
   },
   "outputs": [
    {
     "data": {
      "text/plain": [
       "지점            0\n",
       "지점명           0\n",
       "일시            0\n",
       "기온(°C)      208\n",
       "풍속(m/s)      76\n",
       "강수량(mm)     493\n",
       "습도(%)      8798\n",
       "dtype: int64"
      ]
     },
     "execution_count": 55,
     "metadata": {},
     "output_type": "execute_result"
    }
   ],
   "source": [
    "dropped_weather_df.isna().sum()"
   ]
  },
  {
   "cell_type": "markdown",
   "id": "46bdfff7",
   "metadata": {},
   "source": [
    "데이터가 누락된 경우에 대한 처리는\n",
    "- 기온, 풍속, 습도: 이전 데이터와 다음 데이터 사이의 linear interpolation으로 하면 되지 않을까?\n",
    "- 강수량: 0으로 넣는 게 낫지 않을까?\n",
    "\n",
    "자세한 건 데이터 모양 직접 보면서 고민하기"
   ]
  },
  {
   "cell_type": "markdown",
   "id": "5b2b30f3",
   "metadata": {},
   "source": [
    "#### 2-3-2. 데이터 확인 및 전처리 (지점, 지점명)"
   ]
  },
  {
   "cell_type": "code",
   "execution_count": 73,
   "id": "b8c782c6",
   "metadata": {
    "ExecuteTime": {
     "end_time": "2023-11-17T18:08:05.919773Z",
     "start_time": "2023-11-17T18:08:05.866123Z"
    }
   },
   "outputs": [
    {
     "data": {
      "text/plain": [
       "array([116, 400, 401, 402, 403, 404, 405, 406, 407, 408, 409, 410, 411,\n",
       "       412, 413, 414, 415, 416, 417, 418, 419, 421, 423, 424, 425, 509,\n",
       "       510, 889], dtype=int64)"
      ]
     },
     "execution_count": 73,
     "metadata": {},
     "output_type": "execute_result"
    }
   ],
   "source": [
    "dropped_weather_df['지점'].unique()"
   ]
  },
  {
   "cell_type": "code",
   "execution_count": 74,
   "id": "5e4c08d9",
   "metadata": {
    "ExecuteTime": {
     "end_time": "2023-11-17T18:08:14.421086Z",
     "start_time": "2023-11-17T18:08:14.353973Z"
    }
   },
   "outputs": [
    {
     "data": {
      "text/plain": [
       "array(['관악(레)', '강남', '서초', '강동', '송파', '강서', '양천', '도봉', '노원', '동대문',\n",
       "       '중랑', '기상청', '마포', '서대문', '광진', '성북', '용산', '은평', '금천', '한강', '중구',\n",
       "       '성동', '구로', '강북', '남현', '관악', '영등포 ', '현충원'], dtype=object)"
      ]
     },
     "execution_count": 74,
     "metadata": {},
     "output_type": "execute_result"
    }
   ],
   "source": [
    "dropped_weather_df['지점명'].unique()"
   ]
  },
  {
   "cell_type": "markdown",
   "id": "1151a5fe",
   "metadata": {},
   "source": [
    "#### 2-3-3. 데이터 확인 및 전처리 (일시)"
   ]
  },
  {
   "cell_type": "code",
   "execution_count": 75,
   "id": "e01c7a0b",
   "metadata": {
    "ExecuteTime": {
     "end_time": "2023-11-17T18:08:33.909596Z",
     "start_time": "2023-11-17T18:08:33.850432Z"
    }
   },
   "outputs": [
    {
     "data": {
      "text/plain": [
       "0         2023-01-01 00:00\n",
       "1         2023-01-01 01:00\n",
       "2         2023-01-01 02:00\n",
       "3         2023-01-01 03:00\n",
       "4         2023-01-01 04:00\n",
       "                ...       \n",
       "121614    2023-06-30 19:00\n",
       "121615    2023-06-30 20:00\n",
       "121616    2023-06-30 21:00\n",
       "121617    2023-06-30 22:00\n",
       "121618    2023-06-30 23:00\n",
       "Name: 일시, Length: 121619, dtype: object"
      ]
     },
     "execution_count": 75,
     "metadata": {},
     "output_type": "execute_result"
    }
   ],
   "source": [
    "dropped_weather_df['일시']"
   ]
  },
  {
   "cell_type": "markdown",
   "id": "7abfece0",
   "metadata": {},
   "source": [
    "날짜와 시간을 분리하여 파생 컬럼 만들 필요 있을 것 같다."
   ]
  },
  {
   "cell_type": "code",
   "execution_count": 4,
   "id": "f0b901f5",
   "metadata": {
    "ExecuteTime": {
     "end_time": "2023-11-18T03:46:41.471402Z",
     "start_time": "2023-11-18T03:46:41.236761Z"
    }
   },
   "outputs": [
    {
     "data": {
      "text/html": [
       "<div>\n",
       "<style scoped>\n",
       "    .dataframe tbody tr th:only-of-type {\n",
       "        vertical-align: middle;\n",
       "    }\n",
       "\n",
       "    .dataframe tbody tr th {\n",
       "        vertical-align: top;\n",
       "    }\n",
       "\n",
       "    .dataframe thead th {\n",
       "        text-align: right;\n",
       "    }\n",
       "</style>\n",
       "<table border=\"1\" class=\"dataframe\">\n",
       "  <thead>\n",
       "    <tr style=\"text-align: right;\">\n",
       "      <th></th>\n",
       "      <th>지점</th>\n",
       "      <th>지점명</th>\n",
       "      <th>일시</th>\n",
       "      <th>기온(°C)</th>\n",
       "      <th>풍속(m/s)</th>\n",
       "      <th>강수량(mm)</th>\n",
       "      <th>습도(%)</th>\n",
       "      <th>날짜</th>\n",
       "      <th>시간</th>\n",
       "    </tr>\n",
       "  </thead>\n",
       "  <tbody>\n",
       "    <tr>\n",
       "      <th>0</th>\n",
       "      <td>116</td>\n",
       "      <td>관악(레)</td>\n",
       "      <td>2023-01-01 00:00</td>\n",
       "      <td>-1.7</td>\n",
       "      <td>4.4</td>\n",
       "      <td>0.0</td>\n",
       "      <td>76.0</td>\n",
       "      <td>2023-01-01</td>\n",
       "      <td>00:00</td>\n",
       "    </tr>\n",
       "    <tr>\n",
       "      <th>1</th>\n",
       "      <td>116</td>\n",
       "      <td>관악(레)</td>\n",
       "      <td>2023-01-01 01:00</td>\n",
       "      <td>-1.6</td>\n",
       "      <td>4.3</td>\n",
       "      <td>0.0</td>\n",
       "      <td>76.0</td>\n",
       "      <td>2023-01-01</td>\n",
       "      <td>01:00</td>\n",
       "    </tr>\n",
       "    <tr>\n",
       "      <th>2</th>\n",
       "      <td>116</td>\n",
       "      <td>관악(레)</td>\n",
       "      <td>2023-01-01 02:00</td>\n",
       "      <td>-1.5</td>\n",
       "      <td>4.8</td>\n",
       "      <td>0.0</td>\n",
       "      <td>82.0</td>\n",
       "      <td>2023-01-01</td>\n",
       "      <td>02:00</td>\n",
       "    </tr>\n",
       "    <tr>\n",
       "      <th>3</th>\n",
       "      <td>116</td>\n",
       "      <td>관악(레)</td>\n",
       "      <td>2023-01-01 03:00</td>\n",
       "      <td>-1.6</td>\n",
       "      <td>3.6</td>\n",
       "      <td>0.0</td>\n",
       "      <td>87.0</td>\n",
       "      <td>2023-01-01</td>\n",
       "      <td>03:00</td>\n",
       "    </tr>\n",
       "    <tr>\n",
       "      <th>4</th>\n",
       "      <td>116</td>\n",
       "      <td>관악(레)</td>\n",
       "      <td>2023-01-01 04:00</td>\n",
       "      <td>-2.5</td>\n",
       "      <td>3.8</td>\n",
       "      <td>0.0</td>\n",
       "      <td>91.0</td>\n",
       "      <td>2023-01-01</td>\n",
       "      <td>04:00</td>\n",
       "    </tr>\n",
       "    <tr>\n",
       "      <th>...</th>\n",
       "      <td>...</td>\n",
       "      <td>...</td>\n",
       "      <td>...</td>\n",
       "      <td>...</td>\n",
       "      <td>...</td>\n",
       "      <td>...</td>\n",
       "      <td>...</td>\n",
       "      <td>...</td>\n",
       "      <td>...</td>\n",
       "    </tr>\n",
       "    <tr>\n",
       "      <th>121614</th>\n",
       "      <td>889</td>\n",
       "      <td>현충원</td>\n",
       "      <td>2023-06-30 19:00</td>\n",
       "      <td>28.2</td>\n",
       "      <td>0.7</td>\n",
       "      <td>0.0</td>\n",
       "      <td>89.0</td>\n",
       "      <td>2023-06-30</td>\n",
       "      <td>19:00</td>\n",
       "    </tr>\n",
       "    <tr>\n",
       "      <th>121615</th>\n",
       "      <td>889</td>\n",
       "      <td>현충원</td>\n",
       "      <td>2023-06-30 20:00</td>\n",
       "      <td>25.8</td>\n",
       "      <td>0.4</td>\n",
       "      <td>0.0</td>\n",
       "      <td>98.0</td>\n",
       "      <td>2023-06-30</td>\n",
       "      <td>20:00</td>\n",
       "    </tr>\n",
       "    <tr>\n",
       "      <th>121616</th>\n",
       "      <td>889</td>\n",
       "      <td>현충원</td>\n",
       "      <td>2023-06-30 21:00</td>\n",
       "      <td>24.8</td>\n",
       "      <td>0.3</td>\n",
       "      <td>0.0</td>\n",
       "      <td>100.0</td>\n",
       "      <td>2023-06-30</td>\n",
       "      <td>21:00</td>\n",
       "    </tr>\n",
       "    <tr>\n",
       "      <th>121617</th>\n",
       "      <td>889</td>\n",
       "      <td>현충원</td>\n",
       "      <td>2023-06-30 22:00</td>\n",
       "      <td>24.2</td>\n",
       "      <td>0.2</td>\n",
       "      <td>0.0</td>\n",
       "      <td>100.0</td>\n",
       "      <td>2023-06-30</td>\n",
       "      <td>22:00</td>\n",
       "    </tr>\n",
       "    <tr>\n",
       "      <th>121618</th>\n",
       "      <td>889</td>\n",
       "      <td>현충원</td>\n",
       "      <td>2023-06-30 23:00</td>\n",
       "      <td>23.7</td>\n",
       "      <td>0.2</td>\n",
       "      <td>0.0</td>\n",
       "      <td>100.0</td>\n",
       "      <td>2023-06-30</td>\n",
       "      <td>23:00</td>\n",
       "    </tr>\n",
       "  </tbody>\n",
       "</table>\n",
       "<p>121619 rows × 9 columns</p>\n",
       "</div>"
      ],
      "text/plain": [
       "         지점    지점명                일시  기온(°C)  풍속(m/s)  강수량(mm)  습도(%)  \\\n",
       "0       116  관악(레)  2023-01-01 00:00    -1.7      4.4      0.0   76.0   \n",
       "1       116  관악(레)  2023-01-01 01:00    -1.6      4.3      0.0   76.0   \n",
       "2       116  관악(레)  2023-01-01 02:00    -1.5      4.8      0.0   82.0   \n",
       "3       116  관악(레)  2023-01-01 03:00    -1.6      3.6      0.0   87.0   \n",
       "4       116  관악(레)  2023-01-01 04:00    -2.5      3.8      0.0   91.0   \n",
       "...     ...    ...               ...     ...      ...      ...    ...   \n",
       "121614  889    현충원  2023-06-30 19:00    28.2      0.7      0.0   89.0   \n",
       "121615  889    현충원  2023-06-30 20:00    25.8      0.4      0.0   98.0   \n",
       "121616  889    현충원  2023-06-30 21:00    24.8      0.3      0.0  100.0   \n",
       "121617  889    현충원  2023-06-30 22:00    24.2      0.2      0.0  100.0   \n",
       "121618  889    현충원  2023-06-30 23:00    23.7      0.2      0.0  100.0   \n",
       "\n",
       "                날짜     시간  \n",
       "0       2023-01-01  00:00  \n",
       "1       2023-01-01  01:00  \n",
       "2       2023-01-01  02:00  \n",
       "3       2023-01-01  03:00  \n",
       "4       2023-01-01  04:00  \n",
       "...            ...    ...  \n",
       "121614  2023-06-30  19:00  \n",
       "121615  2023-06-30  20:00  \n",
       "121616  2023-06-30  21:00  \n",
       "121617  2023-06-30  22:00  \n",
       "121618  2023-06-30  23:00  \n",
       "\n",
       "[121619 rows x 9 columns]"
      ]
     },
     "execution_count": 4,
     "metadata": {},
     "output_type": "execute_result"
    }
   ],
   "source": [
    "dropped_weather_df['날짜'] = dropped_weather_df['일시'].str.split(' ').str[0]\n",
    "dropped_weather_df['시간'] = dropped_weather_df['일시'].str.split(' ').str[1]\n",
    "dropped_weather_df"
   ]
  },
  {
   "cell_type": "markdown",
   "id": "09a3cf5a",
   "metadata": {},
   "source": [
    "#### 2-3-4. 데이터 확인 및 전처리 (기온)"
   ]
  },
  {
   "cell_type": "code",
   "execution_count": 49,
   "id": "e78feadb",
   "metadata": {
    "ExecuteTime": {
     "end_time": "2023-11-18T04:32:53.136647Z",
     "start_time": "2023-11-18T04:32:53.081168Z"
    }
   },
   "outputs": [
    {
     "data": {
      "text/plain": [
       "count    121411.000000\n",
       "mean         11.005864\n",
       "std           9.928642\n",
       "min         -22.100000\n",
       "25%           3.100000\n",
       "50%          11.300000\n",
       "75%          19.300000\n",
       "max          34.900000\n",
       "Name: 기온(°C), dtype: float64"
      ]
     },
     "execution_count": 49,
     "metadata": {},
     "output_type": "execute_result"
    }
   ],
   "source": [
    "dropped_weather_df['기온(°C)'].describe()"
   ]
  },
  {
   "cell_type": "code",
   "execution_count": 50,
   "id": "1b29dbcf",
   "metadata": {
    "ExecuteTime": {
     "end_time": "2023-11-18T04:33:07.028350Z",
     "start_time": "2023-11-18T04:33:06.941924Z"
    }
   },
   "outputs": [
    {
     "data": {
      "image/png": "[encoded data removed]",
      "text/plain": [
       "<Figure size 640x480 with 1 Axes>"
      ]
     },
     "metadata": {},
     "output_type": "display_data"
    }
   ],
   "source": [
    "dropped_weather_df['기온(°C)'].plot(kind='box')\n",
    "plt.show()"
   ]
  },
  {
   "cell_type": "markdown",
   "id": "7c63d96a",
   "metadata": {},
   "source": [
    "대략 5도 근방에서 20도 정도까지에 데이터들이 몰려있는 것 같다. 이상치로 영하 20도 이하의 데이터도 있다!"
   ]
  },
  {
   "cell_type": "markdown",
   "id": "b46264e1",
   "metadata": {},
   "source": [
    "#### 2-3-5. 데이터 확인 및 전처리 (바람)"
   ]
  },
  {
   "cell_type": "code",
   "execution_count": 51,
   "id": "959a90f8",
   "metadata": {
    "ExecuteTime": {
     "end_time": "2023-11-18T04:34:11.807932Z",
     "start_time": "2023-11-18T04:34:11.793891Z"
    }
   },
   "outputs": [
    {
     "data": {
      "text/plain": [
       "count    121543.000000\n",
       "mean          1.652618\n",
       "std           1.124294\n",
       "min           0.000000\n",
       "25%           0.800000\n",
       "50%           1.500000\n",
       "75%           2.200000\n",
       "max          10.900000\n",
       "Name: 풍속(m/s), dtype: float64"
      ]
     },
     "execution_count": 51,
     "metadata": {},
     "output_type": "execute_result"
    }
   ],
   "source": [
    "dropped_weather_df['풍속(m/s)'].describe()"
   ]
  },
  {
   "cell_type": "code",
   "execution_count": 52,
   "id": "15e64d92",
   "metadata": {
    "ExecuteTime": {
     "end_time": "2023-11-18T04:34:22.337439Z",
     "start_time": "2023-11-18T04:34:22.248252Z"
    }
   },
   "outputs": [
    {
     "data": {
      "image/png": "[encoded data removed]",
      "text/plain": [
       "<Figure size 640x480 with 1 Axes>"
      ]
     },
     "metadata": {},
     "output_type": "display_data"
    }
   ],
   "source": [
    "dropped_weather_df['풍속(m/s)'].plot(kind='box')\n",
    "plt.show()"
   ]
  },
  {
   "cell_type": "markdown",
   "id": "fdeb095f",
   "metadata": {},
   "source": [
    "풍속은 대체로 잔잔한 편인 경우가 많지만 좀 바람이 세게 불면 그게 다 이상치로 측정되는 모양이다."
   ]
  },
  {
   "cell_type": "markdown",
   "id": "1af96b05",
   "metadata": {},
   "source": [
    "#### 2-3-6. 데이터 확인 및 전처리 (비)"
   ]
  },
  {
   "cell_type": "code",
   "execution_count": 85,
   "id": "c3fdddf6",
   "metadata": {
    "ExecuteTime": {
     "end_time": "2023-11-17T18:11:54.719258Z",
     "start_time": "2023-11-17T18:11:54.658543Z"
    }
   },
   "outputs": [
    {
     "data": {
      "text/plain": [
       "지점         5574\n",
       "지점명        5574\n",
       "일시         5574\n",
       "기온(°C)     5565\n",
       "풍속(m/s)    5573\n",
       "강수량(mm)    5574\n",
       "습도(%)      5202\n",
       "날짜         5574\n",
       "시간         5574\n",
       "dtype: int64"
      ]
     },
     "execution_count": 85,
     "metadata": {},
     "output_type": "execute_result"
    }
   ],
   "source": [
    "dropped_weather_df[dropped_weather_df['강수량(mm)'] > 0].count()"
   ]
  },
  {
   "cell_type": "markdown",
   "id": "1b101b05",
   "metadata": {},
   "source": [
    "비가 왔는지 안 왔는지를 표현해 주는 컬럼이 필요할 듯하다."
   ]
  },
  {
   "cell_type": "code",
   "execution_count": 5,
   "id": "b6d71390",
   "metadata": {
    "ExecuteTime": {
     "end_time": "2023-11-18T03:46:47.912732Z",
     "start_time": "2023-11-18T03:46:47.849222Z"
    }
   },
   "outputs": [
    {
     "data": {
      "text/html": [
       "<div>\n",
       "<style scoped>\n",
       "    .dataframe tbody tr th:only-of-type {\n",
       "        vertical-align: middle;\n",
       "    }\n",
       "\n",
       "    .dataframe tbody tr th {\n",
       "        vertical-align: top;\n",
       "    }\n",
       "\n",
       "    .dataframe thead th {\n",
       "        text-align: right;\n",
       "    }\n",
       "</style>\n",
       "<table border=\"1\" class=\"dataframe\">\n",
       "  <thead>\n",
       "    <tr style=\"text-align: right;\">\n",
       "      <th></th>\n",
       "      <th>지점</th>\n",
       "      <th>지점명</th>\n",
       "      <th>일시</th>\n",
       "      <th>기온(°C)</th>\n",
       "      <th>풍속(m/s)</th>\n",
       "      <th>강수량(mm)</th>\n",
       "      <th>습도(%)</th>\n",
       "      <th>날짜</th>\n",
       "      <th>시간</th>\n",
       "      <th>강수여부</th>\n",
       "    </tr>\n",
       "  </thead>\n",
       "  <tbody>\n",
       "    <tr>\n",
       "      <th>143</th>\n",
       "      <td>116</td>\n",
       "      <td>관악(레)</td>\n",
       "      <td>2023-01-06 23:00</td>\n",
       "      <td>NaN</td>\n",
       "      <td>8.2</td>\n",
       "      <td>1.0</td>\n",
       "      <td>98.0</td>\n",
       "      <td>2023-01-06</td>\n",
       "      <td>23:00</td>\n",
       "      <td>1</td>\n",
       "    </tr>\n",
       "    <tr>\n",
       "      <th>289</th>\n",
       "      <td>116</td>\n",
       "      <td>관악(레)</td>\n",
       "      <td>2023-01-13 01:00</td>\n",
       "      <td>4.7</td>\n",
       "      <td>5.9</td>\n",
       "      <td>1.0</td>\n",
       "      <td>77.0</td>\n",
       "      <td>2023-01-13</td>\n",
       "      <td>01:00</td>\n",
       "      <td>1</td>\n",
       "    </tr>\n",
       "    <tr>\n",
       "      <th>290</th>\n",
       "      <td>116</td>\n",
       "      <td>관악(레)</td>\n",
       "      <td>2023-01-13 02:00</td>\n",
       "      <td>3.4</td>\n",
       "      <td>3.2</td>\n",
       "      <td>4.0</td>\n",
       "      <td>97.0</td>\n",
       "      <td>2023-01-13</td>\n",
       "      <td>02:00</td>\n",
       "      <td>1</td>\n",
       "    </tr>\n",
       "    <tr>\n",
       "      <th>291</th>\n",
       "      <td>116</td>\n",
       "      <td>관악(레)</td>\n",
       "      <td>2023-01-13 03:00</td>\n",
       "      <td>4.7</td>\n",
       "      <td>7.2</td>\n",
       "      <td>6.0</td>\n",
       "      <td>98.0</td>\n",
       "      <td>2023-01-13</td>\n",
       "      <td>03:00</td>\n",
       "      <td>1</td>\n",
       "    </tr>\n",
       "    <tr>\n",
       "      <th>292</th>\n",
       "      <td>116</td>\n",
       "      <td>관악(레)</td>\n",
       "      <td>2023-01-13 04:00</td>\n",
       "      <td>5.4</td>\n",
       "      <td>9.2</td>\n",
       "      <td>1.5</td>\n",
       "      <td>98.0</td>\n",
       "      <td>2023-01-13</td>\n",
       "      <td>04:00</td>\n",
       "      <td>1</td>\n",
       "    </tr>\n",
       "    <tr>\n",
       "      <th>...</th>\n",
       "      <td>...</td>\n",
       "      <td>...</td>\n",
       "      <td>...</td>\n",
       "      <td>...</td>\n",
       "      <td>...</td>\n",
       "      <td>...</td>\n",
       "      <td>...</td>\n",
       "      <td>...</td>\n",
       "      <td>...</td>\n",
       "      <td>...</td>\n",
       "    </tr>\n",
       "    <tr>\n",
       "      <th>121587</th>\n",
       "      <td>889</td>\n",
       "      <td>현충원</td>\n",
       "      <td>2023-06-29 16:00</td>\n",
       "      <td>23.3</td>\n",
       "      <td>0.5</td>\n",
       "      <td>16.0</td>\n",
       "      <td>100.0</td>\n",
       "      <td>2023-06-29</td>\n",
       "      <td>16:00</td>\n",
       "      <td>1</td>\n",
       "    </tr>\n",
       "    <tr>\n",
       "      <th>121590</th>\n",
       "      <td>889</td>\n",
       "      <td>현충원</td>\n",
       "      <td>2023-06-29 19:00</td>\n",
       "      <td>24.3</td>\n",
       "      <td>2.0</td>\n",
       "      <td>0.5</td>\n",
       "      <td>100.0</td>\n",
       "      <td>2023-06-29</td>\n",
       "      <td>19:00</td>\n",
       "      <td>1</td>\n",
       "    </tr>\n",
       "    <tr>\n",
       "      <th>121591</th>\n",
       "      <td>889</td>\n",
       "      <td>현충원</td>\n",
       "      <td>2023-06-29 20:00</td>\n",
       "      <td>24.1</td>\n",
       "      <td>1.6</td>\n",
       "      <td>0.5</td>\n",
       "      <td>100.0</td>\n",
       "      <td>2023-06-29</td>\n",
       "      <td>20:00</td>\n",
       "      <td>1</td>\n",
       "    </tr>\n",
       "    <tr>\n",
       "      <th>121592</th>\n",
       "      <td>889</td>\n",
       "      <td>현충원</td>\n",
       "      <td>2023-06-29 21:00</td>\n",
       "      <td>24.0</td>\n",
       "      <td>1.5</td>\n",
       "      <td>0.5</td>\n",
       "      <td>100.0</td>\n",
       "      <td>2023-06-29</td>\n",
       "      <td>21:00</td>\n",
       "      <td>1</td>\n",
       "    </tr>\n",
       "    <tr>\n",
       "      <th>121598</th>\n",
       "      <td>889</td>\n",
       "      <td>현충원</td>\n",
       "      <td>2023-06-30 03:00</td>\n",
       "      <td>23.8</td>\n",
       "      <td>0.7</td>\n",
       "      <td>0.5</td>\n",
       "      <td>100.0</td>\n",
       "      <td>2023-06-30</td>\n",
       "      <td>03:00</td>\n",
       "      <td>1</td>\n",
       "    </tr>\n",
       "  </tbody>\n",
       "</table>\n",
       "<p>5574 rows × 10 columns</p>\n",
       "</div>"
      ],
      "text/plain": [
       "         지점    지점명                일시  기온(°C)  풍속(m/s)  강수량(mm)  습도(%)  \\\n",
       "143     116  관악(레)  2023-01-06 23:00     NaN      8.2      1.0   98.0   \n",
       "289     116  관악(레)  2023-01-13 01:00     4.7      5.9      1.0   77.0   \n",
       "290     116  관악(레)  2023-01-13 02:00     3.4      3.2      4.0   97.0   \n",
       "291     116  관악(레)  2023-01-13 03:00     4.7      7.2      6.0   98.0   \n",
       "292     116  관악(레)  2023-01-13 04:00     5.4      9.2      1.5   98.0   \n",
       "...     ...    ...               ...     ...      ...      ...    ...   \n",
       "121587  889    현충원  2023-06-29 16:00    23.3      0.5     16.0  100.0   \n",
       "121590  889    현충원  2023-06-29 19:00    24.3      2.0      0.5  100.0   \n",
       "121591  889    현충원  2023-06-29 20:00    24.1      1.6      0.5  100.0   \n",
       "121592  889    현충원  2023-06-29 21:00    24.0      1.5      0.5  100.0   \n",
       "121598  889    현충원  2023-06-30 03:00    23.8      0.7      0.5  100.0   \n",
       "\n",
       "                날짜     시간  강수여부  \n",
       "143     2023-01-06  23:00     1  \n",
       "289     2023-01-13  01:00     1  \n",
       "290     2023-01-13  02:00     1  \n",
       "291     2023-01-13  03:00     1  \n",
       "292     2023-01-13  04:00     1  \n",
       "...            ...    ...   ...  \n",
       "121587  2023-06-29  16:00     1  \n",
       "121590  2023-06-29  19:00     1  \n",
       "121591  2023-06-29  20:00     1  \n",
       "121592  2023-06-29  21:00     1  \n",
       "121598  2023-06-30  03:00     1  \n",
       "\n",
       "[5574 rows x 10 columns]"
      ]
     },
     "execution_count": 5,
     "metadata": {},
     "output_type": "execute_result"
    }
   ],
   "source": [
    "dropped_weather_df['강수여부'] = dropped_weather_df['강수량(mm)'].apply(\n",
    "    lambda x:1 if x > 0 else 0\n",
    ")\n",
    "\n",
    "dropped_weather_df[dropped_weather_df['강수여부'] == 1]"
   ]
  },
  {
   "cell_type": "markdown",
   "id": "e86d7646",
   "metadata": {},
   "source": [
    "#### 2-3-7. 데이터 확인 및 전처리 (습도)"
   ]
  },
  {
   "cell_type": "code",
   "execution_count": 53,
   "id": "3dcb540e",
   "metadata": {
    "ExecuteTime": {
     "end_time": "2023-11-18T04:34:59.179890Z",
     "start_time": "2023-11-18T04:34:59.152313Z"
    }
   },
   "outputs": [
    {
     "data": {
      "text/plain": [
       "count    112821.000000\n",
       "mean         58.098466\n",
       "std          22.521124\n",
       "min           5.000000\n",
       "25%          40.000000\n",
       "50%          57.000000\n",
       "75%          76.000000\n",
       "max         100.000000\n",
       "Name: 습도(%), dtype: float64"
      ]
     },
     "execution_count": 53,
     "metadata": {},
     "output_type": "execute_result"
    }
   ],
   "source": [
    "dropped_weather_df['습도(%)'].describe()"
   ]
  },
  {
   "cell_type": "code",
   "execution_count": 54,
   "id": "6912f1f9",
   "metadata": {
    "ExecuteTime": {
     "end_time": "2023-11-18T04:35:10.114485Z",
     "start_time": "2023-11-18T04:35:10.034221Z"
    }
   },
   "outputs": [
    {
     "data": {
      "image/png": "[encoded data removed]",
      "text/plain": [
       "<Figure size 640x480 with 1 Axes>"
      ]
     },
     "metadata": {},
     "output_type": "display_data"
    }
   ],
   "source": [
    "dropped_weather_df['습도(%)'].plot(kind='box')\n",
    "plt.show()"
   ]
  },
  {
   "cell_type": "markdown",
   "id": "2a85b1ee",
   "metadata": {},
   "source": [
    "습도는 40~80% 범위에서 예쁘게 분포되어 있다."
   ]
  },
  {
   "cell_type": "markdown",
   "id": "54277e11",
   "metadata": {},
   "source": [
    "#### 2-3-8. 파생 변수 생성 (체감온도)"
   ]
  },
  {
   "cell_type": "markdown",
   "id": "488de7dd",
   "metadata": {},
   "source": [
    "체감온도는 인간이 느끼는 더위나 추위를 수량적으로 나타내는 지표이다. 본 분석에서 '날씨가 좋을 때'를 나타내는 파생 지표로써 활용하기에 정말 좋을 것으로 보인다. 기상청에서는 동절기(10월\\~4월), 하절기(5월\\~9월)를 구분하여 체감온도를 산출한다.\n",
    "\n",
    "$$T_{wcs} = -0.2442 + 0.55399T_w + 0.45535T_a – 0.0022{T_w}^2 + 0.00278T_wT_a + 3.0$$\n",
    "$$T_{wcw} = 13.12 + 0.6215T_a - 11.37V^{0.16} + 0.3965V^{0.16}T_a$$\n",
    "\n",
    "이때 $T_{wcs}$: 여름철 체감온도, $T_{wcw}$: 겨울철 체감온도, $T_a$: 기온(°C), $T_w$: 습구온도(Stull의 추정식 이용), $RH$: 상대습도(%), $V$: 10분 평균 풍속(km/h)이다. 겨울철 체감온도는 기온 10°C 이하, 풍속 1.3 m/s 이상일 때에만 산출한다.\n",
    "\n",
    "습구온도($T_w$)를 구하기 위한 [Stull의 추정식](https://open.library.ubc.ca/media/stream/pdf/52383/1.0041967/1)[1]은 아래와 같다.\n",
    "\n",
    "$$T_w = T_a{tan}^{-1}(0.151977(RH+8.313659)^{0.5})+{tan}^{-1}(T_a+RH)-{tan}^{-1}(RH-1.67633)$$\n",
    "$$+{0.00391838RH}^{1.5}{tan}^{-1}(0.023101RH)-4.686035$$\n",
    "\n",
    "이상의 공식을 활용하여, 체감온도 파생 변수를 만들고 이를 이용해 분석을 진행해 보도록 한다.\n",
    "\n",
    "---\n",
    "[1] Stull, R. (2011). Wet-bulb temperature from relative humidity and air temperature. *J. Appl. Meteorol. Climatol.*, Vol. 50, pp.2267-2269."
   ]
  },
  {
   "cell_type": "code",
   "execution_count": 6,
   "id": "5a7137c5",
   "metadata": {
    "ExecuteTime": {
     "end_time": "2023-11-18T03:46:56.047218Z",
     "start_time": "2023-11-18T03:46:56.024615Z"
    }
   },
   "outputs": [],
   "source": [
    "def get_tw(ta, rh):\n",
    "    '''\n",
    "    Stull의 추정식을 이용하여, 온도와 습도로부터 습구온도를 계산하는 함수\n",
    "    '''\n",
    "    tw = ta * math.atan(0.151977 * ((rh + 8.313659) ** 0.5))\n",
    "    tw += math.atan(ta + rh)\n",
    "    tw -= math.atan(rh - 1.67633)\n",
    "    tw += (0.00391838 * (rh ** 1.5) * math.atan(0.023101 * rh))\n",
    "    tw -= 4.686035\n",
    "    return tw\n",
    "\n",
    "def get_summer_twc(ta, rh):\n",
    "    '''\n",
    "    온도, 습도를 통해 여름철의 체감온도를 계산하는 함수\n",
    "    '''\n",
    "    tw = get_tw(ta, rh) \n",
    "    twcs = -0.2442 + (0.55399 * tw) + (0.45535 * ta) - (0.0022 * (tw ** 2)) + (0.00278 * tw * ta) + 3.0\n",
    "    return twcs\n",
    "\n",
    "def get_winter_twc(ta, v):\n",
    "    '''\n",
    "    온도, 풍속을 통해 겨울철의 체감온도를 계산하는 함수\n",
    "    '''\n",
    "    if ta <= 10 and v >= 1.3:\n",
    "        twcw = 13.12 + (0.6215 * ta) - (11.37 * (v ** 0.16)) + (0.3965 * (v ** 0.16) * ta)\n",
    "    else:\n",
    "        twcw = ta\n",
    "    return min(twcw, ta)\n",
    "\n",
    "def get_twc(row):\n",
    "    '''\n",
    "    데이터프레임 한 줄을 받았을 때 해당 줄의 체감온도를 알아서 계산해 주는 함수\n",
    "    '''\n",
    "    month = row['날짜'].split('-')[1]\n",
    "    ta, v, rh = row['기온(°C)'], row['풍속(m/s)'], row['습도(%)']\n",
    "    \n",
    "    if month in ['05', '06', '07', '08', '09']:\n",
    "        return get_summer_twc(ta, rh)\n",
    "    else:\n",
    "        return get_winter_twc(ta, v)"
   ]
  },
  {
   "cell_type": "markdown",
   "id": "96e1d20b",
   "metadata": {},
   "source": [
    "제대로 작동되는지 테스트해보자."
   ]
  },
  {
   "cell_type": "code",
   "execution_count": 90,
   "id": "3a7535c7",
   "metadata": {
    "ExecuteTime": {
     "end_time": "2023-11-17T18:15:21.294513Z",
     "start_time": "2023-11-17T18:15:21.244695Z"
    }
   },
   "outputs": [
    {
     "name": "stdout",
     "output_type": "stream",
     "text": [
      "여름철: 31.030348083019742\n",
      "겨울철: 8.754798314643951\n"
     ]
    }
   ],
   "source": [
    "# 테스트해보기\n",
    "print(\"여름철:\", get_summer_twc(28.6, 85))\n",
    "print(\"겨울철:\", get_winter_twc(9.4, 6.1))"
   ]
  },
  {
   "cell_type": "markdown",
   "id": "50206ed0",
   "metadata": {
    "ExecuteTime": {
     "end_time": "2023-11-06T07:03:11.814232Z",
     "start_time": "2023-11-06T07:03:11.786226Z"
    }
   },
   "source": [
    "기상청 날씨누리에서 임의 데이터 하나 긁어서 넣은 건데, **여름철은 제대로 나오고**, 겨울철은 조금 고민이 필요하다. 일단 함수는 잘 작동하는데, 다만 데이터에서 제공되는 게 1시간 평균 풍속이기 때문이다. 체감온도에 10분 평균 풍속을 넣어야 해서 조금 부정확한 결과가 나올 수 있다."
   ]
  },
  {
   "cell_type": "code",
   "execution_count": 7,
   "id": "0897188f",
   "metadata": {
    "ExecuteTime": {
     "end_time": "2023-11-18T03:47:00.630787Z",
     "start_time": "2023-11-18T03:46:59.564787Z"
    }
   },
   "outputs": [
    {
     "data": {
      "text/html": [
       "<div>\n",
       "<style scoped>\n",
       "    .dataframe tbody tr th:only-of-type {\n",
       "        vertical-align: middle;\n",
       "    }\n",
       "\n",
       "    .dataframe tbody tr th {\n",
       "        vertical-align: top;\n",
       "    }\n",
       "\n",
       "    .dataframe thead th {\n",
       "        text-align: right;\n",
       "    }\n",
       "</style>\n",
       "<table border=\"1\" class=\"dataframe\">\n",
       "  <thead>\n",
       "    <tr style=\"text-align: right;\">\n",
       "      <th></th>\n",
       "      <th>지점</th>\n",
       "      <th>지점명</th>\n",
       "      <th>일시</th>\n",
       "      <th>기온(°C)</th>\n",
       "      <th>풍속(m/s)</th>\n",
       "      <th>강수량(mm)</th>\n",
       "      <th>습도(%)</th>\n",
       "      <th>날짜</th>\n",
       "      <th>시간</th>\n",
       "      <th>강수여부</th>\n",
       "      <th>체감온도</th>\n",
       "    </tr>\n",
       "  </thead>\n",
       "  <tbody>\n",
       "    <tr>\n",
       "      <th>0</th>\n",
       "      <td>116</td>\n",
       "      <td>관악(레)</td>\n",
       "      <td>2023-01-01 00:00</td>\n",
       "      <td>-1.7</td>\n",
       "      <td>4.4</td>\n",
       "      <td>0.0</td>\n",
       "      <td>76.0</td>\n",
       "      <td>2023-01-01</td>\n",
       "      <td>00:00</td>\n",
       "      <td>0</td>\n",
       "      <td>-3.202540</td>\n",
       "    </tr>\n",
       "    <tr>\n",
       "      <th>1</th>\n",
       "      <td>116</td>\n",
       "      <td>관악(레)</td>\n",
       "      <td>2023-01-01 01:00</td>\n",
       "      <td>-1.6</td>\n",
       "      <td>4.3</td>\n",
       "      <td>0.0</td>\n",
       "      <td>76.0</td>\n",
       "      <td>2023-01-01</td>\n",
       "      <td>01:00</td>\n",
       "      <td>0</td>\n",
       "      <td>-3.034268</td>\n",
       "    </tr>\n",
       "    <tr>\n",
       "      <th>2</th>\n",
       "      <td>116</td>\n",
       "      <td>관악(레)</td>\n",
       "      <td>2023-01-01 02:00</td>\n",
       "      <td>-1.5</td>\n",
       "      <td>4.8</td>\n",
       "      <td>0.0</td>\n",
       "      <td>82.0</td>\n",
       "      <td>2023-01-01</td>\n",
       "      <td>02:00</td>\n",
       "      <td>0</td>\n",
       "      <td>-3.190334</td>\n",
       "    </tr>\n",
       "    <tr>\n",
       "      <th>3</th>\n",
       "      <td>116</td>\n",
       "      <td>관악(레)</td>\n",
       "      <td>2023-01-01 03:00</td>\n",
       "      <td>-1.6</td>\n",
       "      <td>3.6</td>\n",
       "      <td>0.0</td>\n",
       "      <td>87.0</td>\n",
       "      <td>2023-01-01</td>\n",
       "      <td>03:00</td>\n",
       "      <td>0</td>\n",
       "      <td>-2.609357</td>\n",
       "    </tr>\n",
       "    <tr>\n",
       "      <th>4</th>\n",
       "      <td>116</td>\n",
       "      <td>관악(레)</td>\n",
       "      <td>2023-01-01 04:00</td>\n",
       "      <td>-2.5</td>\n",
       "      <td>3.8</td>\n",
       "      <td>0.0</td>\n",
       "      <td>91.0</td>\n",
       "      <td>2023-01-01</td>\n",
       "      <td>04:00</td>\n",
       "      <td>0</td>\n",
       "      <td>-3.738554</td>\n",
       "    </tr>\n",
       "    <tr>\n",
       "      <th>...</th>\n",
       "      <td>...</td>\n",
       "      <td>...</td>\n",
       "      <td>...</td>\n",
       "      <td>...</td>\n",
       "      <td>...</td>\n",
       "      <td>...</td>\n",
       "      <td>...</td>\n",
       "      <td>...</td>\n",
       "      <td>...</td>\n",
       "      <td>...</td>\n",
       "      <td>...</td>\n",
       "    </tr>\n",
       "    <tr>\n",
       "      <th>121614</th>\n",
       "      <td>889</td>\n",
       "      <td>현충원</td>\n",
       "      <td>2023-06-30 19:00</td>\n",
       "      <td>28.2</td>\n",
       "      <td>0.7</td>\n",
       "      <td>0.0</td>\n",
       "      <td>89.0</td>\n",
       "      <td>2023-06-30</td>\n",
       "      <td>19:00</td>\n",
       "      <td>0</td>\n",
       "      <td>30.914765</td>\n",
       "    </tr>\n",
       "    <tr>\n",
       "      <th>121615</th>\n",
       "      <td>889</td>\n",
       "      <td>현충원</td>\n",
       "      <td>2023-06-30 20:00</td>\n",
       "      <td>25.8</td>\n",
       "      <td>0.4</td>\n",
       "      <td>0.0</td>\n",
       "      <td>98.0</td>\n",
       "      <td>2023-06-30</td>\n",
       "      <td>20:00</td>\n",
       "      <td>0</td>\n",
       "      <td>29.069218</td>\n",
       "    </tr>\n",
       "    <tr>\n",
       "      <th>121616</th>\n",
       "      <td>889</td>\n",
       "      <td>현충원</td>\n",
       "      <td>2023-06-30 21:00</td>\n",
       "      <td>24.8</td>\n",
       "      <td>0.3</td>\n",
       "      <td>0.0</td>\n",
       "      <td>100.0</td>\n",
       "      <td>2023-06-30</td>\n",
       "      <td>21:00</td>\n",
       "      <td>0</td>\n",
       "      <td>28.166841</td>\n",
       "    </tr>\n",
       "    <tr>\n",
       "      <th>121617</th>\n",
       "      <td>889</td>\n",
       "      <td>현충원</td>\n",
       "      <td>2023-06-30 22:00</td>\n",
       "      <td>24.2</td>\n",
       "      <td>0.2</td>\n",
       "      <td>0.0</td>\n",
       "      <td>100.0</td>\n",
       "      <td>2023-06-30</td>\n",
       "      <td>22:00</td>\n",
       "      <td>0</td>\n",
       "      <td>27.542044</td>\n",
       "    </tr>\n",
       "    <tr>\n",
       "      <th>121618</th>\n",
       "      <td>889</td>\n",
       "      <td>현충원</td>\n",
       "      <td>2023-06-30 23:00</td>\n",
       "      <td>23.7</td>\n",
       "      <td>0.2</td>\n",
       "      <td>0.0</td>\n",
       "      <td>100.0</td>\n",
       "      <td>2023-06-30</td>\n",
       "      <td>23:00</td>\n",
       "      <td>0</td>\n",
       "      <td>27.021692</td>\n",
       "    </tr>\n",
       "  </tbody>\n",
       "</table>\n",
       "<p>121619 rows × 11 columns</p>\n",
       "</div>"
      ],
      "text/plain": [
       "         지점    지점명                일시  기온(°C)  풍속(m/s)  강수량(mm)  습도(%)  \\\n",
       "0       116  관악(레)  2023-01-01 00:00    -1.7      4.4      0.0   76.0   \n",
       "1       116  관악(레)  2023-01-01 01:00    -1.6      4.3      0.0   76.0   \n",
       "2       116  관악(레)  2023-01-01 02:00    -1.5      4.8      0.0   82.0   \n",
       "3       116  관악(레)  2023-01-01 03:00    -1.6      3.6      0.0   87.0   \n",
       "4       116  관악(레)  2023-01-01 04:00    -2.5      3.8      0.0   91.0   \n",
       "...     ...    ...               ...     ...      ...      ...    ...   \n",
       "121614  889    현충원  2023-06-30 19:00    28.2      0.7      0.0   89.0   \n",
       "121615  889    현충원  2023-06-30 20:00    25.8      0.4      0.0   98.0   \n",
       "121616  889    현충원  2023-06-30 21:00    24.8      0.3      0.0  100.0   \n",
       "121617  889    현충원  2023-06-30 22:00    24.2      0.2      0.0  100.0   \n",
       "121618  889    현충원  2023-06-30 23:00    23.7      0.2      0.0  100.0   \n",
       "\n",
       "                날짜     시간  강수여부       체감온도  \n",
       "0       2023-01-01  00:00     0  -3.202540  \n",
       "1       2023-01-01  01:00     0  -3.034268  \n",
       "2       2023-01-01  02:00     0  -3.190334  \n",
       "3       2023-01-01  03:00     0  -2.609357  \n",
       "4       2023-01-01  04:00     0  -3.738554  \n",
       "...            ...    ...   ...        ...  \n",
       "121614  2023-06-30  19:00     0  30.914765  \n",
       "121615  2023-06-30  20:00     0  29.069218  \n",
       "121616  2023-06-30  21:00     0  28.166841  \n",
       "121617  2023-06-30  22:00     0  27.542044  \n",
       "121618  2023-06-30  23:00     0  27.021692  \n",
       "\n",
       "[121619 rows x 11 columns]"
      ]
     },
     "execution_count": 7,
     "metadata": {},
     "output_type": "execute_result"
    }
   ],
   "source": [
    "dropped_weather_df['체감온도'] = dropped_weather_df.apply(get_twc, axis=1)\n",
    "dropped_weather_df"
   ]
  },
  {
   "cell_type": "code",
   "execution_count": 116,
   "id": "ece76a09",
   "metadata": {
    "ExecuteTime": {
     "end_time": "2023-11-17T18:35:20.387025Z",
     "start_time": "2023-11-17T18:35:20.315974Z"
    }
   },
   "outputs": [
    {
     "data": {
      "text/plain": [
       "3185"
      ]
     },
     "execution_count": 116,
     "metadata": {},
     "output_type": "execute_result"
    }
   ],
   "source": [
    "dropped_weather_df['체감온도'].isna().sum()"
   ]
  },
  {
   "cell_type": "markdown",
   "id": "08bb7798",
   "metadata": {},
   "source": [
    "잘 들어간 것 같다."
   ]
  },
  {
   "cell_type": "code",
   "execution_count": 55,
   "id": "1b8b2c3b",
   "metadata": {
    "ExecuteTime": {
     "end_time": "2023-11-18T04:36:56.052612Z",
     "start_time": "2023-11-18T04:36:56.036615Z"
    }
   },
   "outputs": [
    {
     "data": {
      "text/plain": [
       "count    118434.000000\n",
       "mean         10.922377\n",
       "std          10.186006\n",
       "min         -27.880532\n",
       "25%           2.847579\n",
       "50%          11.055580\n",
       "75%          20.000000\n",
       "max          33.622093\n",
       "Name: 체감온도, dtype: float64"
      ]
     },
     "execution_count": 55,
     "metadata": {},
     "output_type": "execute_result"
    }
   ],
   "source": [
    "dropped_weather_df['체감온도'].describe()"
   ]
  },
  {
   "cell_type": "code",
   "execution_count": 56,
   "id": "a3585160",
   "metadata": {
    "ExecuteTime": {
     "end_time": "2023-11-18T04:36:57.882716Z",
     "start_time": "2023-11-18T04:36:57.803292Z"
    }
   },
   "outputs": [
    {
     "data": {
      "image/png": "[encoded data removed]",
      "text/plain": [
       "<Figure size 640x480 with 1 Axes>"
      ]
     },
     "metadata": {},
     "output_type": "display_data"
    }
   ],
   "source": [
    "dropped_weather_df['체감온도'].plot(kind='box')\n",
    "plt.show()"
   ]
  },
  {
   "cell_type": "markdown",
   "id": "ea12dc0f",
   "metadata": {},
   "source": [
    "진짜 추운 날에는 영하 30도 근처까지 내려간다. 날도 춥고 칼바람 쌩쌩 부는 날인 모양이다."
   ]
  },
  {
   "cell_type": "markdown",
   "id": "6b61908d",
   "metadata": {},
   "source": [
    "#### 2-3-9. 일 단위로 집계"
   ]
  },
  {
   "cell_type": "code",
   "execution_count": 8,
   "id": "70010b40",
   "metadata": {
    "ExecuteTime": {
     "end_time": "2023-11-18T03:48:09.266382Z",
     "start_time": "2023-11-18T03:48:09.215408Z"
    }
   },
   "outputs": [
    {
     "data": {
      "text/html": [
       "<div>\n",
       "<style scoped>\n",
       "    .dataframe tbody tr th:only-of-type {\n",
       "        vertical-align: middle;\n",
       "    }\n",
       "\n",
       "    .dataframe tbody tr th {\n",
       "        vertical-align: top;\n",
       "    }\n",
       "\n",
       "    .dataframe thead th {\n",
       "        text-align: right;\n",
       "    }\n",
       "</style>\n",
       "<table border=\"1\" class=\"dataframe\">\n",
       "  <thead>\n",
       "    <tr style=\"text-align: right;\">\n",
       "      <th></th>\n",
       "      <th>날짜</th>\n",
       "      <th>지점</th>\n",
       "      <th>강수여부</th>\n",
       "      <th>체감온도</th>\n",
       "      <th>기온(°C)</th>\n",
       "      <th>풍속(m/s)</th>\n",
       "    </tr>\n",
       "  </thead>\n",
       "  <tbody>\n",
       "    <tr>\n",
       "      <th>0</th>\n",
       "      <td>2023-01-01</td>\n",
       "      <td>116</td>\n",
       "      <td>0</td>\n",
       "      <td>-5.883430</td>\n",
       "      <td>-3.883333</td>\n",
       "      <td>4.895833</td>\n",
       "    </tr>\n",
       "    <tr>\n",
       "      <th>1</th>\n",
       "      <td>2023-01-01</td>\n",
       "      <td>400</td>\n",
       "      <td>0</td>\n",
       "      <td>0.901465</td>\n",
       "      <td>0.937500</td>\n",
       "      <td>1.525000</td>\n",
       "    </tr>\n",
       "    <tr>\n",
       "      <th>2</th>\n",
       "      <td>2023-01-01</td>\n",
       "      <td>401</td>\n",
       "      <td>0</td>\n",
       "      <td>0.964879</td>\n",
       "      <td>1.112500</td>\n",
       "      <td>2.141667</td>\n",
       "    </tr>\n",
       "    <tr>\n",
       "      <th>3</th>\n",
       "      <td>2023-01-01</td>\n",
       "      <td>402</td>\n",
       "      <td>0</td>\n",
       "      <td>0.291667</td>\n",
       "      <td>0.291667</td>\n",
       "      <td>1.025000</td>\n",
       "    </tr>\n",
       "    <tr>\n",
       "      <th>4</th>\n",
       "      <td>2023-01-01</td>\n",
       "      <td>403</td>\n",
       "      <td>0</td>\n",
       "      <td>1.287787</td>\n",
       "      <td>1.416667</td>\n",
       "      <td>2.020833</td>\n",
       "    </tr>\n",
       "    <tr>\n",
       "      <th>...</th>\n",
       "      <td>...</td>\n",
       "      <td>...</td>\n",
       "      <td>...</td>\n",
       "      <td>...</td>\n",
       "      <td>...</td>\n",
       "      <td>...</td>\n",
       "    </tr>\n",
       "    <tr>\n",
       "      <th>5063</th>\n",
       "      <td>2023-06-30</td>\n",
       "      <td>424</td>\n",
       "      <td>2</td>\n",
       "      <td>27.284616</td>\n",
       "      <td>24.791667</td>\n",
       "      <td>0.579167</td>\n",
       "    </tr>\n",
       "    <tr>\n",
       "      <th>5064</th>\n",
       "      <td>2023-06-30</td>\n",
       "      <td>425</td>\n",
       "      <td>1</td>\n",
       "      <td>26.947587</td>\n",
       "      <td>24.237500</td>\n",
       "      <td>0.658333</td>\n",
       "    </tr>\n",
       "    <tr>\n",
       "      <th>5065</th>\n",
       "      <td>2023-06-30</td>\n",
       "      <td>509</td>\n",
       "      <td>2</td>\n",
       "      <td>26.707166</td>\n",
       "      <td>24.126087</td>\n",
       "      <td>1.304167</td>\n",
       "    </tr>\n",
       "    <tr>\n",
       "      <th>5066</th>\n",
       "      <td>2023-06-30</td>\n",
       "      <td>510</td>\n",
       "      <td>1</td>\n",
       "      <td>28.194553</td>\n",
       "      <td>26.054167</td>\n",
       "      <td>0.979167</td>\n",
       "    </tr>\n",
       "    <tr>\n",
       "      <th>5067</th>\n",
       "      <td>2023-06-30</td>\n",
       "      <td>889</td>\n",
       "      <td>1</td>\n",
       "      <td>28.873724</td>\n",
       "      <td>25.841667</td>\n",
       "      <td>0.720833</td>\n",
       "    </tr>\n",
       "  </tbody>\n",
       "</table>\n",
       "<p>5068 rows × 6 columns</p>\n",
       "</div>"
      ],
      "text/plain": [
       "              날짜   지점  강수여부       체감온도     기온(°C)   풍속(m/s)\n",
       "0     2023-01-01  116     0  -5.883430  -3.883333  4.895833\n",
       "1     2023-01-01  400     0   0.901465   0.937500  1.525000\n",
       "2     2023-01-01  401     0   0.964879   1.112500  2.141667\n",
       "3     2023-01-01  402     0   0.291667   0.291667  1.025000\n",
       "4     2023-01-01  403     0   1.287787   1.416667  2.020833\n",
       "...          ...  ...   ...        ...        ...       ...\n",
       "5063  2023-06-30  424     2  27.284616  24.791667  0.579167\n",
       "5064  2023-06-30  425     1  26.947587  24.237500  0.658333\n",
       "5065  2023-06-30  509     2  26.707166  24.126087  1.304167\n",
       "5066  2023-06-30  510     1  28.194553  26.054167  0.979167\n",
       "5067  2023-06-30  889     1  28.873724  25.841667  0.720833\n",
       "\n",
       "[5068 rows x 6 columns]"
      ]
     },
     "execution_count": 8,
     "metadata": {},
     "output_type": "execute_result"
    }
   ],
   "source": [
    "weather_daily_df = dropped_weather_df.groupby(['날짜', '지점'], as_index=False).agg({\n",
    "    '강수여부': 'sum', '체감온도': 'mean', '기온(°C)': 'mean', '풍속(m/s)': 'mean'\n",
    "})\n",
    "\n",
    "weather_daily_df"
   ]
  },
  {
   "cell_type": "markdown",
   "id": "2fc4ce0a",
   "metadata": {},
   "source": [
    "매번 여러 개 컬럼을 동시에 묶어서 groupby 할 때마다 멀티인덱스 때문에 짜증났었는데!! ```as_index = False```로 주면 **멀티인덱스가 안 생긴다**는 꿀팁을 알게 됐다...! 유레카다 유레카"
   ]
  },
  {
   "cell_type": "markdown",
   "id": "7c234bef",
   "metadata": {},
   "source": [
    "#### 2-3-10. 위치 데이터 매핑"
   ]
  },
  {
   "cell_type": "code",
   "execution_count": 9,
   "id": "0f123dcf",
   "metadata": {
    "ExecuteTime": {
     "end_time": "2023-11-18T03:48:17.351109Z",
     "start_time": "2023-11-18T03:48:17.328969Z"
    }
   },
   "outputs": [
    {
     "data": {
      "text/html": [
       "<div>\n",
       "<style scoped>\n",
       "    .dataframe tbody tr th:only-of-type {\n",
       "        vertical-align: middle;\n",
       "    }\n",
       "\n",
       "    .dataframe tbody tr th {\n",
       "        vertical-align: top;\n",
       "    }\n",
       "\n",
       "    .dataframe thead th {\n",
       "        text-align: right;\n",
       "    }\n",
       "</style>\n",
       "<table border=\"1\" class=\"dataframe\">\n",
       "  <thead>\n",
       "    <tr style=\"text-align: right;\">\n",
       "      <th></th>\n",
       "      <th>지점</th>\n",
       "      <th>시작일</th>\n",
       "      <th>종료일</th>\n",
       "      <th>지점명</th>\n",
       "      <th>지점주소</th>\n",
       "      <th>관리관서</th>\n",
       "      <th>위도</th>\n",
       "      <th>경도</th>\n",
       "      <th>노장해발고도(m)</th>\n",
       "      <th>기압계(관측장비지상높이(m))</th>\n",
       "      <th>기온계(관측장비지상높이(m))</th>\n",
       "      <th>풍속계(관측장비지상높이(m))</th>\n",
       "      <th>강우계(관측장비지상높이(m))</th>\n",
       "    </tr>\n",
       "  </thead>\n",
       "  <tbody>\n",
       "    <tr>\n",
       "      <th>0</th>\n",
       "      <td>400</td>\n",
       "      <td>2020-10-23</td>\n",
       "      <td>NaN</td>\n",
       "      <td>강남</td>\n",
       "      <td>서울특별시 강남구일원동 580탄천 물재생센터</td>\n",
       "      <td>NaN</td>\n",
       "      <td>37.4982</td>\n",
       "      <td>127.0817</td>\n",
       "      <td>10.32</td>\n",
       "      <td>NaN</td>\n",
       "      <td>NaN</td>\n",
       "      <td>NaN</td>\n",
       "      <td>NaN</td>\n",
       "    </tr>\n",
       "    <tr>\n",
       "      <th>1</th>\n",
       "      <td>400</td>\n",
       "      <td>2019-05-29</td>\n",
       "      <td>2020-10-23</td>\n",
       "      <td>강남</td>\n",
       "      <td>서울특별시 강남구일원동 580탄천 물재생센터</td>\n",
       "      <td>NaN</td>\n",
       "      <td>37.4982</td>\n",
       "      <td>127.0816</td>\n",
       "      <td>28.70</td>\n",
       "      <td>NaN</td>\n",
       "      <td>NaN</td>\n",
       "      <td>NaN</td>\n",
       "      <td>NaN</td>\n",
       "    </tr>\n",
       "    <tr>\n",
       "      <th>2</th>\n",
       "      <td>400</td>\n",
       "      <td>2010-08-16</td>\n",
       "      <td>2019-05-29</td>\n",
       "      <td>강남</td>\n",
       "      <td>서울특별시 강남구일원동 580탄천 물재생센터</td>\n",
       "      <td>NaN</td>\n",
       "      <td>37.5134</td>\n",
       "      <td>127.0467</td>\n",
       "      <td>59.24</td>\n",
       "      <td>NaN</td>\n",
       "      <td>NaN</td>\n",
       "      <td>NaN</td>\n",
       "      <td>NaN</td>\n",
       "    </tr>\n",
       "    <tr>\n",
       "      <th>3</th>\n",
       "      <td>400</td>\n",
       "      <td>1994-12-04</td>\n",
       "      <td>2010-08-15</td>\n",
       "      <td>강남</td>\n",
       "      <td>서울특별시 강남구일원동 580탄천 물재생센터</td>\n",
       "      <td>서울기상관측소(108)</td>\n",
       "      <td>37.5094</td>\n",
       "      <td>127.0485</td>\n",
       "      <td>59.00</td>\n",
       "      <td>NaN</td>\n",
       "      <td>NaN</td>\n",
       "      <td>NaN</td>\n",
       "      <td>NaN</td>\n",
       "    </tr>\n",
       "    <tr>\n",
       "      <th>4</th>\n",
       "      <td>401</td>\n",
       "      <td>2022-09-23</td>\n",
       "      <td>NaN</td>\n",
       "      <td>서초</td>\n",
       "      <td>서울특별시 서초구서초동 1416번지서초 IC</td>\n",
       "      <td>NaN</td>\n",
       "      <td>37.4846</td>\n",
       "      <td>127.0260</td>\n",
       "      <td>33.05</td>\n",
       "      <td>NaN</td>\n",
       "      <td>NaN</td>\n",
       "      <td>NaN</td>\n",
       "      <td>NaN</td>\n",
       "    </tr>\n",
       "    <tr>\n",
       "      <th>...</th>\n",
       "      <td>...</td>\n",
       "      <td>...</td>\n",
       "      <td>...</td>\n",
       "      <td>...</td>\n",
       "      <td>...</td>\n",
       "      <td>...</td>\n",
       "      <td>...</td>\n",
       "      <td>...</td>\n",
       "      <td>...</td>\n",
       "      <td>...</td>\n",
       "      <td>...</td>\n",
       "      <td>...</td>\n",
       "      <td>...</td>\n",
       "    </tr>\n",
       "    <tr>\n",
       "      <th>78</th>\n",
       "      <td>509</td>\n",
       "      <td>1992-09-14</td>\n",
       "      <td>2004-09-04</td>\n",
       "      <td>관악</td>\n",
       "      <td>서울특별시 관악구관악로 1서울대학교 대기환경관측소</td>\n",
       "      <td>서울기상관측소(108)</td>\n",
       "      <td>37.4562</td>\n",
       "      <td>126.9507</td>\n",
       "      <td>92.36</td>\n",
       "      <td>NaN</td>\n",
       "      <td>NaN</td>\n",
       "      <td>NaN</td>\n",
       "      <td>NaN</td>\n",
       "    </tr>\n",
       "    <tr>\n",
       "      <th>79</th>\n",
       "      <td>510</td>\n",
       "      <td>2021-08-26</td>\n",
       "      <td>NaN</td>\n",
       "      <td>영등포</td>\n",
       "      <td>서울특별시 영등포구국회대로53길 20서울영동초등학교</td>\n",
       "      <td>NaN</td>\n",
       "      <td>37.5271</td>\n",
       "      <td>126.9071</td>\n",
       "      <td>25.38</td>\n",
       "      <td>NaN</td>\n",
       "      <td>NaN</td>\n",
       "      <td>NaN</td>\n",
       "      <td>NaN</td>\n",
       "    </tr>\n",
       "    <tr>\n",
       "      <th>80</th>\n",
       "      <td>510</td>\n",
       "      <td>2010-08-16</td>\n",
       "      <td>2021-08-26</td>\n",
       "      <td>영등포</td>\n",
       "      <td>서울특별시 영등포구국회대로53길 20서울영동초등학교</td>\n",
       "      <td>NaN</td>\n",
       "      <td>37.5271</td>\n",
       "      <td>126.9071</td>\n",
       "      <td>25.38</td>\n",
       "      <td>NaN</td>\n",
       "      <td>NaN</td>\n",
       "      <td>NaN</td>\n",
       "      <td>NaN</td>\n",
       "    </tr>\n",
       "    <tr>\n",
       "      <th>81</th>\n",
       "      <td>510</td>\n",
       "      <td>1989-06-27</td>\n",
       "      <td>2010-08-15</td>\n",
       "      <td>영등포</td>\n",
       "      <td>서울특별시 영등포구국회대로53길 20서울영동초등학교</td>\n",
       "      <td>서울기상관측소(108)</td>\n",
       "      <td>37.5262</td>\n",
       "      <td>126.9080</td>\n",
       "      <td>25.00</td>\n",
       "      <td>NaN</td>\n",
       "      <td>NaN</td>\n",
       "      <td>NaN</td>\n",
       "      <td>NaN</td>\n",
       "    </tr>\n",
       "    <tr>\n",
       "      <th>82</th>\n",
       "      <td>889</td>\n",
       "      <td>2012-11-12</td>\n",
       "      <td>NaN</td>\n",
       "      <td>현충원</td>\n",
       "      <td>서울특별시 동작구현충로 210국립서울현충원</td>\n",
       "      <td>NaN</td>\n",
       "      <td>37.5004</td>\n",
       "      <td>126.9765</td>\n",
       "      <td>16.23</td>\n",
       "      <td>NaN</td>\n",
       "      <td>NaN</td>\n",
       "      <td>NaN</td>\n",
       "      <td>NaN</td>\n",
       "    </tr>\n",
       "  </tbody>\n",
       "</table>\n",
       "<p>83 rows × 13 columns</p>\n",
       "</div>"
      ],
      "text/plain": [
       "     지점         시작일         종료일  지점명                            지점주소  \\\n",
       "0   400  2020-10-23         NaN   강남       서울특별시 강남구일원동 580탄천 물재생센터    \n",
       "1   400  2019-05-29  2020-10-23   강남       서울특별시 강남구일원동 580탄천 물재생센터    \n",
       "2   400  2010-08-16  2019-05-29   강남       서울특별시 강남구일원동 580탄천 물재생센터    \n",
       "3   400  1994-12-04  2010-08-15   강남       서울특별시 강남구일원동 580탄천 물재생센터    \n",
       "4   401  2022-09-23         NaN   서초       서울특별시 서초구서초동 1416번지서초 IC    \n",
       "..  ...         ...         ...  ...                             ...   \n",
       "78  509  1992-09-14  2004-09-04   관악    서울특별시 관악구관악로 1서울대학교 대기환경관측소    \n",
       "79  510  2021-08-26         NaN  영등포  서울특별시 영등포구국회대로53길 20서울영동초등학교     \n",
       "80  510  2010-08-16  2021-08-26  영등포  서울특별시 영등포구국회대로53길 20서울영동초등학교     \n",
       "81  510  1989-06-27  2010-08-15  영등포  서울특별시 영등포구국회대로53길 20서울영동초등학교     \n",
       "82  889  2012-11-12         NaN  현충원       서울특별시 동작구현충로 210국립서울현충원     \n",
       "\n",
       "            관리관서       위도        경도  노장해발고도(m)  기압계(관측장비지상높이(m))  \\\n",
       "0            NaN  37.4982  127.0817      10.32               NaN   \n",
       "1            NaN  37.4982  127.0816      28.70               NaN   \n",
       "2            NaN  37.5134  127.0467      59.24               NaN   \n",
       "3   서울기상관측소(108)  37.5094  127.0485      59.00               NaN   \n",
       "4            NaN  37.4846  127.0260      33.05               NaN   \n",
       "..           ...      ...       ...        ...               ...   \n",
       "78  서울기상관측소(108)  37.4562  126.9507      92.36               NaN   \n",
       "79           NaN  37.5271  126.9071      25.38               NaN   \n",
       "80           NaN  37.5271  126.9071      25.38               NaN   \n",
       "81  서울기상관측소(108)  37.5262  126.9080      25.00               NaN   \n",
       "82           NaN  37.5004  126.9765      16.23               NaN   \n",
       "\n",
       "    기온계(관측장비지상높이(m))  풍속계(관측장비지상높이(m))  강우계(관측장비지상높이(m))  \n",
       "0                NaN               NaN               NaN  \n",
       "1                NaN               NaN               NaN  \n",
       "2                NaN               NaN               NaN  \n",
       "3                NaN               NaN               NaN  \n",
       "4                NaN               NaN               NaN  \n",
       "..               ...               ...               ...  \n",
       "78               NaN               NaN               NaN  \n",
       "79               NaN               NaN               NaN  \n",
       "80               NaN               NaN               NaN  \n",
       "81               NaN               NaN               NaN  \n",
       "82               NaN               NaN               NaN  \n",
       "\n",
       "[83 rows x 13 columns]"
      ]
     },
     "execution_count": 9,
     "metadata": {},
     "output_type": "execute_result"
    }
   ],
   "source": [
    "# 위치 정보를 담은 csv 파일 불러오기\n",
    "weather_pos_df = pd.read_csv('META_관측지점정보_20231106165559.csv', encoding='cp949')\n",
    "weather_pos_df"
   ]
  },
  {
   "cell_type": "markdown",
   "id": "07738bc7",
   "metadata": {},
   "source": [
    "쓸모없는 컬럼들이 보인다. 요긴하게 쓰일 컬럼은 지점, 종료일, 지점주소 정도일 것 같고 그 외에 정말 안 쓰일 것 같은 컬럼들은 드랍하는 게 유리하겠다."
   ]
  },
  {
   "cell_type": "code",
   "execution_count": 16,
   "id": "f5193061",
   "metadata": {
    "ExecuteTime": {
     "end_time": "2023-11-18T03:54:08.745257Z",
     "start_time": "2023-11-18T03:54:08.727504Z"
    }
   },
   "outputs": [
    {
     "data": {
      "text/html": [
       "<div>\n",
       "<style scoped>\n",
       "    .dataframe tbody tr th:only-of-type {\n",
       "        vertical-align: middle;\n",
       "    }\n",
       "\n",
       "    .dataframe tbody tr th {\n",
       "        vertical-align: top;\n",
       "    }\n",
       "\n",
       "    .dataframe thead th {\n",
       "        text-align: right;\n",
       "    }\n",
       "</style>\n",
       "<table border=\"1\" class=\"dataframe\">\n",
       "  <thead>\n",
       "    <tr style=\"text-align: right;\">\n",
       "      <th></th>\n",
       "      <th>지점</th>\n",
       "      <th>시작일</th>\n",
       "      <th>종료일</th>\n",
       "      <th>지점명</th>\n",
       "      <th>지점주소</th>\n",
       "      <th>위도</th>\n",
       "      <th>경도</th>\n",
       "    </tr>\n",
       "  </thead>\n",
       "  <tbody>\n",
       "    <tr>\n",
       "      <th>0</th>\n",
       "      <td>400</td>\n",
       "      <td>2020-10-23</td>\n",
       "      <td>NaN</td>\n",
       "      <td>강남</td>\n",
       "      <td>서울특별시 강남구일원동 580탄천 물재생센터</td>\n",
       "      <td>37.4982</td>\n",
       "      <td>127.0817</td>\n",
       "    </tr>\n",
       "    <tr>\n",
       "      <th>1</th>\n",
       "      <td>400</td>\n",
       "      <td>2019-05-29</td>\n",
       "      <td>2020-10-23</td>\n",
       "      <td>강남</td>\n",
       "      <td>서울특별시 강남구일원동 580탄천 물재생센터</td>\n",
       "      <td>37.4982</td>\n",
       "      <td>127.0816</td>\n",
       "    </tr>\n",
       "    <tr>\n",
       "      <th>2</th>\n",
       "      <td>400</td>\n",
       "      <td>2010-08-16</td>\n",
       "      <td>2019-05-29</td>\n",
       "      <td>강남</td>\n",
       "      <td>서울특별시 강남구일원동 580탄천 물재생센터</td>\n",
       "      <td>37.5134</td>\n",
       "      <td>127.0467</td>\n",
       "    </tr>\n",
       "    <tr>\n",
       "      <th>3</th>\n",
       "      <td>400</td>\n",
       "      <td>1994-12-04</td>\n",
       "      <td>2010-08-15</td>\n",
       "      <td>강남</td>\n",
       "      <td>서울특별시 강남구일원동 580탄천 물재생센터</td>\n",
       "      <td>37.5094</td>\n",
       "      <td>127.0485</td>\n",
       "    </tr>\n",
       "    <tr>\n",
       "      <th>4</th>\n",
       "      <td>401</td>\n",
       "      <td>2022-09-23</td>\n",
       "      <td>NaN</td>\n",
       "      <td>서초</td>\n",
       "      <td>서울특별시 서초구서초동 1416번지서초 IC</td>\n",
       "      <td>37.4846</td>\n",
       "      <td>127.0260</td>\n",
       "    </tr>\n",
       "    <tr>\n",
       "      <th>...</th>\n",
       "      <td>...</td>\n",
       "      <td>...</td>\n",
       "      <td>...</td>\n",
       "      <td>...</td>\n",
       "      <td>...</td>\n",
       "      <td>...</td>\n",
       "      <td>...</td>\n",
       "    </tr>\n",
       "    <tr>\n",
       "      <th>78</th>\n",
       "      <td>509</td>\n",
       "      <td>1992-09-14</td>\n",
       "      <td>2004-09-04</td>\n",
       "      <td>관악</td>\n",
       "      <td>서울특별시 관악구관악로 1서울대학교 대기환경관측소</td>\n",
       "      <td>37.4562</td>\n",
       "      <td>126.9507</td>\n",
       "    </tr>\n",
       "    <tr>\n",
       "      <th>79</th>\n",
       "      <td>510</td>\n",
       "      <td>2021-08-26</td>\n",
       "      <td>NaN</td>\n",
       "      <td>영등포</td>\n",
       "      <td>서울특별시 영등포구국회대로53길 20서울영동초등학교</td>\n",
       "      <td>37.5271</td>\n",
       "      <td>126.9071</td>\n",
       "    </tr>\n",
       "    <tr>\n",
       "      <th>80</th>\n",
       "      <td>510</td>\n",
       "      <td>2010-08-16</td>\n",
       "      <td>2021-08-26</td>\n",
       "      <td>영등포</td>\n",
       "      <td>서울특별시 영등포구국회대로53길 20서울영동초등학교</td>\n",
       "      <td>37.5271</td>\n",
       "      <td>126.9071</td>\n",
       "    </tr>\n",
       "    <tr>\n",
       "      <th>81</th>\n",
       "      <td>510</td>\n",
       "      <td>1989-06-27</td>\n",
       "      <td>2010-08-15</td>\n",
       "      <td>영등포</td>\n",
       "      <td>서울특별시 영등포구국회대로53길 20서울영동초등학교</td>\n",
       "      <td>37.5262</td>\n",
       "      <td>126.9080</td>\n",
       "    </tr>\n",
       "    <tr>\n",
       "      <th>82</th>\n",
       "      <td>889</td>\n",
       "      <td>2012-11-12</td>\n",
       "      <td>NaN</td>\n",
       "      <td>현충원</td>\n",
       "      <td>서울특별시 동작구현충로 210국립서울현충원</td>\n",
       "      <td>37.5004</td>\n",
       "      <td>126.9765</td>\n",
       "    </tr>\n",
       "  </tbody>\n",
       "</table>\n",
       "<p>83 rows × 7 columns</p>\n",
       "</div>"
      ],
      "text/plain": [
       "     지점         시작일         종료일  지점명                            지점주소       위도  \\\n",
       "0   400  2020-10-23         NaN   강남       서울특별시 강남구일원동 580탄천 물재생센터   37.4982   \n",
       "1   400  2019-05-29  2020-10-23   강남       서울특별시 강남구일원동 580탄천 물재생센터   37.4982   \n",
       "2   400  2010-08-16  2019-05-29   강남       서울특별시 강남구일원동 580탄천 물재생센터   37.5134   \n",
       "3   400  1994-12-04  2010-08-15   강남       서울특별시 강남구일원동 580탄천 물재생센터   37.5094   \n",
       "4   401  2022-09-23         NaN   서초       서울특별시 서초구서초동 1416번지서초 IC   37.4846   \n",
       "..  ...         ...         ...  ...                             ...      ...   \n",
       "78  509  1992-09-14  2004-09-04   관악    서울특별시 관악구관악로 1서울대학교 대기환경관측소   37.4562   \n",
       "79  510  2021-08-26         NaN  영등포  서울특별시 영등포구국회대로53길 20서울영동초등학교    37.5271   \n",
       "80  510  2010-08-16  2021-08-26  영등포  서울특별시 영등포구국회대로53길 20서울영동초등학교    37.5271   \n",
       "81  510  1989-06-27  2010-08-15  영등포  서울특별시 영등포구국회대로53길 20서울영동초등학교    37.5262   \n",
       "82  889  2012-11-12         NaN  현충원       서울특별시 동작구현충로 210국립서울현충원    37.5004   \n",
       "\n",
       "          경도  \n",
       "0   127.0817  \n",
       "1   127.0816  \n",
       "2   127.0467  \n",
       "3   127.0485  \n",
       "4   127.0260  \n",
       "..       ...  \n",
       "78  126.9507  \n",
       "79  126.9071  \n",
       "80  126.9071  \n",
       "81  126.9080  \n",
       "82  126.9765  \n",
       "\n",
       "[83 rows x 7 columns]"
      ]
     },
     "execution_count": 16,
     "metadata": {},
     "output_type": "execute_result"
    }
   ],
   "source": [
    "dropped_weather_pos_df = weather_pos_df.drop([\n",
    "    '관리관서', '노장해발고도(m)', '기압계(관측장비지상높이(m))', '기온계(관측장비지상높이(m))',\n",
    "    '풍속계(관측장비지상높이(m))', '강우계(관측장비지상높이(m))'\n",
    "], axis=1)\n",
    "\n",
    "dropped_weather_pos_df"
   ]
  },
  {
   "cell_type": "markdown",
   "id": "278ce07f",
   "metadata": {},
   "source": [
    "주소로부터 구를 추출한 파생 컬럼을 만들어 두면 추후 조인에 유리할 것이다."
   ]
  },
  {
   "cell_type": "code",
   "execution_count": 120,
   "id": "af526850",
   "metadata": {
    "ExecuteTime": {
     "end_time": "2023-11-17T18:37:41.846237Z",
     "start_time": "2023-11-17T18:37:41.783735Z"
    }
   },
   "outputs": [
    {
     "data": {
      "text/plain": [
       "2"
      ]
     },
     "execution_count": 120,
     "metadata": {},
     "output_type": "execute_result"
    }
   ],
   "source": [
    "dropped_weather_pos_df['지점주소'].isna().sum()"
   ]
  },
  {
   "cell_type": "markdown",
   "id": "f9aa8a7b",
   "metadata": {},
   "source": [
    "주소가 결측치인 건 신박한데...? 걔네들은 제외할 필요가 있겠다. 그리고 종료일이 기재되어 있는 지점은 현재 운영이 안 되고 있을 것이므로 **종료일이 결측치인 컬럼**만을 취해야만 한다."
   ]
  },
  {
   "cell_type": "code",
   "execution_count": 17,
   "id": "ea90ff0b",
   "metadata": {
    "ExecuteTime": {
     "end_time": "2023-11-18T03:54:31.132156Z",
     "start_time": "2023-11-18T03:54:31.109800Z"
    },
    "scrolled": true
   },
   "outputs": [
    {
     "data": {
      "text/html": [
       "<div>\n",
       "<style scoped>\n",
       "    .dataframe tbody tr th:only-of-type {\n",
       "        vertical-align: middle;\n",
       "    }\n",
       "\n",
       "    .dataframe tbody tr th {\n",
       "        vertical-align: top;\n",
       "    }\n",
       "\n",
       "    .dataframe thead th {\n",
       "        text-align: right;\n",
       "    }\n",
       "</style>\n",
       "<table border=\"1\" class=\"dataframe\">\n",
       "  <thead>\n",
       "    <tr style=\"text-align: right;\">\n",
       "      <th></th>\n",
       "      <th>지점</th>\n",
       "      <th>지점주소</th>\n",
       "      <th>위도</th>\n",
       "      <th>경도</th>\n",
       "    </tr>\n",
       "  </thead>\n",
       "  <tbody>\n",
       "    <tr>\n",
       "      <th>0</th>\n",
       "      <td>400</td>\n",
       "      <td>서울특별시 강남구일원동 580탄천 물재생센터</td>\n",
       "      <td>37.4982</td>\n",
       "      <td>127.0817</td>\n",
       "    </tr>\n",
       "    <tr>\n",
       "      <th>1</th>\n",
       "      <td>401</td>\n",
       "      <td>서울특별시 서초구서초동 1416번지서초 IC</td>\n",
       "      <td>37.4846</td>\n",
       "      <td>127.0260</td>\n",
       "    </tr>\n",
       "    <tr>\n",
       "      <th>2</th>\n",
       "      <td>402</td>\n",
       "      <td>서울특별시 강동구고덕로 183서울종합직업전문학교</td>\n",
       "      <td>37.5555</td>\n",
       "      <td>127.1450</td>\n",
       "    </tr>\n",
       "    <tr>\n",
       "      <th>3</th>\n",
       "      <td>403</td>\n",
       "      <td>서울특별시 송파구올림픽로 240롯데월드</td>\n",
       "      <td>37.5115</td>\n",
       "      <td>127.0967</td>\n",
       "    </tr>\n",
       "    <tr>\n",
       "      <th>4</th>\n",
       "      <td>404</td>\n",
       "      <td>서울특별시 강서구양천로 201서남물재생센터</td>\n",
       "      <td>37.5739</td>\n",
       "      <td>126.8295</td>\n",
       "    </tr>\n",
       "    <tr>\n",
       "      <th>5</th>\n",
       "      <td>405</td>\n",
       "      <td>서울특별시 양천구 안양천로 917목동빗물펌프장(목동)</td>\n",
       "      <td>37.5282</td>\n",
       "      <td>126.8794</td>\n",
       "    </tr>\n",
       "    <tr>\n",
       "      <th>6</th>\n",
       "      <td>406</td>\n",
       "      <td>서울특별시 도봉구시루봉로 173신방학초등학교</td>\n",
       "      <td>37.6661</td>\n",
       "      <td>127.0295</td>\n",
       "    </tr>\n",
       "    <tr>\n",
       "      <th>7</th>\n",
       "      <td>407</td>\n",
       "      <td>서울특별시 노원구공릉동 사서함 230-3호 사서함 77호 육군사관학교</td>\n",
       "      <td>37.6219</td>\n",
       "      <td>127.0919</td>\n",
       "    </tr>\n",
       "    <tr>\n",
       "      <th>8</th>\n",
       "      <td>408</td>\n",
       "      <td>서울특별시 동대문구서울시립대로 163 서울시립대학교 창공관</td>\n",
       "      <td>37.5846</td>\n",
       "      <td>127.0604</td>\n",
       "    </tr>\n",
       "    <tr>\n",
       "      <th>9</th>\n",
       "      <td>409</td>\n",
       "      <td>서울특별시 중랑구면목로57길 32면동초등학교</td>\n",
       "      <td>37.5855</td>\n",
       "      <td>127.0868</td>\n",
       "    </tr>\n",
       "    <tr>\n",
       "      <th>10</th>\n",
       "      <td>410</td>\n",
       "      <td>서울특별시 동작구 여의대방로16길 61기상청(신대방동)</td>\n",
       "      <td>37.4933</td>\n",
       "      <td>126.9175</td>\n",
       "    </tr>\n",
       "    <tr>\n",
       "      <th>11</th>\n",
       "      <td>411</td>\n",
       "      <td>서울특별시 마포구창전동 산1-75와우산 제1025부대</td>\n",
       "      <td>37.5517</td>\n",
       "      <td>126.9292</td>\n",
       "    </tr>\n",
       "    <tr>\n",
       "      <th>12</th>\n",
       "      <td>412</td>\n",
       "      <td>서울특별시 서대문구연세로 50연세대학교</td>\n",
       "      <td>37.5705</td>\n",
       "      <td>126.9408</td>\n",
       "    </tr>\n",
       "    <tr>\n",
       "      <th>13</th>\n",
       "      <td>413</td>\n",
       "      <td>서울특별시 광진구자양2동 680-67제5858부대</td>\n",
       "      <td>37.5338</td>\n",
       "      <td>127.0857</td>\n",
       "    </tr>\n",
       "    <tr>\n",
       "      <th>14</th>\n",
       "      <td>414</td>\n",
       "      <td>서울특별시 성북구정릉로 77국민대학교 과학관</td>\n",
       "      <td>37.6117</td>\n",
       "      <td>126.9994</td>\n",
       "    </tr>\n",
       "    <tr>\n",
       "      <th>15</th>\n",
       "      <td>415</td>\n",
       "      <td>서울특별시 용산구이촌로 255신용산초등학교</td>\n",
       "      <td>37.5204</td>\n",
       "      <td>126.9761</td>\n",
       "    </tr>\n",
       "    <tr>\n",
       "      <th>16</th>\n",
       "      <td>416</td>\n",
       "      <td>서울특별시 은평구진관동 산26방패교육대</td>\n",
       "      <td>37.6465</td>\n",
       "      <td>126.9427</td>\n",
       "    </tr>\n",
       "    <tr>\n",
       "      <th>17</th>\n",
       "      <td>417</td>\n",
       "      <td>서울특별시 금천구시흥대로104길 31독산초등학교</td>\n",
       "      <td>37.4655</td>\n",
       "      <td>126.9002</td>\n",
       "    </tr>\n",
       "    <tr>\n",
       "      <th>18</th>\n",
       "      <td>418</td>\n",
       "      <td>서울특별시 영등포구여의동로 280여의도 세모유람선</td>\n",
       "      <td>37.5249</td>\n",
       "      <td>126.9390</td>\n",
       "    </tr>\n",
       "    <tr>\n",
       "      <th>19</th>\n",
       "      <td>419</td>\n",
       "      <td>서울특별시 중구소파로 83남산케이블카</td>\n",
       "      <td>37.5524</td>\n",
       "      <td>126.9874</td>\n",
       "    </tr>\n",
       "    <tr>\n",
       "      <th>20</th>\n",
       "      <td>421</td>\n",
       "      <td>서울특별시 성동구서울숲길 18성수중학교</td>\n",
       "      <td>37.5472</td>\n",
       "      <td>127.0389</td>\n",
       "    </tr>\n",
       "    <tr>\n",
       "      <th>21</th>\n",
       "      <td>423</td>\n",
       "      <td>서울특별시 구로구부일로 893온수초등학교</td>\n",
       "      <td>37.4940</td>\n",
       "      <td>126.8270</td>\n",
       "    </tr>\n",
       "    <tr>\n",
       "      <th>22</th>\n",
       "      <td>424</td>\n",
       "      <td>서울특별시 강북구 삼각산로 58국립재활원(수유동)</td>\n",
       "      <td>37.6380</td>\n",
       "      <td>127.0098</td>\n",
       "    </tr>\n",
       "    <tr>\n",
       "      <th>23</th>\n",
       "      <td>425</td>\n",
       "      <td>서울특별시 관악구남현동 산100-1420003호</td>\n",
       "      <td>37.4635</td>\n",
       "      <td>126.9815</td>\n",
       "    </tr>\n",
       "    <tr>\n",
       "      <th>24</th>\n",
       "      <td>509</td>\n",
       "      <td>서울특별시 관악구관악로 1서울대학교 대기환경관측소</td>\n",
       "      <td>37.4528</td>\n",
       "      <td>126.9502</td>\n",
       "    </tr>\n",
       "    <tr>\n",
       "      <th>25</th>\n",
       "      <td>510</td>\n",
       "      <td>서울특별시 영등포구국회대로53길 20서울영동초등학교</td>\n",
       "      <td>37.5271</td>\n",
       "      <td>126.9071</td>\n",
       "    </tr>\n",
       "    <tr>\n",
       "      <th>26</th>\n",
       "      <td>889</td>\n",
       "      <td>서울특별시 동작구현충로 210국립서울현충원</td>\n",
       "      <td>37.5004</td>\n",
       "      <td>126.9765</td>\n",
       "    </tr>\n",
       "  </tbody>\n",
       "</table>\n",
       "</div>"
      ],
      "text/plain": [
       "     지점                                     지점주소       위도        경도\n",
       "0   400                서울특별시 강남구일원동 580탄천 물재생센터   37.4982  127.0817\n",
       "1   401                서울특별시 서초구서초동 1416번지서초 IC   37.4846  127.0260\n",
       "2   402             서울특별시 강동구고덕로 183서울종합직업전문학교    37.5555  127.1450\n",
       "3   403                  서울특별시 송파구올림픽로 240롯데월드    37.5115  127.0967\n",
       "4   404                서울특별시 강서구양천로 201서남물재생센터    37.5739  126.8295\n",
       "5   405            서울특별시 양천구 안양천로 917목동빗물펌프장(목동)  37.5282  126.8794\n",
       "6   406               서울특별시 도봉구시루봉로 173신방학초등학교    37.6661  127.0295\n",
       "7   407  서울특별시 노원구공릉동 사서함 230-3호 사서함 77호 육군사관학교   37.6219  127.0919\n",
       "8   408         서울특별시 동대문구서울시립대로 163 서울시립대학교 창공관  37.5846  127.0604\n",
       "9   409               서울특별시 중랑구면목로57길 32면동초등학교    37.5855  127.0868\n",
       "10  410           서울특별시 동작구 여의대방로16길 61기상청(신대방동)  37.4933  126.9175\n",
       "11  411           서울특별시 마포구창전동 산1-75와우산 제1025부대   37.5517  126.9292\n",
       "12  412                  서울특별시 서대문구연세로 50연세대학교    37.5705  126.9408\n",
       "13  413            서울특별시 광진구자양2동 680-67제5858부대    37.5338  127.0857\n",
       "14  414                서울특별시 성북구정릉로 77국민대학교 과학관   37.6117  126.9994\n",
       "15  415                서울특별시 용산구이촌로 255신용산초등학교    37.5204  126.9761\n",
       "16  416                  서울특별시 은평구진관동 산26방패교육대    37.6465  126.9427\n",
       "17  417             서울특별시 금천구시흥대로104길 31독산초등학교    37.4655  126.9002\n",
       "18  418             서울특별시 영등포구여의동로 280여의도 세모유람선   37.5249  126.9390\n",
       "19  419                   서울특별시 중구소파로 83남산케이블카    37.5524  126.9874\n",
       "20  421                  서울특별시 성동구서울숲길 18성수중학교    37.5472  127.0389\n",
       "21  423                 서울특별시 구로구부일로 893온수초등학교    37.4940  126.8270\n",
       "22  424              서울특별시 강북구 삼각산로 58국립재활원(수유동)  37.6380  127.0098\n",
       "23  425             서울특별시 관악구남현동 산100-1420003호    37.4635  126.9815\n",
       "24  509             서울특별시 관악구관악로 1서울대학교 대기환경관측소   37.4528  126.9502\n",
       "25  510           서울특별시 영등포구국회대로53길 20서울영동초등학교    37.5271  126.9071\n",
       "26  889                서울특별시 동작구현충로 210국립서울현충원    37.5004  126.9765"
      ]
     },
     "execution_count": 17,
     "metadata": {},
     "output_type": "execute_result"
    }
   ],
   "source": [
    "weather_cur_pos_df = dropped_weather_pos_df[\n",
    "    (dropped_weather_pos_df['지점주소'].notna()) & (dropped_weather_pos_df['종료일'].isna())\n",
    "][['지점', '지점주소', '위도', '경도']].reset_index(drop=True)\n",
    "\n",
    "weather_cur_pos_df"
   ]
  },
  {
   "cell_type": "code",
   "execution_count": 18,
   "id": "89d2f9e4",
   "metadata": {
    "ExecuteTime": {
     "end_time": "2023-11-18T03:54:43.059920Z",
     "start_time": "2023-11-18T03:54:43.037917Z"
    }
   },
   "outputs": [
    {
     "data": {
      "text/plain": [
       "관악구     2\n",
       "영등포구    2\n",
       "동작구     2\n",
       "광진구     1\n",
       "강북구     1\n",
       "구로구     1\n",
       "성동구     1\n",
       "중구      1\n",
       "금천구     1\n",
       "은평구     1\n",
       "용산구     1\n",
       "성북구     1\n",
       "강남구     1\n",
       "서초구     1\n",
       "마포구     1\n",
       "중랑구     1\n",
       "동대문구    1\n",
       "노원구     1\n",
       "도봉구     1\n",
       "양천구     1\n",
       "강서구     1\n",
       "송파구     1\n",
       "강동구     1\n",
       "서대문구    1\n",
       "Name: 그룹명, dtype: int64"
      ]
     },
     "execution_count": 18,
     "metadata": {},
     "output_type": "execute_result"
    }
   ],
   "source": [
    "def process_address(txt):\n",
    "    '''\n",
    "    주소를 받아서 구를 반환하는 함수\n",
    "    '''\n",
    "    new_txt = txt.split(' ')[1]\n",
    "    for i in range(1, 4):\n",
    "        if new_txt[i] == '구':\n",
    "            return new_txt[:(i + 1)]\n",
    "    return None\n",
    "\n",
    "weather_cur_pos_df['그룹명'] = weather_cur_pos_df['지점주소'].apply(process_address)\n",
    "weather_cur_pos_df['그룹명'].value_counts()"
   ]
  },
  {
   "cell_type": "markdown",
   "id": "2161fe4e",
   "metadata": {},
   "source": [
    "관악구, 영등포구, 동작구는 **지점이 2개씩** 있어서 추후 처리가 필요할 듯하다.\n",
    "\n",
    "아무튼 이제 관측 데이터와 지점 데이터를 합칠 수 있다."
   ]
  },
  {
   "cell_type": "code",
   "execution_count": 19,
   "id": "c6514b15",
   "metadata": {
    "ExecuteTime": {
     "end_time": "2023-11-18T03:54:46.026872Z",
     "start_time": "2023-11-18T03:54:45.998533Z"
    }
   },
   "outputs": [
    {
     "data": {
      "text/html": [
       "<div>\n",
       "<style scoped>\n",
       "    .dataframe tbody tr th:only-of-type {\n",
       "        vertical-align: middle;\n",
       "    }\n",
       "\n",
       "    .dataframe tbody tr th {\n",
       "        vertical-align: top;\n",
       "    }\n",
       "\n",
       "    .dataframe thead th {\n",
       "        text-align: right;\n",
       "    }\n",
       "</style>\n",
       "<table border=\"1\" class=\"dataframe\">\n",
       "  <thead>\n",
       "    <tr style=\"text-align: right;\">\n",
       "      <th></th>\n",
       "      <th>날짜</th>\n",
       "      <th>지점</th>\n",
       "      <th>강수여부</th>\n",
       "      <th>체감온도</th>\n",
       "      <th>기온(°C)</th>\n",
       "      <th>풍속(m/s)</th>\n",
       "      <th>지점주소</th>\n",
       "      <th>위도</th>\n",
       "      <th>경도</th>\n",
       "      <th>그룹명</th>\n",
       "    </tr>\n",
       "  </thead>\n",
       "  <tbody>\n",
       "    <tr>\n",
       "      <th>0</th>\n",
       "      <td>2023-01-01</td>\n",
       "      <td>116</td>\n",
       "      <td>0</td>\n",
       "      <td>-5.883430</td>\n",
       "      <td>-3.883333</td>\n",
       "      <td>4.895833</td>\n",
       "      <td>NaN</td>\n",
       "      <td>NaN</td>\n",
       "      <td>NaN</td>\n",
       "      <td>NaN</td>\n",
       "    </tr>\n",
       "    <tr>\n",
       "      <th>1</th>\n",
       "      <td>2023-01-02</td>\n",
       "      <td>116</td>\n",
       "      <td>0</td>\n",
       "      <td>-10.341636</td>\n",
       "      <td>-8.691667</td>\n",
       "      <td>3.566667</td>\n",
       "      <td>NaN</td>\n",
       "      <td>NaN</td>\n",
       "      <td>NaN</td>\n",
       "      <td>NaN</td>\n",
       "    </tr>\n",
       "    <tr>\n",
       "      <th>2</th>\n",
       "      <td>2023-01-03</td>\n",
       "      <td>116</td>\n",
       "      <td>0</td>\n",
       "      <td>-9.887621</td>\n",
       "      <td>-7.808333</td>\n",
       "      <td>4.287500</td>\n",
       "      <td>NaN</td>\n",
       "      <td>NaN</td>\n",
       "      <td>NaN</td>\n",
       "      <td>NaN</td>\n",
       "    </tr>\n",
       "    <tr>\n",
       "      <th>3</th>\n",
       "      <td>2023-01-04</td>\n",
       "      <td>116</td>\n",
       "      <td>0</td>\n",
       "      <td>-5.179025</td>\n",
       "      <td>-4.766667</td>\n",
       "      <td>2.229167</td>\n",
       "      <td>NaN</td>\n",
       "      <td>NaN</td>\n",
       "      <td>NaN</td>\n",
       "      <td>NaN</td>\n",
       "    </tr>\n",
       "    <tr>\n",
       "      <th>4</th>\n",
       "      <td>2023-01-05</td>\n",
       "      <td>116</td>\n",
       "      <td>0</td>\n",
       "      <td>-4.087618</td>\n",
       "      <td>-3.550000</td>\n",
       "      <td>2.583333</td>\n",
       "      <td>NaN</td>\n",
       "      <td>NaN</td>\n",
       "      <td>NaN</td>\n",
       "      <td>NaN</td>\n",
       "    </tr>\n",
       "    <tr>\n",
       "      <th>...</th>\n",
       "      <td>...</td>\n",
       "      <td>...</td>\n",
       "      <td>...</td>\n",
       "      <td>...</td>\n",
       "      <td>...</td>\n",
       "      <td>...</td>\n",
       "      <td>...</td>\n",
       "      <td>...</td>\n",
       "      <td>...</td>\n",
       "      <td>...</td>\n",
       "    </tr>\n",
       "    <tr>\n",
       "      <th>5063</th>\n",
       "      <td>2023-06-26</td>\n",
       "      <td>889</td>\n",
       "      <td>11</td>\n",
       "      <td>27.503134</td>\n",
       "      <td>24.691667</td>\n",
       "      <td>1.262500</td>\n",
       "      <td>서울특별시 동작구현충로 210국립서울현충원</td>\n",
       "      <td>37.5004</td>\n",
       "      <td>126.9765</td>\n",
       "      <td>동작구</td>\n",
       "    </tr>\n",
       "    <tr>\n",
       "      <th>5064</th>\n",
       "      <td>2023-06-27</td>\n",
       "      <td>889</td>\n",
       "      <td>2</td>\n",
       "      <td>27.848212</td>\n",
       "      <td>25.895833</td>\n",
       "      <td>1.758333</td>\n",
       "      <td>서울특별시 동작구현충로 210국립서울현충원</td>\n",
       "      <td>37.5004</td>\n",
       "      <td>126.9765</td>\n",
       "      <td>동작구</td>\n",
       "    </tr>\n",
       "    <tr>\n",
       "      <th>5065</th>\n",
       "      <td>2023-06-28</td>\n",
       "      <td>889</td>\n",
       "      <td>0</td>\n",
       "      <td>29.147872</td>\n",
       "      <td>26.745833</td>\n",
       "      <td>1.354167</td>\n",
       "      <td>서울특별시 동작구현충로 210국립서울현충원</td>\n",
       "      <td>37.5004</td>\n",
       "      <td>126.9765</td>\n",
       "      <td>동작구</td>\n",
       "    </tr>\n",
       "    <tr>\n",
       "      <th>5066</th>\n",
       "      <td>2023-06-29</td>\n",
       "      <td>889</td>\n",
       "      <td>11</td>\n",
       "      <td>28.159810</td>\n",
       "      <td>24.812500</td>\n",
       "      <td>0.866667</td>\n",
       "      <td>서울특별시 동작구현충로 210국립서울현충원</td>\n",
       "      <td>37.5004</td>\n",
       "      <td>126.9765</td>\n",
       "      <td>동작구</td>\n",
       "    </tr>\n",
       "    <tr>\n",
       "      <th>5067</th>\n",
       "      <td>2023-06-30</td>\n",
       "      <td>889</td>\n",
       "      <td>1</td>\n",
       "      <td>28.873724</td>\n",
       "      <td>25.841667</td>\n",
       "      <td>0.720833</td>\n",
       "      <td>서울특별시 동작구현충로 210국립서울현충원</td>\n",
       "      <td>37.5004</td>\n",
       "      <td>126.9765</td>\n",
       "      <td>동작구</td>\n",
       "    </tr>\n",
       "  </tbody>\n",
       "</table>\n",
       "<p>5068 rows × 10 columns</p>\n",
       "</div>"
      ],
      "text/plain": [
       "              날짜   지점  강수여부       체감온도     기온(°C)   풍속(m/s)  \\\n",
       "0     2023-01-01  116     0  -5.883430  -3.883333  4.895833   \n",
       "1     2023-01-02  116     0 -10.341636  -8.691667  3.566667   \n",
       "2     2023-01-03  116     0  -9.887621  -7.808333  4.287500   \n",
       "3     2023-01-04  116     0  -5.179025  -4.766667  2.229167   \n",
       "4     2023-01-05  116     0  -4.087618  -3.550000  2.583333   \n",
       "...          ...  ...   ...        ...        ...       ...   \n",
       "5063  2023-06-26  889    11  27.503134  24.691667  1.262500   \n",
       "5064  2023-06-27  889     2  27.848212  25.895833  1.758333   \n",
       "5065  2023-06-28  889     0  29.147872  26.745833  1.354167   \n",
       "5066  2023-06-29  889    11  28.159810  24.812500  0.866667   \n",
       "5067  2023-06-30  889     1  28.873724  25.841667  0.720833   \n",
       "\n",
       "                           지점주소       위도        경도  그룹명  \n",
       "0                           NaN      NaN       NaN  NaN  \n",
       "1                           NaN      NaN       NaN  NaN  \n",
       "2                           NaN      NaN       NaN  NaN  \n",
       "3                           NaN      NaN       NaN  NaN  \n",
       "4                           NaN      NaN       NaN  NaN  \n",
       "...                         ...      ...       ...  ...  \n",
       "5063  서울특별시 동작구현충로 210국립서울현충원    37.5004  126.9765  동작구  \n",
       "5064  서울특별시 동작구현충로 210국립서울현충원    37.5004  126.9765  동작구  \n",
       "5065  서울특별시 동작구현충로 210국립서울현충원    37.5004  126.9765  동작구  \n",
       "5066  서울특별시 동작구현충로 210국립서울현충원    37.5004  126.9765  동작구  \n",
       "5067  서울특별시 동작구현충로 210국립서울현충원    37.5004  126.9765  동작구  \n",
       "\n",
       "[5068 rows x 10 columns]"
      ]
     },
     "execution_count": 19,
     "metadata": {},
     "output_type": "execute_result"
    }
   ],
   "source": [
    "merged_weather_df = pd.merge(\n",
    "    left=weather_daily_df,\n",
    "    right=weather_cur_pos_df,\n",
    "    how='outer',\n",
    "    on='지점'\n",
    ")\n",
    "\n",
    "merged_weather_df"
   ]
  },
  {
   "cell_type": "markdown",
   "id": "69a9c7a2",
   "metadata": {},
   "source": [
    "잘 된 것 같은데 지점주소가 NaN인 데이터가 있다. 아마 지점이 매핑이 안 되는 곳인 것 같다."
   ]
  },
  {
   "cell_type": "code",
   "execution_count": 20,
   "id": "6f1a7506",
   "metadata": {
    "ExecuteTime": {
     "end_time": "2023-11-18T03:55:23.544405Z",
     "start_time": "2023-11-18T03:55:23.525249Z"
    }
   },
   "outputs": [
    {
     "data": {
      "text/plain": [
       "116    181\n",
       "Name: 지점, dtype: int64"
      ]
     },
     "execution_count": 20,
     "metadata": {},
     "output_type": "execute_result"
    }
   ],
   "source": [
    "merged_weather_df[merged_weather_df['지점주소'].isna()]['지점'].value_counts()"
   ]
  },
  {
   "cell_type": "markdown",
   "id": "47dfcccc",
   "metadata": {},
   "source": [
    "116 지점은 drop해버리는 게 좋겠다."
   ]
  },
  {
   "cell_type": "code",
   "execution_count": 21,
   "id": "a729ab45",
   "metadata": {
    "ExecuteTime": {
     "end_time": "2023-11-18T03:55:28.250248Z",
     "start_time": "2023-11-18T03:55:28.232246Z"
    }
   },
   "outputs": [
    {
     "data": {
      "text/plain": [
       "날짜           0\n",
       "지점           0\n",
       "강수여부         0\n",
       "체감온도       124\n",
       "기온(°C)       1\n",
       "풍속(m/s)      0\n",
       "지점주소         0\n",
       "위도           0\n",
       "경도           0\n",
       "그룹명          0\n",
       "dtype: int64"
      ]
     },
     "execution_count": 21,
     "metadata": {},
     "output_type": "execute_result"
    }
   ],
   "source": [
    "merged_dropped_weather_df = merged_weather_df[merged_weather_df['지점주소'].notna()]\n",
    "merged_dropped_weather_df.isna().sum()"
   ]
  },
  {
   "cell_type": "markdown",
   "id": "1838e32b",
   "metadata": {},
   "source": [
    "그리고 아까 같은 구에 2개 들어가 있는 것들을 확인했었는데, 더 질이 좋은 하나만 쓰는 게 좋겠다."
   ]
  },
  {
   "cell_type": "code",
   "execution_count": 127,
   "id": "4ec04083",
   "metadata": {
    "ExecuteTime": {
     "end_time": "2023-11-17T18:39:03.560734Z",
     "start_time": "2023-11-17T18:39:03.494729Z"
    }
   },
   "outputs": [
    {
     "name": "stdout",
     "output_type": "stream",
     "text": [
      "==============================\n",
      "425 지점의 결측치\n",
      "날짜      0\n",
      "지점      0\n",
      "강수여부    0\n",
      "체감온도    0\n",
      "지점주소    0\n",
      "위도      0\n",
      "경도      0\n",
      "그룹명     0\n",
      "dtype: int64\n",
      "==============================\n",
      "509 지점의 결측치\n",
      "날짜      0\n",
      "지점      0\n",
      "강수여부    0\n",
      "체감온도    0\n",
      "지점주소    0\n",
      "위도      0\n",
      "경도      0\n",
      "그룹명     0\n",
      "dtype: int64\n"
     ]
    }
   ],
   "source": [
    "for idx, df in merged_dropped_weather_df[merged_dropped_weather_df['그룹명'] == '관악구'].groupby('지점'):\n",
    "    print('=' * 30)\n",
    "    print(f\"{idx} 지점의 결측치\")\n",
    "    print(df.isna().sum())"
   ]
  },
  {
   "cell_type": "markdown",
   "id": "fc686884",
   "metadata": {},
   "source": [
    "지점 509 drop하기"
   ]
  },
  {
   "cell_type": "code",
   "execution_count": 128,
   "id": "0aa6d05d",
   "metadata": {
    "ExecuteTime": {
     "end_time": "2023-11-17T18:39:09.197955Z",
     "start_time": "2023-11-17T18:39:09.122949Z"
    }
   },
   "outputs": [
    {
     "name": "stdout",
     "output_type": "stream",
     "text": [
      "==============================\n",
      "418 지점의 결측치\n",
      "날짜      0\n",
      "지점      0\n",
      "강수여부    0\n",
      "체감온도    0\n",
      "지점주소    0\n",
      "위도      0\n",
      "경도      0\n",
      "그룹명     0\n",
      "dtype: int64\n",
      "==============================\n",
      "510 지점의 결측치\n",
      "날짜      0\n",
      "지점      0\n",
      "강수여부    0\n",
      "체감온도    1\n",
      "지점주소    0\n",
      "위도      0\n",
      "경도      0\n",
      "그룹명     0\n",
      "dtype: int64\n"
     ]
    }
   ],
   "source": [
    "for idx, df in merged_dropped_weather_df[merged_dropped_weather_df['그룹명'] == '영등포구'].groupby('지점'):\n",
    "    print('=' * 30)\n",
    "    print(f\"{idx} 지점의 결측치\")\n",
    "    print(df.isna().sum())"
   ]
  },
  {
   "cell_type": "markdown",
   "id": "44d4999f",
   "metadata": {},
   "source": [
    "지점 510 drop하기"
   ]
  },
  {
   "cell_type": "code",
   "execution_count": 129,
   "id": "5a68228c",
   "metadata": {
    "ExecuteTime": {
     "end_time": "2023-11-17T18:39:13.228658Z",
     "start_time": "2023-11-17T18:39:13.168784Z"
    }
   },
   "outputs": [
    {
     "name": "stdout",
     "output_type": "stream",
     "text": [
      "==============================\n",
      "410 지점의 결측치\n",
      "날짜      0\n",
      "지점      0\n",
      "강수여부    0\n",
      "체감온도    0\n",
      "지점주소    0\n",
      "위도      0\n",
      "경도      0\n",
      "그룹명     0\n",
      "dtype: int64\n",
      "==============================\n",
      "889 지점의 결측치\n",
      "날짜      0\n",
      "지점      0\n",
      "강수여부    0\n",
      "체감온도    0\n",
      "지점주소    0\n",
      "위도      0\n",
      "경도      0\n",
      "그룹명     0\n",
      "dtype: int64\n"
     ]
    }
   ],
   "source": [
    "for idx, df in merged_dropped_weather_df[merged_dropped_weather_df['그룹명'] == '동작구'].groupby('지점'):\n",
    "    print('=' * 30)\n",
    "    print(f\"{idx} 지점의 결측치\")\n",
    "    print(df.isna().sum())"
   ]
  },
  {
   "cell_type": "markdown",
   "id": "34a5481a",
   "metadata": {},
   "source": [
    "지점 889 drop하기"
   ]
  },
  {
   "cell_type": "code",
   "execution_count": 22,
   "id": "da629f39",
   "metadata": {
    "ExecuteTime": {
     "end_time": "2023-11-18T03:55:49.957390Z",
     "start_time": "2023-11-18T03:55:49.934238Z"
    }
   },
   "outputs": [
    {
     "data": {
      "text/html": [
       "<div>\n",
       "<style scoped>\n",
       "    .dataframe tbody tr th:only-of-type {\n",
       "        vertical-align: middle;\n",
       "    }\n",
       "\n",
       "    .dataframe tbody tr th {\n",
       "        vertical-align: top;\n",
       "    }\n",
       "\n",
       "    .dataframe thead th {\n",
       "        text-align: right;\n",
       "    }\n",
       "</style>\n",
       "<table border=\"1\" class=\"dataframe\">\n",
       "  <thead>\n",
       "    <tr style=\"text-align: right;\">\n",
       "      <th></th>\n",
       "      <th>날짜</th>\n",
       "      <th>지점</th>\n",
       "      <th>강수여부</th>\n",
       "      <th>체감온도</th>\n",
       "      <th>기온(°C)</th>\n",
       "      <th>풍속(m/s)</th>\n",
       "      <th>그룹명</th>\n",
       "    </tr>\n",
       "  </thead>\n",
       "  <tbody>\n",
       "    <tr>\n",
       "      <th>0</th>\n",
       "      <td>2023-01-01</td>\n",
       "      <td>400</td>\n",
       "      <td>0</td>\n",
       "      <td>0.901465</td>\n",
       "      <td>0.937500</td>\n",
       "      <td>1.525000</td>\n",
       "      <td>강남구</td>\n",
       "    </tr>\n",
       "    <tr>\n",
       "      <th>1</th>\n",
       "      <td>2023-01-02</td>\n",
       "      <td>400</td>\n",
       "      <td>0</td>\n",
       "      <td>-2.987500</td>\n",
       "      <td>-2.987500</td>\n",
       "      <td>1.500000</td>\n",
       "      <td>강남구</td>\n",
       "    </tr>\n",
       "    <tr>\n",
       "      <th>2</th>\n",
       "      <td>2023-01-03</td>\n",
       "      <td>400</td>\n",
       "      <td>0</td>\n",
       "      <td>-3.724754</td>\n",
       "      <td>-3.695833</td>\n",
       "      <td>1.216667</td>\n",
       "      <td>강남구</td>\n",
       "    </tr>\n",
       "    <tr>\n",
       "      <th>3</th>\n",
       "      <td>2023-01-04</td>\n",
       "      <td>400</td>\n",
       "      <td>0</td>\n",
       "      <td>-1.366667</td>\n",
       "      <td>-1.366667</td>\n",
       "      <td>0.941667</td>\n",
       "      <td>강남구</td>\n",
       "    </tr>\n",
       "    <tr>\n",
       "      <th>4</th>\n",
       "      <td>2023-01-05</td>\n",
       "      <td>400</td>\n",
       "      <td>0</td>\n",
       "      <td>-1.970833</td>\n",
       "      <td>-1.970833</td>\n",
       "      <td>0.683333</td>\n",
       "      <td>강남구</td>\n",
       "    </tr>\n",
       "    <tr>\n",
       "      <th>...</th>\n",
       "      <td>...</td>\n",
       "      <td>...</td>\n",
       "      <td>...</td>\n",
       "      <td>...</td>\n",
       "      <td>...</td>\n",
       "      <td>...</td>\n",
       "      <td>...</td>\n",
       "    </tr>\n",
       "    <tr>\n",
       "      <th>4339</th>\n",
       "      <td>2023-06-26</td>\n",
       "      <td>425</td>\n",
       "      <td>11</td>\n",
       "      <td>25.555988</td>\n",
       "      <td>23.066667</td>\n",
       "      <td>0.979167</td>\n",
       "      <td>관악구</td>\n",
       "    </tr>\n",
       "    <tr>\n",
       "      <th>4340</th>\n",
       "      <td>2023-06-27</td>\n",
       "      <td>425</td>\n",
       "      <td>1</td>\n",
       "      <td>25.628431</td>\n",
       "      <td>24.091667</td>\n",
       "      <td>1.820833</td>\n",
       "      <td>관악구</td>\n",
       "    </tr>\n",
       "    <tr>\n",
       "      <th>4341</th>\n",
       "      <td>2023-06-28</td>\n",
       "      <td>425</td>\n",
       "      <td>0</td>\n",
       "      <td>26.881143</td>\n",
       "      <td>25.108333</td>\n",
       "      <td>1.337500</td>\n",
       "      <td>관악구</td>\n",
       "    </tr>\n",
       "    <tr>\n",
       "      <th>4342</th>\n",
       "      <td>2023-06-29</td>\n",
       "      <td>425</td>\n",
       "      <td>10</td>\n",
       "      <td>26.429259</td>\n",
       "      <td>23.516667</td>\n",
       "      <td>1.270833</td>\n",
       "      <td>관악구</td>\n",
       "    </tr>\n",
       "    <tr>\n",
       "      <th>4343</th>\n",
       "      <td>2023-06-30</td>\n",
       "      <td>425</td>\n",
       "      <td>1</td>\n",
       "      <td>26.947587</td>\n",
       "      <td>24.237500</td>\n",
       "      <td>0.658333</td>\n",
       "      <td>관악구</td>\n",
       "    </tr>\n",
       "  </tbody>\n",
       "</table>\n",
       "<p>4344 rows × 7 columns</p>\n",
       "</div>"
      ],
      "text/plain": [
       "              날짜   지점  강수여부       체감온도     기온(°C)   풍속(m/s)  그룹명\n",
       "0     2023-01-01  400     0   0.901465   0.937500  1.525000  강남구\n",
       "1     2023-01-02  400     0  -2.987500  -2.987500  1.500000  강남구\n",
       "2     2023-01-03  400     0  -3.724754  -3.695833  1.216667  강남구\n",
       "3     2023-01-04  400     0  -1.366667  -1.366667  0.941667  강남구\n",
       "4     2023-01-05  400     0  -1.970833  -1.970833  0.683333  강남구\n",
       "...          ...  ...   ...        ...        ...       ...  ...\n",
       "4339  2023-06-26  425    11  25.555988  23.066667  0.979167  관악구\n",
       "4340  2023-06-27  425     1  25.628431  24.091667  1.820833  관악구\n",
       "4341  2023-06-28  425     0  26.881143  25.108333  1.337500  관악구\n",
       "4342  2023-06-29  425    10  26.429259  23.516667  1.270833  관악구\n",
       "4343  2023-06-30  425     1  26.947587  24.237500  0.658333  관악구\n",
       "\n",
       "[4344 rows x 7 columns]"
      ]
     },
     "execution_count": 22,
     "metadata": {},
     "output_type": "execute_result"
    }
   ],
   "source": [
    "processed_weather_df = merged_dropped_weather_df[\n",
    "    (merged_dropped_weather_df['지점'] != 509) &\n",
    "    (merged_dropped_weather_df['지점'] != 510) &\n",
    "    (merged_dropped_weather_df['지점'] != 889)\n",
    "].drop(['지점주소', '위도', '경도'], axis=1).reset_index(drop=True)\n",
    "\n",
    "processed_weather_df"
   ]
  },
  {
   "cell_type": "markdown",
   "id": "19f16514",
   "metadata": {},
   "source": [
    "#### 2-3-11. 데이터프레임 저장"
   ]
  },
  {
   "cell_type": "code",
   "execution_count": 23,
   "id": "d80c3d9b",
   "metadata": {
    "ExecuteTime": {
     "end_time": "2023-11-18T03:55:54.010237Z",
     "start_time": "2023-11-18T03:55:53.987304Z"
    }
   },
   "outputs": [
    {
     "name": "stdout",
     "output_type": "stream",
     "text": [
      "저장 완료\n"
     ]
    }
   ],
   "source": [
    "with open('processed_weather_df.pkl', 'wb') as file:\n",
    "    pickle.dump(processed_weather_df, file)\n",
    "    print(\"저장 완료\")"
   ]
  },
  {
   "cell_type": "markdown",
   "id": "26ae8eb7",
   "metadata": {},
   "source": [
    "## 3. 가설 검정"
   ]
  },
  {
   "cell_type": "markdown",
   "id": "b5827ca1",
   "metadata": {},
   "source": [
    "이제부터 **야외 활동이 어려운 날씨일 때 자전거 이용건수가 유의미하게 감소하는지**(날씨 좋은 날에는 공공자전거 이용건수가 더 많은지) 확인해보도록 한다."
   ]
  },
  {
   "cell_type": "markdown",
   "id": "d04770b4",
   "metadata": {},
   "source": [
    "### 3-1. 데이터 로딩 및 전처리"
   ]
  },
  {
   "cell_type": "code",
   "execution_count": 24,
   "id": "66250877",
   "metadata": {
    "ExecuteTime": {
     "end_time": "2023-11-18T03:55:57.286809Z",
     "start_time": "2023-11-18T03:55:57.007458Z"
    }
   },
   "outputs": [
    {
     "data": {
      "text/html": [
       "<div>\n",
       "<style scoped>\n",
       "    .dataframe tbody tr th:only-of-type {\n",
       "        vertical-align: middle;\n",
       "    }\n",
       "\n",
       "    .dataframe tbody tr th {\n",
       "        vertical-align: top;\n",
       "    }\n",
       "\n",
       "    .dataframe thead th {\n",
       "        text-align: right;\n",
       "    }\n",
       "</style>\n",
       "<table border=\"1\" class=\"dataframe\">\n",
       "  <thead>\n",
       "    <tr style=\"text-align: right;\">\n",
       "      <th></th>\n",
       "      <th>그룹명</th>\n",
       "      <th>대여소명</th>\n",
       "      <th>대여년월</th>\n",
       "      <th>대여건수</th>\n",
       "      <th>반납건수</th>\n",
       "    </tr>\n",
       "  </thead>\n",
       "  <tbody>\n",
       "    <tr>\n",
       "      <th>0</th>\n",
       "      <td>양천구</td>\n",
       "      <td>729. 서부식자재마트 건너편</td>\n",
       "      <td>2023-01-01</td>\n",
       "      <td>26</td>\n",
       "      <td>25</td>\n",
       "    </tr>\n",
       "    <tr>\n",
       "      <th>1</th>\n",
       "      <td>양천구</td>\n",
       "      <td>731. 서울시 도로환경관리센터</td>\n",
       "      <td>2023-01-01</td>\n",
       "      <td>38</td>\n",
       "      <td>37</td>\n",
       "    </tr>\n",
       "    <tr>\n",
       "      <th>2</th>\n",
       "      <td>양천구</td>\n",
       "      <td>732. 신월중학교</td>\n",
       "      <td>2023-01-01</td>\n",
       "      <td>22</td>\n",
       "      <td>25</td>\n",
       "    </tr>\n",
       "    <tr>\n",
       "      <th>3</th>\n",
       "      <td>양천구</td>\n",
       "      <td>733. 신정이펜하우스314동</td>\n",
       "      <td>2023-01-01</td>\n",
       "      <td>8</td>\n",
       "      <td>5</td>\n",
       "    </tr>\n",
       "    <tr>\n",
       "      <th>4</th>\n",
       "      <td>양천구</td>\n",
       "      <td>734. 신트리공원 입구</td>\n",
       "      <td>2023-01-01</td>\n",
       "      <td>32</td>\n",
       "      <td>28</td>\n",
       "    </tr>\n",
       "    <tr>\n",
       "      <th>...</th>\n",
       "      <td>...</td>\n",
       "      <td>...</td>\n",
       "      <td>...</td>\n",
       "      <td>...</td>\n",
       "      <td>...</td>\n",
       "    </tr>\n",
       "    <tr>\n",
       "      <th>483143</th>\n",
       "      <td>마포구</td>\n",
       "      <td>426. 서울신용보증재단</td>\n",
       "      <td>2023-06-30</td>\n",
       "      <td>56</td>\n",
       "      <td>55</td>\n",
       "    </tr>\n",
       "    <tr>\n",
       "      <th>483144</th>\n",
       "      <td>양천구</td>\n",
       "      <td>722. 경서농협 버스정류장(우리은행신정동지점방향)</td>\n",
       "      <td>2023-06-30</td>\n",
       "      <td>70</td>\n",
       "      <td>71</td>\n",
       "    </tr>\n",
       "    <tr>\n",
       "      <th>483145</th>\n",
       "      <td>양천구</td>\n",
       "      <td>723. SBS방송국</td>\n",
       "      <td>2023-06-30</td>\n",
       "      <td>109</td>\n",
       "      <td>110</td>\n",
       "    </tr>\n",
       "    <tr>\n",
       "      <th>483146</th>\n",
       "      <td>양천구</td>\n",
       "      <td>725. 양강중학교앞 교차로</td>\n",
       "      <td>2023-06-30</td>\n",
       "      <td>42</td>\n",
       "      <td>16</td>\n",
       "    </tr>\n",
       "    <tr>\n",
       "      <th>483147</th>\n",
       "      <td>양천구</td>\n",
       "      <td>726. 목동3단지 시내버스정류장</td>\n",
       "      <td>2023-06-30</td>\n",
       "      <td>175</td>\n",
       "      <td>187</td>\n",
       "    </tr>\n",
       "  </tbody>\n",
       "</table>\n",
       "<p>483148 rows × 5 columns</p>\n",
       "</div>"
      ],
      "text/plain": [
       "        그룹명                          대여소명        대여년월  대여건수  반납건수\n",
       "0       양천구              729. 서부식자재마트 건너편  2023-01-01    26    25\n",
       "1       양천구             731. 서울시 도로환경관리센터  2023-01-01    38    37\n",
       "2       양천구                    732. 신월중학교  2023-01-01    22    25\n",
       "3       양천구              733. 신정이펜하우스314동  2023-01-01     8     5\n",
       "4       양천구                 734. 신트리공원 입구  2023-01-01    32    28\n",
       "...     ...                           ...         ...   ...   ...\n",
       "483143  마포구                 426. 서울신용보증재단  2023-06-30    56    55\n",
       "483144  양천구  722. 경서농협 버스정류장(우리은행신정동지점방향)  2023-06-30    70    71\n",
       "483145  양천구                   723. SBS방송국  2023-06-30   109   110\n",
       "483146  양천구               725. 양강중학교앞 교차로  2023-06-30    42    16\n",
       "483147  양천구            726. 목동3단지 시내버스정류장  2023-06-30   175   187\n",
       "\n",
       "[483148 rows x 5 columns]"
      ]
     },
     "execution_count": 24,
     "metadata": {},
     "output_type": "execute_result"
    }
   ],
   "source": [
    "with open('new_cycle_use_df.pkl', 'rb') as file:\n",
    "    new_cycle_use_df = pickle.load(file)\n",
    "    \n",
    "new_cycle_use_df"
   ]
  },
  {
   "cell_type": "markdown",
   "id": "45df5b3e",
   "metadata": {},
   "source": [
    "각 대여소별 이용건수는 대여건수와 반납건수를 합한 것으로 정한다."
   ]
  },
  {
   "cell_type": "code",
   "execution_count": 26,
   "id": "4810e866",
   "metadata": {
    "ExecuteTime": {
     "end_time": "2023-11-18T03:57:34.933523Z",
     "start_time": "2023-11-18T03:57:34.918540Z"
    }
   },
   "outputs": [
    {
     "data": {
      "text/html": [
       "<div>\n",
       "<style scoped>\n",
       "    .dataframe tbody tr th:only-of-type {\n",
       "        vertical-align: middle;\n",
       "    }\n",
       "\n",
       "    .dataframe tbody tr th {\n",
       "        vertical-align: top;\n",
       "    }\n",
       "\n",
       "    .dataframe thead th {\n",
       "        text-align: right;\n",
       "    }\n",
       "</style>\n",
       "<table border=\"1\" class=\"dataframe\">\n",
       "  <thead>\n",
       "    <tr style=\"text-align: right;\">\n",
       "      <th></th>\n",
       "      <th>그룹명</th>\n",
       "      <th>대여소명</th>\n",
       "      <th>대여년월</th>\n",
       "      <th>대여건수</th>\n",
       "      <th>반납건수</th>\n",
       "      <th>이용건수</th>\n",
       "    </tr>\n",
       "  </thead>\n",
       "  <tbody>\n",
       "    <tr>\n",
       "      <th>0</th>\n",
       "      <td>양천구</td>\n",
       "      <td>729. 서부식자재마트 건너편</td>\n",
       "      <td>2023-01-01</td>\n",
       "      <td>26</td>\n",
       "      <td>25</td>\n",
       "      <td>51</td>\n",
       "    </tr>\n",
       "    <tr>\n",
       "      <th>1</th>\n",
       "      <td>양천구</td>\n",
       "      <td>731. 서울시 도로환경관리센터</td>\n",
       "      <td>2023-01-01</td>\n",
       "      <td>38</td>\n",
       "      <td>37</td>\n",
       "      <td>75</td>\n",
       "    </tr>\n",
       "    <tr>\n",
       "      <th>2</th>\n",
       "      <td>양천구</td>\n",
       "      <td>732. 신월중학교</td>\n",
       "      <td>2023-01-01</td>\n",
       "      <td>22</td>\n",
       "      <td>25</td>\n",
       "      <td>47</td>\n",
       "    </tr>\n",
       "    <tr>\n",
       "      <th>3</th>\n",
       "      <td>양천구</td>\n",
       "      <td>733. 신정이펜하우스314동</td>\n",
       "      <td>2023-01-01</td>\n",
       "      <td>8</td>\n",
       "      <td>5</td>\n",
       "      <td>13</td>\n",
       "    </tr>\n",
       "    <tr>\n",
       "      <th>4</th>\n",
       "      <td>양천구</td>\n",
       "      <td>734. 신트리공원 입구</td>\n",
       "      <td>2023-01-01</td>\n",
       "      <td>32</td>\n",
       "      <td>28</td>\n",
       "      <td>60</td>\n",
       "    </tr>\n",
       "    <tr>\n",
       "      <th>...</th>\n",
       "      <td>...</td>\n",
       "      <td>...</td>\n",
       "      <td>...</td>\n",
       "      <td>...</td>\n",
       "      <td>...</td>\n",
       "      <td>...</td>\n",
       "    </tr>\n",
       "    <tr>\n",
       "      <th>483143</th>\n",
       "      <td>마포구</td>\n",
       "      <td>426. 서울신용보증재단</td>\n",
       "      <td>2023-06-30</td>\n",
       "      <td>56</td>\n",
       "      <td>55</td>\n",
       "      <td>111</td>\n",
       "    </tr>\n",
       "    <tr>\n",
       "      <th>483144</th>\n",
       "      <td>양천구</td>\n",
       "      <td>722. 경서농협 버스정류장(우리은행신정동지점방향)</td>\n",
       "      <td>2023-06-30</td>\n",
       "      <td>70</td>\n",
       "      <td>71</td>\n",
       "      <td>141</td>\n",
       "    </tr>\n",
       "    <tr>\n",
       "      <th>483145</th>\n",
       "      <td>양천구</td>\n",
       "      <td>723. SBS방송국</td>\n",
       "      <td>2023-06-30</td>\n",
       "      <td>109</td>\n",
       "      <td>110</td>\n",
       "      <td>219</td>\n",
       "    </tr>\n",
       "    <tr>\n",
       "      <th>483146</th>\n",
       "      <td>양천구</td>\n",
       "      <td>725. 양강중학교앞 교차로</td>\n",
       "      <td>2023-06-30</td>\n",
       "      <td>42</td>\n",
       "      <td>16</td>\n",
       "      <td>58</td>\n",
       "    </tr>\n",
       "    <tr>\n",
       "      <th>483147</th>\n",
       "      <td>양천구</td>\n",
       "      <td>726. 목동3단지 시내버스정류장</td>\n",
       "      <td>2023-06-30</td>\n",
       "      <td>175</td>\n",
       "      <td>187</td>\n",
       "      <td>362</td>\n",
       "    </tr>\n",
       "  </tbody>\n",
       "</table>\n",
       "<p>483148 rows × 6 columns</p>\n",
       "</div>"
      ],
      "text/plain": [
       "        그룹명                          대여소명        대여년월  대여건수  반납건수  이용건수\n",
       "0       양천구              729. 서부식자재마트 건너편  2023-01-01    26    25    51\n",
       "1       양천구             731. 서울시 도로환경관리센터  2023-01-01    38    37    75\n",
       "2       양천구                    732. 신월중학교  2023-01-01    22    25    47\n",
       "3       양천구              733. 신정이펜하우스314동  2023-01-01     8     5    13\n",
       "4       양천구                 734. 신트리공원 입구  2023-01-01    32    28    60\n",
       "...     ...                           ...         ...   ...   ...   ...\n",
       "483143  마포구                 426. 서울신용보증재단  2023-06-30    56    55   111\n",
       "483144  양천구  722. 경서농협 버스정류장(우리은행신정동지점방향)  2023-06-30    70    71   141\n",
       "483145  양천구                   723. SBS방송국  2023-06-30   109   110   219\n",
       "483146  양천구               725. 양강중학교앞 교차로  2023-06-30    42    16    58\n",
       "483147  양천구            726. 목동3단지 시내버스정류장  2023-06-30   175   187   362\n",
       "\n",
       "[483148 rows x 6 columns]"
      ]
     },
     "execution_count": 26,
     "metadata": {},
     "output_type": "execute_result"
    }
   ],
   "source": [
    "new_cycle_use_df['이용건수'] = new_cycle_use_df['대여건수'] + new_cycle_use_df['반납건수']\n",
    "new_cycle_use_df"
   ]
  },
  {
   "cell_type": "code",
   "execution_count": 27,
   "id": "34658b4c",
   "metadata": {
    "ExecuteTime": {
     "end_time": "2023-11-18T03:57:46.273497Z",
     "start_time": "2023-11-18T03:57:46.252718Z"
    }
   },
   "outputs": [
    {
     "data": {
      "text/html": [
       "<div>\n",
       "<style scoped>\n",
       "    .dataframe tbody tr th:only-of-type {\n",
       "        vertical-align: middle;\n",
       "    }\n",
       "\n",
       "    .dataframe tbody tr th {\n",
       "        vertical-align: top;\n",
       "    }\n",
       "\n",
       "    .dataframe thead th {\n",
       "        text-align: right;\n",
       "    }\n",
       "</style>\n",
       "<table border=\"1\" class=\"dataframe\">\n",
       "  <thead>\n",
       "    <tr style=\"text-align: right;\">\n",
       "      <th></th>\n",
       "      <th>날짜</th>\n",
       "      <th>지점</th>\n",
       "      <th>강수여부</th>\n",
       "      <th>체감온도</th>\n",
       "      <th>기온(°C)</th>\n",
       "      <th>풍속(m/s)</th>\n",
       "      <th>그룹명</th>\n",
       "    </tr>\n",
       "  </thead>\n",
       "  <tbody>\n",
       "    <tr>\n",
       "      <th>0</th>\n",
       "      <td>2023-01-01</td>\n",
       "      <td>400</td>\n",
       "      <td>0</td>\n",
       "      <td>0.901465</td>\n",
       "      <td>0.937500</td>\n",
       "      <td>1.525000</td>\n",
       "      <td>강남구</td>\n",
       "    </tr>\n",
       "    <tr>\n",
       "      <th>1</th>\n",
       "      <td>2023-01-02</td>\n",
       "      <td>400</td>\n",
       "      <td>0</td>\n",
       "      <td>-2.987500</td>\n",
       "      <td>-2.987500</td>\n",
       "      <td>1.500000</td>\n",
       "      <td>강남구</td>\n",
       "    </tr>\n",
       "    <tr>\n",
       "      <th>2</th>\n",
       "      <td>2023-01-03</td>\n",
       "      <td>400</td>\n",
       "      <td>0</td>\n",
       "      <td>-3.724754</td>\n",
       "      <td>-3.695833</td>\n",
       "      <td>1.216667</td>\n",
       "      <td>강남구</td>\n",
       "    </tr>\n",
       "    <tr>\n",
       "      <th>3</th>\n",
       "      <td>2023-01-04</td>\n",
       "      <td>400</td>\n",
       "      <td>0</td>\n",
       "      <td>-1.366667</td>\n",
       "      <td>-1.366667</td>\n",
       "      <td>0.941667</td>\n",
       "      <td>강남구</td>\n",
       "    </tr>\n",
       "    <tr>\n",
       "      <th>4</th>\n",
       "      <td>2023-01-05</td>\n",
       "      <td>400</td>\n",
       "      <td>0</td>\n",
       "      <td>-1.970833</td>\n",
       "      <td>-1.970833</td>\n",
       "      <td>0.683333</td>\n",
       "      <td>강남구</td>\n",
       "    </tr>\n",
       "    <tr>\n",
       "      <th>...</th>\n",
       "      <td>...</td>\n",
       "      <td>...</td>\n",
       "      <td>...</td>\n",
       "      <td>...</td>\n",
       "      <td>...</td>\n",
       "      <td>...</td>\n",
       "      <td>...</td>\n",
       "    </tr>\n",
       "    <tr>\n",
       "      <th>4339</th>\n",
       "      <td>2023-06-26</td>\n",
       "      <td>425</td>\n",
       "      <td>11</td>\n",
       "      <td>25.555988</td>\n",
       "      <td>23.066667</td>\n",
       "      <td>0.979167</td>\n",
       "      <td>관악구</td>\n",
       "    </tr>\n",
       "    <tr>\n",
       "      <th>4340</th>\n",
       "      <td>2023-06-27</td>\n",
       "      <td>425</td>\n",
       "      <td>1</td>\n",
       "      <td>25.628431</td>\n",
       "      <td>24.091667</td>\n",
       "      <td>1.820833</td>\n",
       "      <td>관악구</td>\n",
       "    </tr>\n",
       "    <tr>\n",
       "      <th>4341</th>\n",
       "      <td>2023-06-28</td>\n",
       "      <td>425</td>\n",
       "      <td>0</td>\n",
       "      <td>26.881143</td>\n",
       "      <td>25.108333</td>\n",
       "      <td>1.337500</td>\n",
       "      <td>관악구</td>\n",
       "    </tr>\n",
       "    <tr>\n",
       "      <th>4342</th>\n",
       "      <td>2023-06-29</td>\n",
       "      <td>425</td>\n",
       "      <td>10</td>\n",
       "      <td>26.429259</td>\n",
       "      <td>23.516667</td>\n",
       "      <td>1.270833</td>\n",
       "      <td>관악구</td>\n",
       "    </tr>\n",
       "    <tr>\n",
       "      <th>4343</th>\n",
       "      <td>2023-06-30</td>\n",
       "      <td>425</td>\n",
       "      <td>1</td>\n",
       "      <td>26.947587</td>\n",
       "      <td>24.237500</td>\n",
       "      <td>0.658333</td>\n",
       "      <td>관악구</td>\n",
       "    </tr>\n",
       "  </tbody>\n",
       "</table>\n",
       "<p>4344 rows × 7 columns</p>\n",
       "</div>"
      ],
      "text/plain": [
       "              날짜   지점  강수여부       체감온도     기온(°C)   풍속(m/s)  그룹명\n",
       "0     2023-01-01  400     0   0.901465   0.937500  1.525000  강남구\n",
       "1     2023-01-02  400     0  -2.987500  -2.987500  1.500000  강남구\n",
       "2     2023-01-03  400     0  -3.724754  -3.695833  1.216667  강남구\n",
       "3     2023-01-04  400     0  -1.366667  -1.366667  0.941667  강남구\n",
       "4     2023-01-05  400     0  -1.970833  -1.970833  0.683333  강남구\n",
       "...          ...  ...   ...        ...        ...       ...  ...\n",
       "4339  2023-06-26  425    11  25.555988  23.066667  0.979167  관악구\n",
       "4340  2023-06-27  425     1  25.628431  24.091667  1.820833  관악구\n",
       "4341  2023-06-28  425     0  26.881143  25.108333  1.337500  관악구\n",
       "4342  2023-06-29  425    10  26.429259  23.516667  1.270833  관악구\n",
       "4343  2023-06-30  425     1  26.947587  24.237500  0.658333  관악구\n",
       "\n",
       "[4344 rows x 7 columns]"
      ]
     },
     "execution_count": 27,
     "metadata": {},
     "output_type": "execute_result"
    }
   ],
   "source": [
    "with open('processed_weather_df.pkl', 'rb') as file:\n",
    "    processed_weather_df = pickle.load(file)\n",
    "    \n",
    "processed_weather_df"
   ]
  },
  {
   "cell_type": "markdown",
   "id": "a5a324a5",
   "metadata": {},
   "source": [
    "자전거 데이터와 날씨 데이터를 합친다."
   ]
  },
  {
   "cell_type": "code",
   "execution_count": 28,
   "id": "ad43c234",
   "metadata": {
    "ExecuteTime": {
     "end_time": "2023-11-18T03:58:07.011528Z",
     "start_time": "2023-11-18T03:58:06.858671Z"
    }
   },
   "outputs": [
    {
     "data": {
      "text/html": [
       "<div>\n",
       "<style scoped>\n",
       "    .dataframe tbody tr th:only-of-type {\n",
       "        vertical-align: middle;\n",
       "    }\n",
       "\n",
       "    .dataframe tbody tr th {\n",
       "        vertical-align: top;\n",
       "    }\n",
       "\n",
       "    .dataframe thead th {\n",
       "        text-align: right;\n",
       "    }\n",
       "</style>\n",
       "<table border=\"1\" class=\"dataframe\">\n",
       "  <thead>\n",
       "    <tr style=\"text-align: right;\">\n",
       "      <th></th>\n",
       "      <th>그룹명</th>\n",
       "      <th>대여소명</th>\n",
       "      <th>대여년월</th>\n",
       "      <th>대여건수</th>\n",
       "      <th>반납건수</th>\n",
       "      <th>이용건수</th>\n",
       "      <th>날짜</th>\n",
       "      <th>지점</th>\n",
       "      <th>강수여부</th>\n",
       "      <th>체감온도</th>\n",
       "      <th>기온(°C)</th>\n",
       "      <th>풍속(m/s)</th>\n",
       "    </tr>\n",
       "  </thead>\n",
       "  <tbody>\n",
       "    <tr>\n",
       "      <th>0</th>\n",
       "      <td>양천구</td>\n",
       "      <td>729. 서부식자재마트 건너편</td>\n",
       "      <td>2023-01-01</td>\n",
       "      <td>26</td>\n",
       "      <td>25</td>\n",
       "      <td>51</td>\n",
       "      <td>2023-01-01</td>\n",
       "      <td>405.0</td>\n",
       "      <td>0.0</td>\n",
       "      <td>0.703191</td>\n",
       "      <td>0.737500</td>\n",
       "      <td>1.858333</td>\n",
       "    </tr>\n",
       "    <tr>\n",
       "      <th>1</th>\n",
       "      <td>양천구</td>\n",
       "      <td>731. 서울시 도로환경관리센터</td>\n",
       "      <td>2023-01-01</td>\n",
       "      <td>38</td>\n",
       "      <td>37</td>\n",
       "      <td>75</td>\n",
       "      <td>2023-01-01</td>\n",
       "      <td>405.0</td>\n",
       "      <td>0.0</td>\n",
       "      <td>0.703191</td>\n",
       "      <td>0.737500</td>\n",
       "      <td>1.858333</td>\n",
       "    </tr>\n",
       "    <tr>\n",
       "      <th>2</th>\n",
       "      <td>양천구</td>\n",
       "      <td>732. 신월중학교</td>\n",
       "      <td>2023-01-01</td>\n",
       "      <td>22</td>\n",
       "      <td>25</td>\n",
       "      <td>47</td>\n",
       "      <td>2023-01-01</td>\n",
       "      <td>405.0</td>\n",
       "      <td>0.0</td>\n",
       "      <td>0.703191</td>\n",
       "      <td>0.737500</td>\n",
       "      <td>1.858333</td>\n",
       "    </tr>\n",
       "    <tr>\n",
       "      <th>3</th>\n",
       "      <td>양천구</td>\n",
       "      <td>733. 신정이펜하우스314동</td>\n",
       "      <td>2023-01-01</td>\n",
       "      <td>8</td>\n",
       "      <td>5</td>\n",
       "      <td>13</td>\n",
       "      <td>2023-01-01</td>\n",
       "      <td>405.0</td>\n",
       "      <td>0.0</td>\n",
       "      <td>0.703191</td>\n",
       "      <td>0.737500</td>\n",
       "      <td>1.858333</td>\n",
       "    </tr>\n",
       "    <tr>\n",
       "      <th>4</th>\n",
       "      <td>양천구</td>\n",
       "      <td>734. 신트리공원 입구</td>\n",
       "      <td>2023-01-01</td>\n",
       "      <td>32</td>\n",
       "      <td>28</td>\n",
       "      <td>60</td>\n",
       "      <td>2023-01-01</td>\n",
       "      <td>405.0</td>\n",
       "      <td>0.0</td>\n",
       "      <td>0.703191</td>\n",
       "      <td>0.737500</td>\n",
       "      <td>1.858333</td>\n",
       "    </tr>\n",
       "    <tr>\n",
       "      <th>...</th>\n",
       "      <td>...</td>\n",
       "      <td>...</td>\n",
       "      <td>...</td>\n",
       "      <td>...</td>\n",
       "      <td>...</td>\n",
       "      <td>...</td>\n",
       "      <td>...</td>\n",
       "      <td>...</td>\n",
       "      <td>...</td>\n",
       "      <td>...</td>\n",
       "      <td>...</td>\n",
       "      <td>...</td>\n",
       "    </tr>\n",
       "    <tr>\n",
       "      <th>483143</th>\n",
       "      <td>마포구</td>\n",
       "      <td>426. 서울신용보증재단</td>\n",
       "      <td>2023-06-30</td>\n",
       "      <td>56</td>\n",
       "      <td>55</td>\n",
       "      <td>111</td>\n",
       "      <td>2023-06-30</td>\n",
       "      <td>411.0</td>\n",
       "      <td>1.0</td>\n",
       "      <td>28.148547</td>\n",
       "      <td>25.475000</td>\n",
       "      <td>1.737500</td>\n",
       "    </tr>\n",
       "    <tr>\n",
       "      <th>483144</th>\n",
       "      <td>양천구</td>\n",
       "      <td>722. 경서농협 버스정류장(우리은행신정동지점방향)</td>\n",
       "      <td>2023-06-30</td>\n",
       "      <td>70</td>\n",
       "      <td>71</td>\n",
       "      <td>141</td>\n",
       "      <td>2023-06-30</td>\n",
       "      <td>405.0</td>\n",
       "      <td>2.0</td>\n",
       "      <td>27.723952</td>\n",
       "      <td>25.520833</td>\n",
       "      <td>1.300000</td>\n",
       "    </tr>\n",
       "    <tr>\n",
       "      <th>483145</th>\n",
       "      <td>양천구</td>\n",
       "      <td>723. SBS방송국</td>\n",
       "      <td>2023-06-30</td>\n",
       "      <td>109</td>\n",
       "      <td>110</td>\n",
       "      <td>219</td>\n",
       "      <td>2023-06-30</td>\n",
       "      <td>405.0</td>\n",
       "      <td>2.0</td>\n",
       "      <td>27.723952</td>\n",
       "      <td>25.520833</td>\n",
       "      <td>1.300000</td>\n",
       "    </tr>\n",
       "    <tr>\n",
       "      <th>483146</th>\n",
       "      <td>양천구</td>\n",
       "      <td>725. 양강중학교앞 교차로</td>\n",
       "      <td>2023-06-30</td>\n",
       "      <td>42</td>\n",
       "      <td>16</td>\n",
       "      <td>58</td>\n",
       "      <td>2023-06-30</td>\n",
       "      <td>405.0</td>\n",
       "      <td>2.0</td>\n",
       "      <td>27.723952</td>\n",
       "      <td>25.520833</td>\n",
       "      <td>1.300000</td>\n",
       "    </tr>\n",
       "    <tr>\n",
       "      <th>483147</th>\n",
       "      <td>양천구</td>\n",
       "      <td>726. 목동3단지 시내버스정류장</td>\n",
       "      <td>2023-06-30</td>\n",
       "      <td>175</td>\n",
       "      <td>187</td>\n",
       "      <td>362</td>\n",
       "      <td>2023-06-30</td>\n",
       "      <td>405.0</td>\n",
       "      <td>2.0</td>\n",
       "      <td>27.723952</td>\n",
       "      <td>25.520833</td>\n",
       "      <td>1.300000</td>\n",
       "    </tr>\n",
       "  </tbody>\n",
       "</table>\n",
       "<p>483148 rows × 12 columns</p>\n",
       "</div>"
      ],
      "text/plain": [
       "        그룹명                          대여소명        대여년월  대여건수  반납건수  이용건수  \\\n",
       "0       양천구              729. 서부식자재마트 건너편  2023-01-01    26    25    51   \n",
       "1       양천구             731. 서울시 도로환경관리센터  2023-01-01    38    37    75   \n",
       "2       양천구                    732. 신월중학교  2023-01-01    22    25    47   \n",
       "3       양천구              733. 신정이펜하우스314동  2023-01-01     8     5    13   \n",
       "4       양천구                 734. 신트리공원 입구  2023-01-01    32    28    60   \n",
       "...     ...                           ...         ...   ...   ...   ...   \n",
       "483143  마포구                 426. 서울신용보증재단  2023-06-30    56    55   111   \n",
       "483144  양천구  722. 경서농협 버스정류장(우리은행신정동지점방향)  2023-06-30    70    71   141   \n",
       "483145  양천구                   723. SBS방송국  2023-06-30   109   110   219   \n",
       "483146  양천구               725. 양강중학교앞 교차로  2023-06-30    42    16    58   \n",
       "483147  양천구            726. 목동3단지 시내버스정류장  2023-06-30   175   187   362   \n",
       "\n",
       "                날짜     지점  강수여부       체감온도     기온(°C)   풍속(m/s)  \n",
       "0       2023-01-01  405.0   0.0   0.703191   0.737500  1.858333  \n",
       "1       2023-01-01  405.0   0.0   0.703191   0.737500  1.858333  \n",
       "2       2023-01-01  405.0   0.0   0.703191   0.737500  1.858333  \n",
       "3       2023-01-01  405.0   0.0   0.703191   0.737500  1.858333  \n",
       "4       2023-01-01  405.0   0.0   0.703191   0.737500  1.858333  \n",
       "...            ...    ...   ...        ...        ...       ...  \n",
       "483143  2023-06-30  411.0   1.0  28.148547  25.475000  1.737500  \n",
       "483144  2023-06-30  405.0   2.0  27.723952  25.520833  1.300000  \n",
       "483145  2023-06-30  405.0   2.0  27.723952  25.520833  1.300000  \n",
       "483146  2023-06-30  405.0   2.0  27.723952  25.520833  1.300000  \n",
       "483147  2023-06-30  405.0   2.0  27.723952  25.520833  1.300000  \n",
       "\n",
       "[483148 rows x 12 columns]"
      ]
     },
     "execution_count": 28,
     "metadata": {},
     "output_type": "execute_result"
    }
   ],
   "source": [
    "merged_df = pd.merge(\n",
    "    left=new_cycle_use_df,\n",
    "    right=processed_weather_df,\n",
    "    how='left',\n",
    "    left_on=['그룹명', '대여년월'],\n",
    "    right_on=['그룹명', '날짜']\n",
    ")\n",
    "\n",
    "merged_df"
   ]
  },
  {
   "cell_type": "code",
   "execution_count": 29,
   "id": "d2c98f2d",
   "metadata": {
    "ExecuteTime": {
     "end_time": "2023-11-18T03:59:11.558276Z",
     "start_time": "2023-11-18T03:59:11.449718Z"
    }
   },
   "outputs": [
    {
     "data": {
      "text/html": [
       "<div>\n",
       "<style scoped>\n",
       "    .dataframe tbody tr th:only-of-type {\n",
       "        vertical-align: middle;\n",
       "    }\n",
       "\n",
       "    .dataframe tbody tr th {\n",
       "        vertical-align: top;\n",
       "    }\n",
       "\n",
       "    .dataframe thead th {\n",
       "        text-align: right;\n",
       "    }\n",
       "</style>\n",
       "<table border=\"1\" class=\"dataframe\">\n",
       "  <thead>\n",
       "    <tr style=\"text-align: right;\">\n",
       "      <th></th>\n",
       "      <th>그룹명</th>\n",
       "      <th>대여년월</th>\n",
       "      <th>이용건수</th>\n",
       "      <th>강수여부</th>\n",
       "      <th>체감온도</th>\n",
       "      <th>기온(°C)</th>\n",
       "      <th>풍속(m/s)</th>\n",
       "    </tr>\n",
       "  </thead>\n",
       "  <tbody>\n",
       "    <tr>\n",
       "      <th>0</th>\n",
       "      <td>강남구</td>\n",
       "      <td>2023-01-01</td>\n",
       "      <td>1879</td>\n",
       "      <td>0.0</td>\n",
       "      <td>0.901465</td>\n",
       "      <td>0.937500</td>\n",
       "      <td>1.525000</td>\n",
       "    </tr>\n",
       "    <tr>\n",
       "      <th>1</th>\n",
       "      <td>강남구</td>\n",
       "      <td>2023-01-02</td>\n",
       "      <td>3082</td>\n",
       "      <td>0.0</td>\n",
       "      <td>-2.987500</td>\n",
       "      <td>-2.987500</td>\n",
       "      <td>1.500000</td>\n",
       "    </tr>\n",
       "    <tr>\n",
       "      <th>2</th>\n",
       "      <td>강남구</td>\n",
       "      <td>2023-01-03</td>\n",
       "      <td>3301</td>\n",
       "      <td>0.0</td>\n",
       "      <td>-3.724754</td>\n",
       "      <td>-3.695833</td>\n",
       "      <td>1.216667</td>\n",
       "    </tr>\n",
       "    <tr>\n",
       "      <th>3</th>\n",
       "      <td>강남구</td>\n",
       "      <td>2023-01-04</td>\n",
       "      <td>3989</td>\n",
       "      <td>0.0</td>\n",
       "      <td>-1.366667</td>\n",
       "      <td>-1.366667</td>\n",
       "      <td>0.941667</td>\n",
       "    </tr>\n",
       "    <tr>\n",
       "      <th>4</th>\n",
       "      <td>강남구</td>\n",
       "      <td>2023-01-05</td>\n",
       "      <td>3912</td>\n",
       "      <td>0.0</td>\n",
       "      <td>-1.970833</td>\n",
       "      <td>-1.970833</td>\n",
       "      <td>0.683333</td>\n",
       "    </tr>\n",
       "    <tr>\n",
       "      <th>...</th>\n",
       "      <td>...</td>\n",
       "      <td>...</td>\n",
       "      <td>...</td>\n",
       "      <td>...</td>\n",
       "      <td>...</td>\n",
       "      <td>...</td>\n",
       "      <td>...</td>\n",
       "    </tr>\n",
       "    <tr>\n",
       "      <th>4495</th>\n",
       "      <td>중랑구</td>\n",
       "      <td>2023-06-25</td>\n",
       "      <td>8395</td>\n",
       "      <td>0.0</td>\n",
       "      <td>28.588273</td>\n",
       "      <td>28.333333</td>\n",
       "      <td>1.725000</td>\n",
       "    </tr>\n",
       "    <tr>\n",
       "      <th>4496</th>\n",
       "      <td>중랑구</td>\n",
       "      <td>2023-06-27</td>\n",
       "      <td>10158</td>\n",
       "      <td>279.0</td>\n",
       "      <td>26.690446</td>\n",
       "      <td>25.970833</td>\n",
       "      <td>2.558333</td>\n",
       "    </tr>\n",
       "    <tr>\n",
       "      <th>4497</th>\n",
       "      <td>중랑구</td>\n",
       "      <td>2023-06-28</td>\n",
       "      <td>10871</td>\n",
       "      <td>0.0</td>\n",
       "      <td>28.101424</td>\n",
       "      <td>27.079167</td>\n",
       "      <td>2.233333</td>\n",
       "    </tr>\n",
       "    <tr>\n",
       "      <th>4498</th>\n",
       "      <td>중랑구</td>\n",
       "      <td>2023-06-29</td>\n",
       "      <td>2130</td>\n",
       "      <td>1116.0</td>\n",
       "      <td>27.160036</td>\n",
       "      <td>24.616667</td>\n",
       "      <td>2.366667</td>\n",
       "    </tr>\n",
       "    <tr>\n",
       "      <th>4499</th>\n",
       "      <td>중랑구</td>\n",
       "      <td>2023-06-30</td>\n",
       "      <td>9285</td>\n",
       "      <td>93.0</td>\n",
       "      <td>27.970927</td>\n",
       "      <td>25.925000</td>\n",
       "      <td>1.312500</td>\n",
       "    </tr>\n",
       "  </tbody>\n",
       "</table>\n",
       "<p>4500 rows × 7 columns</p>\n",
       "</div>"
      ],
      "text/plain": [
       "      그룹명        대여년월   이용건수    강수여부       체감온도     기온(°C)   풍속(m/s)\n",
       "0     강남구  2023-01-01   1879     0.0   0.901465   0.937500  1.525000\n",
       "1     강남구  2023-01-02   3082     0.0  -2.987500  -2.987500  1.500000\n",
       "2     강남구  2023-01-03   3301     0.0  -3.724754  -3.695833  1.216667\n",
       "3     강남구  2023-01-04   3989     0.0  -1.366667  -1.366667  0.941667\n",
       "4     강남구  2023-01-05   3912     0.0  -1.970833  -1.970833  0.683333\n",
       "...   ...         ...    ...     ...        ...        ...       ...\n",
       "4495  중랑구  2023-06-25   8395     0.0  28.588273  28.333333  1.725000\n",
       "4496  중랑구  2023-06-27  10158   279.0  26.690446  25.970833  2.558333\n",
       "4497  중랑구  2023-06-28  10871     0.0  28.101424  27.079167  2.233333\n",
       "4498  중랑구  2023-06-29   2130  1116.0  27.160036  24.616667  2.366667\n",
       "4499  중랑구  2023-06-30   9285    93.0  27.970927  25.925000  1.312500\n",
       "\n",
       "[4500 rows x 7 columns]"
      ]
     },
     "execution_count": 29,
     "metadata": {},
     "output_type": "execute_result"
    }
   ],
   "source": [
    "merged_grouped_df = merged_df.groupby(['그룹명', '대여년월'], as_index=False).agg(\n",
    "    {'이용건수': 'sum', '강수여부': 'sum', '체감온도': 'mean', '기온(°C)': 'mean', '풍속(m/s)': 'mean'}\n",
    ")\n",
    "\n",
    "merged_grouped_df"
   ]
  },
  {
   "cell_type": "markdown",
   "id": "4c939258",
   "metadata": {},
   "source": [
    "강수여부를 무식하게 ```sum```으로 구했더니 뭔 1116 이런다 ㅋㅋㅋㅋㅋ\n",
    "\n",
    "1이나 1116이나 어쨌든 그 날 비 온 건 똑같으니까 binary형 변수가 필요하다."
   ]
  },
  {
   "cell_type": "code",
   "execution_count": 30,
   "id": "9fd7f606",
   "metadata": {
    "ExecuteTime": {
     "end_time": "2023-11-18T04:02:43.634396Z",
     "start_time": "2023-11-18T04:02:43.614415Z"
    }
   },
   "outputs": [
    {
     "data": {
      "text/plain": [
       "0    3688\n",
       "1     812\n",
       "Name: 강수여부(b), dtype: int64"
      ]
     },
     "execution_count": 30,
     "metadata": {},
     "output_type": "execute_result"
    }
   ],
   "source": [
    "merged_grouped_df['강수여부(b)'] = merged_grouped_df['강수여부'].apply(lambda x: 1 if x > 0 else 0)\n",
    "merged_grouped_df['강수여부(b)'].value_counts()"
   ]
  },
  {
   "cell_type": "markdown",
   "id": "d2e695a3",
   "metadata": {},
   "source": [
    "이제 대략적인 준비는 끝난 것 같다."
   ]
  },
  {
   "cell_type": "code",
   "execution_count": 32,
   "id": "69346fa3",
   "metadata": {
    "ExecuteTime": {
     "end_time": "2023-11-18T04:03:12.331532Z",
     "start_time": "2023-11-18T04:03:12.289925Z"
    }
   },
   "outputs": [
    {
     "data": {
      "text/html": [
       "<div>\n",
       "<style scoped>\n",
       "    .dataframe tbody tr th:only-of-type {\n",
       "        vertical-align: middle;\n",
       "    }\n",
       "\n",
       "    .dataframe tbody tr th {\n",
       "        vertical-align: top;\n",
       "    }\n",
       "\n",
       "    .dataframe thead th {\n",
       "        text-align: right;\n",
       "    }\n",
       "</style>\n",
       "<table border=\"1\" class=\"dataframe\">\n",
       "  <thead>\n",
       "    <tr style=\"text-align: right;\">\n",
       "      <th></th>\n",
       "      <th>이용건수</th>\n",
       "      <th>강수여부(b)</th>\n",
       "      <th>체감온도</th>\n",
       "      <th>기온(°C)</th>\n",
       "      <th>풍속(m/s)</th>\n",
       "    </tr>\n",
       "  </thead>\n",
       "  <tbody>\n",
       "    <tr>\n",
       "      <th>이용건수</th>\n",
       "      <td>1.000000</td>\n",
       "      <td>-0.136933</td>\n",
       "      <td>0.417734</td>\n",
       "      <td>0.450233</td>\n",
       "      <td>-0.007657</td>\n",
       "    </tr>\n",
       "    <tr>\n",
       "      <th>강수여부(b)</th>\n",
       "      <td>-0.136933</td>\n",
       "      <td>1.000000</td>\n",
       "      <td>0.200722</td>\n",
       "      <td>0.178282</td>\n",
       "      <td>0.060687</td>\n",
       "    </tr>\n",
       "    <tr>\n",
       "      <th>체감온도</th>\n",
       "      <td>0.417734</td>\n",
       "      <td>0.200722</td>\n",
       "      <td>1.000000</td>\n",
       "      <td>0.997834</td>\n",
       "      <td>-0.100318</td>\n",
       "    </tr>\n",
       "    <tr>\n",
       "      <th>기온(°C)</th>\n",
       "      <td>0.450233</td>\n",
       "      <td>0.178282</td>\n",
       "      <td>0.997834</td>\n",
       "      <td>1.000000</td>\n",
       "      <td>-0.093235</td>\n",
       "    </tr>\n",
       "    <tr>\n",
       "      <th>풍속(m/s)</th>\n",
       "      <td>-0.007657</td>\n",
       "      <td>0.060687</td>\n",
       "      <td>-0.100318</td>\n",
       "      <td>-0.093235</td>\n",
       "      <td>1.000000</td>\n",
       "    </tr>\n",
       "  </tbody>\n",
       "</table>\n",
       "</div>"
      ],
      "text/plain": [
       "             이용건수   강수여부(b)      체감온도    기온(°C)   풍속(m/s)\n",
       "이용건수     1.000000 -0.136933  0.417734  0.450233 -0.007657\n",
       "강수여부(b) -0.136933  1.000000  0.200722  0.178282  0.060687\n",
       "체감온도     0.417734  0.200722  1.000000  0.997834 -0.100318\n",
       "기온(°C)   0.450233  0.178282  0.997834  1.000000 -0.093235\n",
       "풍속(m/s) -0.007657  0.060687 -0.100318 -0.093235  1.000000"
      ]
     },
     "execution_count": 32,
     "metadata": {},
     "output_type": "execute_result"
    }
   ],
   "source": [
    "merged_grouped_df[['이용건수', '강수여부(b)', '체감온도', '기온(°C)', '풍속(m/s)']].corr()"
   ]
  },
  {
   "cell_type": "markdown",
   "id": "ba052a9f",
   "metadata": {
    "ExecuteTime": {
     "end_time": "2023-11-18T04:04:00.518528Z",
     "start_time": "2023-11-18T04:04:00.467807Z"
    }
   },
   "source": [
    "간략하게 correlation matrix를 그려봤는데 체감온도, 기온은 약간의 상관관계가 있는 것 같다."
   ]
  },
  {
   "cell_type": "code",
   "execution_count": 34,
   "id": "2803831f",
   "metadata": {
    "ExecuteTime": {
     "end_time": "2023-11-18T04:04:05.903187Z",
     "start_time": "2023-11-18T04:04:05.537811Z"
    }
   },
   "outputs": [
    {
     "data": {
      "image/png": "[encoded data removed]",
      "text/plain": [
       "<Figure size 640x480 with 1 Axes>"
      ]
     },
     "metadata": {},
     "output_type": "display_data"
    }
   ],
   "source": [
    "sns.scatterplot(x='체감온도', y='이용건수', hue='강수여부(b)', data=merged_grouped_df, palette='viridis', s=20)\n",
    "plt.show()"
   ]
  },
  {
   "cell_type": "markdown",
   "id": "c3a66d56",
   "metadata": {},
   "source": [
    "근데 솔직히 아직 잘 모르겠는 게, 체감온도가 과도하게 높은 경우에도 문제가 되는 거 아닌가 싶다. 이걸 확인하려면 혹서기 데이터를 볼 수 있어야 하는데 나는 6개월치 데이터만 쓰고 있어서 지금 해당 범위가 빠져있다..."
   ]
  },
  {
   "cell_type": "markdown",
   "id": "8c86a959",
   "metadata": {},
   "source": [
    "### 3-2. 가설 검정 (날씨가 좋은 날)"
   ]
  },
  {
   "cell_type": "markdown",
   "id": "a85b3240",
   "metadata": {},
   "source": [
    "#### 3-2-1. 가설 설정"
   ]
  },
  {
   "cell_type": "markdown",
   "id": "404e78fe",
   "metadata": {},
   "source": [
    "'날씨가 좋은 날'의 기준은 다음을 모두 만족하는 날로 정한다.\n",
    "- 하루 평균 체감온도가 10도 이상, 25도 이하인 날\n",
    "- 하루 중 강수가 전혀 없는 날\n",
    "\n",
    "이제 귀무가설과 대립가설을 다음과 같이 세울 수 있다.\n",
    "- $H_0$: 날씨가 좋은 날의 '이용건수' 평균과 그 외의 날의 '이용건수' 평균 사이에는 차이가 없다.\n",
    "- $H_1$: 날씨가 좋은 날의 '이용건수' 평균은 그 외의 날의 '이용건수' 평균보다 크다."
   ]
  },
  {
   "cell_type": "code",
   "execution_count": 35,
   "id": "7cb582eb",
   "metadata": {
    "ExecuteTime": {
     "end_time": "2023-11-18T04:07:41.290659Z",
     "start_time": "2023-11-18T04:07:41.267238Z"
    }
   },
   "outputs": [
    {
     "data": {
      "text/html": [
       "<div>\n",
       "<style scoped>\n",
       "    .dataframe tbody tr th:only-of-type {\n",
       "        vertical-align: middle;\n",
       "    }\n",
       "\n",
       "    .dataframe tbody tr th {\n",
       "        vertical-align: top;\n",
       "    }\n",
       "\n",
       "    .dataframe thead th {\n",
       "        text-align: right;\n",
       "    }\n",
       "</style>\n",
       "<table border=\"1\" class=\"dataframe\">\n",
       "  <thead>\n",
       "    <tr style=\"text-align: right;\">\n",
       "      <th></th>\n",
       "      <th>그룹명</th>\n",
       "      <th>대여년월</th>\n",
       "      <th>이용건수</th>\n",
       "      <th>강수여부</th>\n",
       "      <th>체감온도</th>\n",
       "      <th>기온(°C)</th>\n",
       "      <th>풍속(m/s)</th>\n",
       "      <th>강수여부(b)</th>\n",
       "    </tr>\n",
       "  </thead>\n",
       "  <tbody>\n",
       "    <tr>\n",
       "      <th>65</th>\n",
       "      <td>강남구</td>\n",
       "      <td>2023-03-07</td>\n",
       "      <td>8001</td>\n",
       "      <td>0.0</td>\n",
       "      <td>11.745833</td>\n",
       "      <td>11.745833</td>\n",
       "      <td>1.270833</td>\n",
       "      <td>0</td>\n",
       "    </tr>\n",
       "    <tr>\n",
       "      <th>66</th>\n",
       "      <td>강남구</td>\n",
       "      <td>2023-03-08</td>\n",
       "      <td>7858</td>\n",
       "      <td>0.0</td>\n",
       "      <td>12.758333</td>\n",
       "      <td>12.758333</td>\n",
       "      <td>1.033333</td>\n",
       "      <td>0</td>\n",
       "    </tr>\n",
       "    <tr>\n",
       "      <th>68</th>\n",
       "      <td>강남구</td>\n",
       "      <td>2023-03-10</td>\n",
       "      <td>8037</td>\n",
       "      <td>0.0</td>\n",
       "      <td>13.391667</td>\n",
       "      <td>13.391667</td>\n",
       "      <td>1.016667</td>\n",
       "      <td>0</td>\n",
       "    </tr>\n",
       "    <tr>\n",
       "      <th>69</th>\n",
       "      <td>강남구</td>\n",
       "      <td>2023-03-11</td>\n",
       "      <td>7195</td>\n",
       "      <td>0.0</td>\n",
       "      <td>15.083333</td>\n",
       "      <td>15.083333</td>\n",
       "      <td>1.158333</td>\n",
       "      <td>0</td>\n",
       "    </tr>\n",
       "    <tr>\n",
       "      <th>79</th>\n",
       "      <td>강남구</td>\n",
       "      <td>2023-03-21</td>\n",
       "      <td>8568</td>\n",
       "      <td>0.0</td>\n",
       "      <td>12.587500</td>\n",
       "      <td>12.587500</td>\n",
       "      <td>0.825000</td>\n",
       "      <td>0</td>\n",
       "    </tr>\n",
       "    <tr>\n",
       "      <th>...</th>\n",
       "      <td>...</td>\n",
       "      <td>...</td>\n",
       "      <td>...</td>\n",
       "      <td>...</td>\n",
       "      <td>...</td>\n",
       "      <td>...</td>\n",
       "      <td>...</td>\n",
       "      <td>...</td>\n",
       "    </tr>\n",
       "    <tr>\n",
       "      <th>4482</th>\n",
       "      <td>중랑구</td>\n",
       "      <td>2023-06-12</td>\n",
       "      <td>10755</td>\n",
       "      <td>0.0</td>\n",
       "      <td>23.793772</td>\n",
       "      <td>23.225000</td>\n",
       "      <td>1.429167</td>\n",
       "      <td>0</td>\n",
       "    </tr>\n",
       "    <tr>\n",
       "      <th>4483</th>\n",
       "      <td>중랑구</td>\n",
       "      <td>2023-06-13</td>\n",
       "      <td>11976</td>\n",
       "      <td>0.0</td>\n",
       "      <td>23.431976</td>\n",
       "      <td>23.200000</td>\n",
       "      <td>1.958333</td>\n",
       "      <td>0</td>\n",
       "    </tr>\n",
       "    <tr>\n",
       "      <th>4485</th>\n",
       "      <td>중랑구</td>\n",
       "      <td>2023-06-15</td>\n",
       "      <td>12013</td>\n",
       "      <td>0.0</td>\n",
       "      <td>23.662027</td>\n",
       "      <td>23.216667</td>\n",
       "      <td>1.666667</td>\n",
       "      <td>0</td>\n",
       "    </tr>\n",
       "    <tr>\n",
       "      <th>4486</th>\n",
       "      <td>중랑구</td>\n",
       "      <td>2023-06-16</td>\n",
       "      <td>11947</td>\n",
       "      <td>0.0</td>\n",
       "      <td>24.701112</td>\n",
       "      <td>24.716667</td>\n",
       "      <td>2.020833</td>\n",
       "      <td>0</td>\n",
       "    </tr>\n",
       "    <tr>\n",
       "      <th>4487</th>\n",
       "      <td>중랑구</td>\n",
       "      <td>2023-06-17</td>\n",
       "      <td>9930</td>\n",
       "      <td>0.0</td>\n",
       "      <td>24.738901</td>\n",
       "      <td>25.466667</td>\n",
       "      <td>1.520833</td>\n",
       "      <td>0</td>\n",
       "    </tr>\n",
       "  </tbody>\n",
       "</table>\n",
       "<p>1555 rows × 8 columns</p>\n",
       "</div>"
      ],
      "text/plain": [
       "      그룹명        대여년월   이용건수  강수여부       체감온도     기온(°C)   풍속(m/s)  강수여부(b)\n",
       "65    강남구  2023-03-07   8001   0.0  11.745833  11.745833  1.270833        0\n",
       "66    강남구  2023-03-08   7858   0.0  12.758333  12.758333  1.033333        0\n",
       "68    강남구  2023-03-10   8037   0.0  13.391667  13.391667  1.016667        0\n",
       "69    강남구  2023-03-11   7195   0.0  15.083333  15.083333  1.158333        0\n",
       "79    강남구  2023-03-21   8568   0.0  12.587500  12.587500  0.825000        0\n",
       "...   ...         ...    ...   ...        ...        ...       ...      ...\n",
       "4482  중랑구  2023-06-12  10755   0.0  23.793772  23.225000  1.429167        0\n",
       "4483  중랑구  2023-06-13  11976   0.0  23.431976  23.200000  1.958333        0\n",
       "4485  중랑구  2023-06-15  12013   0.0  23.662027  23.216667  1.666667        0\n",
       "4486  중랑구  2023-06-16  11947   0.0  24.701112  24.716667  2.020833        0\n",
       "4487  중랑구  2023-06-17   9930   0.0  24.738901  25.466667  1.520833        0\n",
       "\n",
       "[1555 rows x 8 columns]"
      ]
     },
     "execution_count": 35,
     "metadata": {},
     "output_type": "execute_result"
    }
   ],
   "source": [
    "good_weather_df = merged_grouped_df[\n",
    "    (merged_grouped_df['체감온도'] >= 10) & (merged_grouped_df['체감온도'] <= 25) &\n",
    "    (merged_grouped_df['강수여부(b)'] == 0)\n",
    "]\n",
    "\n",
    "good_weather_df"
   ]
  },
  {
   "cell_type": "code",
   "execution_count": 36,
   "id": "0230565f",
   "metadata": {
    "ExecuteTime": {
     "end_time": "2023-11-18T04:07:47.870994Z",
     "start_time": "2023-11-18T04:07:47.842529Z"
    }
   },
   "outputs": [
    {
     "data": {
      "text/html": [
       "<div>\n",
       "<style scoped>\n",
       "    .dataframe tbody tr th:only-of-type {\n",
       "        vertical-align: middle;\n",
       "    }\n",
       "\n",
       "    .dataframe tbody tr th {\n",
       "        vertical-align: top;\n",
       "    }\n",
       "\n",
       "    .dataframe thead th {\n",
       "        text-align: right;\n",
       "    }\n",
       "</style>\n",
       "<table border=\"1\" class=\"dataframe\">\n",
       "  <thead>\n",
       "    <tr style=\"text-align: right;\">\n",
       "      <th></th>\n",
       "      <th>그룹명</th>\n",
       "      <th>대여년월</th>\n",
       "      <th>이용건수</th>\n",
       "      <th>강수여부</th>\n",
       "      <th>체감온도</th>\n",
       "      <th>기온(°C)</th>\n",
       "      <th>풍속(m/s)</th>\n",
       "      <th>강수여부(b)</th>\n",
       "    </tr>\n",
       "  </thead>\n",
       "  <tbody>\n",
       "    <tr>\n",
       "      <th>0</th>\n",
       "      <td>강남구</td>\n",
       "      <td>2023-01-01</td>\n",
       "      <td>1879</td>\n",
       "      <td>0.0</td>\n",
       "      <td>0.901465</td>\n",
       "      <td>0.937500</td>\n",
       "      <td>1.525000</td>\n",
       "      <td>0</td>\n",
       "    </tr>\n",
       "    <tr>\n",
       "      <th>1</th>\n",
       "      <td>강남구</td>\n",
       "      <td>2023-01-02</td>\n",
       "      <td>3082</td>\n",
       "      <td>0.0</td>\n",
       "      <td>-2.987500</td>\n",
       "      <td>-2.987500</td>\n",
       "      <td>1.500000</td>\n",
       "      <td>0</td>\n",
       "    </tr>\n",
       "    <tr>\n",
       "      <th>2</th>\n",
       "      <td>강남구</td>\n",
       "      <td>2023-01-03</td>\n",
       "      <td>3301</td>\n",
       "      <td>0.0</td>\n",
       "      <td>-3.724754</td>\n",
       "      <td>-3.695833</td>\n",
       "      <td>1.216667</td>\n",
       "      <td>0</td>\n",
       "    </tr>\n",
       "    <tr>\n",
       "      <th>3</th>\n",
       "      <td>강남구</td>\n",
       "      <td>2023-01-04</td>\n",
       "      <td>3989</td>\n",
       "      <td>0.0</td>\n",
       "      <td>-1.366667</td>\n",
       "      <td>-1.366667</td>\n",
       "      <td>0.941667</td>\n",
       "      <td>0</td>\n",
       "    </tr>\n",
       "    <tr>\n",
       "      <th>4</th>\n",
       "      <td>강남구</td>\n",
       "      <td>2023-01-05</td>\n",
       "      <td>3912</td>\n",
       "      <td>0.0</td>\n",
       "      <td>-1.970833</td>\n",
       "      <td>-1.970833</td>\n",
       "      <td>0.683333</td>\n",
       "      <td>0</td>\n",
       "    </tr>\n",
       "    <tr>\n",
       "      <th>...</th>\n",
       "      <td>...</td>\n",
       "      <td>...</td>\n",
       "      <td>...</td>\n",
       "      <td>...</td>\n",
       "      <td>...</td>\n",
       "      <td>...</td>\n",
       "      <td>...</td>\n",
       "      <td>...</td>\n",
       "    </tr>\n",
       "    <tr>\n",
       "      <th>4495</th>\n",
       "      <td>중랑구</td>\n",
       "      <td>2023-06-25</td>\n",
       "      <td>8395</td>\n",
       "      <td>0.0</td>\n",
       "      <td>28.588273</td>\n",
       "      <td>28.333333</td>\n",
       "      <td>1.725000</td>\n",
       "      <td>0</td>\n",
       "    </tr>\n",
       "    <tr>\n",
       "      <th>4496</th>\n",
       "      <td>중랑구</td>\n",
       "      <td>2023-06-27</td>\n",
       "      <td>10158</td>\n",
       "      <td>279.0</td>\n",
       "      <td>26.690446</td>\n",
       "      <td>25.970833</td>\n",
       "      <td>2.558333</td>\n",
       "      <td>1</td>\n",
       "    </tr>\n",
       "    <tr>\n",
       "      <th>4497</th>\n",
       "      <td>중랑구</td>\n",
       "      <td>2023-06-28</td>\n",
       "      <td>10871</td>\n",
       "      <td>0.0</td>\n",
       "      <td>28.101424</td>\n",
       "      <td>27.079167</td>\n",
       "      <td>2.233333</td>\n",
       "      <td>0</td>\n",
       "    </tr>\n",
       "    <tr>\n",
       "      <th>4498</th>\n",
       "      <td>중랑구</td>\n",
       "      <td>2023-06-29</td>\n",
       "      <td>2130</td>\n",
       "      <td>1116.0</td>\n",
       "      <td>27.160036</td>\n",
       "      <td>24.616667</td>\n",
       "      <td>2.366667</td>\n",
       "      <td>1</td>\n",
       "    </tr>\n",
       "    <tr>\n",
       "      <th>4499</th>\n",
       "      <td>중랑구</td>\n",
       "      <td>2023-06-30</td>\n",
       "      <td>9285</td>\n",
       "      <td>93.0</td>\n",
       "      <td>27.970927</td>\n",
       "      <td>25.925000</td>\n",
       "      <td>1.312500</td>\n",
       "      <td>1</td>\n",
       "    </tr>\n",
       "  </tbody>\n",
       "</table>\n",
       "<p>2675 rows × 8 columns</p>\n",
       "</div>"
      ],
      "text/plain": [
       "      그룹명        대여년월   이용건수    강수여부       체감온도     기온(°C)   풍속(m/s)  강수여부(b)\n",
       "0     강남구  2023-01-01   1879     0.0   0.901465   0.937500  1.525000        0\n",
       "1     강남구  2023-01-02   3082     0.0  -2.987500  -2.987500  1.500000        0\n",
       "2     강남구  2023-01-03   3301     0.0  -3.724754  -3.695833  1.216667        0\n",
       "3     강남구  2023-01-04   3989     0.0  -1.366667  -1.366667  0.941667        0\n",
       "4     강남구  2023-01-05   3912     0.0  -1.970833  -1.970833  0.683333        0\n",
       "...   ...         ...    ...     ...        ...        ...       ...      ...\n",
       "4495  중랑구  2023-06-25   8395     0.0  28.588273  28.333333  1.725000        0\n",
       "4496  중랑구  2023-06-27  10158   279.0  26.690446  25.970833  2.558333        1\n",
       "4497  중랑구  2023-06-28  10871     0.0  28.101424  27.079167  2.233333        0\n",
       "4498  중랑구  2023-06-29   2130  1116.0  27.160036  24.616667  2.366667        1\n",
       "4499  중랑구  2023-06-30   9285    93.0  27.970927  25.925000  1.312500        1\n",
       "\n",
       "[2675 rows x 8 columns]"
      ]
     },
     "execution_count": 36,
     "metadata": {},
     "output_type": "execute_result"
    }
   ],
   "source": [
    "not_good_weather_df = merged_grouped_df[\n",
    "    (merged_grouped_df['체감온도'] < 10) | (merged_grouped_df['체감온도'] > 25) |\n",
    "    (merged_grouped_df['강수여부(b)'] == 1)\n",
    "]\n",
    "\n",
    "not_good_weather_df"
   ]
  },
  {
   "cell_type": "markdown",
   "id": "b0bd57fe",
   "metadata": {},
   "source": [
    "#### 3-2-2. 정규성 검정"
   ]
  },
  {
   "cell_type": "code",
   "execution_count": 37,
   "id": "533bb929",
   "metadata": {
    "ExecuteTime": {
     "end_time": "2023-11-18T04:08:50.134395Z",
     "start_time": "2023-11-18T04:08:50.021898Z"
    }
   },
   "outputs": [
    {
     "data": {
      "image/png": "[encoded data removed]",
      "text/plain": [
       "<Figure size 640x480 with 1 Axes>"
      ]
     },
     "metadata": {},
     "output_type": "display_data"
    }
   ],
   "source": [
    "merged_grouped_df['이용건수'].plot(kind='line')\n",
    "plt.show()"
   ]
  },
  {
   "cell_type": "markdown",
   "id": "150e4d7a",
   "metadata": {},
   "source": [
    "Q-Q plot이니 Shapiro-Wilk 정규성 검정이니 안 해봐도 대충 그래프 찍어보니까 정규성이 너무 없어 보인다... 굳이 여기서 정규성 검정을 더 들어가는 건 시간 낭비일 것 같으니 과감히 생략한다."
   ]
  },
  {
   "cell_type": "markdown",
   "id": "e857cf6c",
   "metadata": {},
   "source": [
    "#### 3-2-3. 비모수적 검정"
   ]
  },
  {
   "cell_type": "markdown",
   "id": "0e30f24f",
   "metadata": {},
   "source": [
    "정규성 안 따르는 표본이면 비모수적 검정을 해야 한다. Mann-Whitney U 검정을 수행한다."
   ]
  },
  {
   "cell_type": "code",
   "execution_count": 38,
   "id": "c152ab5e",
   "metadata": {
    "ExecuteTime": {
     "end_time": "2023-11-18T04:10:35.860802Z",
     "start_time": "2023-11-18T04:10:35.818564Z"
    }
   },
   "outputs": [
    {
     "name": "stdout",
     "output_type": "stream",
     "text": [
      "유의한 차이가 있음\n"
     ]
    }
   ],
   "source": [
    "_, p_value_orders = stats.mannwhitneyu(good_weather_df['이용건수'], not_good_weather_df['이용건수'])\n",
    "\n",
    "print(\"유의한 차이가 있음\" if p_value_orders < 0.05 else \"차이가 없음\")"
   ]
  },
  {
   "cell_type": "code",
   "execution_count": 39,
   "id": "4089a4e9",
   "metadata": {
    "ExecuteTime": {
     "end_time": "2023-11-18T04:10:41.724822Z",
     "start_time": "2023-11-18T04:10:41.702241Z"
    }
   },
   "outputs": [
    {
     "data": {
      "text/plain": [
       "5539.304038224599"
      ]
     },
     "execution_count": 39,
     "metadata": {},
     "output_type": "execute_result"
    }
   ],
   "source": [
    "good_weather_df['이용건수'].mean() - not_good_weather_df['이용건수'].mean()"
   ]
  },
  {
   "cell_type": "markdown",
   "id": "62da3685",
   "metadata": {},
   "source": [
    "날씨가 좋은 날의 이용건수와 그 외의 날의 이용건수 사이에 유의한 차이가 있다는 결론을 얻었다. 날씨가 좋은 날의 이용건수 평균이 훨씬 높기 때문에, **날씨가 좋은 날에 공공자전거를 더 많이 이용한다**는 결론을 얻을 수 있다.\n",
    "\n",
    "사실 그리 놀라운 결과는 아니다. 날씨가 좋은 날에는 당연히 자전거를 더 많이 탈 것이다. 근데 이게 순전히 온도 차이에 의한 것인지, 혹은 강수 여부에 의한 것인지는 아직 모르겠다. 각각을 분리해서 확인해 보면 확실해질 것이다."
   ]
  },
  {
   "cell_type": "markdown",
   "id": "83cd0a06",
   "metadata": {},
   "source": [
    "### 3-3. 가설 검정 (비오는 날)"
   ]
  },
  {
   "cell_type": "markdown",
   "id": "ad42de25",
   "metadata": {},
   "source": [
    "#### 3-3-1. 가설 설정"
   ]
  },
  {
   "cell_type": "markdown",
   "id": "06876c5d",
   "metadata": {},
   "source": [
    "이번에는 '비오는 날'과 그렇지 않은 날을 비교해 본다.\n",
    "- 하루 중 강수가 있는 날\n",
    "\n",
    "이제 귀무가설과 대립가설을 다음과 같이 세울 수 있다.\n",
    "- $H_0$: 비오는 날의 '이용건수' 평균과 비 안 오는 날의 '이용건수' 평균 사이에는 차이가 없다.\n",
    "- $H_1$: 비오는 날의 '이용건수' 평균은 비 안 오는 날의 '이용건수' 평균보다 크다."
   ]
  },
  {
   "cell_type": "code",
   "execution_count": 40,
   "id": "20e02e22",
   "metadata": {
    "ExecuteTime": {
     "end_time": "2023-11-18T04:15:44.768286Z",
     "start_time": "2023-11-18T04:15:44.751837Z"
    }
   },
   "outputs": [
    {
     "data": {
      "text/html": [
       "<div>\n",
       "<style scoped>\n",
       "    .dataframe tbody tr th:only-of-type {\n",
       "        vertical-align: middle;\n",
       "    }\n",
       "\n",
       "    .dataframe tbody tr th {\n",
       "        vertical-align: top;\n",
       "    }\n",
       "\n",
       "    .dataframe thead th {\n",
       "        text-align: right;\n",
       "    }\n",
       "</style>\n",
       "<table border=\"1\" class=\"dataframe\">\n",
       "  <thead>\n",
       "    <tr style=\"text-align: right;\">\n",
       "      <th></th>\n",
       "      <th>그룹명</th>\n",
       "      <th>대여년월</th>\n",
       "      <th>이용건수</th>\n",
       "      <th>강수여부</th>\n",
       "      <th>체감온도</th>\n",
       "      <th>기온(°C)</th>\n",
       "      <th>풍속(m/s)</th>\n",
       "      <th>강수여부(b)</th>\n",
       "    </tr>\n",
       "  </thead>\n",
       "  <tbody>\n",
       "    <tr>\n",
       "      <th>5</th>\n",
       "      <td>강남구</td>\n",
       "      <td>2023-01-06</td>\n",
       "      <td>3766</td>\n",
       "      <td>320.0</td>\n",
       "      <td>0.183333</td>\n",
       "      <td>0.183333</td>\n",
       "      <td>0.983333</td>\n",
       "      <td>1</td>\n",
       "    </tr>\n",
       "    <tr>\n",
       "      <th>6</th>\n",
       "      <td>강남구</td>\n",
       "      <td>2023-01-07</td>\n",
       "      <td>2213</td>\n",
       "      <td>312.0</td>\n",
       "      <td>2.258333</td>\n",
       "      <td>2.258333</td>\n",
       "      <td>1.241667</td>\n",
       "      <td>1</td>\n",
       "    </tr>\n",
       "    <tr>\n",
       "      <th>12</th>\n",
       "      <td>강남구</td>\n",
       "      <td>2023-01-13</td>\n",
       "      <td>1176</td>\n",
       "      <td>1628.0</td>\n",
       "      <td>6.958333</td>\n",
       "      <td>6.958333</td>\n",
       "      <td>0.383333</td>\n",
       "      <td>1</td>\n",
       "    </tr>\n",
       "    <tr>\n",
       "      <th>13</th>\n",
       "      <td>강남구</td>\n",
       "      <td>2023-01-14</td>\n",
       "      <td>1331</td>\n",
       "      <td>918.0</td>\n",
       "      <td>6.812500</td>\n",
       "      <td>6.812500</td>\n",
       "      <td>0.745833</td>\n",
       "      <td>1</td>\n",
       "    </tr>\n",
       "    <tr>\n",
       "      <th>14</th>\n",
       "      <td>강남구</td>\n",
       "      <td>2023-01-15</td>\n",
       "      <td>987</td>\n",
       "      <td>1200.0</td>\n",
       "      <td>1.020833</td>\n",
       "      <td>1.020833</td>\n",
       "      <td>1.420833</td>\n",
       "      <td>1</td>\n",
       "    </tr>\n",
       "    <tr>\n",
       "      <th>...</th>\n",
       "      <td>...</td>\n",
       "      <td>...</td>\n",
       "      <td>...</td>\n",
       "      <td>...</td>\n",
       "      <td>...</td>\n",
       "      <td>...</td>\n",
       "      <td>...</td>\n",
       "      <td>...</td>\n",
       "    </tr>\n",
       "    <tr>\n",
       "      <th>4491</th>\n",
       "      <td>중랑구</td>\n",
       "      <td>2023-06-21</td>\n",
       "      <td>4497</td>\n",
       "      <td>1023.0</td>\n",
       "      <td>22.787718</td>\n",
       "      <td>20.354167</td>\n",
       "      <td>1.737500</td>\n",
       "      <td>1</td>\n",
       "    </tr>\n",
       "    <tr>\n",
       "      <th>4492</th>\n",
       "      <td>중랑구</td>\n",
       "      <td>2023-06-22</td>\n",
       "      <td>10663</td>\n",
       "      <td>93.0</td>\n",
       "      <td>23.733012</td>\n",
       "      <td>22.658333</td>\n",
       "      <td>1.800000</td>\n",
       "      <td>1</td>\n",
       "    </tr>\n",
       "    <tr>\n",
       "      <th>4496</th>\n",
       "      <td>중랑구</td>\n",
       "      <td>2023-06-27</td>\n",
       "      <td>10158</td>\n",
       "      <td>279.0</td>\n",
       "      <td>26.690446</td>\n",
       "      <td>25.970833</td>\n",
       "      <td>2.558333</td>\n",
       "      <td>1</td>\n",
       "    </tr>\n",
       "    <tr>\n",
       "      <th>4498</th>\n",
       "      <td>중랑구</td>\n",
       "      <td>2023-06-29</td>\n",
       "      <td>2130</td>\n",
       "      <td>1116.0</td>\n",
       "      <td>27.160036</td>\n",
       "      <td>24.616667</td>\n",
       "      <td>2.366667</td>\n",
       "      <td>1</td>\n",
       "    </tr>\n",
       "    <tr>\n",
       "      <th>4499</th>\n",
       "      <td>중랑구</td>\n",
       "      <td>2023-06-30</td>\n",
       "      <td>9285</td>\n",
       "      <td>93.0</td>\n",
       "      <td>27.970927</td>\n",
       "      <td>25.925000</td>\n",
       "      <td>1.312500</td>\n",
       "      <td>1</td>\n",
       "    </tr>\n",
       "  </tbody>\n",
       "</table>\n",
       "<p>812 rows × 8 columns</p>\n",
       "</div>"
      ],
      "text/plain": [
       "      그룹명        대여년월   이용건수    강수여부       체감온도     기온(°C)   풍속(m/s)  강수여부(b)\n",
       "5     강남구  2023-01-06   3766   320.0   0.183333   0.183333  0.983333        1\n",
       "6     강남구  2023-01-07   2213   312.0   2.258333   2.258333  1.241667        1\n",
       "12    강남구  2023-01-13   1176  1628.0   6.958333   6.958333  0.383333        1\n",
       "13    강남구  2023-01-14   1331   918.0   6.812500   6.812500  0.745833        1\n",
       "14    강남구  2023-01-15    987  1200.0   1.020833   1.020833  1.420833        1\n",
       "...   ...         ...    ...     ...        ...        ...       ...      ...\n",
       "4491  중랑구  2023-06-21   4497  1023.0  22.787718  20.354167  1.737500        1\n",
       "4492  중랑구  2023-06-22  10663    93.0  23.733012  22.658333  1.800000        1\n",
       "4496  중랑구  2023-06-27  10158   279.0  26.690446  25.970833  2.558333        1\n",
       "4498  중랑구  2023-06-29   2130  1116.0  27.160036  24.616667  2.366667        1\n",
       "4499  중랑구  2023-06-30   9285    93.0  27.970927  25.925000  1.312500        1\n",
       "\n",
       "[812 rows x 8 columns]"
      ]
     },
     "execution_count": 40,
     "metadata": {},
     "output_type": "execute_result"
    }
   ],
   "source": [
    "rainy_weather_df = merged_grouped_df[\n",
    "    (merged_grouped_df['강수여부(b)'] == 1)\n",
    "]\n",
    "\n",
    "rainy_weather_df"
   ]
  },
  {
   "cell_type": "code",
   "execution_count": 41,
   "id": "987dce48",
   "metadata": {
    "ExecuteTime": {
     "end_time": "2023-11-18T04:16:03.036914Z",
     "start_time": "2023-11-18T04:16:03.019581Z"
    }
   },
   "outputs": [
    {
     "data": {
      "text/html": [
       "<div>\n",
       "<style scoped>\n",
       "    .dataframe tbody tr th:only-of-type {\n",
       "        vertical-align: middle;\n",
       "    }\n",
       "\n",
       "    .dataframe tbody tr th {\n",
       "        vertical-align: top;\n",
       "    }\n",
       "\n",
       "    .dataframe thead th {\n",
       "        text-align: right;\n",
       "    }\n",
       "</style>\n",
       "<table border=\"1\" class=\"dataframe\">\n",
       "  <thead>\n",
       "    <tr style=\"text-align: right;\">\n",
       "      <th></th>\n",
       "      <th>그룹명</th>\n",
       "      <th>대여년월</th>\n",
       "      <th>이용건수</th>\n",
       "      <th>강수여부</th>\n",
       "      <th>체감온도</th>\n",
       "      <th>기온(°C)</th>\n",
       "      <th>풍속(m/s)</th>\n",
       "      <th>강수여부(b)</th>\n",
       "    </tr>\n",
       "  </thead>\n",
       "  <tbody>\n",
       "    <tr>\n",
       "      <th>0</th>\n",
       "      <td>강남구</td>\n",
       "      <td>2023-01-01</td>\n",
       "      <td>1879</td>\n",
       "      <td>0.0</td>\n",
       "      <td>0.901465</td>\n",
       "      <td>0.937500</td>\n",
       "      <td>1.525000</td>\n",
       "      <td>0</td>\n",
       "    </tr>\n",
       "    <tr>\n",
       "      <th>1</th>\n",
       "      <td>강남구</td>\n",
       "      <td>2023-01-02</td>\n",
       "      <td>3082</td>\n",
       "      <td>0.0</td>\n",
       "      <td>-2.987500</td>\n",
       "      <td>-2.987500</td>\n",
       "      <td>1.500000</td>\n",
       "      <td>0</td>\n",
       "    </tr>\n",
       "    <tr>\n",
       "      <th>2</th>\n",
       "      <td>강남구</td>\n",
       "      <td>2023-01-03</td>\n",
       "      <td>3301</td>\n",
       "      <td>0.0</td>\n",
       "      <td>-3.724754</td>\n",
       "      <td>-3.695833</td>\n",
       "      <td>1.216667</td>\n",
       "      <td>0</td>\n",
       "    </tr>\n",
       "    <tr>\n",
       "      <th>3</th>\n",
       "      <td>강남구</td>\n",
       "      <td>2023-01-04</td>\n",
       "      <td>3989</td>\n",
       "      <td>0.0</td>\n",
       "      <td>-1.366667</td>\n",
       "      <td>-1.366667</td>\n",
       "      <td>0.941667</td>\n",
       "      <td>0</td>\n",
       "    </tr>\n",
       "    <tr>\n",
       "      <th>4</th>\n",
       "      <td>강남구</td>\n",
       "      <td>2023-01-05</td>\n",
       "      <td>3912</td>\n",
       "      <td>0.0</td>\n",
       "      <td>-1.970833</td>\n",
       "      <td>-1.970833</td>\n",
       "      <td>0.683333</td>\n",
       "      <td>0</td>\n",
       "    </tr>\n",
       "    <tr>\n",
       "      <th>...</th>\n",
       "      <td>...</td>\n",
       "      <td>...</td>\n",
       "      <td>...</td>\n",
       "      <td>...</td>\n",
       "      <td>...</td>\n",
       "      <td>...</td>\n",
       "      <td>...</td>\n",
       "      <td>...</td>\n",
       "    </tr>\n",
       "    <tr>\n",
       "      <th>4489</th>\n",
       "      <td>중랑구</td>\n",
       "      <td>2023-06-19</td>\n",
       "      <td>10931</td>\n",
       "      <td>0.0</td>\n",
       "      <td>28.374277</td>\n",
       "      <td>28.845833</td>\n",
       "      <td>1.983333</td>\n",
       "      <td>0</td>\n",
       "    </tr>\n",
       "    <tr>\n",
       "      <th>4493</th>\n",
       "      <td>중랑구</td>\n",
       "      <td>2023-06-23</td>\n",
       "      <td>11661</td>\n",
       "      <td>0.0</td>\n",
       "      <td>25.363608</td>\n",
       "      <td>24.304167</td>\n",
       "      <td>1.550000</td>\n",
       "      <td>0</td>\n",
       "    </tr>\n",
       "    <tr>\n",
       "      <th>4494</th>\n",
       "      <td>중랑구</td>\n",
       "      <td>2023-06-24</td>\n",
       "      <td>10037</td>\n",
       "      <td>0.0</td>\n",
       "      <td>27.407748</td>\n",
       "      <td>26.975000</td>\n",
       "      <td>1.704167</td>\n",
       "      <td>0</td>\n",
       "    </tr>\n",
       "    <tr>\n",
       "      <th>4495</th>\n",
       "      <td>중랑구</td>\n",
       "      <td>2023-06-25</td>\n",
       "      <td>8395</td>\n",
       "      <td>0.0</td>\n",
       "      <td>28.588273</td>\n",
       "      <td>28.333333</td>\n",
       "      <td>1.725000</td>\n",
       "      <td>0</td>\n",
       "    </tr>\n",
       "    <tr>\n",
       "      <th>4497</th>\n",
       "      <td>중랑구</td>\n",
       "      <td>2023-06-28</td>\n",
       "      <td>10871</td>\n",
       "      <td>0.0</td>\n",
       "      <td>28.101424</td>\n",
       "      <td>27.079167</td>\n",
       "      <td>2.233333</td>\n",
       "      <td>0</td>\n",
       "    </tr>\n",
       "  </tbody>\n",
       "</table>\n",
       "<p>3688 rows × 8 columns</p>\n",
       "</div>"
      ],
      "text/plain": [
       "      그룹명        대여년월   이용건수  강수여부       체감온도     기온(°C)   풍속(m/s)  강수여부(b)\n",
       "0     강남구  2023-01-01   1879   0.0   0.901465   0.937500  1.525000        0\n",
       "1     강남구  2023-01-02   3082   0.0  -2.987500  -2.987500  1.500000        0\n",
       "2     강남구  2023-01-03   3301   0.0  -3.724754  -3.695833  1.216667        0\n",
       "3     강남구  2023-01-04   3989   0.0  -1.366667  -1.366667  0.941667        0\n",
       "4     강남구  2023-01-05   3912   0.0  -1.970833  -1.970833  0.683333        0\n",
       "...   ...         ...    ...   ...        ...        ...       ...      ...\n",
       "4489  중랑구  2023-06-19  10931   0.0  28.374277  28.845833  1.983333        0\n",
       "4493  중랑구  2023-06-23  11661   0.0  25.363608  24.304167  1.550000        0\n",
       "4494  중랑구  2023-06-24  10037   0.0  27.407748  26.975000  1.704167        0\n",
       "4495  중랑구  2023-06-25   8395   0.0  28.588273  28.333333  1.725000        0\n",
       "4497  중랑구  2023-06-28  10871   0.0  28.101424  27.079167  2.233333        0\n",
       "\n",
       "[3688 rows x 8 columns]"
      ]
     },
     "execution_count": 41,
     "metadata": {},
     "output_type": "execute_result"
    }
   ],
   "source": [
    "not_rainy_weather_df = merged_grouped_df[\n",
    "    (merged_grouped_df['강수여부(b)'] == 0)\n",
    "]\n",
    "\n",
    "not_rainy_weather_df"
   ]
  },
  {
   "cell_type": "markdown",
   "id": "9b4c2b42",
   "metadata": {},
   "source": [
    "#### 3-3-2. 비모수적 검정"
   ]
  },
  {
   "cell_type": "markdown",
   "id": "2e2c7498",
   "metadata": {},
   "source": [
    "아까 정규성 안 따르는 표본인 거 봤으니까 이번에도 비모수적 검정을 수행한다. 마찬가지로 Mann-Whitney U 검정을 수행한다."
   ]
  },
  {
   "cell_type": "code",
   "execution_count": 42,
   "id": "22f306e2",
   "metadata": {
    "ExecuteTime": {
     "end_time": "2023-11-18T04:16:56.000959Z",
     "start_time": "2023-11-18T04:16:55.976566Z"
    }
   },
   "outputs": [
    {
     "name": "stdout",
     "output_type": "stream",
     "text": [
      "유의한 차이가 있음\n"
     ]
    }
   ],
   "source": [
    "_, p_value_orders = stats.mannwhitneyu(rainy_weather_df['이용건수'], not_rainy_weather_df['이용건수'])\n",
    "\n",
    "print(\"유의한 차이가 있음\" if p_value_orders < 0.05 else \"차이가 없음\")"
   ]
  },
  {
   "cell_type": "code",
   "execution_count": 43,
   "id": "d8c11b50",
   "metadata": {
    "ExecuteTime": {
     "end_time": "2023-11-18T04:17:02.953361Z",
     "start_time": "2023-11-18T04:17:02.946097Z"
    }
   },
   "outputs": [
    {
     "data": {
      "text/plain": [
       "-2758.938644037913"
      ]
     },
     "execution_count": 43,
     "metadata": {},
     "output_type": "execute_result"
    }
   ],
   "source": [
    "rainy_weather_df['이용건수'].mean() - not_rainy_weather_df['이용건수'].mean()"
   ]
  },
  {
   "cell_type": "markdown",
   "id": "9213b019",
   "metadata": {},
   "source": [
    "비오는 날의 이용건수와 비 안 오는 날의 이용건수 사이에 유의한 차이가 있다는 결론을 얻었다. 비 안 오는 날의 이용건수 평균이 훨씬 높기 때문에, **비오는 날에 공공자전거를 더 적게 이용한다**는 결론을 얻을 수 있다."
   ]
  },
  {
   "cell_type": "markdown",
   "id": "e1d0a4d1",
   "metadata": {},
   "source": [
    "### 3-4. 가설 검정 (적정 온도인 날)"
   ]
  },
  {
   "cell_type": "markdown",
   "id": "b04f06cd",
   "metadata": {},
   "source": [
    "#### 3-3-1. 가설 설정"
   ]
  },
  {
   "cell_type": "markdown",
   "id": "66fcc003",
   "metadata": {},
   "source": [
    "이번에는 '적정 온도인 날'과 그렇지 않은 날을 비교해 본다.\n",
    "- 하루 평균 체감온도가 10도 이상, 25도 이하인 날\n",
    "\n",
    "이제 귀무가설과 대립가설을 다음과 같이 세울 수 있다.\n",
    "- $H_0$: 적정 온도인 날의 '이용건수' 평균과 그렇지 않은 날의 '이용건수' 평균 사이에는 차이가 없다.\n",
    "- $H_1$: 적정 온도인 날의 '이용건수' 평균은 그렇지 않은 날의 '이용건수' 평균보다 크다."
   ]
  },
  {
   "cell_type": "code",
   "execution_count": 44,
   "id": "34aad877",
   "metadata": {
    "ExecuteTime": {
     "end_time": "2023-11-18T04:20:01.743371Z",
     "start_time": "2023-11-18T04:20:01.716716Z"
    }
   },
   "outputs": [
    {
     "data": {
      "text/html": [
       "<div>\n",
       "<style scoped>\n",
       "    .dataframe tbody tr th:only-of-type {\n",
       "        vertical-align: middle;\n",
       "    }\n",
       "\n",
       "    .dataframe tbody tr th {\n",
       "        vertical-align: top;\n",
       "    }\n",
       "\n",
       "    .dataframe thead th {\n",
       "        text-align: right;\n",
       "    }\n",
       "</style>\n",
       "<table border=\"1\" class=\"dataframe\">\n",
       "  <thead>\n",
       "    <tr style=\"text-align: right;\">\n",
       "      <th></th>\n",
       "      <th>그룹명</th>\n",
       "      <th>대여년월</th>\n",
       "      <th>이용건수</th>\n",
       "      <th>강수여부</th>\n",
       "      <th>체감온도</th>\n",
       "      <th>기온(°C)</th>\n",
       "      <th>풍속(m/s)</th>\n",
       "      <th>강수여부(b)</th>\n",
       "    </tr>\n",
       "  </thead>\n",
       "  <tbody>\n",
       "    <tr>\n",
       "      <th>65</th>\n",
       "      <td>강남구</td>\n",
       "      <td>2023-03-07</td>\n",
       "      <td>8001</td>\n",
       "      <td>0.0</td>\n",
       "      <td>11.745833</td>\n",
       "      <td>11.745833</td>\n",
       "      <td>1.270833</td>\n",
       "      <td>0</td>\n",
       "    </tr>\n",
       "    <tr>\n",
       "      <th>66</th>\n",
       "      <td>강남구</td>\n",
       "      <td>2023-03-08</td>\n",
       "      <td>7858</td>\n",
       "      <td>0.0</td>\n",
       "      <td>12.758333</td>\n",
       "      <td>12.758333</td>\n",
       "      <td>1.033333</td>\n",
       "      <td>0</td>\n",
       "    </tr>\n",
       "    <tr>\n",
       "      <th>67</th>\n",
       "      <td>강남구</td>\n",
       "      <td>2023-03-09</td>\n",
       "      <td>6825</td>\n",
       "      <td>328.0</td>\n",
       "      <td>11.629167</td>\n",
       "      <td>11.629167</td>\n",
       "      <td>1.487500</td>\n",
       "      <td>1</td>\n",
       "    </tr>\n",
       "    <tr>\n",
       "      <th>68</th>\n",
       "      <td>강남구</td>\n",
       "      <td>2023-03-10</td>\n",
       "      <td>8037</td>\n",
       "      <td>0.0</td>\n",
       "      <td>13.391667</td>\n",
       "      <td>13.391667</td>\n",
       "      <td>1.016667</td>\n",
       "      <td>0</td>\n",
       "    </tr>\n",
       "    <tr>\n",
       "      <th>69</th>\n",
       "      <td>강남구</td>\n",
       "      <td>2023-03-11</td>\n",
       "      <td>7195</td>\n",
       "      <td>0.0</td>\n",
       "      <td>15.083333</td>\n",
       "      <td>15.083333</td>\n",
       "      <td>1.158333</td>\n",
       "      <td>0</td>\n",
       "    </tr>\n",
       "    <tr>\n",
       "      <th>...</th>\n",
       "      <td>...</td>\n",
       "      <td>...</td>\n",
       "      <td>...</td>\n",
       "      <td>...</td>\n",
       "      <td>...</td>\n",
       "      <td>...</td>\n",
       "      <td>...</td>\n",
       "      <td>...</td>\n",
       "    </tr>\n",
       "    <tr>\n",
       "      <th>4485</th>\n",
       "      <td>중랑구</td>\n",
       "      <td>2023-06-15</td>\n",
       "      <td>12013</td>\n",
       "      <td>0.0</td>\n",
       "      <td>23.662027</td>\n",
       "      <td>23.216667</td>\n",
       "      <td>1.666667</td>\n",
       "      <td>0</td>\n",
       "    </tr>\n",
       "    <tr>\n",
       "      <th>4486</th>\n",
       "      <td>중랑구</td>\n",
       "      <td>2023-06-16</td>\n",
       "      <td>11947</td>\n",
       "      <td>0.0</td>\n",
       "      <td>24.701112</td>\n",
       "      <td>24.716667</td>\n",
       "      <td>2.020833</td>\n",
       "      <td>0</td>\n",
       "    </tr>\n",
       "    <tr>\n",
       "      <th>4487</th>\n",
       "      <td>중랑구</td>\n",
       "      <td>2023-06-17</td>\n",
       "      <td>9930</td>\n",
       "      <td>0.0</td>\n",
       "      <td>24.738901</td>\n",
       "      <td>25.466667</td>\n",
       "      <td>1.520833</td>\n",
       "      <td>0</td>\n",
       "    </tr>\n",
       "    <tr>\n",
       "      <th>4491</th>\n",
       "      <td>중랑구</td>\n",
       "      <td>2023-06-21</td>\n",
       "      <td>4497</td>\n",
       "      <td>1023.0</td>\n",
       "      <td>22.787718</td>\n",
       "      <td>20.354167</td>\n",
       "      <td>1.737500</td>\n",
       "      <td>1</td>\n",
       "    </tr>\n",
       "    <tr>\n",
       "      <th>4492</th>\n",
       "      <td>중랑구</td>\n",
       "      <td>2023-06-22</td>\n",
       "      <td>10663</td>\n",
       "      <td>93.0</td>\n",
       "      <td>23.733012</td>\n",
       "      <td>22.658333</td>\n",
       "      <td>1.800000</td>\n",
       "      <td>1</td>\n",
       "    </tr>\n",
       "  </tbody>\n",
       "</table>\n",
       "<p>2042 rows × 8 columns</p>\n",
       "</div>"
      ],
      "text/plain": [
       "      그룹명        대여년월   이용건수    강수여부       체감온도     기온(°C)   풍속(m/s)  강수여부(b)\n",
       "65    강남구  2023-03-07   8001     0.0  11.745833  11.745833  1.270833        0\n",
       "66    강남구  2023-03-08   7858     0.0  12.758333  12.758333  1.033333        0\n",
       "67    강남구  2023-03-09   6825   328.0  11.629167  11.629167  1.487500        1\n",
       "68    강남구  2023-03-10   8037     0.0  13.391667  13.391667  1.016667        0\n",
       "69    강남구  2023-03-11   7195     0.0  15.083333  15.083333  1.158333        0\n",
       "...   ...         ...    ...     ...        ...        ...       ...      ...\n",
       "4485  중랑구  2023-06-15  12013     0.0  23.662027  23.216667  1.666667        0\n",
       "4486  중랑구  2023-06-16  11947     0.0  24.701112  24.716667  2.020833        0\n",
       "4487  중랑구  2023-06-17   9930     0.0  24.738901  25.466667  1.520833        0\n",
       "4491  중랑구  2023-06-21   4497  1023.0  22.787718  20.354167  1.737500        1\n",
       "4492  중랑구  2023-06-22  10663    93.0  23.733012  22.658333  1.800000        1\n",
       "\n",
       "[2042 rows x 8 columns]"
      ]
     },
     "execution_count": 44,
     "metadata": {},
     "output_type": "execute_result"
    }
   ],
   "source": [
    "good_temperature_df = merged_grouped_df[\n",
    "    (merged_grouped_df['체감온도'] >= 10) & (merged_grouped_df['체감온도'] <= 25)\n",
    "]\n",
    "\n",
    "good_temperature_df"
   ]
  },
  {
   "cell_type": "code",
   "execution_count": 45,
   "id": "28722741",
   "metadata": {
    "ExecuteTime": {
     "end_time": "2023-11-18T04:20:22.383149Z",
     "start_time": "2023-11-18T04:20:22.362997Z"
    }
   },
   "outputs": [
    {
     "data": {
      "text/html": [
       "<div>\n",
       "<style scoped>\n",
       "    .dataframe tbody tr th:only-of-type {\n",
       "        vertical-align: middle;\n",
       "    }\n",
       "\n",
       "    .dataframe tbody tr th {\n",
       "        vertical-align: top;\n",
       "    }\n",
       "\n",
       "    .dataframe thead th {\n",
       "        text-align: right;\n",
       "    }\n",
       "</style>\n",
       "<table border=\"1\" class=\"dataframe\">\n",
       "  <thead>\n",
       "    <tr style=\"text-align: right;\">\n",
       "      <th></th>\n",
       "      <th>그룹명</th>\n",
       "      <th>대여년월</th>\n",
       "      <th>이용건수</th>\n",
       "      <th>강수여부</th>\n",
       "      <th>체감온도</th>\n",
       "      <th>기온(°C)</th>\n",
       "      <th>풍속(m/s)</th>\n",
       "      <th>강수여부(b)</th>\n",
       "    </tr>\n",
       "  </thead>\n",
       "  <tbody>\n",
       "    <tr>\n",
       "      <th>0</th>\n",
       "      <td>강남구</td>\n",
       "      <td>2023-01-01</td>\n",
       "      <td>1879</td>\n",
       "      <td>0.0</td>\n",
       "      <td>0.901465</td>\n",
       "      <td>0.937500</td>\n",
       "      <td>1.525000</td>\n",
       "      <td>0</td>\n",
       "    </tr>\n",
       "    <tr>\n",
       "      <th>1</th>\n",
       "      <td>강남구</td>\n",
       "      <td>2023-01-02</td>\n",
       "      <td>3082</td>\n",
       "      <td>0.0</td>\n",
       "      <td>-2.987500</td>\n",
       "      <td>-2.987500</td>\n",
       "      <td>1.500000</td>\n",
       "      <td>0</td>\n",
       "    </tr>\n",
       "    <tr>\n",
       "      <th>2</th>\n",
       "      <td>강남구</td>\n",
       "      <td>2023-01-03</td>\n",
       "      <td>3301</td>\n",
       "      <td>0.0</td>\n",
       "      <td>-3.724754</td>\n",
       "      <td>-3.695833</td>\n",
       "      <td>1.216667</td>\n",
       "      <td>0</td>\n",
       "    </tr>\n",
       "    <tr>\n",
       "      <th>3</th>\n",
       "      <td>강남구</td>\n",
       "      <td>2023-01-04</td>\n",
       "      <td>3989</td>\n",
       "      <td>0.0</td>\n",
       "      <td>-1.366667</td>\n",
       "      <td>-1.366667</td>\n",
       "      <td>0.941667</td>\n",
       "      <td>0</td>\n",
       "    </tr>\n",
       "    <tr>\n",
       "      <th>4</th>\n",
       "      <td>강남구</td>\n",
       "      <td>2023-01-05</td>\n",
       "      <td>3912</td>\n",
       "      <td>0.0</td>\n",
       "      <td>-1.970833</td>\n",
       "      <td>-1.970833</td>\n",
       "      <td>0.683333</td>\n",
       "      <td>0</td>\n",
       "    </tr>\n",
       "    <tr>\n",
       "      <th>...</th>\n",
       "      <td>...</td>\n",
       "      <td>...</td>\n",
       "      <td>...</td>\n",
       "      <td>...</td>\n",
       "      <td>...</td>\n",
       "      <td>...</td>\n",
       "      <td>...</td>\n",
       "      <td>...</td>\n",
       "    </tr>\n",
       "    <tr>\n",
       "      <th>4495</th>\n",
       "      <td>중랑구</td>\n",
       "      <td>2023-06-25</td>\n",
       "      <td>8395</td>\n",
       "      <td>0.0</td>\n",
       "      <td>28.588273</td>\n",
       "      <td>28.333333</td>\n",
       "      <td>1.725000</td>\n",
       "      <td>0</td>\n",
       "    </tr>\n",
       "    <tr>\n",
       "      <th>4496</th>\n",
       "      <td>중랑구</td>\n",
       "      <td>2023-06-27</td>\n",
       "      <td>10158</td>\n",
       "      <td>279.0</td>\n",
       "      <td>26.690446</td>\n",
       "      <td>25.970833</td>\n",
       "      <td>2.558333</td>\n",
       "      <td>1</td>\n",
       "    </tr>\n",
       "    <tr>\n",
       "      <th>4497</th>\n",
       "      <td>중랑구</td>\n",
       "      <td>2023-06-28</td>\n",
       "      <td>10871</td>\n",
       "      <td>0.0</td>\n",
       "      <td>28.101424</td>\n",
       "      <td>27.079167</td>\n",
       "      <td>2.233333</td>\n",
       "      <td>0</td>\n",
       "    </tr>\n",
       "    <tr>\n",
       "      <th>4498</th>\n",
       "      <td>중랑구</td>\n",
       "      <td>2023-06-29</td>\n",
       "      <td>2130</td>\n",
       "      <td>1116.0</td>\n",
       "      <td>27.160036</td>\n",
       "      <td>24.616667</td>\n",
       "      <td>2.366667</td>\n",
       "      <td>1</td>\n",
       "    </tr>\n",
       "    <tr>\n",
       "      <th>4499</th>\n",
       "      <td>중랑구</td>\n",
       "      <td>2023-06-30</td>\n",
       "      <td>9285</td>\n",
       "      <td>93.0</td>\n",
       "      <td>27.970927</td>\n",
       "      <td>25.925000</td>\n",
       "      <td>1.312500</td>\n",
       "      <td>1</td>\n",
       "    </tr>\n",
       "  </tbody>\n",
       "</table>\n",
       "<p>2157 rows × 8 columns</p>\n",
       "</div>"
      ],
      "text/plain": [
       "      그룹명        대여년월   이용건수    강수여부       체감온도     기온(°C)   풍속(m/s)  강수여부(b)\n",
       "0     강남구  2023-01-01   1879     0.0   0.901465   0.937500  1.525000        0\n",
       "1     강남구  2023-01-02   3082     0.0  -2.987500  -2.987500  1.500000        0\n",
       "2     강남구  2023-01-03   3301     0.0  -3.724754  -3.695833  1.216667        0\n",
       "3     강남구  2023-01-04   3989     0.0  -1.366667  -1.366667  0.941667        0\n",
       "4     강남구  2023-01-05   3912     0.0  -1.970833  -1.970833  0.683333        0\n",
       "...   ...         ...    ...     ...        ...        ...       ...      ...\n",
       "4495  중랑구  2023-06-25   8395     0.0  28.588273  28.333333  1.725000        0\n",
       "4496  중랑구  2023-06-27  10158   279.0  26.690446  25.970833  2.558333        1\n",
       "4497  중랑구  2023-06-28  10871     0.0  28.101424  27.079167  2.233333        0\n",
       "4498  중랑구  2023-06-29   2130  1116.0  27.160036  24.616667  2.366667        1\n",
       "4499  중랑구  2023-06-30   9285    93.0  27.970927  25.925000  1.312500        1\n",
       "\n",
       "[2157 rows x 8 columns]"
      ]
     },
     "execution_count": 45,
     "metadata": {},
     "output_type": "execute_result"
    }
   ],
   "source": [
    "not_good_temperature_df = merged_grouped_df[\n",
    "    (merged_grouped_df['체감온도'] < 10) | (merged_grouped_df['체감온도'] > 25)\n",
    "]\n",
    "\n",
    "not_good_temperature_df"
   ]
  },
  {
   "cell_type": "markdown",
   "id": "895f8905",
   "metadata": {},
   "source": [
    "#### 3-3-2. 비모수적 검정"
   ]
  },
  {
   "cell_type": "markdown",
   "id": "8dc8feaa",
   "metadata": {},
   "source": [
    "아까 정규성 안 따르는 표본인 거 봤으니까 이번에도 비모수적 검정을 수행한다. 마찬가지로 Mann-Whitney U 검정을 수행한다."
   ]
  },
  {
   "cell_type": "code",
   "execution_count": 46,
   "id": "5662c4aa",
   "metadata": {
    "ExecuteTime": {
     "end_time": "2023-11-18T04:20:32.768203Z",
     "start_time": "2023-11-18T04:20:32.745927Z"
    }
   },
   "outputs": [
    {
     "name": "stdout",
     "output_type": "stream",
     "text": [
      "유의한 차이가 있음\n"
     ]
    }
   ],
   "source": [
    "_, p_value_orders = stats.mannwhitneyu(good_temperature_df['이용건수'], not_good_temperature_df['이용건수'])\n",
    "\n",
    "print(\"유의한 차이가 있음\" if p_value_orders < 0.05 else \"차이가 없음\")"
   ]
  },
  {
   "cell_type": "code",
   "execution_count": 47,
   "id": "97f7c68a",
   "metadata": {
    "ExecuteTime": {
     "end_time": "2023-11-18T04:20:38.115958Z",
     "start_time": "2023-11-18T04:20:38.098938Z"
    }
   },
   "outputs": [
    {
     "data": {
      "text/plain": [
       "4769.768105073929"
      ]
     },
     "execution_count": 47,
     "metadata": {},
     "output_type": "execute_result"
    }
   ],
   "source": [
    "good_temperature_df['이용건수'].mean() - not_good_temperature_df['이용건수'].mean()"
   ]
  },
  {
   "cell_type": "markdown",
   "id": "f9bf9c12",
   "metadata": {},
   "source": [
    "적정 온도인 날의 이용건수와 그렇지 않은 날의 이용건수 사이에 유의한 차이가 있다는 결론을 얻었다. 적정 온도인 날의 이용건수 평균이 훨씬 높기 때문에, **적정 온도인 날에 공공자전거를 더 많이 이용한다**는 결론을 얻을 수 있다."
   ]
  },
  {
   "cell_type": "markdown",
   "id": "46536791",
   "metadata": {},
   "source": [
    "## 4. 결론"
   ]
  },
  {
   "cell_type": "markdown",
   "id": "9763fa1b",
   "metadata": {},
   "source": [
    "이상의 분석 결과로부터, 적정 온도 범위 내, 강수가 없는 환경에서의 공공자전거 이용건수가 유의미하게 많음을 확인할 수 있었다.\n",
    "\n",
    "API를 핸들링하는 부분부터 파생변수를 생성하여 분석에 이용하는 부분까지 폭넓게 다뤄볼 수 있는 프로젝트였다. 여러 개의 데이터셋을 조인하여 활용해야만 했기에 해당 과업에서의 스킬들을 익힐 수 있었던 점도 좋았다.\n",
    "\n",
    "다만 정규분포를 안 따르는 데이터라서 비모수적 검정을 활용해야 했던 부분이 조금 아쉽다.\n",
    "\n",
    "또한 악천후의 기준에 대해 어떻게 정의내릴지를 내가 임의로 판단해서 분석을 진행했는데, 관련 연구를 추가로 서칭하여 기준이 될 만한 수치들을 확인해 보는 과정이 선행되었다면 더 정교한 결과를 얻을 수 있었을 것 같아 아쉽다.\n",
    "\n",
    "그리고 본 연구에서 활용한 데이터는 1월\\~6월로 한정되어 있기 때문에 7\\~8월 혹서기 기간 데이터를 추가로 투입하면 다른 결과를 낳을지도 모르겠다는 생각이 들었다. 추후 기회가 된다면 해당 부분도 개선하여 추가적으로 분석을 진행해 보아도 좋겠다."
   ]
  }
 ],
 "metadata": {
  "kernelspec": {
   "display_name": "Python 3 (ipykernel)",
   "language": "python",
   "name": "python3"
  },
  "language_info": {
   "codemirror_mode": {
    "name": "ipython",
    "version": 3
   },
   "file_extension": ".py",
   "mimetype": "text/x-python",
   "name": "python",
   "nbconvert_exporter": "python",
   "pygments_lexer": "ipython3",
   "version": "3.9.16"
  }
 },
 "nbformat": 4,
 "nbformat_minor": 5
}
